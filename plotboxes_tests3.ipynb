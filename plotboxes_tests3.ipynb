{
 "cells": [
  {
   "cell_type": "code",
   "execution_count": 6,
   "id": "4090363c",
   "metadata": {},
   "outputs": [],
   "source": [
    "import pandas as pd\n",
    "import numpy as np\n",
    "import matplotlib.pyplot as plt"
   ]
  },
  {
   "cell_type": "code",
   "execution_count": 7,
   "id": "24aa5ca6",
   "metadata": {},
   "outputs": [],
   "source": [
    "data_all = \"Output/2019_2020_mixed_beverage\"\n",
    "df_all = pd.read_csv(data_all, encoding=\"utf-8\")"
   ]
  },
  {
   "cell_type": "code",
   "execution_count": 8,
   "id": "4a2e3a54",
   "metadata": {},
   "outputs": [
    {
     "data": {
      "text/html": [
       "<div>\n",
       "<style scoped>\n",
       "    .dataframe tbody tr th:only-of-type {\n",
       "        vertical-align: middle;\n",
       "    }\n",
       "\n",
       "    .dataframe tbody tr th {\n",
       "        vertical-align: top;\n",
       "    }\n",
       "\n",
       "    .dataframe thead th {\n",
       "        text-align: right;\n",
       "    }\n",
       "</style>\n",
       "<table border=\"1\" class=\"dataframe\">\n",
       "  <thead>\n",
       "    <tr style=\"text-align: right;\">\n",
       "      <th></th>\n",
       "      <th>taxpayer_number</th>\n",
       "      <th>taxpayer_name</th>\n",
       "      <th>taxpayer_address</th>\n",
       "      <th>taxpayer_city</th>\n",
       "      <th>taxpayer_state</th>\n",
       "      <th>taxpayer_zip</th>\n",
       "      <th>taxpayer_county</th>\n",
       "      <th>location_number</th>\n",
       "      <th>location_name</th>\n",
       "      <th>location_address</th>\n",
       "      <th>...</th>\n",
       "      <th>responsibility_begin_date_yyyymmdd</th>\n",
       "      <th>obligation_end_date_yyyymmdd</th>\n",
       "      <th>liquor_receipts</th>\n",
       "      <th>wine_receipts</th>\n",
       "      <th>beer_receipts</th>\n",
       "      <th>cover_charge_receipts</th>\n",
       "      <th>total_receipts</th>\n",
       "      <th>responsibility_end_date_yyyymmdd</th>\n",
       "      <th>year</th>\n",
       "      <th>month</th>\n",
       "    </tr>\n",
       "  </thead>\n",
       "  <tbody>\n",
       "    <tr>\n",
       "      <th>3</th>\n",
       "      <td>32054228120</td>\n",
       "      <td>S &amp; KW CORPORATION</td>\n",
       "      <td>6617 CHIMNEY ROCK RD</td>\n",
       "      <td>HOUSTON</td>\n",
       "      <td>TX</td>\n",
       "      <td>77081.0</td>\n",
       "      <td>101</td>\n",
       "      <td>1</td>\n",
       "      <td>NAZARETH CAFE</td>\n",
       "      <td>6617 CHIMNEY ROCK RD</td>\n",
       "      <td>...</td>\n",
       "      <td>2014-08-01T00:00:00.000</td>\n",
       "      <td>2019-01-31T00:00:00.000</td>\n",
       "      <td>3212</td>\n",
       "      <td>0</td>\n",
       "      <td>2509</td>\n",
       "      <td>0</td>\n",
       "      <td>5721</td>\n",
       "      <td>NaN</td>\n",
       "      <td>2019</td>\n",
       "      <td>1</td>\n",
       "    </tr>\n",
       "    <tr>\n",
       "      <th>4</th>\n",
       "      <td>32000861685</td>\n",
       "      <td>FOUNTAIN FOODS, INC.</td>\n",
       "      <td>25600 WESTHEIMER PKWY STE 110</td>\n",
       "      <td>KATY</td>\n",
       "      <td>TX</td>\n",
       "      <td>77494.0</td>\n",
       "      <td>79</td>\n",
       "      <td>2</td>\n",
       "      <td>HARVEST ORGANIC GRILLE</td>\n",
       "      <td>1810 FOUNTAIN VIEW DR</td>\n",
       "      <td>...</td>\n",
       "      <td>2012-08-21T00:00:00.000</td>\n",
       "      <td>2019-01-31T00:00:00.000</td>\n",
       "      <td>0</td>\n",
       "      <td>0</td>\n",
       "      <td>0</td>\n",
       "      <td>0</td>\n",
       "      <td>0</td>\n",
       "      <td>2019-06-01T00:00:00.000</td>\n",
       "      <td>2019</td>\n",
       "      <td>1</td>\n",
       "    </tr>\n",
       "    <tr>\n",
       "      <th>5</th>\n",
       "      <td>17526234541</td>\n",
       "      <td>THE KING LOUNGE, INC.</td>\n",
       "      <td>3684 ASBURY ST</td>\n",
       "      <td>DALLAS</td>\n",
       "      <td>TX</td>\n",
       "      <td>75205.0</td>\n",
       "      <td>57</td>\n",
       "      <td>1</td>\n",
       "      <td>THE KING LOUNGE INC</td>\n",
       "      <td>1602 MARKET CENTER BLVD</td>\n",
       "      <td>...</td>\n",
       "      <td>1996-02-15T00:00:00.000</td>\n",
       "      <td>2019-01-31T00:00:00.000</td>\n",
       "      <td>0</td>\n",
       "      <td>0</td>\n",
       "      <td>0</td>\n",
       "      <td>0</td>\n",
       "      <td>0</td>\n",
       "      <td>2019-01-16T00:00:00.000</td>\n",
       "      <td>2019</td>\n",
       "      <td>1</td>\n",
       "    </tr>\n",
       "    <tr>\n",
       "      <th>10</th>\n",
       "      <td>32061761998</td>\n",
       "      <td>WICKED WINGS LLC</td>\n",
       "      <td>615 W SLAUGHTER LN STE 108</td>\n",
       "      <td>AUSTIN</td>\n",
       "      <td>TX</td>\n",
       "      <td>78748.0</td>\n",
       "      <td>227</td>\n",
       "      <td>2</td>\n",
       "      <td>BUCKET'S BACKYARD BAR AND GRILL</td>\n",
       "      <td>9900 S INTERSTATE 35 BLDG M STE 200</td>\n",
       "      <td>...</td>\n",
       "      <td>2017-03-17T00:00:00.000</td>\n",
       "      <td>2019-01-31T00:00:00.000</td>\n",
       "      <td>8777</td>\n",
       "      <td>215</td>\n",
       "      <td>15076</td>\n",
       "      <td>0</td>\n",
       "      <td>24068</td>\n",
       "      <td>2019-09-09T00:00:00.000</td>\n",
       "      <td>2019</td>\n",
       "      <td>1</td>\n",
       "    </tr>\n",
       "    <tr>\n",
       "      <th>12</th>\n",
       "      <td>32059688088</td>\n",
       "      <td>RICHMOND MIA BELLA, LLC</td>\n",
       "      <td>19 MAYMONT WAY</td>\n",
       "      <td>SPRING</td>\n",
       "      <td>TX</td>\n",
       "      <td>77382.0</td>\n",
       "      <td>170</td>\n",
       "      <td>1</td>\n",
       "      <td>MIA BELLA TRATTORIA</td>\n",
       "      <td>3773 RICHMOND AVE STE 1A</td>\n",
       "      <td>...</td>\n",
       "      <td>2017-05-09T00:00:00.000</td>\n",
       "      <td>2019-01-31T00:00:00.000</td>\n",
       "      <td>12965</td>\n",
       "      <td>25073</td>\n",
       "      <td>2298</td>\n",
       "      <td>0</td>\n",
       "      <td>40336</td>\n",
       "      <td>2019-06-13T00:00:00.000</td>\n",
       "      <td>2019</td>\n",
       "      <td>1</td>\n",
       "    </tr>\n",
       "    <tr>\n",
       "      <th>...</th>\n",
       "      <td>...</td>\n",
       "      <td>...</td>\n",
       "      <td>...</td>\n",
       "      <td>...</td>\n",
       "      <td>...</td>\n",
       "      <td>...</td>\n",
       "      <td>...</td>\n",
       "      <td>...</td>\n",
       "      <td>...</td>\n",
       "      <td>...</td>\n",
       "      <td>...</td>\n",
       "      <td>...</td>\n",
       "      <td>...</td>\n",
       "      <td>...</td>\n",
       "      <td>...</td>\n",
       "      <td>...</td>\n",
       "      <td>...</td>\n",
       "      <td>...</td>\n",
       "      <td>...</td>\n",
       "      <td>...</td>\n",
       "      <td>...</td>\n",
       "    </tr>\n",
       "    <tr>\n",
       "      <th>119989</th>\n",
       "      <td>32055936457</td>\n",
       "      <td>CAFI TOULOUSE RIVER OAKS DISTRICT, LP</td>\n",
       "      <td>3100 MONTICELLO AVE STE 325</td>\n",
       "      <td>DALLAS</td>\n",
       "      <td>TX</td>\n",
       "      <td>75205.0</td>\n",
       "      <td>57</td>\n",
       "      <td>1</td>\n",
       "      <td>CAFE TOULOUSE</td>\n",
       "      <td>4444 WESTHEIMER RD STE E100</td>\n",
       "      <td>...</td>\n",
       "      <td>2015-05-29T00:00:00.000</td>\n",
       "      <td>2020-12-31T00:00:00.000</td>\n",
       "      <td>178933</td>\n",
       "      <td>206491</td>\n",
       "      <td>8562</td>\n",
       "      <td>0</td>\n",
       "      <td>393986</td>\n",
       "      <td>NaN</td>\n",
       "      <td>2020</td>\n",
       "      <td>12</td>\n",
       "    </tr>\n",
       "    <tr>\n",
       "      <th>119990</th>\n",
       "      <td>17215567953</td>\n",
       "      <td>FUN AND SPIRITS, INC.</td>\n",
       "      <td>223 W RHAPSODY DR</td>\n",
       "      <td>SAN ANTONIO</td>\n",
       "      <td>TX</td>\n",
       "      <td>78216.0</td>\n",
       "      <td>15</td>\n",
       "      <td>1</td>\n",
       "      <td>CROSS-EYED SEAGULL</td>\n",
       "      <td>19141 STONE OAK PKWY # 206</td>\n",
       "      <td>...</td>\n",
       "      <td>2004-12-27T00:00:00.000</td>\n",
       "      <td>2020-12-31T00:00:00.000</td>\n",
       "      <td>35832</td>\n",
       "      <td>20</td>\n",
       "      <td>13969</td>\n",
       "      <td>0</td>\n",
       "      <td>49821</td>\n",
       "      <td>NaN</td>\n",
       "      <td>2020</td>\n",
       "      <td>12</td>\n",
       "    </tr>\n",
       "    <tr>\n",
       "      <th>119994</th>\n",
       "      <td>32070563070</td>\n",
       "      <td>KAPRI ULTRA LOUNGE LLC</td>\n",
       "      <td>6239 WARWICK GARDEN LN</td>\n",
       "      <td>SPRING</td>\n",
       "      <td>TX</td>\n",
       "      <td>77379.0</td>\n",
       "      <td>101</td>\n",
       "      <td>1</td>\n",
       "      <td>KAPRI ULTRA LOUNGE</td>\n",
       "      <td>5718 FAIRDALE LN</td>\n",
       "      <td>...</td>\n",
       "      <td>2019-08-21T00:00:00.000</td>\n",
       "      <td>2020-12-31T00:00:00.000</td>\n",
       "      <td>37373</td>\n",
       "      <td>232</td>\n",
       "      <td>369</td>\n",
       "      <td>0</td>\n",
       "      <td>37974</td>\n",
       "      <td>NaN</td>\n",
       "      <td>2020</td>\n",
       "      <td>12</td>\n",
       "    </tr>\n",
       "    <tr>\n",
       "      <th>119996</th>\n",
       "      <td>17430007959</td>\n",
       "      <td>SJ2 RESTAURANT GROUP, LLC</td>\n",
       "      <td>PO BOX 100510</td>\n",
       "      <td>SAN ANTONIO</td>\n",
       "      <td>TX</td>\n",
       "      <td>78201.0</td>\n",
       "      <td>15</td>\n",
       "      <td>7</td>\n",
       "      <td>JARDIN</td>\n",
       "      <td>555 FUNSTON PL</td>\n",
       "      <td>...</td>\n",
       "      <td>2020-09-15T00:00:00.000</td>\n",
       "      <td>2020-12-31T00:00:00.000</td>\n",
       "      <td>20277</td>\n",
       "      <td>29423</td>\n",
       "      <td>1680</td>\n",
       "      <td>0</td>\n",
       "      <td>51380</td>\n",
       "      <td>NaN</td>\n",
       "      <td>2020</td>\n",
       "      <td>12</td>\n",
       "    </tr>\n",
       "    <tr>\n",
       "      <th>119998</th>\n",
       "      <td>32046211747</td>\n",
       "      <td>ES TRADING INTERNATIONAL CO.</td>\n",
       "      <td>3000 WOODRIDGE DR</td>\n",
       "      <td>HOUSTON</td>\n",
       "      <td>TX</td>\n",
       "      <td>77087.0</td>\n",
       "      <td>101</td>\n",
       "      <td>1</td>\n",
       "      <td>TACO PALENQUE</td>\n",
       "      <td>3000 WOODRIDGE DR</td>\n",
       "      <td>...</td>\n",
       "      <td>2018-11-09T00:00:00.000</td>\n",
       "      <td>2020-12-31T00:00:00.000</td>\n",
       "      <td>0</td>\n",
       "      <td>0</td>\n",
       "      <td>0</td>\n",
       "      <td>0</td>\n",
       "      <td>0</td>\n",
       "      <td>NaN</td>\n",
       "      <td>2020</td>\n",
       "      <td>12</td>\n",
       "    </tr>\n",
       "  </tbody>\n",
       "</table>\n",
       "<p>44006 rows × 26 columns</p>\n",
       "</div>"
      ],
      "text/plain": [
       "        taxpayer_number                          taxpayer_name  \\\n",
       "3           32054228120                     S & KW CORPORATION   \n",
       "4           32000861685                   FOUNTAIN FOODS, INC.   \n",
       "5           17526234541                  THE KING LOUNGE, INC.   \n",
       "10          32061761998                       WICKED WINGS LLC   \n",
       "12          32059688088                RICHMOND MIA BELLA, LLC   \n",
       "...                 ...                                    ...   \n",
       "119989      32055936457  CAFI TOULOUSE RIVER OAKS DISTRICT, LP   \n",
       "119990      17215567953                  FUN AND SPIRITS, INC.   \n",
       "119994      32070563070                 KAPRI ULTRA LOUNGE LLC   \n",
       "119996      17430007959              SJ2 RESTAURANT GROUP, LLC   \n",
       "119998      32046211747           ES TRADING INTERNATIONAL CO.   \n",
       "\n",
       "                     taxpayer_address taxpayer_city taxpayer_state  \\\n",
       "3                6617 CHIMNEY ROCK RD       HOUSTON             TX   \n",
       "4       25600 WESTHEIMER PKWY STE 110          KATY             TX   \n",
       "5                      3684 ASBURY ST        DALLAS             TX   \n",
       "10         615 W SLAUGHTER LN STE 108        AUSTIN             TX   \n",
       "12                     19 MAYMONT WAY        SPRING             TX   \n",
       "...                               ...           ...            ...   \n",
       "119989    3100 MONTICELLO AVE STE 325        DALLAS             TX   \n",
       "119990              223 W RHAPSODY DR   SAN ANTONIO             TX   \n",
       "119994         6239 WARWICK GARDEN LN        SPRING             TX   \n",
       "119996                  PO BOX 100510   SAN ANTONIO             TX   \n",
       "119998              3000 WOODRIDGE DR       HOUSTON             TX   \n",
       "\n",
       "        taxpayer_zip  taxpayer_county  location_number  \\\n",
       "3            77081.0              101                1   \n",
       "4            77494.0               79                2   \n",
       "5            75205.0               57                1   \n",
       "10           78748.0              227                2   \n",
       "12           77382.0              170                1   \n",
       "...              ...              ...              ...   \n",
       "119989       75205.0               57                1   \n",
       "119990       78216.0               15                1   \n",
       "119994       77379.0              101                1   \n",
       "119996       78201.0               15                7   \n",
       "119998       77087.0              101                1   \n",
       "\n",
       "                          location_name                     location_address  \\\n",
       "3                         NAZARETH CAFE                 6617 CHIMNEY ROCK RD   \n",
       "4                HARVEST ORGANIC GRILLE                1810 FOUNTAIN VIEW DR   \n",
       "5                   THE KING LOUNGE INC              1602 MARKET CENTER BLVD   \n",
       "10      BUCKET'S BACKYARD BAR AND GRILL  9900 S INTERSTATE 35 BLDG M STE 200   \n",
       "12                  MIA BELLA TRATTORIA             3773 RICHMOND AVE STE 1A   \n",
       "...                                 ...                                  ...   \n",
       "119989                    CAFE TOULOUSE          4444 WESTHEIMER RD STE E100   \n",
       "119990               CROSS-EYED SEAGULL           19141 STONE OAK PKWY # 206   \n",
       "119994               KAPRI ULTRA LOUNGE                     5718 FAIRDALE LN   \n",
       "119996                           JARDIN                       555 FUNSTON PL   \n",
       "119998                    TACO PALENQUE                    3000 WOODRIDGE DR   \n",
       "\n",
       "        ... responsibility_begin_date_yyyymmdd obligation_end_date_yyyymmdd  \\\n",
       "3       ...            2014-08-01T00:00:00.000      2019-01-31T00:00:00.000   \n",
       "4       ...            2012-08-21T00:00:00.000      2019-01-31T00:00:00.000   \n",
       "5       ...            1996-02-15T00:00:00.000      2019-01-31T00:00:00.000   \n",
       "10      ...            2017-03-17T00:00:00.000      2019-01-31T00:00:00.000   \n",
       "12      ...            2017-05-09T00:00:00.000      2019-01-31T00:00:00.000   \n",
       "...     ...                                ...                          ...   \n",
       "119989  ...            2015-05-29T00:00:00.000      2020-12-31T00:00:00.000   \n",
       "119990  ...            2004-12-27T00:00:00.000      2020-12-31T00:00:00.000   \n",
       "119994  ...            2019-08-21T00:00:00.000      2020-12-31T00:00:00.000   \n",
       "119996  ...            2020-09-15T00:00:00.000      2020-12-31T00:00:00.000   \n",
       "119998  ...            2018-11-09T00:00:00.000      2020-12-31T00:00:00.000   \n",
       "\n",
       "        liquor_receipts  wine_receipts beer_receipts cover_charge_receipts  \\\n",
       "3                  3212              0          2509                     0   \n",
       "4                     0              0             0                     0   \n",
       "5                     0              0             0                     0   \n",
       "10                 8777            215         15076                     0   \n",
       "12                12965          25073          2298                     0   \n",
       "...                 ...            ...           ...                   ...   \n",
       "119989           178933         206491          8562                     0   \n",
       "119990            35832             20         13969                     0   \n",
       "119994            37373            232           369                     0   \n",
       "119996            20277          29423          1680                     0   \n",
       "119998                0              0             0                     0   \n",
       "\n",
       "       total_receipts responsibility_end_date_yyyymmdd  year  month  \n",
       "3                5721                              NaN  2019      1  \n",
       "4                   0          2019-06-01T00:00:00.000  2019      1  \n",
       "5                   0          2019-01-16T00:00:00.000  2019      1  \n",
       "10              24068          2019-09-09T00:00:00.000  2019      1  \n",
       "12              40336          2019-06-13T00:00:00.000  2019      1  \n",
       "...               ...                              ...   ...    ...  \n",
       "119989         393986                              NaN  2020     12  \n",
       "119990          49821                              NaN  2020     12  \n",
       "119994          37974                              NaN  2020     12  \n",
       "119996          51380                              NaN  2020     12  \n",
       "119998              0                              NaN  2020     12  \n",
       "\n",
       "[44006 rows x 26 columns]"
      ]
     },
     "execution_count": 8,
     "metadata": {},
     "output_type": "execute_result"
    }
   ],
   "source": [
    "#efficient way to extract year from string format date\n",
    "df_all['year'] = pd.DatetimeIndex(df_all['obligation_end_date_yyyymmdd']).year\n",
    "df_all['month'] = pd.DatetimeIndex(df_all['obligation_end_date_yyyymmdd']).month\n",
    "city_mask = (df_all.location_city == \"HOUSTON\")|(df_all.location_city == \"DALLAS\")|(df_all.location_city == \"FORT WORTH\")|(df_all.location_city == \"SAN ANTONIO\")|(df_all.location_city == \"AUSTIN\")\n",
    "dfcities = df_all[city_mask]\n",
    "dfcities"
   ]
  },
  {
   "cell_type": "code",
   "execution_count": 9,
   "id": "2e1d2856",
   "metadata": {},
   "outputs": [],
   "source": [
    "dfcities_2019 = dfcities.loc[dfcities.year == 2019]\n",
    "dfcities_stores_2019 = dfcities_2019.groupby(['location_city','location_address'])['total_receipts'].sum().reset_index()\n",
    "dallas_2019=dfcities_stores_2019.loc[dfcities_stores_2019.location_city == 'DALLAS']\n",
    "houston_2019=dfcities_stores_2019.loc[dfcities_stores_2019.location_city == 'HOUSTON']\n",
    "austin_2019=dfcities_stores_2019.loc[dfcities_stores_2019.location_city == 'AUSTIN']\n",
    "ftworth_2019=dfcities_stores_2019.loc[dfcities_stores_2019.location_city == 'FORT WORTH']\n",
    "sanantonio_2019=dfcities_stores_2019.loc[dfcities_stores_2019.location_city == 'SAN ANTONIO']"
   ]
  },
  {
   "cell_type": "code",
   "execution_count": 42,
   "id": "97b1d896",
   "metadata": {},
   "outputs": [
    {
     "data": {
      "image/png": "[encoded data removed]",
      "text/plain": [
       "<Figure size 432x288 with 1 Axes>"
      ]
     },
     "metadata": {
      "needs_background": "light"
     },
     "output_type": "display_data"
    }
   ],
   "source": [
    "# Example outlier plot of reaction times\n",
    "cities_stores_2019= [dallas_2020[\"total_receipts\"],houston_2019[\"total_receipts\"],austin_2019[\"total_receipts\"],ftworth_2019[\"total_receipts\"],sanantonio_2019[\"total_receipts\"]]\n",
    "fig1, ax1 = plt.subplots()\n",
    "\n",
    "ax1.set_title('Boxplot 2019 Sales by City')\n",
    "ax1.set_ylabel('Total Sales')\n",
    "ax1.set_xlabel('Cities')\n",
    "ax1.boxplot(cities_stores_2019)\n",
    "plt.show()"
   ]
  },
  {
   "cell_type": "code",
   "execution_count": 46,
   "id": "c2a5e4ee",
   "metadata": {},
   "outputs": [
    {
     "ename": "TypeError",
     "evalue": "list indices must be integers or slices, not str",
     "output_type": "error",
     "traceback": [
      "\u001b[0;31m---------------------------------------------------------------------------\u001b[0m",
      "\u001b[0;31mTypeError\u001b[0m                                 Traceback (most recent call last)",
      "\u001b[0;32m<ipython-input-46-4ac0b5b8953f>\u001b[0m in \u001b[0;36m<module>\u001b[0;34m\u001b[0m\n\u001b[1;32m      5\u001b[0m \u001b[0mplt\u001b[0m\u001b[0;34m.\u001b[0m\u001b[0mfigure\u001b[0m\u001b[0;34m(\u001b[0m\u001b[0mfigsize\u001b[0m\u001b[0;34m=\u001b[0m\u001b[0;34m(\u001b[0m\u001b[0;36m10\u001b[0m\u001b[0;34m,\u001b[0m\u001b[0;36m5\u001b[0m\u001b[0;34m)\u001b[0m\u001b[0;34m)\u001b[0m\u001b[0;34m\u001b[0m\u001b[0;34m\u001b[0m\u001b[0m\n\u001b[1;32m      6\u001b[0m \u001b[0mhfont\u001b[0m \u001b[0;34m=\u001b[0m \u001b[0;34m{\u001b[0m\u001b[0;34m'fontname'\u001b[0m\u001b[0;34m:\u001b[0m\u001b[0;34m'Tahoma'\u001b[0m\u001b[0;34m}\u001b[0m\u001b[0;34m\u001b[0m\u001b[0;34m\u001b[0m\u001b[0m\n\u001b[0;32m----> 7\u001b[0;31m \u001b[0mx_values\u001b[0m \u001b[0;34m=\u001b[0m \u001b[0mcities_stores_2019\u001b[0m\u001b[0;34m[\u001b[0m\u001b[0;34m'Test Cities'\u001b[0m\u001b[0;34m]\u001b[0m\u001b[0;34m\u001b[0m\u001b[0;34m\u001b[0m\u001b[0m\n\u001b[0m\u001b[1;32m      8\u001b[0m \u001b[0my_values\u001b[0m \u001b[0;34m=\u001b[0m \u001b[0mtotal_receipts_2019\u001b[0m\u001b[0;34m[\u001b[0m\u001b[0;34m'Total Sales'\u001b[0m\u001b[0;34m]\u001b[0m\u001b[0;34m\u001b[0m\u001b[0;34m\u001b[0m\u001b[0m\n\u001b[1;32m      9\u001b[0m \u001b[0;34m\u001b[0m\u001b[0m\n",
      "\u001b[0;31mTypeError\u001b[0m: list indices must be integers or slices, not str"
     ]
    },
    {
     "data": {
      "image/png": "[encoded data removed]",
      "text/plain": [
       "<Figure size 432x288 with 1 Axes>"
      ]
     },
     "metadata": {
      "needs_background": "light"
     },
     "output_type": "display_data"
    },
    {
     "data": {
      "text/plain": [
       "<Figure size 720x360 with 0 Axes>"
      ]
     },
     "metadata": {},
     "output_type": "display_data"
    }
   ],
   "source": [
    "\n",
    "cities_stores_2019= [dallas_2020[\"total_receipts\"],houston_2019[\"total_receipts\"],austin_2019[\"total_receipts\"],ftworth_2019[\"total_receipts\"],sanantonio_2019[\"total_receipts\"]]\n",
    "fig1, ax1 = plt.subplots()\n",
    "\n",
    "\n",
    "plt.figure(figsize=(10,5))\n",
    "hfont = {'fontname':'Tahoma'}\n",
    "x_values = cities_stores_2019['Test Cities']\n",
    "y_values = total_receipts_2019['Total Sales']\n",
    "\n",
    "ax1.set_title('Boxplot 2019 Sales by City')\n",
    "ax1.set_ylabel('Total Sales')\n",
    "ax1.set_xlabel('Cities')\n",
    "ax1.boxplot(cities_stores_2019)\n",
    "plt.show()"
   ]
  },
  {
   "cell_type": "code",
   "execution_count": 31,
   "id": "d407026c",
   "metadata": {},
   "outputs": [
    {
     "data": {
      "image/png": "[encoded data removed]",
      "text/plain": [
       "<Figure size 432x288 with 1 Axes>"
      ]
     },
     "metadata": {
      "needs_background": "light"
     },
     "output_type": "display_data"
    }
   ],
   "source": [
    "# Example outlier plot of reaction times\n",
    "cities_stores_2020= [dallas_2020[\"total_receipts\"],houston_2019[\"total_receipts\"],austin_2019[\"total_receipts\"],ftworth_2019[\"total_receipts\"],sanantonio_2019[\"total_receipts\"]]\n",
    "fig1, ax1 = plt.subplots()\n",
    "\n",
    "ax1.set_title('Boxplot 2020 Sales by City')\n",
    "ax1.set_ylabel('Total Sales')\n",
    "ax1.set_xlabel('Cities')\n",
    "ax1.boxplot(cities_stores_2020)\n",
    "plt.show()"
   ]
  },
  {
   "cell_type": "code",
   "execution_count": 14,
   "id": "f595c48a",
   "metadata": {},
   "outputs": [
    {
     "ename": "NameError",
     "evalue": "name 'bplot1' is not defined",
     "output_type": "error",
     "traceback": [
      "\u001b[0;31m---------------------------------------------------------------------------\u001b[0m",
      "\u001b[0;31mNameError\u001b[0m                                 Traceback (most recent call last)",
      "\u001b[0;32m<ipython-input-14-9cbaea14ed21>\u001b[0m in \u001b[0;36m<module>\u001b[0;34m\u001b[0m\n\u001b[1;32m     19\u001b[0m \u001b[0;31m# fill with colors\u001b[0m\u001b[0;34m\u001b[0m\u001b[0;34m\u001b[0m\u001b[0;34m\u001b[0m\u001b[0m\n\u001b[1;32m     20\u001b[0m \u001b[0mcolors\u001b[0m \u001b[0;34m=\u001b[0m \u001b[0;34m[\u001b[0m\u001b[0;34m'pink'\u001b[0m\u001b[0;34m,\u001b[0m \u001b[0;34m'lightblue'\u001b[0m\u001b[0;34m,\u001b[0m \u001b[0;34m'lightgreen'\u001b[0m\u001b[0;34m]\u001b[0m\u001b[0;34m\u001b[0m\u001b[0;34m\u001b[0m\u001b[0m\n\u001b[0;32m---> 21\u001b[0;31m \u001b[0;32mfor\u001b[0m \u001b[0mbplot\u001b[0m \u001b[0;32min\u001b[0m \u001b[0;34m(\u001b[0m\u001b[0mbplot1\u001b[0m\u001b[0;34m,\u001b[0m \u001b[0mbplot2\u001b[0m\u001b[0;34m)\u001b[0m\u001b[0;34m:\u001b[0m\u001b[0;34m\u001b[0m\u001b[0;34m\u001b[0m\u001b[0m\n\u001b[0m\u001b[1;32m     22\u001b[0m     \u001b[0;32mfor\u001b[0m \u001b[0mpatch\u001b[0m\u001b[0;34m,\u001b[0m \u001b[0mcolor\u001b[0m \u001b[0;32min\u001b[0m \u001b[0mzip\u001b[0m\u001b[0;34m(\u001b[0m\u001b[0mbplot\u001b[0m\u001b[0;34m[\u001b[0m\u001b[0;34m'boxes'\u001b[0m\u001b[0;34m]\u001b[0m\u001b[0;34m,\u001b[0m \u001b[0mcolors\u001b[0m\u001b[0;34m)\u001b[0m\u001b[0;34m:\u001b[0m\u001b[0;34m\u001b[0m\u001b[0;34m\u001b[0m\u001b[0m\n\u001b[1;32m     23\u001b[0m         \u001b[0mpatch\u001b[0m\u001b[0;34m.\u001b[0m\u001b[0mset_facecolor\u001b[0m\u001b[0;34m(\u001b[0m\u001b[0mcolor\u001b[0m\u001b[0;34m)\u001b[0m\u001b[0;34m\u001b[0m\u001b[0;34m\u001b[0m\u001b[0m\n",
      "\u001b[0;31mNameError\u001b[0m: name 'bplot1' is not defined"
     ]
    },
    {
     "data": {
      "image/png": "[encoded data removed]",
      "text/plain": [
       "<Figure size 648x288 with 2 Axes>"
      ]
     },
     "metadata": {
      "needs_background": "light"
     },
     "output_type": "display_data"
    }
   ],
   "source": [
    "import matplotlib.pyplot as plt\n",
    "import numpy as np\n",
    "\n",
    "# Random test data\n",
    "np.random.seed(19680801)\n",
    "all_data = [np.random.normal(0, std, size=100) for std in range(1, 4)]\n",
    "labels = ['x1', 'x2', 'x3']\n",
    "\n",
    "fig, (ax1, ax2) = plt.subplots(nrows=1, ncols=2, figsize=(9, 4))\n",
    "\n",
    "# notch shape box plot\n",
    "bplot2 = ax2.boxplot(all_data,\n",
    "                     notch=True,  # notch shape\n",
    "                     vert=True,  # vertical box alignment\n",
    "                     patch_artist=True,  # fill with color\n",
    "                     labels=labels)  # will be used to label x-ticks\n",
    "ax2.set_title('Notched box plot')\n",
    "\n",
    "# fill with colors\n",
    "colors = ['pink', 'lightblue', 'lightgreen']\n",
    "for bplot in (bplot1, bplot2):\n",
    "    for patch, color in zip(bplot['boxes'], colors):\n",
    "        patch.set_facecolor(color)\n",
    "\n",
    "# adding horizontal grid lines\n",
    "for ax in [ax1, ax2]:\n",
    "    ax.yaxis.grid(True)\n",
    "    ax.set_xlabel('Three separate samples')\n",
    "    ax.set_ylabel('Observed values')\n",
    "\n",
    "plt.show()"
   ]
  },
  {
   "cell_type": "code",
   "execution_count": null,
   "id": "fe22e1b7",
   "metadata": {},
   "outputs": [],
   "source": []
  },
  {
   "cell_type": "code",
   "execution_count": null,
   "id": "26a5977a",
   "metadata": {},
   "outputs": [],
   "source": []
  },
  {
   "cell_type": "code",
   "execution_count": null,
   "id": "817d4678",
   "metadata": {},
   "outputs": [],
   "source": []
  },
  {
   "cell_type": "code",
   "execution_count": 16,
   "id": "b1503360",
   "metadata": {},
   "outputs": [],
   "source": [
    "dfcities_2020 = dfcities.loc[dfcities.year == 2019]\n",
    "dfcities_stores_2020 = dfcities_2019.groupby(['location_city','location_address'])['total_receipts'].sum().reset_index()\n",
    "dallas_2020=dfcities_stores_2020.loc[dfcities_stores_2020.location_city == 'DALLAS']\n",
    "houston_2020=dfcities_stores_2020.loc[dfcities_stores_2020.location_city == 'HOUSTON']\n",
    "austin_2020=dfcities_stores_2020.loc[dfcities_stores_2020.location_city == 'AUSTIN']\n",
    "ftworth_2020=dfcities_stores_2020.loc[dfcities_stores_2020.location_city == 'FORT WORTH']\n",
    "sanantonio_2020=dfcities_stores_2020.loc[dfcities_stores_2020.location_city == 'SAN ANTONIO']"
   ]
  },
  {
   "cell_type": "code",
   "execution_count": 17,
   "id": "5876dbe2",
   "metadata": {},
   "outputs": [
    {
     "data": {
      "image/png": "[encoded data removed]",
      "text/plain": [
       "<Figure size 432x288 with 1 Axes>"
      ]
     },
     "metadata": {
      "needs_background": "light"
     },
     "output_type": "display_data"
    }
   ],
   "source": [
    "# Example outlier plot of reaction times\n",
    "cities_stores_2020= [dallas_2020[\"total_receipts\"],houston_2019[\"total_receipts\"],austin_2019[\"total_receipts\"],ftworth_2019[\"total_receipts\"],sanantonio_2019[\"total_receipts\"]]\n",
    "fig1, ax1 = plt.subplots()\n",
    "ax1.set_title('Boxplot 2020 Sales by City')\n",
    "ax1.set_ylabel('Total Sales')\n",
    "ax1.boxplot(cities_stores_2020)\n",
    "plt.show()"
   ]
  },
  {
   "cell_type": "code",
   "execution_count": null,
   "id": "1c43e41a",
   "metadata": {},
   "outputs": [],
   "source": [
    "# Example outlier plot of reaction times\n",
    "cities_stores_2019= [dallas_2019[\"total_receipts\"],houston_2019[\"total_receipts\"],austin_2019[\"total_receipts\"],ftworth_2019[\"total_receipts\"],sanantonio_2019[\"total_receipts\"]]\n",
    "fig1, ax1 = plt.subplots()\n",
    "# ax1.set_title('Reaction Times at Baseball Batting Cage')\n",
    "# ax1.set_ylabel('Reaction Time (ms)')\n",
    "ax1.boxplot(cities_stores_2019)\n",
    "plt.show()"
   ]
  },
  {
   "cell_type": "code",
   "execution_count": null,
   "id": "f9063eee",
   "metadata": {},
   "outputs": [],
   "source": [
    "#1.) from df_all, create a new dataframe with only our 5 cities and total receipts columns\n",
    "#boxplot with that dataframe"
   ]
  },
  {
   "cell_type": "code",
   "execution_count": null,
   "id": "b8d2c0bb",
   "metadata": {},
   "outputs": [],
   "source": [
    "#efficient way to extract year from string format date\n",
    "df_all['year'] = pd.DatetimeIndex(df_all['obligation_end_date_yyyymmdd']).year\n",
    "df_all['month'] = pd.DatetimeIndex(df_all['obligation_end_date_yyyymmdd']).month\n",
    "df_all.head()"
   ]
  },
  {
   "cell_type": "code",
   "execution_count": null,
   "id": "2e531ad7",
   "metadata": {},
   "outputs": [],
   "source": [
    "mask_2019 = df_all.year == 2019\n",
    "df_2019 = df_all[mask_2019]\n",
    "location_sales_2019 = pd.DataFrame(df_2019.groupby('location_name')['total_receipts'].sum())\n",
    "location_sales_2019.sort_values([\"total_receipts\"], ascending = [False])"
   ]
  },
  {
   "cell_type": "code",
   "execution_count": null,
   "id": "63f1703c",
   "metadata": {},
   "outputs": [],
   "source": [
    "mask_2020 = df_all.year == 2020\n",
    "df_2020 = df_all[mask_2020]\n",
    "location_sales_2020 = pd.DataFrame(df_2020.groupby('location_name')['total_receipts'].sum())\n",
    "location_sales_2020.sort_values([\"total_receipts\"], ascending = [False])"
   ]
  },
  {
   "cell_type": "code",
   "execution_count": null,
   "id": "abf2165d",
   "metadata": {},
   "outputs": [],
   "source": [
    "city_mask = (df_all.location_city == \"HOUSTON\")|(df_all.location_city == \"DALLAS\")|(df_all.location_city == \"FORT WORTH\")|(df_all.location_city == \"SAN ANTONIO\")|(df_all.location_city == \"AUSTIN\")\n",
    "dfcities = df_all[city_mask]\n",
    "dfcities.location_city"
   ]
  },
  {
   "cell_type": "code",
   "execution_count": null,
   "id": "7a50c452",
   "metadata": {},
   "outputs": [],
   "source": [
    "mask_2019 = dfcities.year == 2019\n",
    "df_2019 = dfcities[mask_2019]\n",
    "location_sales_2019 = pd.DataFrame(df_2019.groupby('location_city')['total_receipts'].sum())\n",
    "location_sales_2019.head()"
   ]
  },
  {
   "cell_type": "code",
   "execution_count": null,
   "id": "f502e368",
   "metadata": {},
   "outputs": [],
   "source": [
    "sns.boxplot(x=\"location_city\", y=\"total_receipts\", data=location_sales_2019)\n",
    "\n",
    "df = pd.DataFrame(np.random.randn(10, 5),\n",
    "                  columns=['Dallas', 'Ft. Worth', 'Houston', 'Austin', 'San Antonio'])\n",
    "boxplot = df.boxplot(column=['Dallas', 'Ft. Worth', 'Houston', 'Austin', 'San Antonio'])\n",
    "\n",
    "box = plt.boxplot(df, patch_artist=True)\n",
    "\n",
    "colors = ['green', 'orange', 'blue', 'red', 'purple']\n",
    "\n",
    "positions = (0, 1, 2, 3, 4)\n",
    "labels = (\"Dallas\", \"Austin\", \"Ft. Worth\", \"Houston\", \"San Antonio\")\n",
    "plt.xticks(positions, labels)\n",
    "plt.plot(x, y)\n",
    "plt.savefig(\"out.png\")\n",
    "\n",
    "for patch, color in zip(box['boxes'], colors):\n",
    "    patch.set_facecolor(color)\n",
    "\n",
    "plt.title(f\"SALES BOXPLOT 2020\", font=\"Tahoma\", fontweight=\"bold\", fontsize=16)\n",
    "\n",
    "plt.show()"
   ]
  },
  {
   "cell_type": "code",
   "execution_count": null,
   "id": "480d87bd",
   "metadata": {},
   "outputs": [],
   "source": [
    "# monthly individual receipts"
   ]
  },
  {
   "cell_type": "code",
   "execution_count": null,
   "id": "219f0aca",
   "metadata": {},
   "outputs": [],
   "source": [
    "mask_2019 = dfcities.year == 2020\n",
    "df_2019 = dfcities[mask_2019]\n",
    "location_sales_2019 = pd.DataFrame(df_2019.groupby('location_city')['total_receipts'].sum())\n",
    "location_sales_2019.head()"
   ]
  },
  {
   "cell_type": "code",
   "execution_count": null,
   "id": "0bb1fd8f",
   "metadata": {},
   "outputs": [],
   "source": [
    "mask_2019 = dfcities.year == 2019\n",
    "df_2019 = dfcities[mask_2019]\n",
    "location_sales_2019 = df_2019.groupby(['location_city','month'])['total_receipts'].sum().reset_index()\n",
    "location_sales_2019"
   ]
  },
  {
   "cell_type": "code",
   "execution_count": null,
   "id": "165c4ec0",
   "metadata": {},
   "outputs": [],
   "source": []
  },
  {
   "cell_type": "code",
   "execution_count": null,
   "id": "4ed94d91",
   "metadata": {},
   "outputs": [],
   "source": [
    "mask_2020 = dfcities.year == 2020\n",
    "df_2020 = dfcities[mask_2020]\n",
    "location_sales_2020 = df_2020.groupby(['location_city','month'])['total_receipts'].sum().reset_index()\n",
    "location_sales_2020"
   ]
  },
  {
   "cell_type": "code",
   "execution_count": null,
   "id": "ee130794",
   "metadata": {},
   "outputs": [],
   "source": [
    "sns.boxplot(x=\"location_city\", y=\"total_receipts\", data=location_sales_2020)\n",
    "\n",
    "df = pd.DataFrame(np.random.randn(10, 5),\n",
    "                  columns=['Dallas', 'Ft. Worth', 'Houston', 'Austin', 'San Antonio'])\n",
    "boxplot = df.boxplot(column=['Dallas', 'Ft. Worth', 'Houston', 'Austin', 'San Antonio'])\n",
    "\n",
    "box = plt.boxplot(df, patch_artist=True)\n",
    "\n",
    "colors = ['green', 'orange', 'blue', 'red', 'purple']\n",
    "\n",
    "positions = (0, 1, 2, 3, 4)\n",
    "labels = (\"Dallas\", \"Austin\", \"Ft. Worth\", \"Houston\", \"San Antonio\")\n",
    "plt.xticks(positions, labels)\n",
    "plt.plot(x, y)\n",
    "plt.savefig(\"out.png\")\n",
    "\n",
    "for patch, color in zip(box['boxes'], colors):\n",
    "    patch.set_facecolor(color)\n",
    "\n",
    "plt.title(f\"SALES BOXPLOT 2020\", font=\"Tahoma\", fontweight=\"bold\", fontsize=16)\n",
    "\n",
    "plt.show()"
   ]
  },
  {
   "cell_type": "code",
   "execution_count": null,
   "id": "144ed735",
   "metadata": {},
   "outputs": [],
   "source": [
    "sns.boxplot(x=\"location_city\", y=\"total_receipts\", data=location_sales_2020)\n",
    "\n",
    "df = pd.DataFrame(np.random.randn(10, 5),\n",
    "                  columns=['Dallas', 'Ft. Worth', 'Houston', 'Austin', 'San Antonio'])\n",
    "boxplot = df.boxplot(column=['Dallas', 'Ft. Worth', 'Houston', 'Austin', 'San Antonio'])\n",
    "\n",
    "box = plt.boxplot(df, patch_artist=True)\n",
    "\n",
    "colors = ['green', 'orange', 'blue', 'red', 'purple']\n",
    "\n",
    "positions = (0, 1, 2, 3, 4)\n",
    "labels = (\"Dallas\", \"Austin\", \"Ft. Worth\", \"Houston\", \"San Antonio\")\n",
    "plt.xticks(positions, labels)\n",
    "plt.plot(x, y)\n",
    "plt.savefig(\"out.png\")\n",
    "\n",
    "for patch, color in zip(box['boxes'], colors):\n",
    "    patch.set_facecolor(color)\n",
    "\n",
    "plt.title(f\"SALES BOXPLOT 2020\", font=\"Tahoma\", fontweight=\"bold\", fontsize=16)\n",
    "\n",
    "plt.show()\n"
   ]
  },
  {
   "cell_type": "code",
   "execution_count": null,
   "id": "a41f11e5",
   "metadata": {},
   "outputs": [],
   "source": []
  },
  {
   "cell_type": "code",
   "execution_count": null,
   "id": "e3a21582",
   "metadata": {},
   "outputs": [],
   "source": [
    "sns.boxplot(x=\"location_city\", y=\"total_receipts\", data=location_sales_2020)\n",
    "\n",
    "df = pd.DataFrame(np.random.randn(10, 5),\n",
    "                  columns=['Dallas', 'Ft. Worth', 'Houston', 'Austin', 'San Antonio'])\n",
    "boxplot = df.boxplot(column=['Dallas', 'Ft. Worth', 'Houston', 'Austin', 'San Antonio'])\n",
    "\n",
    "box = plt.boxplot(df, patch_artist=True)\n",
    "\n",
    "colors = ['green', 'orange', 'blue', 'red', 'purple']\n",
    "\n",
    "for patch, color in zip(box['boxes'], colors):\n",
    "    patch.set_facecolor(color)\n",
    "\n",
    "plt.title(f\"SALES BOXPLOT 2020\", font=\"Tahoma\", fontweight=\"bold\", fontsize=16)\n",
    "\n",
    "plt.show()\n"
   ]
  },
  {
   "cell_type": "code",
   "execution_count": null,
   "id": "73117a80",
   "metadata": {},
   "outputs": [],
   "source": [
    "sns.boxplot(x=\"location_city\", y=\"total_receipts\", data=location_sales_2020)\n",
    "\n",
    "df = pd.DataFrame(np.random.randn(10, 5),\n",
    "                  columns=['Dallas', 'Ft. Worth', 'Houston', 'Austin', 'San Antonio'])\n",
    "boxplot = df.boxplot(column=['Dallas', 'Ft. Worth', 'Houston', 'Austin', 'San Antonio'])\n",
    "\n",
    "box = plt.boxplot(df, patch_artist=True)\n",
    "\n",
    "colors = ['green', 'orange', 'blue', 'red', 'purple']\n",
    "\n",
    "positions = (0, 1, 2, 3, 4)\n",
    "labels = (\"Dallas\", \"Ft. Worth\", \"Houston\", \"Austin\", \"San Antonio\")\n",
    "plt.xticks(positions, labels)\n",
    "plt.plot(x, y)\n",
    "plt.savefig(\"out.png\")\n",
    "\n",
    "for patch, color in zip(box['boxes'], colors):\n",
    "    patch.set_facecolor(color)\n",
    "    \n",
    "plt.title(f\"SALES BOXPLOT 2020\", font=\"Tahoma\", fontweight=\"bold\", fontsize=16)\n",
    "\n",
    " \n",
    "plt.show()"
   ]
  },
  {
   "cell_type": "code",
   "execution_count": null,
   "id": "472c455e",
   "metadata": {},
   "outputs": [],
   "source": [
    "mask_2020 = dfcities.year == 2020\n",
    "df_2020 = dfcities[mask_2020]\n",
    "location_sales_2019 = pd.DataFrame(df_2019.groupby('location_city')['total_receipts'].sum()\n",
    "location_sales_2019.head()"
   ]
  },
  {
   "cell_type": "code",
   "execution_count": null,
   "id": "9503dbc9",
   "metadata": {},
   "outputs": [],
   "source": []
  },
  {
   "cell_type": "code",
   "execution_count": null,
   "id": "79af5c6a",
   "metadata": {},
   "outputs": [],
   "source": [
    "# Dependencies and Setup\n",
    "import matplotlib.pyplot as plt\n",
    "import pandas as pd\n",
    "import numpy as np\n",
    "import requests\n",
    "import gmaps\n",
    "import os\n",
    "import time\n",
    "import json\n",
    "\n",
    "# Import API key\n",
    "from api_keys_Booth import g_key"
   ]
  },
  {
   "cell_type": "code",
   "execution_count": null,
   "id": "294a5176",
   "metadata": {},
   "outputs": [],
   "source": []
  },
  {
   "cell_type": "code",
   "execution_count": null,
   "id": "1a5eb264",
   "metadata": {},
   "outputs": [],
   "source": [
    "# Generate a summary statistics table of mean, median, variance, standard deviation, and SEM \n",
    "# Using the aggregation method, produce the same summary statistics in a single line\n",
    "df_2019.groupby(\"location_city\")[\"total_receipts\"].agg([\"mean\", \"median\", \"var\", \"std\", \"sem\"])"
   ]
  },
  {
   "cell_type": "code",
   "execution_count": null,
   "id": "d94cb77e",
   "metadata": {},
   "outputs": [],
   "source": []
  },
  {
   "cell_type": "code",
   "execution_count": null,
   "id": "95f1a0e9",
   "metadata": {},
   "outputs": [],
   "source": []
  },
  {
   "cell_type": "code",
   "execution_count": null,
   "id": "913e1a8d",
   "metadata": {},
   "outputs": [],
   "source": [
    "# Generate a summary statistics table of mean, median, variance, standard deviation, and SEM \n",
    "# Using the aggregation method, produce the same summary statistics in a single line\n",
    "df_2019.groupby(\"location_city\")[\"total_receipts\"].agg([\"mean\", \"median\", \"var\", \"std\", \"sem\"])"
   ]
  },
  {
   "cell_type": "code",
   "execution_count": null,
   "id": "969b31bd",
   "metadata": {},
   "outputs": [],
   "source": []
  },
  {
   "cell_type": "code",
   "execution_count": null,
   "id": "7ef95245",
   "metadata": {},
   "outputs": [],
   "source": [
    "import matplotlib.pyplot as plt\n",
    "import numpy as np\n",
    "\n",
    "x = np.random.normal(75000, 55000, 45000,)\n",
    "\n",
    "plt.hist(location_sales_2019, color = \"skyblue\", lw=0)\n",
    "plt.show() "
   ]
  },
  {
   "cell_type": "code",
   "execution_count": null,
   "id": "98cd91ce",
   "metadata": {
    "scrolled": true
   },
   "outputs": [],
   "source": [
    "# Generate a summary statistics table of mean, median, variance, standard deviation, and SEM \n",
    "# Using the aggregation method, produce the same summary statistics in a single line\n",
    "df_2020.groupby(\"location_city\")[\"total_receipts\"].agg([\"mean\", \"median\", \"var\", \"std\", \"sem\"])"
   ]
  },
  {
   "cell_type": "code",
   "execution_count": null,
   "id": "29859bb2",
   "metadata": {},
   "outputs": [],
   "source": []
  },
  {
   "cell_type": "code",
   "execution_count": null,
   "id": "0048fc12",
   "metadata": {},
   "outputs": [],
   "source": []
  },
  {
   "cell_type": "code",
   "execution_count": null,
   "id": "ed61f69e",
   "metadata": {},
   "outputs": [],
   "source": [
    "import matplotlib.pyplot as plt\n",
    "import numpy as np\n",
    "\n",
    "x = np.random.normal(75000, 55000, 45000,)\n",
    "\n",
    "plt.hist(location_sales_2020, color = \"orange\", lw=0)\n",
    "plt.show() "
   ]
  },
  {
   "cell_type": "code",
   "execution_count": null,
   "id": "b05dcef5",
   "metadata": {},
   "outputs": [],
   "source": [
    "np.random.normal(location_sales_2019)\n",
    "df = pd.DataFrame(np.random.randn(10, 5),\n",
    "                  columns=['Dallas', 'Ft. Worth', 'Houston', 'Austin', 'San Antonio'])\n",
    "boxplot = df.boxplot(column=['Dallas', 'Ft. Worth', 'Houston', 'Austin', 'San Antonio'])\n",
    "\n",
    "box = plt.boxplot(df, patch_artist=True)\n",
    "\n",
    "colors = ['blue', 'green', 'purple', 'tan', 'pink', 'red']\n",
    " \n",
    "for patch, color in zip(box['boxes'], colors):\n",
    "    patch.set_facecolor(color)\n",
    " \n",
    "plt.show()"
   ]
  },
  {
   "cell_type": "code",
   "execution_count": null,
   "id": "9812deb9",
   "metadata": {},
   "outputs": [],
   "source": [
    "np.random.normal(location_sales_2019)\n",
    "df = pd.DataFrame(np.random.randn(10, 5),\n",
    "                  columns=['Dallas', 'Ft. Worth', 'Houston', 'Austin', 'San Antonio'])\n",
    "boxplot = df.boxplot(column=['Dallas', 'Ft. Worth', 'Houston', 'Austin', 'San Antonio'])\n",
    "\n",
    "box = plt.boxplot(df, patch_artist=True)\n",
    "\n",
    "colors = ['blue', 'green', 'purple', 'tan', 'pink', 'red']\n",
    " \n",
    "for patch, color in zip(box['boxes'], colors):\n",
    "    patch.set_facecolor(color)\n",
    " \n",
    "plt.show()"
   ]
  },
  {
   "cell_type": "code",
   "execution_count": null,
   "id": "f62ddf2c",
   "metadata": {},
   "outputs": [],
   "source": [
    "np.random.normal(mask_2019)\n",
    "df = pd.DataFrame(np.random.randn(10, 5),\n",
    "                  columns=['Dallas', 'Ft. Worth', 'Houston', 'Austin', 'San Antonio'])\n",
    "boxplot = df.boxplot(column=['Dallas', 'Ft. Worth', 'Houston', 'Austin', 'San Antonio'])\n",
    "\n",
    "box = plt.boxplot(df, patch_artist=True)\n",
    "\n",
    "colors = ['blue', 'green', 'purple', 'tan', 'pink', 'red']\n",
    " \n",
    "for patch, color in zip(box['boxes'], colors):\n",
    "    patch.set_facecolor(color)\n",
    " \n",
    "plt.show()"
   ]
  },
  {
   "cell_type": "code",
   "execution_count": null,
   "id": "8b60518c",
   "metadata": {},
   "outputs": [],
   "source": [
    "np.random.normal(location_sales_2020)\n",
    "df = pd.DataFrame(np.random.randn(10, 5),\n",
    "                  columns=['Dallas', 'Ft. Worth', 'Houston', 'Austin', 'San Antonio'])\n",
    "boxplot = df.boxplot(column=['Dallas', 'Ft. Worth', 'Houston', 'Austin', 'San Antonio'])\n",
    "\n",
    "box = plt.boxplot(df, patch_artist=True)\n",
    "\n",
    "colors = ['blue', 'green', 'purple', 'tan', 'pink', 'red']\n",
    " \n",
    "for patch, color in zip(box['boxes'], colors):\n",
    "    patch.set_facecolor(color)\n",
    " \n",
    "plt.show()"
   ]
  },
  {
   "cell_type": "code",
   "execution_count": null,
   "id": "8b1d8f94",
   "metadata": {},
   "outputs": [],
   "source": [
    "np.random.normal(mask_2020)\n",
    "df = pd.DataFrame(np.random.randn(10, 5),\n",
    "                  columns=['Dallas', 'Ft. Worth', 'Houston', 'Austin', 'San Antonio'])\n",
    "boxplot = df.boxplot(column=['Dallas', 'Ft. Worth', 'Houston', 'Austin', 'San Antonio'])\n",
    "\n",
    "box = plt.boxplot(df, patch_artist=True)\n",
    "\n",
    "colors = ['blue', 'green', 'purple', 'tan', 'pink', 'red']\n",
    " \n",
    "for patch, color in zip(box['boxes'], colors):\n",
    "    patch.set_facecolor(color)\n",
    " \n",
    "plt.show()"
   ]
  },
  {
   "cell_type": "code",
   "execution_count": null,
   "id": "393f9a15",
   "metadata": {},
   "outputs": [],
   "source": [
    "mask_2020 = dfcities.year == 2020\n",
    "df_2020 = dfcities[mask_2020]\n",
    "location_sales_2020 = pd.DataFrame(df_2020.groupby('location_city')['total_receipts'].sum())\n",
    "location_sales_2020.head()"
   ]
  },
  {
   "cell_type": "code",
   "execution_count": null,
   "id": "7e39b5bc",
   "metadata": {},
   "outputs": [],
   "source": [
    "import seaborn as sns\n",
    "import numpy as np"
   ]
  },
  {
   "cell_type": "code",
   "execution_count": null,
   "id": "350de237",
   "metadata": {},
   "outputs": [],
   "source": [
    "np.random.normal(mask_2020)\n",
    "df = pd.DataFrame(np.random.randn(10, 5),\n",
    "                  columns=['Dallas', 'Ft. Worth', 'Houston', 'Austin', 'San Antonio'])\n",
    "boxplot = df.boxplot(column=['Dallas', 'Ft. Worth', 'Houston', 'Austin', 'San Antonio'])\n",
    "\n",
    "import matplotlib.pyplot as plt\n",
    "import numpy as np\n",
    "data = np.random.normal(0.1, size=(100,6))\n",
    "data[76:79,:] = np.ones((3,6))+0.2\n",
    "\n",
    "plt.figure(figsize=(10,4))\n",
    "# option 1, specify props dictionaries\n",
    "c = \"orange\"\n",
    "plt.boxplot(data[:,:5], positions=[1, 2,3,4,5], notch=True, patch_artist=True,\n",
    "            boxprops=dict(facecolor=c, color=c),\n",
    "            capprops=dict(color=c),\n",
    "            whiskerprops=dict(color=c),\n",
    "            flierprops=dict(color=c, markeredgecolor=c),\n",
    "            medianprops=dict(color=c),\n",
    "            )"
   ]
  },
  {
   "cell_type": "code",
   "execution_count": null,
   "id": "89aad250",
   "metadata": {},
   "outputs": [],
   "source": [
    "np.random.normal(mask_2019)\n",
    "df = pd.DataFrame(np.random.randn(10, 5),\n",
    "                  columns=['Dallas', 'Ft. Worth', 'Houston', 'Austin', 'San Antonio'])\n",
    "boxplot = df.boxplot(column=['Dallas', 'Ft. Worth', 'Houston', 'Austin', 'San Antonio'])\n",
    "\n",
    "import matplotlib.pyplot as plt\n",
    "import numpy as np\n",
    "data = np.random.normal(0.1, size=(100,6))\n",
    "data[76:79,:] = np.ones((3,6))+0.2\n",
    "\n",
    "plt.figure(figsize=(10,4))\n",
    "# option 1, specify props dictionaries\n",
    "c = \"orange\"\n",
    "plt.boxplot(data[:,:5], positions=[1, 2,3,4,5], notch=True, patch_artist=True,\n",
    "            boxprops=dict(facecolor=c, color=c),\n",
    "            capprops=dict(color=c),\n",
    "            whiskerprops=dict(color=c),\n",
    "            flierprops=dict(color=c, markeredgecolor=c),\n",
    "            medianprops=dict(color=c),\n",
    "            )"
   ]
  },
  {
   "cell_type": "code",
   "execution_count": null,
   "id": "4db5002d",
   "metadata": {},
   "outputs": [],
   "source": [
    "df_2019 = pd.DataFrame(np.random.rand(10,5), columns=['Dallas', 'Ft. Worth', 'Houston', 'Austin', 'San Antonio'])\n",
    "df.plot.box(grid='True')"
   ]
  },
  {
   "cell_type": "code",
   "execution_count": null,
   "id": "9f3e274f",
   "metadata": {},
   "outputs": [],
   "source": [
    "df_2020 = pd.DataFrame(np.random.rand(10,5), columns=['AUSTIN', 'DALLAS', 'FORT WORTH', 'HOUSTON', 'SAN ANTONIO'])\n",
    "df.plot.box(grid='True')"
   ]
  },
  {
   "cell_type": "code",
   "execution_count": null,
   "id": "838220b9",
   "metadata": {},
   "outputs": [],
   "source": [
    "mask_2020 = dfcities.year == 2020\n",
    "df_2020 = dfcities[mask_2020]\n",
    "location_sales_2020 = pd.DataFrame(df_2020.groupby('location_city')['total_receipts'].sum())\n",
    "location_sales_2020.head()"
   ]
  },
  {
   "cell_type": "code",
   "execution_count": null,
   "id": "95d922ab",
   "metadata": {},
   "outputs": [],
   "source": [
    "mask_dallas20 = (dfcities.year == 2020)&(dfcities.location_city == \"DALLAS\")\n",
    "dallas_2020 = dfcities[mask_dallas20]\n",
    "dallas_sales_2020 = pd.DataFrame(dallas_2020.groupby('location_address')['total_receipts'].sum())\n",
    "dallas_sales_2020.head()"
   ]
  },
  {
   "cell_type": "code",
   "execution_count": null,
   "id": "7e5f40aa",
   "metadata": {},
   "outputs": [],
   "source": [
    "dallas_2020 = pd.DataFrame(np.random.rand(10,5), columns=['AUSTIN', 'DALLAS', 'FORT WORTH', 'HOUSTON', 'SAN ANTONIO'])\n",
    "df.plot.box(grid='True')"
   ]
  },
  {
   "cell_type": "code",
   "execution_count": null,
   "id": "798615d9",
   "metadata": {},
   "outputs": [],
   "source": [
    "mask_dallas19 = (dfcities.year == 2019)&(dfcities.location_city == \"DALLAS\")\n",
    "dallas_2019 = dfcities[mask_dallas19]\n",
    "dallas_sales_2019 = pd.DataFrame(dallas_2019.groupby('location_address')['total_receipts'].sum())\n",
    "dallas_sales_2019.head()"
   ]
  },
  {
   "cell_type": "code",
   "execution_count": null,
   "id": "29707323",
   "metadata": {},
   "outputs": [],
   "source": [
    "dallas_2020 = pd.DataFrame(np.random.rand(10,5), columns=['AUSTIN', 'DALLAS', 'FORT WORTH', 'HOUSTON', 'SAN ANTONIO'])\n",
    "df.plot.box(grid='True')"
   ]
  },
  {
   "cell_type": "code",
   "execution_count": null,
   "id": "ba7e74c8",
   "metadata": {},
   "outputs": [],
   "source": [
    "mask_houston19 = (dfcities.year == 2019)&(dfcities.location_city == \"HOUSTON\")\n",
    "houston_2019 = dfcities[mask_houston19]\n",
    "houston_sales_2019 = pd.DataFrame(houston_2019.groupby('location_address')['total_receipts'].sum())\n",
    "houston_sales_2019.head()"
   ]
  },
  {
   "cell_type": "code",
   "execution_count": null,
   "id": "7a4c87ee",
   "metadata": {},
   "outputs": [],
   "source": [
    "mask_houston19 = pd.DataFrame(np.random.rand(10,5), columns=['AUSTIN', 'DALLAS', 'FORT WORTH', 'HOUSTON', 'SAN ANTONIO'])\n",
    "df.plot.box(grid='True')"
   ]
  },
  {
   "cell_type": "code",
   "execution_count": null,
   "id": "9a73a859",
   "metadata": {},
   "outputs": [],
   "source": [
    "mask_houston20 = (dfcities.year == 2020)&(dfcities.location_city == \"HOUSTON\")\n",
    "houston_2020 = dfcities[mask_houston20]\n",
    "houston_sales_2020 = pd.DataFrame(houston_2020.groupby('location_address')['total_receipts'].sum())\n",
    "houston_sales_2020.head()"
   ]
  },
  {
   "cell_type": "code",
   "execution_count": null,
   "id": "33f29c51",
   "metadata": {},
   "outputs": [],
   "source": [
    "mask_houston20 = pd.DataFrame(np.random.rand(10,5), columns=['AUSTIN', 'DALLAS', 'FORT WORTH', 'HOUSTON', 'SAN ANTONIO'])\n",
    "df.plot.box(grid='True')"
   ]
  },
  {
   "cell_type": "code",
   "execution_count": null,
   "id": "bd80a024",
   "metadata": {},
   "outputs": [],
   "source": [
    "mask_ftworth19 = (dfcities.year == 2019)&(dfcities.location_city == \"FORT WORTH\")\n",
    "ftworth_2019 = dfcities[mask_ftworth19]\n",
    "ftworth_sales_2019 = pd.DataFrame(ftworth_2019.groupby('location_address')['total_receipts'].sum())\n",
    "ftworth_sales_2019.head()"
   ]
  },
  {
   "cell_type": "code",
   "execution_count": null,
   "id": "86ebb239",
   "metadata": {},
   "outputs": [],
   "source": [
    "mask_ftworth19 = pd.DataFrame(np.random.rand(10,5), columns=['AUSTIN', 'DALLAS', 'FORT WORTH', 'HOUSTON', 'SAN ANTONIO'])\n",
    "df.plot.box(grid='True')"
   ]
  },
  {
   "cell_type": "code",
   "execution_count": null,
   "id": "670fa7a0",
   "metadata": {},
   "outputs": [],
   "source": [
    "mask_ftworth20 = (dfcities.year == 2020)&(dfcities.location_city == \"FORT WORTH\")\n",
    "ftworth_2020 = dfcities[mask_ftworth20]\n",
    "ftworth_sales_2020 = pd.DataFrame(ftworth_2020.groupby('location_address')['total_receipts'].sum())\n",
    "ftworth_sales_2020.head()"
   ]
  },
  {
   "cell_type": "code",
   "execution_count": null,
   "id": "1ce7d21c",
   "metadata": {},
   "outputs": [],
   "source": [
    "mask_ftworth20= pd.DataFrame(np.random.rand(10,5), columns=['AUSTIN', 'DALLAS', 'FORT WORTH', 'HOUSTON', 'SAN ANTONIO'])\n",
    "df.plot.box(grid='True')"
   ]
  },
  {
   "cell_type": "code",
   "execution_count": null,
   "id": "75278c6a",
   "metadata": {},
   "outputs": [],
   "source": [
    "mask_austin19 = (dfcities.year == 2019)&(dfcities.location_city == \"AUSTIN\")\n",
    "austin_2019 = dfcities[mask_austin19]\n",
    "austin_sales_2019 = pd.DataFrame(austin_2019.groupby('location_address')['total_receipts'].sum())\n",
    "austin_sales_2019.head()"
   ]
  },
  {
   "cell_type": "code",
   "execution_count": null,
   "id": "ff07f15f",
   "metadata": {},
   "outputs": [],
   "source": [
    "mask_austin19= pd.DataFrame(np.random.rand(10,5), columns=['AUSTIN', 'DALLAS', 'FORT WORTH', 'HOUSTON', 'SAN ANTONIO'])\n",
    "df.plot.box(grid='True')"
   ]
  },
  {
   "cell_type": "code",
   "execution_count": null,
   "id": "46022711",
   "metadata": {},
   "outputs": [],
   "source": [
    "mask_austin20 = (dfcities.year == 2020)&(dfcities.location_city == \"AUSTIN\")\n",
    "austin_2020 = dfcities[mask_austin20]\n",
    "austin_sales_2020 = pd.DataFrame(austin_2020.groupby('location_address')['total_receipts'].sum())\n",
    "austin_sales_2020.head()"
   ]
  },
  {
   "cell_type": "code",
   "execution_count": null,
   "id": "cc3d2386",
   "metadata": {},
   "outputs": [],
   "source": [
    "mask_austin20= pd.DataFrame(np.random.rand(10,5), columns=['AUSTIN', 'DALLAS', 'FORT WORTH', 'HOUSTON', 'SAN ANTONIO'])\n",
    "df.plot.box(grid='True')"
   ]
  },
  {
   "cell_type": "code",
   "execution_count": null,
   "id": "3eb826af",
   "metadata": {},
   "outputs": [],
   "source": [
    "mask_sanantonio19 = (dfcities.year == 2019)&(dfcities.location_city == \"SAN ANTONIO\")\n",
    "sanantonio_2019 = dfcities[mask_sanantonio19]\n",
    "sanantonio_sales_2019 = pd.DataFrame(sanantonio_2019.groupby('location_address')['total_receipts'].sum())\n",
    "sanantonio_sales_2019.head()"
   ]
  },
  {
   "cell_type": "code",
   "execution_count": null,
   "id": "5fe6a178",
   "metadata": {},
   "outputs": [],
   "source": [
    "ask_sanantonio19= pd.DataFrame(np.random.rand(10,5), columns=['AUSTIN', 'DALLAS', 'FORT WORTH', 'HOUSTON', 'SAN ANTONIO'])\n",
    "df.plot.box(grid='True')"
   ]
  },
  {
   "cell_type": "code",
   "execution_count": null,
   "id": "0f68e893",
   "metadata": {},
   "outputs": [],
   "source": [
    "mask_sanantonio20 = (dfcities.year == 2020)&(dfcities.location_city == \"SAN ANTONIO\")\n",
    "sanantonio_2020 = dfcities[mask_sanantonio20]\n",
    "sanantonio_sales_2020 = pd.DataFrame(sanantonio_2020.groupby('location_address')['total_receipts'].sum())\n",
    "sanantonio_sales_2020.head()"
   ]
  },
  {
   "cell_type": "code",
   "execution_count": null,
   "id": "bd35f545",
   "metadata": {},
   "outputs": [],
   "source": [
    "ask_sanantonio20= pd.DataFrame(np.random.rand(10,5), columns=['AUSTIN', 'DALLAS', 'FORT WORTH', 'HOUSTON', 'SAN ANTONIO'])\n",
    "df.plot.box(grid='True')"
   ]
  },
  {
   "cell_type": "code",
   "execution_count": null,
   "id": "c0882f43",
   "metadata": {},
   "outputs": [],
   "source": []
  },
  {
   "cell_type": "code",
   "execution_count": null,
   "id": "6073c7b6",
   "metadata": {},
   "outputs": [],
   "source": [
    "dallas2019 = dallas_sales_2019.sort_values([\"total_receipts\"], ascending = [False])\n",
    "print(dallas2019)"
   ]
  },
  {
   "cell_type": "code",
   "execution_count": null,
   "id": "2d4c5795",
   "metadata": {},
   "outputs": [],
   "source": [
    "ask_dallas2019= pd.DataFrame(np.random.rand(10,5), columns=['AUSTIN', 'DALLAS', 'FORT WORTH', 'HOUSTON', 'SAN ANTONIO'])\n",
    "df.plot.box(grid='True')"
   ]
  },
  {
   "cell_type": "code",
   "execution_count": null,
   "id": "b1de59fc",
   "metadata": {},
   "outputs": [],
   "source": [
    "ftworth2019 = ftworth_sales_2019.sort_values([\"total_receipts\"], ascending = [False])\n",
    "print(ftworth2019)"
   ]
  },
  {
   "cell_type": "code",
   "execution_count": null,
   "id": "fb48ff3c",
   "metadata": {},
   "outputs": [],
   "source": []
  },
  {
   "cell_type": "code",
   "execution_count": null,
   "id": "0e065f4d",
   "metadata": {},
   "outputs": [],
   "source": [
    "houston2019 = houston_sales_2019.sort_values([\"total_receipts\"], ascending = [False])\n",
    "print(houston2019)"
   ]
  },
  {
   "cell_type": "code",
   "execution_count": null,
   "id": "27c7cb3c",
   "metadata": {},
   "outputs": [],
   "source": [
    "ask_houston2019= pd.DataFrame(np.random.rand(10,5), columns=['AUSTIN', 'DALLAS', 'FORT WORTH', 'HOUSTON', 'SAN ANTONIO'])\n",
    "df.plot.box(grid='True')"
   ]
  },
  {
   "cell_type": "code",
   "execution_count": null,
   "id": "76ea19bd",
   "metadata": {},
   "outputs": [],
   "source": [
    "austin2019 = austin_sales_2019.sort_values([\"total_receipts\"], ascending = [False])\n",
    "print(austin2019)"
   ]
  },
  {
   "cell_type": "code",
   "execution_count": null,
   "id": "c067a4b4",
   "metadata": {},
   "outputs": [],
   "source": [
    "ask_austin2019= pd.DataFrame(np.random.rand(10,5), columns=['AUSTIN', 'DALLAS', 'FORT WORTH', 'HOUSTON', 'SAN ANTONIO'])\n",
    "df.plot.box(grid='True')"
   ]
  },
  {
   "cell_type": "code",
   "execution_count": null,
   "id": "da2b1b30",
   "metadata": {},
   "outputs": [],
   "source": [
    "sanantonio2019 = sanantonio_sales_2019.sort_values([\"total_receipts\"], ascending = [False])\n",
    "print(sanantonio2019)"
   ]
  },
  {
   "cell_type": "code",
   "execution_count": null,
   "id": "7571e02f",
   "metadata": {},
   "outputs": [],
   "source": [
    "ask_sanantonio2019= pd.DataFrame(np.random.rand(10,5), columns=['AUSTIN', 'DALLAS', 'FORT WORTH', 'HOUSTON', 'SAN ANTONIO'])\n",
    "df.plot.box(grid='True')"
   ]
  },
  {
   "cell_type": "code",
   "execution_count": null,
   "id": "031eb74a",
   "metadata": {},
   "outputs": [],
   "source": [
    "dallas2020 = dallas_sales_2020.sort_values([\"total_receipts\"], ascending = [False])\n",
    "print(dallas2020)"
   ]
  },
  {
   "cell_type": "code",
   "execution_count": null,
   "id": "d0efbc95",
   "metadata": {},
   "outputs": [],
   "source": [
    "ask_dallas2020= pd.DataFrame(np.random.rand(10,5), columns=['AUSTIN', 'DALLAS', 'FORT WORTH', 'HOUSTON', 'SAN ANTONIO'])\n",
    "df.plot.box(grid='True')"
   ]
  },
  {
   "cell_type": "code",
   "execution_count": null,
   "id": "115090a7",
   "metadata": {},
   "outputs": [],
   "source": [
    "ftworth2020 = ftworth_sales_2020.sort_values([\"total_receipts\"], ascending = [False])\n",
    "print(ftworth2020)"
   ]
  },
  {
   "cell_type": "code",
   "execution_count": null,
   "id": "3053cf37",
   "metadata": {},
   "outputs": [],
   "source": [
    "ask_ftworth2020= pd.DataFrame(np.random.rand(10,5), columns=['AUSTIN', 'DALLAS', 'FORT WORTH', 'HOUSTON', 'SAN ANTONIO'])\n",
    "df.plot.box(grid='True')"
   ]
  },
  {
   "cell_type": "code",
   "execution_count": null,
   "id": "05edb8fb",
   "metadata": {},
   "outputs": [],
   "source": [
    "houston2020 = houston_sales_2020.sort_values([\"total_receipts\"], ascending = [False])\n",
    "print(houston2020)"
   ]
  },
  {
   "cell_type": "code",
   "execution_count": null,
   "id": "fe891f21",
   "metadata": {},
   "outputs": [],
   "source": [
    "ask_austin2020= pd.DataFrame(np.random.rand(10,5), columns=['AUSTIN', 'DALLAS', 'FORT WORTH', 'HOUSTON', 'SAN ANTONIO'])\n",
    "df.plot.box(grid='True')"
   ]
  },
  {
   "cell_type": "code",
   "execution_count": null,
   "id": "3990592e",
   "metadata": {},
   "outputs": [],
   "source": [
    "austin2020 = austin_sales_2020.sort_values([\"total_receipts\"], ascending = [False])\n",
    "print(austin2020)"
   ]
  },
  {
   "cell_type": "code",
   "execution_count": null,
   "id": "8b391b11",
   "metadata": {},
   "outputs": [],
   "source": [
    "ask_austin2020= pd.DataFrame(np.random.rand(10,5), columns=['AUSTIN', 'DALLAS', 'FORT WORTH', 'HOUSTON', 'SAN ANTONIO'])\n",
    "df.plot.box(grid='True')"
   ]
  },
  {
   "cell_type": "code",
   "execution_count": null,
   "id": "744daaec",
   "metadata": {},
   "outputs": [],
   "source": [
    "sanantonio2020 = sanantonio_sales_2020.sort_values([\"total_receipts\"], ascending = [False])\n",
    "print(sanantonio2020)"
   ]
  },
  {
   "cell_type": "code",
   "execution_count": null,
   "id": "4685ecdf",
   "metadata": {},
   "outputs": [],
   "source": [
    "ask_sanantonio2020= pd.DataFrame(np.random.rand(10,5), columns=['AUSTIN', 'DALLAS', 'FORT WORTH', 'HOUSTON', 'SAN ANTONIO'])\n",
    "df.plot.box(grid='True')"
   ]
  },
  {
   "cell_type": "code",
   "execution_count": null,
   "id": "1243d4ad",
   "metadata": {},
   "outputs": [],
   "source": []
  }
 ],
 "metadata": {
  "kernelspec": {
   "display_name": "Python 3",
   "language": "python",
   "name": "python3"
  },
  "language_info": {
   "codemirror_mode": {
    "name": "ipython",
    "version": 3
   },
   "file_extension": ".py",
   "mimetype": "text/x-python",
   "name": "python",
   "nbconvert_exporter": "python",
   "pygments_lexer": "ipython3",
   "version": "3.8.8"
  }
 },
 "nbformat": 4,
 "nbformat_minor": 5
}
