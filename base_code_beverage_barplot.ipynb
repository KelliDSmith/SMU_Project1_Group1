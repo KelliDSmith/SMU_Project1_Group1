{
 "cells": [
  {
   "cell_type": "code",
   "execution_count": 1,
   "id": "bd3a1d9b",
   "metadata": {},
   "outputs": [],
   "source": [
    "from matplotlib.patches import Rectangle\n",
    "import matplotlib.pyplot as plt\n",
    "import matplotlib.colors as mcolors\n",
    "import numpy as np\n",
    "import pandas as pd"
   ]
  },
  {
   "cell_type": "code",
   "execution_count": 2,
   "id": "48b362e0",
   "metadata": {},
   "outputs": [],
   "source": [
    "data_all = \"Output/2019_2020_mixed_beverage\"\n",
    "\n",
    "\n",
    "df_all = pd.read_csv(data_all, encoding=\"utf-8\")\n"
   ]
  },
  {
   "cell_type": "code",
   "execution_count": 3,
   "id": "b7dd6bef",
   "metadata": {},
   "outputs": [
    {
     "data": {
      "text/html": [
       "<div>\n",
       "<style scoped>\n",
       "    .dataframe tbody tr th:only-of-type {\n",
       "        vertical-align: middle;\n",
       "    }\n",
       "\n",
       "    .dataframe tbody tr th {\n",
       "        vertical-align: top;\n",
       "    }\n",
       "\n",
       "    .dataframe thead th {\n",
       "        text-align: right;\n",
       "    }\n",
       "</style>\n",
       "<table border=\"1\" class=\"dataframe\">\n",
       "  <thead>\n",
       "    <tr style=\"text-align: right;\">\n",
       "      <th></th>\n",
       "      <th>taxpayer_number</th>\n",
       "      <th>taxpayer_name</th>\n",
       "      <th>taxpayer_address</th>\n",
       "      <th>taxpayer_city</th>\n",
       "      <th>taxpayer_state</th>\n",
       "      <th>taxpayer_zip</th>\n",
       "      <th>taxpayer_county</th>\n",
       "      <th>location_number</th>\n",
       "      <th>location_name</th>\n",
       "      <th>location_address</th>\n",
       "      <th>...</th>\n",
       "      <th>responsibility_begin_date_yyyymmdd</th>\n",
       "      <th>obligation_end_date_yyyymmdd</th>\n",
       "      <th>liquor_receipts</th>\n",
       "      <th>wine_receipts</th>\n",
       "      <th>beer_receipts</th>\n",
       "      <th>cover_charge_receipts</th>\n",
       "      <th>total_receipts</th>\n",
       "      <th>responsibility_end_date_yyyymmdd</th>\n",
       "      <th>year</th>\n",
       "      <th>month</th>\n",
       "    </tr>\n",
       "  </thead>\n",
       "  <tbody>\n",
       "    <tr>\n",
       "      <th>0</th>\n",
       "      <td>32068897456</td>\n",
       "      <td>HC&amp;K, LLC</td>\n",
       "      <td>7035 W GRAND PKWY S STE 10</td>\n",
       "      <td>RICHMOND</td>\n",
       "      <td>TX</td>\n",
       "      <td>77407.0</td>\n",
       "      <td>79</td>\n",
       "      <td>1</td>\n",
       "      <td>TOP SUSHI</td>\n",
       "      <td>7035 W GRAND PKWY S STE 10</td>\n",
       "      <td>...</td>\n",
       "      <td>2019-01-16T00:00:00.000</td>\n",
       "      <td>2019-01-31T00:00:00.000</td>\n",
       "      <td>0</td>\n",
       "      <td>0</td>\n",
       "      <td>0</td>\n",
       "      <td>0</td>\n",
       "      <td>0</td>\n",
       "      <td>NaN</td>\n",
       "      <td>2019</td>\n",
       "      <td>1</td>\n",
       "    </tr>\n",
       "    <tr>\n",
       "      <th>1</th>\n",
       "      <td>32051593963</td>\n",
       "      <td>J &amp; J ACKERMAN CORP.</td>\n",
       "      <td>PO BOX 939</td>\n",
       "      <td>GRANGER</td>\n",
       "      <td>TX</td>\n",
       "      <td>76530.0</td>\n",
       "      <td>246</td>\n",
       "      <td>3</td>\n",
       "      <td>COTTON COUNTRY CLUB</td>\n",
       "      <td>212 E DAVILLA ST</td>\n",
       "      <td>...</td>\n",
       "      <td>2019-01-28T00:00:00.000</td>\n",
       "      <td>2019-01-31T00:00:00.000</td>\n",
       "      <td>0</td>\n",
       "      <td>0</td>\n",
       "      <td>0</td>\n",
       "      <td>0</td>\n",
       "      <td>0</td>\n",
       "      <td>NaN</td>\n",
       "      <td>2019</td>\n",
       "      <td>1</td>\n",
       "    </tr>\n",
       "    <tr>\n",
       "      <th>2</th>\n",
       "      <td>32046106475</td>\n",
       "      <td>FJ RESTAURANT INC</td>\n",
       "      <td>9300 S INTERSTATE 35 STE 8500 # 431</td>\n",
       "      <td>AUSTIN</td>\n",
       "      <td>TX</td>\n",
       "      <td>78748.0</td>\n",
       "      <td>227</td>\n",
       "      <td>2</td>\n",
       "      <td>TAQUERIA MEXICANO GRILLE</td>\n",
       "      <td>10207 CHINA SPRING RD STE 140</td>\n",
       "      <td>...</td>\n",
       "      <td>2019-06-19T00:00:00.000</td>\n",
       "      <td>2019-01-31T00:00:00.000</td>\n",
       "      <td>10013</td>\n",
       "      <td>0</td>\n",
       "      <td>8648</td>\n",
       "      <td>0</td>\n",
       "      <td>18661</td>\n",
       "      <td>NaN</td>\n",
       "      <td>2019</td>\n",
       "      <td>1</td>\n",
       "    </tr>\n",
       "    <tr>\n",
       "      <th>3</th>\n",
       "      <td>32054228120</td>\n",
       "      <td>S &amp; KW CORPORATION</td>\n",
       "      <td>6617 CHIMNEY ROCK RD</td>\n",
       "      <td>HOUSTON</td>\n",
       "      <td>TX</td>\n",
       "      <td>77081.0</td>\n",
       "      <td>101</td>\n",
       "      <td>1</td>\n",
       "      <td>NAZARETH CAFE</td>\n",
       "      <td>6617 CHIMNEY ROCK RD</td>\n",
       "      <td>...</td>\n",
       "      <td>2014-08-01T00:00:00.000</td>\n",
       "      <td>2019-01-31T00:00:00.000</td>\n",
       "      <td>3212</td>\n",
       "      <td>0</td>\n",
       "      <td>2509</td>\n",
       "      <td>0</td>\n",
       "      <td>5721</td>\n",
       "      <td>NaN</td>\n",
       "      <td>2019</td>\n",
       "      <td>1</td>\n",
       "    </tr>\n",
       "    <tr>\n",
       "      <th>4</th>\n",
       "      <td>32000861685</td>\n",
       "      <td>FOUNTAIN FOODS, INC.</td>\n",
       "      <td>25600 WESTHEIMER PKWY STE 110</td>\n",
       "      <td>KATY</td>\n",
       "      <td>TX</td>\n",
       "      <td>77494.0</td>\n",
       "      <td>79</td>\n",
       "      <td>2</td>\n",
       "      <td>HARVEST ORGANIC GRILLE</td>\n",
       "      <td>1810 FOUNTAIN VIEW DR</td>\n",
       "      <td>...</td>\n",
       "      <td>2012-08-21T00:00:00.000</td>\n",
       "      <td>2019-01-31T00:00:00.000</td>\n",
       "      <td>0</td>\n",
       "      <td>0</td>\n",
       "      <td>0</td>\n",
       "      <td>0</td>\n",
       "      <td>0</td>\n",
       "      <td>2019-06-01T00:00:00.000</td>\n",
       "      <td>2019</td>\n",
       "      <td>1</td>\n",
       "    </tr>\n",
       "  </tbody>\n",
       "</table>\n",
       "<p>5 rows × 26 columns</p>\n",
       "</div>"
      ],
      "text/plain": [
       "   taxpayer_number         taxpayer_name                     taxpayer_address  \\\n",
       "0      32068897456             HC&K, LLC           7035 W GRAND PKWY S STE 10   \n",
       "1      32051593963  J & J ACKERMAN CORP.                           PO BOX 939   \n",
       "2      32046106475     FJ RESTAURANT INC  9300 S INTERSTATE 35 STE 8500 # 431   \n",
       "3      32054228120    S & KW CORPORATION                 6617 CHIMNEY ROCK RD   \n",
       "4      32000861685  FOUNTAIN FOODS, INC.        25600 WESTHEIMER PKWY STE 110   \n",
       "\n",
       "  taxpayer_city taxpayer_state  taxpayer_zip  taxpayer_county  \\\n",
       "0      RICHMOND             TX       77407.0               79   \n",
       "1       GRANGER             TX       76530.0              246   \n",
       "2        AUSTIN             TX       78748.0              227   \n",
       "3       HOUSTON             TX       77081.0              101   \n",
       "4          KATY             TX       77494.0               79   \n",
       "\n",
       "   location_number             location_name               location_address  \\\n",
       "0                1                 TOP SUSHI     7035 W GRAND PKWY S STE 10   \n",
       "1                3       COTTON COUNTRY CLUB               212 E DAVILLA ST   \n",
       "2                2  TAQUERIA MEXICANO GRILLE  10207 CHINA SPRING RD STE 140   \n",
       "3                1             NAZARETH CAFE           6617 CHIMNEY ROCK RD   \n",
       "4                2    HARVEST ORGANIC GRILLE          1810 FOUNTAIN VIEW DR   \n",
       "\n",
       "   ... responsibility_begin_date_yyyymmdd obligation_end_date_yyyymmdd  \\\n",
       "0  ...            2019-01-16T00:00:00.000      2019-01-31T00:00:00.000   \n",
       "1  ...            2019-01-28T00:00:00.000      2019-01-31T00:00:00.000   \n",
       "2  ...            2019-06-19T00:00:00.000      2019-01-31T00:00:00.000   \n",
       "3  ...            2014-08-01T00:00:00.000      2019-01-31T00:00:00.000   \n",
       "4  ...            2012-08-21T00:00:00.000      2019-01-31T00:00:00.000   \n",
       "\n",
       "   liquor_receipts  wine_receipts beer_receipts cover_charge_receipts  \\\n",
       "0                0              0             0                     0   \n",
       "1                0              0             0                     0   \n",
       "2            10013              0          8648                     0   \n",
       "3             3212              0          2509                     0   \n",
       "4                0              0             0                     0   \n",
       "\n",
       "  total_receipts responsibility_end_date_yyyymmdd  year  month  \n",
       "0              0                              NaN  2019      1  \n",
       "1              0                              NaN  2019      1  \n",
       "2          18661                              NaN  2019      1  \n",
       "3           5721                              NaN  2019      1  \n",
       "4              0          2019-06-01T00:00:00.000  2019      1  \n",
       "\n",
       "[5 rows x 26 columns]"
      ]
     },
     "execution_count": 3,
     "metadata": {},
     "output_type": "execute_result"
    }
   ],
   "source": [
    "#efficient way to extract year from string format date\n",
    "df_all['year'] = pd.DatetimeIndex(df_all['obligation_end_date_yyyymmdd']).year\n",
    "df_all['month'] = pd.DatetimeIndex(df_all['obligation_end_date_yyyymmdd']).month\n",
    "df_all.head()"
   ]
  },
  {
   "cell_type": "code",
   "execution_count": 4,
   "id": "aff6f6ef",
   "metadata": {},
   "outputs": [
    {
     "name": "stdout",
     "output_type": "stream",
     "text": [
      "<class 'pandas.core.frame.DataFrame'>\n",
      "RangeIndex: 120000 entries, 0 to 119999\n",
      "Data columns (total 26 columns):\n",
      " #   Column                               Non-Null Count   Dtype  \n",
      "---  ------                               --------------   -----  \n",
      " 0   taxpayer_number                      120000 non-null  int64  \n",
      " 1   taxpayer_name                        120000 non-null  object \n",
      " 2   taxpayer_address                     120000 non-null  object \n",
      " 3   taxpayer_city                        120000 non-null  object \n",
      " 4   taxpayer_state                       119912 non-null  object \n",
      " 5   taxpayer_zip                         119912 non-null  float64\n",
      " 6   taxpayer_county                      120000 non-null  int64  \n",
      " 7   location_number                      120000 non-null  int64  \n",
      " 8   location_name                        120000 non-null  object \n",
      " 9   location_address                     120000 non-null  object \n",
      " 10  location_city                        120000 non-null  object \n",
      " 11  location_state                       120000 non-null  object \n",
      " 12  location_zip                         120000 non-null  int64  \n",
      " 13  location_county                      120000 non-null  int64  \n",
      " 14  inside_outside_city_limits_code_y_n  120000 non-null  object \n",
      " 15  tabc_permit_number                   120000 non-null  object \n",
      " 16  responsibility_begin_date_yyyymmdd   120000 non-null  object \n",
      " 17  obligation_end_date_yyyymmdd         120000 non-null  object \n",
      " 18  liquor_receipts                      120000 non-null  int64  \n",
      " 19  wine_receipts                        120000 non-null  int64  \n",
      " 20  beer_receipts                        120000 non-null  int64  \n",
      " 21  cover_charge_receipts                120000 non-null  int64  \n",
      " 22  total_receipts                       120000 non-null  int64  \n",
      " 23  responsibility_end_date_yyyymmdd     5016 non-null    object \n",
      " 24  year                                 120000 non-null  int64  \n",
      " 25  month                                120000 non-null  int64  \n",
      "dtypes: float64(1), int64(12), object(13)\n",
      "memory usage: 23.8+ MB\n"
     ]
    }
   ],
   "source": [
    "df_all.info()"
   ]
  },
  {
   "cell_type": "code",
   "execution_count": 5,
   "id": "23446599",
   "metadata": {},
   "outputs": [
    {
     "data": {
      "text/plain": [
       "3             HOUSTON\n",
       "4             HOUSTON\n",
       "5              DALLAS\n",
       "10             AUSTIN\n",
       "12            HOUSTON\n",
       "             ...     \n",
       "119989        HOUSTON\n",
       "119990    SAN ANTONIO\n",
       "119994        HOUSTON\n",
       "119996    SAN ANTONIO\n",
       "119998        HOUSTON\n",
       "Name: location_city, Length: 44006, dtype: object"
      ]
     },
     "execution_count": 5,
     "metadata": {},
     "output_type": "execute_result"
    }
   ],
   "source": [
    "city_mask = (df_all.location_city == \"HOUSTON\")|(df_all.location_city == \"DALLAS\")|(df_all.location_city == \"FORT WORTH\")|(df_all.location_city == \"SAN ANTONIO\")|(df_all.location_city == \"AUSTIN\")\n",
    "dfcities = df_all[city_mask]\n",
    "dfcities.location_city"
   ]
  },
  {
   "cell_type": "code",
   "execution_count": 6,
   "id": "ef4bdc4e",
   "metadata": {},
   "outputs": [
    {
     "data": {
      "text/html": [
       "<div>\n",
       "<style scoped>\n",
       "    .dataframe tbody tr th:only-of-type {\n",
       "        vertical-align: middle;\n",
       "    }\n",
       "\n",
       "    .dataframe tbody tr th {\n",
       "        vertical-align: top;\n",
       "    }\n",
       "\n",
       "    .dataframe thead th {\n",
       "        text-align: right;\n",
       "    }\n",
       "</style>\n",
       "<table border=\"1\" class=\"dataframe\">\n",
       "  <thead>\n",
       "    <tr style=\"text-align: right;\">\n",
       "      <th></th>\n",
       "      <th>taxpayer_number</th>\n",
       "      <th>taxpayer_name</th>\n",
       "      <th>taxpayer_address</th>\n",
       "      <th>taxpayer_city</th>\n",
       "      <th>taxpayer_state</th>\n",
       "      <th>taxpayer_zip</th>\n",
       "      <th>taxpayer_county</th>\n",
       "      <th>location_number</th>\n",
       "      <th>location_name</th>\n",
       "      <th>location_address</th>\n",
       "      <th>...</th>\n",
       "      <th>responsibility_begin_date_yyyymmdd</th>\n",
       "      <th>obligation_end_date_yyyymmdd</th>\n",
       "      <th>liquor_receipts</th>\n",
       "      <th>wine_receipts</th>\n",
       "      <th>beer_receipts</th>\n",
       "      <th>cover_charge_receipts</th>\n",
       "      <th>total_receipts</th>\n",
       "      <th>responsibility_end_date_yyyymmdd</th>\n",
       "      <th>year</th>\n",
       "      <th>month</th>\n",
       "    </tr>\n",
       "  </thead>\n",
       "  <tbody>\n",
       "    <tr>\n",
       "      <th>3</th>\n",
       "      <td>32054228120</td>\n",
       "      <td>S &amp; KW CORPORATION</td>\n",
       "      <td>6617 CHIMNEY ROCK RD</td>\n",
       "      <td>HOUSTON</td>\n",
       "      <td>TX</td>\n",
       "      <td>77081.0</td>\n",
       "      <td>101</td>\n",
       "      <td>1</td>\n",
       "      <td>NAZARETH CAFE</td>\n",
       "      <td>6617 CHIMNEY ROCK RD</td>\n",
       "      <td>...</td>\n",
       "      <td>2014-08-01T00:00:00.000</td>\n",
       "      <td>2019-01-31T00:00:00.000</td>\n",
       "      <td>3212</td>\n",
       "      <td>0</td>\n",
       "      <td>2509</td>\n",
       "      <td>0</td>\n",
       "      <td>5721</td>\n",
       "      <td>NaN</td>\n",
       "      <td>2019</td>\n",
       "      <td>1</td>\n",
       "    </tr>\n",
       "    <tr>\n",
       "      <th>4</th>\n",
       "      <td>32000861685</td>\n",
       "      <td>FOUNTAIN FOODS, INC.</td>\n",
       "      <td>25600 WESTHEIMER PKWY STE 110</td>\n",
       "      <td>KATY</td>\n",
       "      <td>TX</td>\n",
       "      <td>77494.0</td>\n",
       "      <td>79</td>\n",
       "      <td>2</td>\n",
       "      <td>HARVEST ORGANIC GRILLE</td>\n",
       "      <td>1810 FOUNTAIN VIEW DR</td>\n",
       "      <td>...</td>\n",
       "      <td>2012-08-21T00:00:00.000</td>\n",
       "      <td>2019-01-31T00:00:00.000</td>\n",
       "      <td>0</td>\n",
       "      <td>0</td>\n",
       "      <td>0</td>\n",
       "      <td>0</td>\n",
       "      <td>0</td>\n",
       "      <td>2019-06-01T00:00:00.000</td>\n",
       "      <td>2019</td>\n",
       "      <td>1</td>\n",
       "    </tr>\n",
       "    <tr>\n",
       "      <th>5</th>\n",
       "      <td>17526234541</td>\n",
       "      <td>THE KING LOUNGE, INC.</td>\n",
       "      <td>3684 ASBURY ST</td>\n",
       "      <td>DALLAS</td>\n",
       "      <td>TX</td>\n",
       "      <td>75205.0</td>\n",
       "      <td>57</td>\n",
       "      <td>1</td>\n",
       "      <td>THE KING LOUNGE INC</td>\n",
       "      <td>1602 MARKET CENTER BLVD</td>\n",
       "      <td>...</td>\n",
       "      <td>1996-02-15T00:00:00.000</td>\n",
       "      <td>2019-01-31T00:00:00.000</td>\n",
       "      <td>0</td>\n",
       "      <td>0</td>\n",
       "      <td>0</td>\n",
       "      <td>0</td>\n",
       "      <td>0</td>\n",
       "      <td>2019-01-16T00:00:00.000</td>\n",
       "      <td>2019</td>\n",
       "      <td>1</td>\n",
       "    </tr>\n",
       "    <tr>\n",
       "      <th>10</th>\n",
       "      <td>32061761998</td>\n",
       "      <td>WICKED WINGS LLC</td>\n",
       "      <td>615 W SLAUGHTER LN STE 108</td>\n",
       "      <td>AUSTIN</td>\n",
       "      <td>TX</td>\n",
       "      <td>78748.0</td>\n",
       "      <td>227</td>\n",
       "      <td>2</td>\n",
       "      <td>BUCKET'S BACKYARD BAR AND GRILL</td>\n",
       "      <td>9900 S INTERSTATE 35 BLDG M STE 200</td>\n",
       "      <td>...</td>\n",
       "      <td>2017-03-17T00:00:00.000</td>\n",
       "      <td>2019-01-31T00:00:00.000</td>\n",
       "      <td>8777</td>\n",
       "      <td>215</td>\n",
       "      <td>15076</td>\n",
       "      <td>0</td>\n",
       "      <td>24068</td>\n",
       "      <td>2019-09-09T00:00:00.000</td>\n",
       "      <td>2019</td>\n",
       "      <td>1</td>\n",
       "    </tr>\n",
       "    <tr>\n",
       "      <th>12</th>\n",
       "      <td>32059688088</td>\n",
       "      <td>RICHMOND MIA BELLA, LLC</td>\n",
       "      <td>19 MAYMONT WAY</td>\n",
       "      <td>SPRING</td>\n",
       "      <td>TX</td>\n",
       "      <td>77382.0</td>\n",
       "      <td>170</td>\n",
       "      <td>1</td>\n",
       "      <td>MIA BELLA TRATTORIA</td>\n",
       "      <td>3773 RICHMOND AVE STE 1A</td>\n",
       "      <td>...</td>\n",
       "      <td>2017-05-09T00:00:00.000</td>\n",
       "      <td>2019-01-31T00:00:00.000</td>\n",
       "      <td>12965</td>\n",
       "      <td>25073</td>\n",
       "      <td>2298</td>\n",
       "      <td>0</td>\n",
       "      <td>40336</td>\n",
       "      <td>2019-06-13T00:00:00.000</td>\n",
       "      <td>2019</td>\n",
       "      <td>1</td>\n",
       "    </tr>\n",
       "  </tbody>\n",
       "</table>\n",
       "<p>5 rows × 26 columns</p>\n",
       "</div>"
      ],
      "text/plain": [
       "    taxpayer_number            taxpayer_name               taxpayer_address  \\\n",
       "3       32054228120       S & KW CORPORATION           6617 CHIMNEY ROCK RD   \n",
       "4       32000861685     FOUNTAIN FOODS, INC.  25600 WESTHEIMER PKWY STE 110   \n",
       "5       17526234541    THE KING LOUNGE, INC.                 3684 ASBURY ST   \n",
       "10      32061761998         WICKED WINGS LLC     615 W SLAUGHTER LN STE 108   \n",
       "12      32059688088  RICHMOND MIA BELLA, LLC                 19 MAYMONT WAY   \n",
       "\n",
       "   taxpayer_city taxpayer_state  taxpayer_zip  taxpayer_county  \\\n",
       "3        HOUSTON             TX       77081.0              101   \n",
       "4           KATY             TX       77494.0               79   \n",
       "5         DALLAS             TX       75205.0               57   \n",
       "10        AUSTIN             TX       78748.0              227   \n",
       "12        SPRING             TX       77382.0              170   \n",
       "\n",
       "    location_number                    location_name  \\\n",
       "3                 1                    NAZARETH CAFE   \n",
       "4                 2           HARVEST ORGANIC GRILLE   \n",
       "5                 1              THE KING LOUNGE INC   \n",
       "10                2  BUCKET'S BACKYARD BAR AND GRILL   \n",
       "12                1              MIA BELLA TRATTORIA   \n",
       "\n",
       "                       location_address  ...  \\\n",
       "3                  6617 CHIMNEY ROCK RD  ...   \n",
       "4                 1810 FOUNTAIN VIEW DR  ...   \n",
       "5               1602 MARKET CENTER BLVD  ...   \n",
       "10  9900 S INTERSTATE 35 BLDG M STE 200  ...   \n",
       "12             3773 RICHMOND AVE STE 1A  ...   \n",
       "\n",
       "   responsibility_begin_date_yyyymmdd obligation_end_date_yyyymmdd  \\\n",
       "3             2014-08-01T00:00:00.000      2019-01-31T00:00:00.000   \n",
       "4             2012-08-21T00:00:00.000      2019-01-31T00:00:00.000   \n",
       "5             1996-02-15T00:00:00.000      2019-01-31T00:00:00.000   \n",
       "10            2017-03-17T00:00:00.000      2019-01-31T00:00:00.000   \n",
       "12            2017-05-09T00:00:00.000      2019-01-31T00:00:00.000   \n",
       "\n",
       "    liquor_receipts  wine_receipts beer_receipts cover_charge_receipts  \\\n",
       "3              3212              0          2509                     0   \n",
       "4                 0              0             0                     0   \n",
       "5                 0              0             0                     0   \n",
       "10             8777            215         15076                     0   \n",
       "12            12965          25073          2298                     0   \n",
       "\n",
       "   total_receipts responsibility_end_date_yyyymmdd  year  month  \n",
       "3            5721                              NaN  2019      1  \n",
       "4               0          2019-06-01T00:00:00.000  2019      1  \n",
       "5               0          2019-01-16T00:00:00.000  2019      1  \n",
       "10          24068          2019-09-09T00:00:00.000  2019      1  \n",
       "12          40336          2019-06-13T00:00:00.000  2019      1  \n",
       "\n",
       "[5 rows x 26 columns]"
      ]
     },
     "execution_count": 6,
     "metadata": {},
     "output_type": "execute_result"
    }
   ],
   "source": [
    "dfcities.head()"
   ]
  },
  {
   "cell_type": "code",
   "execution_count": 7,
   "id": "9ec190a2",
   "metadata": {},
   "outputs": [
    {
     "name": "stdout",
     "output_type": "stream",
     "text": [
      "1065838721\n"
     ]
    }
   ],
   "source": [
    "column_name = \"liquor_receipts\"\n",
    "column_sum = dfcities[column_name].sum()\n",
    "print(column_sum)"
   ]
  },
  {
   "cell_type": "code",
   "execution_count": 8,
   "id": "1b5d3f9f",
   "metadata": {},
   "outputs": [
    {
     "name": "stdout",
     "output_type": "stream",
     "text": [
      "344531277\n"
     ]
    }
   ],
   "source": [
    "column_name = \"wine_receipts\"\n",
    "column_sum = dfcities[column_name].sum()\n",
    "print(column_sum)"
   ]
  },
  {
   "cell_type": "code",
   "execution_count": 9,
   "id": "97f2c6b8",
   "metadata": {},
   "outputs": [
    {
     "name": "stdout",
     "output_type": "stream",
     "text": [
      "485122162\n"
     ]
    }
   ],
   "source": [
    "column_name = \"beer_receipts\"\n",
    "column_sum = dfcities[column_name].sum()\n",
    "print(column_sum)"
   ]
  },
  {
   "cell_type": "code",
   "execution_count": 10,
   "id": "7bdf347e",
   "metadata": {},
   "outputs": [
    {
     "data": {
      "text/plain": [
       "1895492160"
      ]
     },
     "execution_count": 10,
     "metadata": {},
     "output_type": "execute_result"
    }
   ],
   "source": [
    "all = [1065838721, 344531277, 485122162]\n",
    "sum(all)\n",
    "# 1895492160"
   ]
  },
  {
   "cell_type": "code",
   "execution_count": 11,
   "id": "f40fa2a4",
   "metadata": {
    "scrolled": true
   },
   "outputs": [
    {
     "data": {
      "text/html": [
       "<div>\n",
       "<style scoped>\n",
       "    .dataframe tbody tr th:only-of-type {\n",
       "        vertical-align: middle;\n",
       "    }\n",
       "\n",
       "    .dataframe tbody tr th {\n",
       "        vertical-align: top;\n",
       "    }\n",
       "\n",
       "    .dataframe thead th {\n",
       "        text-align: right;\n",
       "    }\n",
       "</style>\n",
       "<table border=\"1\" class=\"dataframe\">\n",
       "  <thead>\n",
       "    <tr style=\"text-align: right;\">\n",
       "      <th></th>\n",
       "      <th>taxpayer_number</th>\n",
       "      <th>taxpayer_name</th>\n",
       "      <th>taxpayer_address</th>\n",
       "      <th>taxpayer_city</th>\n",
       "      <th>taxpayer_state</th>\n",
       "      <th>taxpayer_zip</th>\n",
       "      <th>taxpayer_county</th>\n",
       "      <th>location_number</th>\n",
       "      <th>location_name</th>\n",
       "      <th>location_address</th>\n",
       "      <th>...</th>\n",
       "      <th>responsibility_begin_date_yyyymmdd</th>\n",
       "      <th>obligation_end_date_yyyymmdd</th>\n",
       "      <th>liquor_receipts</th>\n",
       "      <th>wine_receipts</th>\n",
       "      <th>beer_receipts</th>\n",
       "      <th>cover_charge_receipts</th>\n",
       "      <th>total_receipts</th>\n",
       "      <th>responsibility_end_date_yyyymmdd</th>\n",
       "      <th>year</th>\n",
       "      <th>month</th>\n",
       "    </tr>\n",
       "  </thead>\n",
       "  <tbody>\n",
       "    <tr>\n",
       "      <th>0</th>\n",
       "      <td>32054228120</td>\n",
       "      <td>S &amp; KW CORPORATION</td>\n",
       "      <td>6617 CHIMNEY ROCK RD</td>\n",
       "      <td>HOUSTON</td>\n",
       "      <td>TX</td>\n",
       "      <td>77081.0</td>\n",
       "      <td>101</td>\n",
       "      <td>1</td>\n",
       "      <td>NAZARETH CAFE</td>\n",
       "      <td>6617 CHIMNEY ROCK RD</td>\n",
       "      <td>...</td>\n",
       "      <td>2014-08-01T00:00:00.000</td>\n",
       "      <td>2019-01-31T00:00:00.000</td>\n",
       "      <td>3212</td>\n",
       "      <td>0</td>\n",
       "      <td>2509</td>\n",
       "      <td>0</td>\n",
       "      <td>5721</td>\n",
       "      <td>NaN</td>\n",
       "      <td>2019</td>\n",
       "      <td>1</td>\n",
       "    </tr>\n",
       "    <tr>\n",
       "      <th>1</th>\n",
       "      <td>32000861685</td>\n",
       "      <td>FOUNTAIN FOODS, INC.</td>\n",
       "      <td>25600 WESTHEIMER PKWY STE 110</td>\n",
       "      <td>KATY</td>\n",
       "      <td>TX</td>\n",
       "      <td>77494.0</td>\n",
       "      <td>79</td>\n",
       "      <td>2</td>\n",
       "      <td>HARVEST ORGANIC GRILLE</td>\n",
       "      <td>1810 FOUNTAIN VIEW DR</td>\n",
       "      <td>...</td>\n",
       "      <td>2012-08-21T00:00:00.000</td>\n",
       "      <td>2019-01-31T00:00:00.000</td>\n",
       "      <td>0</td>\n",
       "      <td>0</td>\n",
       "      <td>0</td>\n",
       "      <td>0</td>\n",
       "      <td>0</td>\n",
       "      <td>2019-06-01T00:00:00.000</td>\n",
       "      <td>2019</td>\n",
       "      <td>1</td>\n",
       "    </tr>\n",
       "    <tr>\n",
       "      <th>2</th>\n",
       "      <td>17526234541</td>\n",
       "      <td>THE KING LOUNGE, INC.</td>\n",
       "      <td>3684 ASBURY ST</td>\n",
       "      <td>DALLAS</td>\n",
       "      <td>TX</td>\n",
       "      <td>75205.0</td>\n",
       "      <td>57</td>\n",
       "      <td>1</td>\n",
       "      <td>THE KING LOUNGE INC</td>\n",
       "      <td>1602 MARKET CENTER BLVD</td>\n",
       "      <td>...</td>\n",
       "      <td>1996-02-15T00:00:00.000</td>\n",
       "      <td>2019-01-31T00:00:00.000</td>\n",
       "      <td>0</td>\n",
       "      <td>0</td>\n",
       "      <td>0</td>\n",
       "      <td>0</td>\n",
       "      <td>0</td>\n",
       "      <td>2019-01-16T00:00:00.000</td>\n",
       "      <td>2019</td>\n",
       "      <td>1</td>\n",
       "    </tr>\n",
       "    <tr>\n",
       "      <th>3</th>\n",
       "      <td>32061761998</td>\n",
       "      <td>WICKED WINGS LLC</td>\n",
       "      <td>615 W SLAUGHTER LN STE 108</td>\n",
       "      <td>AUSTIN</td>\n",
       "      <td>TX</td>\n",
       "      <td>78748.0</td>\n",
       "      <td>227</td>\n",
       "      <td>2</td>\n",
       "      <td>BUCKET'S BACKYARD BAR AND GRILL</td>\n",
       "      <td>9900 S INTERSTATE 35 BLDG M STE 200</td>\n",
       "      <td>...</td>\n",
       "      <td>2017-03-17T00:00:00.000</td>\n",
       "      <td>2019-01-31T00:00:00.000</td>\n",
       "      <td>8777</td>\n",
       "      <td>215</td>\n",
       "      <td>15076</td>\n",
       "      <td>0</td>\n",
       "      <td>24068</td>\n",
       "      <td>2019-09-09T00:00:00.000</td>\n",
       "      <td>2019</td>\n",
       "      <td>1</td>\n",
       "    </tr>\n",
       "    <tr>\n",
       "      <th>4</th>\n",
       "      <td>32059688088</td>\n",
       "      <td>RICHMOND MIA BELLA, LLC</td>\n",
       "      <td>19 MAYMONT WAY</td>\n",
       "      <td>SPRING</td>\n",
       "      <td>TX</td>\n",
       "      <td>77382.0</td>\n",
       "      <td>170</td>\n",
       "      <td>1</td>\n",
       "      <td>MIA BELLA TRATTORIA</td>\n",
       "      <td>3773 RICHMOND AVE STE 1A</td>\n",
       "      <td>...</td>\n",
       "      <td>2017-05-09T00:00:00.000</td>\n",
       "      <td>2019-01-31T00:00:00.000</td>\n",
       "      <td>12965</td>\n",
       "      <td>25073</td>\n",
       "      <td>2298</td>\n",
       "      <td>0</td>\n",
       "      <td>40336</td>\n",
       "      <td>2019-06-13T00:00:00.000</td>\n",
       "      <td>2019</td>\n",
       "      <td>1</td>\n",
       "    </tr>\n",
       "  </tbody>\n",
       "</table>\n",
       "<p>5 rows × 26 columns</p>\n",
       "</div>"
      ],
      "text/plain": [
       "   taxpayer_number            taxpayer_name               taxpayer_address  \\\n",
       "0      32054228120       S & KW CORPORATION           6617 CHIMNEY ROCK RD   \n",
       "1      32000861685     FOUNTAIN FOODS, INC.  25600 WESTHEIMER PKWY STE 110   \n",
       "2      17526234541    THE KING LOUNGE, INC.                 3684 ASBURY ST   \n",
       "3      32061761998         WICKED WINGS LLC     615 W SLAUGHTER LN STE 108   \n",
       "4      32059688088  RICHMOND MIA BELLA, LLC                 19 MAYMONT WAY   \n",
       "\n",
       "  taxpayer_city taxpayer_state  taxpayer_zip  taxpayer_county  \\\n",
       "0       HOUSTON             TX       77081.0              101   \n",
       "1          KATY             TX       77494.0               79   \n",
       "2        DALLAS             TX       75205.0               57   \n",
       "3        AUSTIN             TX       78748.0              227   \n",
       "4        SPRING             TX       77382.0              170   \n",
       "\n",
       "   location_number                    location_name  \\\n",
       "0                1                    NAZARETH CAFE   \n",
       "1                2           HARVEST ORGANIC GRILLE   \n",
       "2                1              THE KING LOUNGE INC   \n",
       "3                2  BUCKET'S BACKYARD BAR AND GRILL   \n",
       "4                1              MIA BELLA TRATTORIA   \n",
       "\n",
       "                      location_address  ...  \\\n",
       "0                 6617 CHIMNEY ROCK RD  ...   \n",
       "1                1810 FOUNTAIN VIEW DR  ...   \n",
       "2              1602 MARKET CENTER BLVD  ...   \n",
       "3  9900 S INTERSTATE 35 BLDG M STE 200  ...   \n",
       "4             3773 RICHMOND AVE STE 1A  ...   \n",
       "\n",
       "  responsibility_begin_date_yyyymmdd obligation_end_date_yyyymmdd  \\\n",
       "0            2014-08-01T00:00:00.000      2019-01-31T00:00:00.000   \n",
       "1            2012-08-21T00:00:00.000      2019-01-31T00:00:00.000   \n",
       "2            1996-02-15T00:00:00.000      2019-01-31T00:00:00.000   \n",
       "3            2017-03-17T00:00:00.000      2019-01-31T00:00:00.000   \n",
       "4            2017-05-09T00:00:00.000      2019-01-31T00:00:00.000   \n",
       "\n",
       "   liquor_receipts  wine_receipts beer_receipts cover_charge_receipts  \\\n",
       "0             3212              0          2509                     0   \n",
       "1                0              0             0                     0   \n",
       "2                0              0             0                     0   \n",
       "3             8777            215         15076                     0   \n",
       "4            12965          25073          2298                     0   \n",
       "\n",
       "  total_receipts responsibility_end_date_yyyymmdd  year  month  \n",
       "0           5721                              NaN  2019      1  \n",
       "1              0          2019-06-01T00:00:00.000  2019      1  \n",
       "2              0          2019-01-16T00:00:00.000  2019      1  \n",
       "3          24068          2019-09-09T00:00:00.000  2019      1  \n",
       "4          40336          2019-06-13T00:00:00.000  2019      1  \n",
       "\n",
       "[5 rows x 26 columns]"
      ]
     },
     "execution_count": 11,
     "metadata": {},
     "output_type": "execute_result"
    }
   ],
   "source": [
    "mask = dfcities.year == 2019\n",
    "first_df = dfcities.loc[mask].reset_index(drop=True)\n",
    "\n",
    "first_df.head()"
   ]
  },
  {
   "cell_type": "code",
   "execution_count": 12,
   "id": "aa9cbf9f",
   "metadata": {},
   "outputs": [
    {
     "name": "stdout",
     "output_type": "stream",
     "text": [
      "691592576\n"
     ]
    }
   ],
   "source": [
    "column_name = \"liquor_receipts\"\n",
    "column_sum = first_df[column_name].sum()\n",
    "print(column_sum)"
   ]
  },
  {
   "cell_type": "code",
   "execution_count": 13,
   "id": "c3c63274",
   "metadata": {},
   "outputs": [
    {
     "name": "stdout",
     "output_type": "stream",
     "text": [
      "231605900\n"
     ]
    }
   ],
   "source": [
    "column_name = \"wine_receipts\"\n",
    "column_sum = first_df[column_name].sum()\n",
    "print(column_sum)"
   ]
  },
  {
   "cell_type": "code",
   "execution_count": 14,
   "id": "d6052f8a",
   "metadata": {},
   "outputs": [
    {
     "name": "stdout",
     "output_type": "stream",
     "text": [
      "333090036\n"
     ]
    }
   ],
   "source": [
    "column_name = \"beer_receipts\"\n",
    "column_sum = first_df[column_name].sum()\n",
    "print(column_sum)"
   ]
  },
  {
   "cell_type": "code",
   "execution_count": 15,
   "id": "1dbca341",
   "metadata": {},
   "outputs": [
    {
     "data": {
      "text/plain": [
       "1256288512"
      ]
     },
     "execution_count": 15,
     "metadata": {},
     "output_type": "execute_result"
    }
   ],
   "source": [
    "first2019 = [691592576, 231605900, 333090036]\n",
    "sum(first2019)\n",
    "# 1256288512"
   ]
  },
  {
   "cell_type": "code",
   "execution_count": 16,
   "id": "7a957575",
   "metadata": {},
   "outputs": [
    {
     "data": {
      "text/html": [
       "<div>\n",
       "<style scoped>\n",
       "    .dataframe tbody tr th:only-of-type {\n",
       "        vertical-align: middle;\n",
       "    }\n",
       "\n",
       "    .dataframe tbody tr th {\n",
       "        vertical-align: top;\n",
       "    }\n",
       "\n",
       "    .dataframe thead th {\n",
       "        text-align: right;\n",
       "    }\n",
       "</style>\n",
       "<table border=\"1\" class=\"dataframe\">\n",
       "  <thead>\n",
       "    <tr style=\"text-align: right;\">\n",
       "      <th></th>\n",
       "      <th>taxpayer_number</th>\n",
       "      <th>taxpayer_name</th>\n",
       "      <th>taxpayer_address</th>\n",
       "      <th>taxpayer_city</th>\n",
       "      <th>taxpayer_state</th>\n",
       "      <th>taxpayer_zip</th>\n",
       "      <th>taxpayer_county</th>\n",
       "      <th>location_number</th>\n",
       "      <th>location_name</th>\n",
       "      <th>location_address</th>\n",
       "      <th>...</th>\n",
       "      <th>responsibility_begin_date_yyyymmdd</th>\n",
       "      <th>obligation_end_date_yyyymmdd</th>\n",
       "      <th>liquor_receipts</th>\n",
       "      <th>wine_receipts</th>\n",
       "      <th>beer_receipts</th>\n",
       "      <th>cover_charge_receipts</th>\n",
       "      <th>total_receipts</th>\n",
       "      <th>responsibility_end_date_yyyymmdd</th>\n",
       "      <th>year</th>\n",
       "      <th>month</th>\n",
       "    </tr>\n",
       "  </thead>\n",
       "  <tbody>\n",
       "    <tr>\n",
       "      <th>0</th>\n",
       "      <td>32011300103</td>\n",
       "      <td>ABC RESOURCES, LLC</td>\n",
       "      <td>PO BOX 50550</td>\n",
       "      <td>AUSTIN</td>\n",
       "      <td>TX</td>\n",
       "      <td>78763.0</td>\n",
       "      <td>227</td>\n",
       "      <td>1</td>\n",
       "      <td>ABEL'S ON THE LAKE</td>\n",
       "      <td>3825 LAKE AUSTIN BLVD STE 201</td>\n",
       "      <td>...</td>\n",
       "      <td>2009-05-21T00:00:00.000</td>\n",
       "      <td>2020-01-31T00:00:00.000</td>\n",
       "      <td>24739</td>\n",
       "      <td>5859</td>\n",
       "      <td>11919</td>\n",
       "      <td>0</td>\n",
       "      <td>42517</td>\n",
       "      <td>NaN</td>\n",
       "      <td>2020</td>\n",
       "      <td>1</td>\n",
       "    </tr>\n",
       "    <tr>\n",
       "      <th>1</th>\n",
       "      <td>32063084811</td>\n",
       "      <td>WLC GROUP LLC</td>\n",
       "      <td>3206 PATRICIA LN</td>\n",
       "      <td>PEARLAND</td>\n",
       "      <td>TX</td>\n",
       "      <td>77581.0</td>\n",
       "      <td>20</td>\n",
       "      <td>1</td>\n",
       "      <td>HIGH &amp; DRY</td>\n",
       "      <td>306 MAIN ST STE 200</td>\n",
       "      <td>...</td>\n",
       "      <td>2017-07-27T00:00:00.000</td>\n",
       "      <td>2020-01-31T00:00:00.000</td>\n",
       "      <td>58065</td>\n",
       "      <td>1737</td>\n",
       "      <td>6890</td>\n",
       "      <td>0</td>\n",
       "      <td>66692</td>\n",
       "      <td>NaN</td>\n",
       "      <td>2020</td>\n",
       "      <td>1</td>\n",
       "    </tr>\n",
       "    <tr>\n",
       "      <th>2</th>\n",
       "      <td>32057413588</td>\n",
       "      <td>WILLIE'S GRILL &amp; ICEHOUSE LLC</td>\n",
       "      <td>10627 TOWER OAKS BLVD</td>\n",
       "      <td>HOUSTON</td>\n",
       "      <td>TX</td>\n",
       "      <td>77070.0</td>\n",
       "      <td>101</td>\n",
       "      <td>19</td>\n",
       "      <td>WILLIE'S GRILL &amp; ICEHOUSE</td>\n",
       "      <td>7911 INTERSTATE 35 S</td>\n",
       "      <td>...</td>\n",
       "      <td>2017-05-03T00:00:00.000</td>\n",
       "      <td>2020-01-31T00:00:00.000</td>\n",
       "      <td>12734</td>\n",
       "      <td>120</td>\n",
       "      <td>15489</td>\n",
       "      <td>0</td>\n",
       "      <td>28343</td>\n",
       "      <td>NaN</td>\n",
       "      <td>2020</td>\n",
       "      <td>1</td>\n",
       "    </tr>\n",
       "    <tr>\n",
       "      <th>3</th>\n",
       "      <td>17523234122</td>\n",
       "      <td>NEMA BEVERAGE CORPORATION</td>\n",
       "      <td>1201 ELM ST STE 2700 ATTN:TAX DEPT</td>\n",
       "      <td>DALLAS</td>\n",
       "      <td>TX</td>\n",
       "      <td>75270.0</td>\n",
       "      <td>57</td>\n",
       "      <td>13</td>\n",
       "      <td>NM CAFE</td>\n",
       "      <td>5200 MONAHANS AVE</td>\n",
       "      <td>...</td>\n",
       "      <td>2017-03-01T00:00:00.000</td>\n",
       "      <td>2020-01-31T00:00:00.000</td>\n",
       "      <td>1405</td>\n",
       "      <td>4411</td>\n",
       "      <td>76</td>\n",
       "      <td>0</td>\n",
       "      <td>5892</td>\n",
       "      <td>NaN</td>\n",
       "      <td>2020</td>\n",
       "      <td>1</td>\n",
       "    </tr>\n",
       "    <tr>\n",
       "      <th>4</th>\n",
       "      <td>12612491956</td>\n",
       "      <td>D &amp; R BAR, INC.</td>\n",
       "      <td>21735 RUGGED HLS</td>\n",
       "      <td>SAN ANTONIO</td>\n",
       "      <td>TX</td>\n",
       "      <td>78258.0</td>\n",
       "      <td>15</td>\n",
       "      <td>1</td>\n",
       "      <td>THREE LEGGED MONKEY</td>\n",
       "      <td>2313 NW MILITARY HWY</td>\n",
       "      <td>...</td>\n",
       "      <td>2008-01-15T00:00:00.000</td>\n",
       "      <td>2020-01-31T00:00:00.000</td>\n",
       "      <td>27723</td>\n",
       "      <td>41</td>\n",
       "      <td>12589</td>\n",
       "      <td>0</td>\n",
       "      <td>40353</td>\n",
       "      <td>NaN</td>\n",
       "      <td>2020</td>\n",
       "      <td>1</td>\n",
       "    </tr>\n",
       "  </tbody>\n",
       "</table>\n",
       "<p>5 rows × 26 columns</p>\n",
       "</div>"
      ],
      "text/plain": [
       "   taxpayer_number                  taxpayer_name  \\\n",
       "0      32011300103             ABC RESOURCES, LLC   \n",
       "1      32063084811                  WLC GROUP LLC   \n",
       "2      32057413588  WILLIE'S GRILL & ICEHOUSE LLC   \n",
       "3      17523234122      NEMA BEVERAGE CORPORATION   \n",
       "4      12612491956                D & R BAR, INC.   \n",
       "\n",
       "                     taxpayer_address taxpayer_city taxpayer_state  \\\n",
       "0                        PO BOX 50550        AUSTIN             TX   \n",
       "1                    3206 PATRICIA LN      PEARLAND             TX   \n",
       "2               10627 TOWER OAKS BLVD       HOUSTON             TX   \n",
       "3  1201 ELM ST STE 2700 ATTN:TAX DEPT        DALLAS             TX   \n",
       "4                    21735 RUGGED HLS   SAN ANTONIO             TX   \n",
       "\n",
       "   taxpayer_zip  taxpayer_county  location_number              location_name  \\\n",
       "0       78763.0              227                1         ABEL'S ON THE LAKE   \n",
       "1       77581.0               20                1                 HIGH & DRY   \n",
       "2       77070.0              101               19  WILLIE'S GRILL & ICEHOUSE   \n",
       "3       75270.0               57               13                    NM CAFE   \n",
       "4       78258.0               15                1        THREE LEGGED MONKEY   \n",
       "\n",
       "                location_address  ... responsibility_begin_date_yyyymmdd  \\\n",
       "0  3825 LAKE AUSTIN BLVD STE 201  ...            2009-05-21T00:00:00.000   \n",
       "1            306 MAIN ST STE 200  ...            2017-07-27T00:00:00.000   \n",
       "2           7911 INTERSTATE 35 S  ...            2017-05-03T00:00:00.000   \n",
       "3              5200 MONAHANS AVE  ...            2017-03-01T00:00:00.000   \n",
       "4           2313 NW MILITARY HWY  ...            2008-01-15T00:00:00.000   \n",
       "\n",
       "  obligation_end_date_yyyymmdd  liquor_receipts  wine_receipts beer_receipts  \\\n",
       "0      2020-01-31T00:00:00.000            24739           5859         11919   \n",
       "1      2020-01-31T00:00:00.000            58065           1737          6890   \n",
       "2      2020-01-31T00:00:00.000            12734            120         15489   \n",
       "3      2020-01-31T00:00:00.000             1405           4411            76   \n",
       "4      2020-01-31T00:00:00.000            27723             41         12589   \n",
       "\n",
       "  cover_charge_receipts total_receipts responsibility_end_date_yyyymmdd  year  \\\n",
       "0                     0          42517                              NaN  2020   \n",
       "1                     0          66692                              NaN  2020   \n",
       "2                     0          28343                              NaN  2020   \n",
       "3                     0           5892                              NaN  2020   \n",
       "4                     0          40353                              NaN  2020   \n",
       "\n",
       "   month  \n",
       "0      1  \n",
       "1      1  \n",
       "2      1  \n",
       "3      1  \n",
       "4      1  \n",
       "\n",
       "[5 rows x 26 columns]"
      ]
     },
     "execution_count": 16,
     "metadata": {},
     "output_type": "execute_result"
    }
   ],
   "source": [
    "mask = dfcities.year == 2020\n",
    "second_df = dfcities.loc[mask].reset_index(drop=True)\n",
    "\n",
    "second_df.head()"
   ]
  },
  {
   "cell_type": "code",
   "execution_count": 17,
   "id": "df798d2b",
   "metadata": {},
   "outputs": [
    {
     "name": "stdout",
     "output_type": "stream",
     "text": [
      "374246145\n"
     ]
    }
   ],
   "source": [
    "column_name = \"liquor_receipts\"\n",
    "column_sum = second_df[column_name].sum()\n",
    "print(column_sum)"
   ]
  },
  {
   "cell_type": "code",
   "execution_count": 18,
   "id": "9ca18f0a",
   "metadata": {},
   "outputs": [
    {
     "name": "stdout",
     "output_type": "stream",
     "text": [
      "112925377\n"
     ]
    }
   ],
   "source": [
    "column_name = \"wine_receipts\"\n",
    "column_sum = second_df[column_name].sum()\n",
    "print(column_sum)"
   ]
  },
  {
   "cell_type": "code",
   "execution_count": 19,
   "id": "d0323b63",
   "metadata": {},
   "outputs": [
    {
     "name": "stdout",
     "output_type": "stream",
     "text": [
      "152032126\n"
     ]
    }
   ],
   "source": [
    "column_name = \"beer_receipts\"\n",
    "column_sum = second_df[column_name].sum()\n",
    "print(column_sum)"
   ]
  },
  {
   "cell_type": "code",
   "execution_count": 20,
   "id": "badc0fdd",
   "metadata": {},
   "outputs": [
    {
     "data": {
      "text/plain": [
       "639203648"
      ]
     },
     "execution_count": 20,
     "metadata": {},
     "output_type": "execute_result"
    }
   ],
   "source": [
    "second2020 = [374246145, 112925377, 152032126]\n",
    "sum(second2020)\n",
    "# 639203648"
   ]
  },
  {
   "cell_type": "code",
   "execution_count": 21,
   "id": "8d1e89ba",
   "metadata": {},
   "outputs": [
    {
     "data": {
      "text/plain": [
       "1895492160"
      ]
     },
     "execution_count": 21,
     "metadata": {},
     "output_type": "execute_result"
    }
   ],
   "source": [
    "all = [1256288512, 639203648]\n",
    "sum(all)"
   ]
  },
  {
   "cell_type": "code",
   "execution_count": 44,
   "id": "7e71fa32",
   "metadata": {},
   "outputs": [],
   "source": [
    "Year=['2019', '2020',]\n",
    "amount=[1256288512,639203648]"
   ]
  },
  {
   "cell_type": "code",
   "execution_count": 45,
   "id": "c0bc2f20",
   "metadata": {},
   "outputs": [
    {
     "data": {
      "text/plain": [
       "array([0, 1])"
      ]
     },
     "execution_count": 45,
     "metadata": {},
     "output_type": "execute_result"
    }
   ],
   "source": [
    "xpos = np.arange(len(Year))\n",
    "xpos"
   ]
  },
  {
   "cell_type": "code",
   "execution_count": 47,
   "id": "381e56b8",
   "metadata": {},
   "outputs": [
    {
     "data": {
      "text/plain": [
       "<matplotlib.legend.Legend at 0x248c3208730>"
      ]
     },
     "execution_count": 47,
     "metadata": {},
     "output_type": "execute_result"
    },
    {
     "data": {
      "image/png": "[encoded data removed]",
      "text/plain": [
       "<Figure size 432x288 with 1 Axes>"
      ]
     },
     "metadata": {
      "needs_background": "light"
     },
     "output_type": "display_data"
    }
   ],
   "source": [
    "plt.xticks(xpos,Year)\n",
    "plt.ylabel(\"Total Beverage Count\")\n",
    "plt.title(\"Total Beverage Count 2019 and 2020\")\n",
    "c1 = ['mediumvioletred', 'limegreen']\n",
    "\n",
    "plt.bar(xpos , amount, width=0.4 , color = c1 , label=\"Year\")\n",
    "plt.legend()"
   ]
  },
  {
   "cell_type": "code",
   "execution_count": 33,
   "id": "e1393502",
   "metadata": {},
   "outputs": [],
   "source": [
    "Beverage_Type=['Year_2019', 'Year_2020', 'total_amount']\n",
    "liquor =[691592576,374246145,1065838721]\n",
    "wine =[231605900,112925377,344531277]\n",
    "beer =[333090036,152032126,485122162]"
   ]
  },
  {
   "cell_type": "code",
   "execution_count": 34,
   "id": "190f92e4",
   "metadata": {},
   "outputs": [
    {
     "data": {
      "text/plain": [
       "array([0, 1, 2])"
      ]
     },
     "execution_count": 34,
     "metadata": {},
     "output_type": "execute_result"
    }
   ],
   "source": [
    "xpos = np.arange(len(Beverage_Type))\n",
    "xpos"
   ]
  },
  {
   "cell_type": "code",
   "execution_count": 41,
   "id": "f35847d4",
   "metadata": {},
   "outputs": [
    {
     "data": {
      "text/plain": [
       "<matplotlib.legend.Legend at 0x248c301cfd0>"
      ]
     },
     "execution_count": 41,
     "metadata": {},
     "output_type": "execute_result"
    },
    {
     "data": {
      "image/png": "[encoded data removed]",
      "text/plain": [
       "<Figure size 432x288 with 1 Axes>"
      ]
     },
     "metadata": {
      "needs_background": "light"
     },
     "output_type": "display_data"
    }
   ],
   "source": [
    "plt.xticks(xpos,Beverage_Type)\n",
    "plt.ylabel(\"Beverage count\")\n",
    "plt.title(\"Beverage Type Total Count\")\n",
    "c1 = ['blue', 'blue', 'blue']\n",
    "c2 = ['mediumvioletred', 'mediumvioletred', 'mediumvioletred']\n",
    "c3 = ['gold', 'gold', 'gold']\n",
    "\n",
    "plt.bar(xpos-0.2,liquor, width=0.3 , color = c1 , label=\"total_amount\") \n",
    "plt.bar(xpos+0.1,wine, width=0.3 , color = c2, label=\"Year_2019\")\n",
    "plt.bar(xpos+0.4,beer, width=0.3 , color = c3, label=\"Year_2020\")\n",
    "plt.legend()"
   ]
  },
  {
   "cell_type": "code",
   "execution_count": null,
   "id": "c898db3e",
   "metadata": {},
   "outputs": [],
   "source": []
  },
  {
   "cell_type": "code",
   "execution_count": null,
   "id": "573f75a8",
   "metadata": {},
   "outputs": [],
   "source": []
  }
 ],
 "metadata": {
  "kernelspec": {
   "display_name": "Python 3",
   "language": "python",
   "name": "python3"
  },
  "language_info": {
   "codemirror_mode": {
    "name": "ipython",
    "version": 3
   },
   "file_extension": ".py",
   "mimetype": "text/x-python",
   "name": "python",
   "nbconvert_exporter": "python",
   "pygments_lexer": "ipython3",
   "version": "3.8.8"
  }
 },
 "nbformat": 4,
 "nbformat_minor": 5
}
