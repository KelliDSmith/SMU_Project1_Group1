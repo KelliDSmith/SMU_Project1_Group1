{
 "cells": [
  {
   "cell_type": "code",
   "execution_count": 3,
   "id": "7afa4741",
   "metadata": {},
   "outputs": [],
   "source": [
    "import pandas as pd\n",
    "from sodapy import Socrata"
   ]
  },
  {
   "cell_type": "code",
   "execution_count": 4,
   "id": "74a1b078",
   "metadata": {},
   "outputs": [],
   "source": [
    "# Example authenticated client (needed for non-public datasets):\n",
    "client = Socrata(\"data.texas.gov\",\n",
    "                 \"FludNuKKhLjjwcnnoHzjGLKKb\")\n",
    "#                  username=EMAIL,\n",
    "#                  password=PASSWORD)"
   ]
  },
  {
   "cell_type": "code",
   "execution_count": 5,
   "id": "33878c65",
   "metadata": {},
   "outputs": [],
   "source": [
    "# First 2000 results, returned as JSON from API / converted to Python list of\n",
    "# dictionaries by sodapy.\n",
    "results = client.get(\"naix-2893\", limit=5000)\n",
    "\n",
    "# Convert to pandas DataFrame\n",
    "results_df = pd.DataFrame.from_records(results)\n"
   ]
  },
  {
   "cell_type": "code",
   "execution_count": 6,
   "id": "a443925d",
   "metadata": {},
   "outputs": [],
   "source": [
    "import datetime\n",
    "def last_day_of_month(any_day):\n",
    "    # this will never fail\n",
    "    # get close to the end of the month for any day, and add 4 days 'over'\n",
    "    next_month = any_day.replace(day=28) + datetime.timedelta(days=4)\n",
    "    # subtract the number of remaining 'overage' days to get last day of current month, or said programattically said, the previous day of the first of next month\n",
    "    return next_month - datetime.timedelta(days=next_month.day)"
   ]
  },
  {
   "cell_type": "code",
   "execution_count": 15,
   "id": "4e1759c0",
   "metadata": {},
   "outputs": [],
   "source": [
    "months1 = []\n",
    "for i in range(1,13):\n",
    "    inputdate = datetime.date(2019,i,1)\n",
    "    month = last_day_of_month(inputdate)\n",
    "    months1.append(month)"
   ]
  },
  {
   "cell_type": "code",
   "execution_count": 17,
   "id": "f5fdf3b3",
   "metadata": {},
   "outputs": [],
   "source": [
    "months2 = []\n",
    "for i in range(1,13):\n",
    "    inputdate = datetime.date(2020,i,1)\n",
    "    month = last_day_of_month(inputdate)\n",
    "    months2.append(month)"
   ]
  },
  {
   "cell_type": "code",
   "execution_count": 16,
   "id": "682dcbdc",
   "metadata": {},
   "outputs": [
    {
     "data": {
      "text/plain": [
       "[datetime.date(2019, 1, 31),\n",
       " datetime.date(2019, 2, 28),\n",
       " datetime.date(2019, 3, 31),\n",
       " datetime.date(2019, 4, 30),\n",
       " datetime.date(2019, 5, 31),\n",
       " datetime.date(2019, 6, 30),\n",
       " datetime.date(2019, 7, 31),\n",
       " datetime.date(2019, 8, 31),\n",
       " datetime.date(2019, 9, 30),\n",
       " datetime.date(2019, 10, 31),\n",
       " datetime.date(2019, 11, 30),\n",
       " datetime.date(2019, 12, 31)]"
      ]
     },
     "execution_count": 16,
     "metadata": {},
     "output_type": "execute_result"
    }
   ],
   "source": [
    "months1"
   ]
  },
  {
   "cell_type": "code",
   "execution_count": 18,
   "id": "e28ec87e",
   "metadata": {},
   "outputs": [
    {
     "data": {
      "text/plain": [
       "[datetime.date(2020, 1, 31),\n",
       " datetime.date(2020, 2, 29),\n",
       " datetime.date(2020, 3, 31),\n",
       " datetime.date(2020, 4, 30),\n",
       " datetime.date(2020, 5, 31),\n",
       " datetime.date(2020, 6, 30),\n",
       " datetime.date(2020, 7, 31),\n",
       " datetime.date(2020, 8, 31),\n",
       " datetime.date(2020, 9, 30),\n",
       " datetime.date(2020, 10, 31),\n",
       " datetime.date(2020, 11, 30),\n",
       " datetime.date(2020, 12, 31)]"
      ]
     },
     "execution_count": 18,
     "metadata": {},
     "output_type": "execute_result"
    }
   ],
   "source": [
    "months2"
   ]
  },
  {
   "cell_type": "code",
   "execution_count": 20,
   "id": "65f2d6d1",
   "metadata": {},
   "outputs": [
    {
     "data": {
      "text/plain": [
       "[datetime.date(2019, 1, 31),\n",
       " datetime.date(2019, 2, 28),\n",
       " datetime.date(2019, 3, 31),\n",
       " datetime.date(2019, 4, 30),\n",
       " datetime.date(2019, 5, 31),\n",
       " datetime.date(2019, 6, 30),\n",
       " datetime.date(2019, 7, 31),\n",
       " datetime.date(2019, 8, 31),\n",
       " datetime.date(2019, 9, 30),\n",
       " datetime.date(2019, 10, 31),\n",
       " datetime.date(2019, 11, 30),\n",
       " datetime.date(2019, 12, 31),\n",
       " datetime.date(2020, 1, 31),\n",
       " datetime.date(2020, 2, 29),\n",
       " datetime.date(2020, 3, 31),\n",
       " datetime.date(2020, 4, 30),\n",
       " datetime.date(2020, 5, 31),\n",
       " datetime.date(2020, 6, 30),\n",
       " datetime.date(2020, 7, 31),\n",
       " datetime.date(2020, 8, 31),\n",
       " datetime.date(2020, 9, 30),\n",
       " datetime.date(2020, 10, 31),\n",
       " datetime.date(2020, 11, 30),\n",
       " datetime.date(2020, 12, 31)]"
      ]
     },
     "execution_count": 20,
     "metadata": {},
     "output_type": "execute_result"
    }
   ],
   "source": [
    "all_months = months1 + months2\n",
    "all_months"
   ]
  },
  {
   "cell_type": "code",
   "execution_count": 21,
   "id": "58bafe6d",
   "metadata": {},
   "outputs": [],
   "source": [
    "report_months = []\n",
    "for month in all_months:\n",
    "    report = month.strftime(\"%Y-%m-%d\")+\"T00:00:00.000\"\n",
    "    report_months.append(report)"
   ]
  },
  {
   "cell_type": "code",
   "execution_count": 22,
   "id": "32621141",
   "metadata": {},
   "outputs": [
    {
     "data": {
      "text/plain": [
       "['2019-01-31T00:00:00.000',\n",
       " '2019-02-28T00:00:00.000',\n",
       " '2019-03-31T00:00:00.000',\n",
       " '2019-04-30T00:00:00.000',\n",
       " '2019-05-31T00:00:00.000',\n",
       " '2019-06-30T00:00:00.000',\n",
       " '2019-07-31T00:00:00.000',\n",
       " '2019-08-31T00:00:00.000',\n",
       " '2019-09-30T00:00:00.000',\n",
       " '2019-10-31T00:00:00.000',\n",
       " '2019-11-30T00:00:00.000',\n",
       " '2019-12-31T00:00:00.000',\n",
       " '2020-01-31T00:00:00.000',\n",
       " '2020-02-29T00:00:00.000',\n",
       " '2020-03-31T00:00:00.000',\n",
       " '2020-04-30T00:00:00.000',\n",
       " '2020-05-31T00:00:00.000',\n",
       " '2020-06-30T00:00:00.000',\n",
       " '2020-07-31T00:00:00.000',\n",
       " '2020-08-31T00:00:00.000',\n",
       " '2020-09-30T00:00:00.000',\n",
       " '2020-10-31T00:00:00.000',\n",
       " '2020-11-30T00:00:00.000',\n",
       " '2020-12-31T00:00:00.000']"
      ]
     },
     "execution_count": 22,
     "metadata": {},
     "output_type": "execute_result"
    }
   ],
   "source": [
    "report_months"
   ]
  },
  {
   "cell_type": "code",
   "execution_count": null,
   "id": "705ab58b",
   "metadata": {},
   "outputs": [],
   "source": []
  },
  {
   "cell_type": "code",
   "execution_count": 23,
   "id": "1022303d",
   "metadata": {},
   "outputs": [
    {
     "name": "stdout",
     "output_type": "stream",
     "text": [
      "2019-01-31T00:00:00.000\n",
      "2019-02-28T00:00:00.000\n",
      "2019-03-31T00:00:00.000\n",
      "2019-04-30T00:00:00.000\n",
      "2019-05-31T00:00:00.000\n",
      "2019-06-30T00:00:00.000\n",
      "2019-07-31T00:00:00.000\n",
      "2019-08-31T00:00:00.000\n",
      "2019-09-30T00:00:00.000\n",
      "2019-10-31T00:00:00.000\n",
      "2019-11-30T00:00:00.000\n",
      "2019-12-31T00:00:00.000\n",
      "2020-01-31T00:00:00.000\n",
      "2020-02-29T00:00:00.000\n",
      "2020-03-31T00:00:00.000\n",
      "2020-04-30T00:00:00.000\n",
      "2020-05-31T00:00:00.000\n",
      "2020-06-30T00:00:00.000\n",
      "2020-07-31T00:00:00.000\n",
      "2020-08-31T00:00:00.000\n",
      "2020-09-30T00:00:00.000\n",
      "2020-10-31T00:00:00.000\n",
      "2020-11-30T00:00:00.000\n",
      "2020-12-31T00:00:00.000\n"
     ]
    }
   ],
   "source": [
    "big_df = pd.DataFrame()\n",
    "for report_month in report_months:\n",
    "    results = client.get(\"naix-2893\", obligation_end_date_yyyymmdd=report_month,limit=5000)\n",
    "    results_df = pd.DataFrame.from_records(results)\n",
    "    big_df= big_df.append(results_df)\n",
    "    print(report_month)\n"
   ]
  },
  {
   "cell_type": "code",
   "execution_count": 24,
   "id": "ab14ae80",
   "metadata": {},
   "outputs": [
    {
     "data": {
      "text/html": [
       "<div>\n",
       "<style scoped>\n",
       "    .dataframe tbody tr th:only-of-type {\n",
       "        vertical-align: middle;\n",
       "    }\n",
       "\n",
       "    .dataframe tbody tr th {\n",
       "        vertical-align: top;\n",
       "    }\n",
       "\n",
       "    .dataframe thead th {\n",
       "        text-align: right;\n",
       "    }\n",
       "</style>\n",
       "<table border=\"1\" class=\"dataframe\">\n",
       "  <thead>\n",
       "    <tr style=\"text-align: right;\">\n",
       "      <th></th>\n",
       "      <th>taxpayer_number</th>\n",
       "      <th>taxpayer_name</th>\n",
       "      <th>taxpayer_address</th>\n",
       "      <th>taxpayer_city</th>\n",
       "      <th>taxpayer_state</th>\n",
       "      <th>taxpayer_zip</th>\n",
       "      <th>taxpayer_county</th>\n",
       "      <th>location_number</th>\n",
       "      <th>location_name</th>\n",
       "      <th>location_address</th>\n",
       "      <th>...</th>\n",
       "      <th>inside_outside_city_limits_code_y_n</th>\n",
       "      <th>tabc_permit_number</th>\n",
       "      <th>responsibility_begin_date_yyyymmdd</th>\n",
       "      <th>obligation_end_date_yyyymmdd</th>\n",
       "      <th>liquor_receipts</th>\n",
       "      <th>wine_receipts</th>\n",
       "      <th>beer_receipts</th>\n",
       "      <th>cover_charge_receipts</th>\n",
       "      <th>total_receipts</th>\n",
       "      <th>responsibility_end_date_yyyymmdd</th>\n",
       "    </tr>\n",
       "  </thead>\n",
       "  <tbody>\n",
       "    <tr>\n",
       "      <th>0</th>\n",
       "      <td>32068897456</td>\n",
       "      <td>HC&amp;K, LLC</td>\n",
       "      <td>7035 W GRAND PKWY S STE 10</td>\n",
       "      <td>RICHMOND</td>\n",
       "      <td>TX</td>\n",
       "      <td>77407</td>\n",
       "      <td>79</td>\n",
       "      <td>1</td>\n",
       "      <td>TOP SUSHI</td>\n",
       "      <td>7035 W GRAND PKWY S STE 10</td>\n",
       "      <td>...</td>\n",
       "      <td>Y</td>\n",
       "      <td>MB1042478</td>\n",
       "      <td>2019-01-16T00:00:00.000</td>\n",
       "      <td>2019-01-31T00:00:00.000</td>\n",
       "      <td>0</td>\n",
       "      <td>0</td>\n",
       "      <td>0</td>\n",
       "      <td>0</td>\n",
       "      <td>0</td>\n",
       "      <td>NaN</td>\n",
       "    </tr>\n",
       "    <tr>\n",
       "      <th>1</th>\n",
       "      <td>32051593963</td>\n",
       "      <td>J &amp; J ACKERMAN CORP.</td>\n",
       "      <td>PO BOX 939</td>\n",
       "      <td>GRANGER</td>\n",
       "      <td>TX</td>\n",
       "      <td>76530</td>\n",
       "      <td>246</td>\n",
       "      <td>3</td>\n",
       "      <td>COTTON COUNTRY CLUB</td>\n",
       "      <td>212 E DAVILLA ST</td>\n",
       "      <td>...</td>\n",
       "      <td>Y</td>\n",
       "      <td>RM1043516</td>\n",
       "      <td>2019-01-28T00:00:00.000</td>\n",
       "      <td>2019-01-31T00:00:00.000</td>\n",
       "      <td>0</td>\n",
       "      <td>0</td>\n",
       "      <td>0</td>\n",
       "      <td>0</td>\n",
       "      <td>0</td>\n",
       "      <td>NaN</td>\n",
       "    </tr>\n",
       "    <tr>\n",
       "      <th>2</th>\n",
       "      <td>32046106475</td>\n",
       "      <td>FJ RESTAURANT INC</td>\n",
       "      <td>9300 S INTERSTATE 35 STE 8500 # 431</td>\n",
       "      <td>AUSTIN</td>\n",
       "      <td>TX</td>\n",
       "      <td>78748</td>\n",
       "      <td>227</td>\n",
       "      <td>2</td>\n",
       "      <td>TAQUERIA MEXICANO GRILLE</td>\n",
       "      <td>10207 CHINA SPRING RD STE 140</td>\n",
       "      <td>...</td>\n",
       "      <td>Y</td>\n",
       "      <td>RM1057370</td>\n",
       "      <td>2019-06-19T00:00:00.000</td>\n",
       "      <td>2019-01-31T00:00:00.000</td>\n",
       "      <td>10013</td>\n",
       "      <td>0</td>\n",
       "      <td>8648</td>\n",
       "      <td>0</td>\n",
       "      <td>18661</td>\n",
       "      <td>NaN</td>\n",
       "    </tr>\n",
       "    <tr>\n",
       "      <th>3</th>\n",
       "      <td>32054228120</td>\n",
       "      <td>S &amp; KW CORPORATION</td>\n",
       "      <td>6617 CHIMNEY ROCK RD</td>\n",
       "      <td>HOUSTON</td>\n",
       "      <td>TX</td>\n",
       "      <td>77081</td>\n",
       "      <td>101</td>\n",
       "      <td>1</td>\n",
       "      <td>NAZARETH CAFE</td>\n",
       "      <td>6617 CHIMNEY ROCK RD</td>\n",
       "      <td>...</td>\n",
       "      <td>Y</td>\n",
       "      <td>MB501287</td>\n",
       "      <td>2014-08-01T00:00:00.000</td>\n",
       "      <td>2019-01-31T00:00:00.000</td>\n",
       "      <td>3212</td>\n",
       "      <td>0</td>\n",
       "      <td>2509</td>\n",
       "      <td>0</td>\n",
       "      <td>5721</td>\n",
       "      <td>NaN</td>\n",
       "    </tr>\n",
       "    <tr>\n",
       "      <th>4</th>\n",
       "      <td>32000861685</td>\n",
       "      <td>FOUNTAIN FOODS, INC.</td>\n",
       "      <td>25600 WESTHEIMER PKWY STE 110</td>\n",
       "      <td>KATY</td>\n",
       "      <td>TX</td>\n",
       "      <td>77494</td>\n",
       "      <td>79</td>\n",
       "      <td>2</td>\n",
       "      <td>HARVEST ORGANIC GRILLE</td>\n",
       "      <td>1810 FOUNTAIN VIEW DR</td>\n",
       "      <td>...</td>\n",
       "      <td>Y</td>\n",
       "      <td>MB817402</td>\n",
       "      <td>2012-08-21T00:00:00.000</td>\n",
       "      <td>2019-01-31T00:00:00.000</td>\n",
       "      <td>0</td>\n",
       "      <td>0</td>\n",
       "      <td>0</td>\n",
       "      <td>0</td>\n",
       "      <td>0</td>\n",
       "      <td>2019-06-01T00:00:00.000</td>\n",
       "    </tr>\n",
       "  </tbody>\n",
       "</table>\n",
       "<p>5 rows × 24 columns</p>\n",
       "</div>"
      ],
      "text/plain": [
       "  taxpayer_number         taxpayer_name                     taxpayer_address  \\\n",
       "0     32068897456             HC&K, LLC           7035 W GRAND PKWY S STE 10   \n",
       "1     32051593963  J & J ACKERMAN CORP.                           PO BOX 939   \n",
       "2     32046106475     FJ RESTAURANT INC  9300 S INTERSTATE 35 STE 8500 # 431   \n",
       "3     32054228120    S & KW CORPORATION                 6617 CHIMNEY ROCK RD   \n",
       "4     32000861685  FOUNTAIN FOODS, INC.        25600 WESTHEIMER PKWY STE 110   \n",
       "\n",
       "  taxpayer_city taxpayer_state taxpayer_zip taxpayer_county location_number  \\\n",
       "0      RICHMOND             TX        77407              79               1   \n",
       "1       GRANGER             TX        76530             246               3   \n",
       "2        AUSTIN             TX        78748             227               2   \n",
       "3       HOUSTON             TX        77081             101               1   \n",
       "4          KATY             TX        77494              79               2   \n",
       "\n",
       "              location_name               location_address  ...  \\\n",
       "0                 TOP SUSHI     7035 W GRAND PKWY S STE 10  ...   \n",
       "1       COTTON COUNTRY CLUB               212 E DAVILLA ST  ...   \n",
       "2  TAQUERIA MEXICANO GRILLE  10207 CHINA SPRING RD STE 140  ...   \n",
       "3             NAZARETH CAFE           6617 CHIMNEY ROCK RD  ...   \n",
       "4    HARVEST ORGANIC GRILLE          1810 FOUNTAIN VIEW DR  ...   \n",
       "\n",
       "  inside_outside_city_limits_code_y_n tabc_permit_number  \\\n",
       "0                                   Y          MB1042478   \n",
       "1                                   Y          RM1043516   \n",
       "2                                   Y          RM1057370   \n",
       "3                                   Y           MB501287   \n",
       "4                                   Y           MB817402   \n",
       "\n",
       "  responsibility_begin_date_yyyymmdd obligation_end_date_yyyymmdd  \\\n",
       "0            2019-01-16T00:00:00.000      2019-01-31T00:00:00.000   \n",
       "1            2019-01-28T00:00:00.000      2019-01-31T00:00:00.000   \n",
       "2            2019-06-19T00:00:00.000      2019-01-31T00:00:00.000   \n",
       "3            2014-08-01T00:00:00.000      2019-01-31T00:00:00.000   \n",
       "4            2012-08-21T00:00:00.000      2019-01-31T00:00:00.000   \n",
       "\n",
       "  liquor_receipts wine_receipts beer_receipts cover_charge_receipts  \\\n",
       "0               0             0             0                     0   \n",
       "1               0             0             0                     0   \n",
       "2           10013             0          8648                     0   \n",
       "3            3212             0          2509                     0   \n",
       "4               0             0             0                     0   \n",
       "\n",
       "  total_receipts responsibility_end_date_yyyymmdd  \n",
       "0              0                              NaN  \n",
       "1              0                              NaN  \n",
       "2          18661                              NaN  \n",
       "3           5721                              NaN  \n",
       "4              0          2019-06-01T00:00:00.000  \n",
       "\n",
       "[5 rows x 24 columns]"
      ]
     },
     "execution_count": 24,
     "metadata": {},
     "output_type": "execute_result"
    }
   ],
   "source": [
    "big_df.head()"
   ]
  },
  {
   "cell_type": "code",
   "execution_count": null,
   "id": "d305609e",
   "metadata": {},
   "outputs": [],
   "source": []
  },
  {
   "cell_type": "code",
   "execution_count": 25,
   "id": "eaa9c416",
   "metadata": {},
   "outputs": [
    {
     "name": "stdout",
     "output_type": "stream",
     "text": [
      "<class 'pandas.core.frame.DataFrame'>\n",
      "Int64Index: 120000 entries, 0 to 4999\n",
      "Data columns (total 24 columns):\n",
      " #   Column                               Non-Null Count   Dtype \n",
      "---  ------                               --------------   ----- \n",
      " 0   taxpayer_number                      120000 non-null  object\n",
      " 1   taxpayer_name                        120000 non-null  object\n",
      " 2   taxpayer_address                     120000 non-null  object\n",
      " 3   taxpayer_city                        120000 non-null  object\n",
      " 4   taxpayer_state                       119912 non-null  object\n",
      " 5   taxpayer_zip                         119912 non-null  object\n",
      " 6   taxpayer_county                      120000 non-null  object\n",
      " 7   location_number                      120000 non-null  object\n",
      " 8   location_name                        120000 non-null  object\n",
      " 9   location_address                     120000 non-null  object\n",
      " 10  location_city                        120000 non-null  object\n",
      " 11  location_state                       120000 non-null  object\n",
      " 12  location_zip                         120000 non-null  object\n",
      " 13  location_county                      120000 non-null  object\n",
      " 14  inside_outside_city_limits_code_y_n  120000 non-null  object\n",
      " 15  tabc_permit_number                   120000 non-null  object\n",
      " 16  responsibility_begin_date_yyyymmdd   120000 non-null  object\n",
      " 17  obligation_end_date_yyyymmdd         120000 non-null  object\n",
      " 18  liquor_receipts                      120000 non-null  object\n",
      " 19  wine_receipts                        120000 non-null  object\n",
      " 20  beer_receipts                        120000 non-null  object\n",
      " 21  cover_charge_receipts                120000 non-null  object\n",
      " 22  total_receipts                       120000 non-null  object\n",
      " 23  responsibility_end_date_yyyymmdd     5016 non-null    object\n",
      "dtypes: object(24)\n",
      "memory usage: 22.9+ MB\n"
     ]
    }
   ],
   "source": [
    "big_df.info()"
   ]
  },
  {
   "cell_type": "code",
   "execution_count": 26,
   "id": "5f07871c",
   "metadata": {},
   "outputs": [],
   "source": [
    "big_df.to_csv(\"Output/2019_2020_mixed_beverage\",\n",
    "                  encoding=\"utf-8\", index=False, header=True)"
   ]
  },
  {
   "cell_type": "code",
   "execution_count": null,
   "id": "26abe5d5",
   "metadata": {},
   "outputs": [],
   "source": []
  },
  {
   "cell_type": "code",
   "execution_count": null,
   "id": "1bf2481c",
   "metadata": {},
   "outputs": [],
   "source": []
  },
  {
   "cell_type": "code",
   "execution_count": null,
   "id": "e7b6ee2d",
   "metadata": {},
   "outputs": [],
   "source": []
  },
  {
   "cell_type": "code",
   "execution_count": null,
   "id": "d68df0c3",
   "metadata": {},
   "outputs": [],
   "source": []
  },
  {
   "cell_type": "code",
   "execution_count": null,
   "id": "b80db3b5",
   "metadata": {},
   "outputs": [],
   "source": []
  }
 ],
 "metadata": {
  "kernelspec": {
   "display_name": "Python 3",
   "language": "python",
   "name": "python3"
  },
  "language_info": {
   "codemirror_mode": {
    "name": "ipython",
    "version": 3
   },
   "file_extension": ".py",
   "mimetype": "text/x-python",
   "name": "python",
   "nbconvert_exporter": "python",
   "pygments_lexer": "ipython3",
   "version": "3.8.8"
  }
 },
 "nbformat": 4,
 "nbformat_minor": 5
}
