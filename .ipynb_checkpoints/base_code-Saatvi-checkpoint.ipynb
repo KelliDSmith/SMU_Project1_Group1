{
 "cells": [
  {
   "cell_type": "code",
   "execution_count": 95,
   "id": "bd3a1d9b",
   "metadata": {},
   "outputs": [],
   "source": [
    "import pandas as pd\n",
    "import matplotlib.pyplot as plt\n",
    "import numpy as np\n",
    "import seaborn as sns"
   ]
  },
  {
   "cell_type": "code",
   "execution_count": 50,
   "id": "48b362e0",
   "metadata": {},
   "outputs": [],
   "source": [
    "data_all = \"Output/2019_2020_mixed_beverage\"\n",
    "\n",
    "\n",
    "df_all = pd.read_csv(data_all, encoding=\"utf-8\")"
   ]
  },
  {
   "cell_type": "code",
   "execution_count": 51,
   "id": "b7dd6bef",
   "metadata": {},
   "outputs": [
    {
     "data": {
      "text/html": [
       "<div>\n",
       "<style scoped>\n",
       "    .dataframe tbody tr th:only-of-type {\n",
       "        vertical-align: middle;\n",
       "    }\n",
       "\n",
       "    .dataframe tbody tr th {\n",
       "        vertical-align: top;\n",
       "    }\n",
       "\n",
       "    .dataframe thead th {\n",
       "        text-align: right;\n",
       "    }\n",
       "</style>\n",
       "<table border=\"1\" class=\"dataframe\">\n",
       "  <thead>\n",
       "    <tr style=\"text-align: right;\">\n",
       "      <th></th>\n",
       "      <th>taxpayer_number</th>\n",
       "      <th>taxpayer_name</th>\n",
       "      <th>taxpayer_address</th>\n",
       "      <th>taxpayer_city</th>\n",
       "      <th>taxpayer_state</th>\n",
       "      <th>taxpayer_zip</th>\n",
       "      <th>taxpayer_county</th>\n",
       "      <th>location_number</th>\n",
       "      <th>location_name</th>\n",
       "      <th>location_address</th>\n",
       "      <th>...</th>\n",
       "      <th>responsibility_begin_date_yyyymmdd</th>\n",
       "      <th>obligation_end_date_yyyymmdd</th>\n",
       "      <th>liquor_receipts</th>\n",
       "      <th>wine_receipts</th>\n",
       "      <th>beer_receipts</th>\n",
       "      <th>cover_charge_receipts</th>\n",
       "      <th>total_receipts</th>\n",
       "      <th>responsibility_end_date_yyyymmdd</th>\n",
       "      <th>year</th>\n",
       "      <th>month</th>\n",
       "    </tr>\n",
       "  </thead>\n",
       "  <tbody>\n",
       "    <tr>\n",
       "      <th>0</th>\n",
       "      <td>32068897456</td>\n",
       "      <td>HC&amp;K, LLC</td>\n",
       "      <td>7035 W GRAND PKWY S STE 10</td>\n",
       "      <td>RICHMOND</td>\n",
       "      <td>TX</td>\n",
       "      <td>77407.0</td>\n",
       "      <td>79</td>\n",
       "      <td>1</td>\n",
       "      <td>TOP SUSHI</td>\n",
       "      <td>7035 W GRAND PKWY S STE 10</td>\n",
       "      <td>...</td>\n",
       "      <td>2019-01-16T00:00:00.000</td>\n",
       "      <td>2019-01-31T00:00:00.000</td>\n",
       "      <td>0</td>\n",
       "      <td>0</td>\n",
       "      <td>0</td>\n",
       "      <td>0</td>\n",
       "      <td>0</td>\n",
       "      <td>NaN</td>\n",
       "      <td>2019</td>\n",
       "      <td>1</td>\n",
       "    </tr>\n",
       "    <tr>\n",
       "      <th>1</th>\n",
       "      <td>32051593963</td>\n",
       "      <td>J &amp; J ACKERMAN CORP.</td>\n",
       "      <td>PO BOX 939</td>\n",
       "      <td>GRANGER</td>\n",
       "      <td>TX</td>\n",
       "      <td>76530.0</td>\n",
       "      <td>246</td>\n",
       "      <td>3</td>\n",
       "      <td>COTTON COUNTRY CLUB</td>\n",
       "      <td>212 E DAVILLA ST</td>\n",
       "      <td>...</td>\n",
       "      <td>2019-01-28T00:00:00.000</td>\n",
       "      <td>2019-01-31T00:00:00.000</td>\n",
       "      <td>0</td>\n",
       "      <td>0</td>\n",
       "      <td>0</td>\n",
       "      <td>0</td>\n",
       "      <td>0</td>\n",
       "      <td>NaN</td>\n",
       "      <td>2019</td>\n",
       "      <td>1</td>\n",
       "    </tr>\n",
       "    <tr>\n",
       "      <th>2</th>\n",
       "      <td>32046106475</td>\n",
       "      <td>FJ RESTAURANT INC</td>\n",
       "      <td>9300 S INTERSTATE 35 STE 8500 # 431</td>\n",
       "      <td>AUSTIN</td>\n",
       "      <td>TX</td>\n",
       "      <td>78748.0</td>\n",
       "      <td>227</td>\n",
       "      <td>2</td>\n",
       "      <td>TAQUERIA MEXICANO GRILLE</td>\n",
       "      <td>10207 CHINA SPRING RD STE 140</td>\n",
       "      <td>...</td>\n",
       "      <td>2019-06-19T00:00:00.000</td>\n",
       "      <td>2019-01-31T00:00:00.000</td>\n",
       "      <td>10013</td>\n",
       "      <td>0</td>\n",
       "      <td>8648</td>\n",
       "      <td>0</td>\n",
       "      <td>18661</td>\n",
       "      <td>NaN</td>\n",
       "      <td>2019</td>\n",
       "      <td>1</td>\n",
       "    </tr>\n",
       "    <tr>\n",
       "      <th>3</th>\n",
       "      <td>32054228120</td>\n",
       "      <td>S &amp; KW CORPORATION</td>\n",
       "      <td>6617 CHIMNEY ROCK RD</td>\n",
       "      <td>HOUSTON</td>\n",
       "      <td>TX</td>\n",
       "      <td>77081.0</td>\n",
       "      <td>101</td>\n",
       "      <td>1</td>\n",
       "      <td>NAZARETH CAFE</td>\n",
       "      <td>6617 CHIMNEY ROCK RD</td>\n",
       "      <td>...</td>\n",
       "      <td>2014-08-01T00:00:00.000</td>\n",
       "      <td>2019-01-31T00:00:00.000</td>\n",
       "      <td>3212</td>\n",
       "      <td>0</td>\n",
       "      <td>2509</td>\n",
       "      <td>0</td>\n",
       "      <td>5721</td>\n",
       "      <td>NaN</td>\n",
       "      <td>2019</td>\n",
       "      <td>1</td>\n",
       "    </tr>\n",
       "    <tr>\n",
       "      <th>4</th>\n",
       "      <td>32000861685</td>\n",
       "      <td>FOUNTAIN FOODS, INC.</td>\n",
       "      <td>25600 WESTHEIMER PKWY STE 110</td>\n",
       "      <td>KATY</td>\n",
       "      <td>TX</td>\n",
       "      <td>77494.0</td>\n",
       "      <td>79</td>\n",
       "      <td>2</td>\n",
       "      <td>HARVEST ORGANIC GRILLE</td>\n",
       "      <td>1810 FOUNTAIN VIEW DR</td>\n",
       "      <td>...</td>\n",
       "      <td>2012-08-21T00:00:00.000</td>\n",
       "      <td>2019-01-31T00:00:00.000</td>\n",
       "      <td>0</td>\n",
       "      <td>0</td>\n",
       "      <td>0</td>\n",
       "      <td>0</td>\n",
       "      <td>0</td>\n",
       "      <td>2019-06-01T00:00:00.000</td>\n",
       "      <td>2019</td>\n",
       "      <td>1</td>\n",
       "    </tr>\n",
       "  </tbody>\n",
       "</table>\n",
       "<p>5 rows × 26 columns</p>\n",
       "</div>"
      ],
      "text/plain": [
       "   taxpayer_number         taxpayer_name                     taxpayer_address  \\\n",
       "0      32068897456             HC&K, LLC           7035 W GRAND PKWY S STE 10   \n",
       "1      32051593963  J & J ACKERMAN CORP.                           PO BOX 939   \n",
       "2      32046106475     FJ RESTAURANT INC  9300 S INTERSTATE 35 STE 8500 # 431   \n",
       "3      32054228120    S & KW CORPORATION                 6617 CHIMNEY ROCK RD   \n",
       "4      32000861685  FOUNTAIN FOODS, INC.        25600 WESTHEIMER PKWY STE 110   \n",
       "\n",
       "  taxpayer_city taxpayer_state  taxpayer_zip  taxpayer_county  \\\n",
       "0      RICHMOND             TX       77407.0               79   \n",
       "1       GRANGER             TX       76530.0              246   \n",
       "2        AUSTIN             TX       78748.0              227   \n",
       "3       HOUSTON             TX       77081.0              101   \n",
       "4          KATY             TX       77494.0               79   \n",
       "\n",
       "   location_number             location_name               location_address  \\\n",
       "0                1                 TOP SUSHI     7035 W GRAND PKWY S STE 10   \n",
       "1                3       COTTON COUNTRY CLUB               212 E DAVILLA ST   \n",
       "2                2  TAQUERIA MEXICANO GRILLE  10207 CHINA SPRING RD STE 140   \n",
       "3                1             NAZARETH CAFE           6617 CHIMNEY ROCK RD   \n",
       "4                2    HARVEST ORGANIC GRILLE          1810 FOUNTAIN VIEW DR   \n",
       "\n",
       "   ... responsibility_begin_date_yyyymmdd obligation_end_date_yyyymmdd  \\\n",
       "0  ...            2019-01-16T00:00:00.000      2019-01-31T00:00:00.000   \n",
       "1  ...            2019-01-28T00:00:00.000      2019-01-31T00:00:00.000   \n",
       "2  ...            2019-06-19T00:00:00.000      2019-01-31T00:00:00.000   \n",
       "3  ...            2014-08-01T00:00:00.000      2019-01-31T00:00:00.000   \n",
       "4  ...            2012-08-21T00:00:00.000      2019-01-31T00:00:00.000   \n",
       "\n",
       "   liquor_receipts  wine_receipts beer_receipts cover_charge_receipts  \\\n",
       "0                0              0             0                     0   \n",
       "1                0              0             0                     0   \n",
       "2            10013              0          8648                     0   \n",
       "3             3212              0          2509                     0   \n",
       "4                0              0             0                     0   \n",
       "\n",
       "  total_receipts responsibility_end_date_yyyymmdd  year  month  \n",
       "0              0                              NaN  2019      1  \n",
       "1              0                              NaN  2019      1  \n",
       "2          18661                              NaN  2019      1  \n",
       "3           5721                              NaN  2019      1  \n",
       "4              0          2019-06-01T00:00:00.000  2019      1  \n",
       "\n",
       "[5 rows x 26 columns]"
      ]
     },
     "execution_count": 51,
     "metadata": {},
     "output_type": "execute_result"
    }
   ],
   "source": [
    "#efficient way to extract year from string format date\n",
    "df_all['year'] = pd.DatetimeIndex(df_all['obligation_end_date_yyyymmdd']).year\n",
    "df_all['month'] = pd.DatetimeIndex(df_all['obligation_end_date_yyyymmdd']).month\n",
    "df_all.head()"
   ]
  },
  {
   "cell_type": "code",
   "execution_count": 52,
   "id": "aff6f6ef",
   "metadata": {},
   "outputs": [],
   "source": [
    "#df_all['sales'] = pd.Index(df_all['total_receipts'])\n",
    "\n",
    "#total = df_all['total_receipts'].sum('year'==2020)\n",
    "#print(total)\n",
    "\n",
    "sales_2019 = df_all.loc[df_all['year'] == 2019, 'total_receipts'].sum()\n",
    "sales_2020 = df_all.loc[df_all['year'] == 2020, 'total_receipts'].sum()"
   ]
  },
  {
   "cell_type": "code",
   "execution_count": 53,
   "id": "1aab139b",
   "metadata": {},
   "outputs": [],
   "source": [
    "years = [\"2019\",\"2020\"]\n",
    "total_sales = [sales_2019, sales_2020]\n",
    "x_axis = np.arange(len(total_sales))\n",
    "#y_axis = np.arange(len(years))"
   ]
  },
  {
   "cell_type": "code",
   "execution_count": 69,
   "id": "b7fb9a78",
   "metadata": {},
   "outputs": [
    {
     "data": {
      "text/plain": [
       "Text(0.5, 1.0, 'Total Liquor Sales in Texas - 2019 vs. 2020')"
      ]
     },
     "execution_count": 69,
     "metadata": {},
     "output_type": "execute_result"
    },
    {
     "data": {
      "image/png": "[encoded data removed]",
      "text/plain": [
       "<Figure size 432x288 with 1 Axes>"
      ]
     },
     "metadata": {
      "needs_background": "light"
     },
     "output_type": "display_data"
    }
   ],
   "source": [
    "plt.bar(years, total_sales, color=\"teal\", align=\"center\")\n",
    "hfont = {'fontname':'Tahoma'}\n",
    "plt.xlabel(\"Years\", **hfont)\n",
    "plt.ylabel(\"Total Sales (by billions)\", **hfont)\n",
    "plt.title(\"Total Liquor Sales in Texas - 2019 vs. 2020\", **hfont)"
   ]
  },
  {
   "cell_type": "code",
   "execution_count": 55,
   "id": "54b42eaa",
   "metadata": {},
   "outputs": [
    {
     "name": "stdout",
     "output_type": "stream",
     "text": [
      "The difference in liquor sales from 2019 to 2020 was $1032182329.\n"
     ]
    }
   ],
   "source": [
    "difference_2019_2020 = sales_2019 - sales_2020\n",
    "print(f\"The difference in liquor sales from 2019 to 2020 was ${difference_2019_2020}.\")"
   ]
  },
  {
   "cell_type": "code",
   "execution_count": 56,
   "id": "1c63ee30",
   "metadata": {},
   "outputs": [],
   "source": [
    "sales_Jan_2019 = df_all.loc[(df_all['month'] == 1) & (df_all['year'] == 2019), 'total_receipts'].sum()\n",
    "sales_Feb_2019 = df_all.loc[(df_all['month'] == 2) & (df_all['year'] == 2019), 'total_receipts'].sum()\n",
    "sales_Mar_2019 = df_all.loc[(df_all['month'] == 3) & (df_all['year'] == 2019), 'total_receipts'].sum()\n",
    "sales_Apr_2019 = df_all.loc[(df_all['month'] == 4) & (df_all['year'] == 2019), 'total_receipts'].sum()\n",
    "sales_May_2019 = df_all.loc[(df_all['month'] == 5) & (df_all['year'] == 2019), 'total_receipts'].sum()\n",
    "sales_Jun_2019 = df_all.loc[(df_all['month'] == 6) & (df_all['year'] == 2019), 'total_receipts'].sum()\n",
    "sales_Jul_2019 = df_all.loc[(df_all['month'] == 7) & (df_all['year'] == 2019), 'total_receipts'].sum()\n",
    "sales_Aug_2019 = df_all.loc[(df_all['month'] == 8) & (df_all['year'] == 2019), 'total_receipts'].sum()\n",
    "sales_Sep_2019 = df_all.loc[(df_all['month'] == 9) & (df_all['year'] == 2019), 'total_receipts'].sum()\n",
    "sales_Oct_2019 = df_all.loc[(df_all['month'] == 10) & (df_all['year'] == 2019), 'total_receipts'].sum()\n",
    "sales_Nov_2019 = df_all.loc[(df_all['month'] == 11) & (df_all['year'] == 2019), 'total_receipts'].sum()\n",
    "sales_Dec_2019 = df_all.loc[(df_all['month'] == 12) & (df_all['year'] == 2019), 'total_receipts'].sum()"
   ]
  },
  {
   "cell_type": "code",
   "execution_count": 57,
   "id": "1a9f832f",
   "metadata": {},
   "outputs": [],
   "source": [
    "months_2019 = [\"1\",\"2\",\"3\",\"4\",\"5\",\"6\",\"7\",\"8\",\"9\",\"10\",\"11\",\"12\"]\n",
    "monthly_sales_2019 = [sales_Jan_2019, \n",
    "                      sales_Feb_2019, \n",
    "                      sales_Mar_2019, \n",
    "                      sales_Apr_2019, \n",
    "                      sales_May_2019, \n",
    "                      sales_Jun_2019, \n",
    "                      sales_Jul_2019, \n",
    "                      sales_Aug_2019, \n",
    "                      sales_Sep_2019, \n",
    "                      sales_Oct_2019, \n",
    "                      sales_Nov_2019, \n",
    "                      sales_Dec_2019]\n",
    "x_axis = np.arange(len(monthly_sales_2019))"
   ]
  },
  {
   "cell_type": "code",
   "execution_count": 78,
   "id": "f08df726",
   "metadata": {},
   "outputs": [
    {
     "data": {
      "text/plain": [
       "Text(0.5, 1.0, 'Texas Liquor Sales - 2019 (By Month)')"
      ]
     },
     "execution_count": 78,
     "metadata": {},
     "output_type": "execute_result"
    },
    {
     "data": {
      "image/png": "[encoded data removed]",
      "text/plain": [
       "<Figure size 432x288 with 1 Axes>"
      ]
     },
     "metadata": {
      "needs_background": "light"
     },
     "output_type": "display_data"
    }
   ],
   "source": [
    "plt.plot(months_2019, monthly_sales_2019, \"g\")\n",
    "hfont = {'fontname':'Tahoma'}\n",
    "plt.xlabel(\"Months (2019)\", **hfont)\n",
    "plt.ylabel(\"Total Sales (by millions)\", **hfont)\n",
    "plt.title(\"Texas Liquor Sales - 2019 (By Month)\", **hfont)"
   ]
  },
  {
   "cell_type": "code",
   "execution_count": 59,
   "id": "231bf8b7",
   "metadata": {},
   "outputs": [],
   "source": [
    "sales_Jan_2020 = df_all.loc[(df_all['month'] == 1) & (df_all['year'] == 2020), 'total_receipts'].sum()\n",
    "sales_Feb_2020 = df_all.loc[(df_all['month'] == 2) & (df_all['year'] == 2020), 'total_receipts'].sum()\n",
    "sales_Mar_2020 = df_all.loc[(df_all['month'] == 3) & (df_all['year'] == 2020), 'total_receipts'].sum()\n",
    "sales_Apr_2020 = df_all.loc[(df_all['month'] == 4) & (df_all['year'] == 2020), 'total_receipts'].sum()\n",
    "sales_May_2020 = df_all.loc[(df_all['month'] == 5) & (df_all['year'] == 2020), 'total_receipts'].sum()\n",
    "sales_Jun_2020 = df_all.loc[(df_all['month'] == 6) & (df_all['year'] == 2020), 'total_receipts'].sum()\n",
    "sales_Jul_2020 = df_all.loc[(df_all['month'] == 7) & (df_all['year'] == 2020), 'total_receipts'].sum()\n",
    "sales_Aug_2020 = df_all.loc[(df_all['month'] == 8) & (df_all['year'] == 2020), 'total_receipts'].sum()\n",
    "sales_Sep_2020 = df_all.loc[(df_all['month'] == 9) & (df_all['year'] == 2020), 'total_receipts'].sum()\n",
    "sales_Oct_2020 = df_all.loc[(df_all['month'] == 10) & (df_all['year'] == 2020), 'total_receipts'].sum()\n",
    "sales_Nov_2020 = df_all.loc[(df_all['month'] == 11) & (df_all['year'] == 2020), 'total_receipts'].sum()\n",
    "sales_Dec_2020 = df_all.loc[(df_all['month'] == 12) & (df_all['year'] == 2020), 'total_receipts'].sum()"
   ]
  },
  {
   "cell_type": "code",
   "execution_count": 87,
   "id": "61cd9282",
   "metadata": {},
   "outputs": [],
   "source": [
    "months_2020 = [\"1\",\"2\",\"3\",\"4\",\"5\",\"6\",\"7\",\"8\",\"9\",\"10\",\"11\",\"12\"]\n",
    "monthly_sales_2020 = [sales_Jan_2020, \n",
    "                      sales_Feb_2020, \n",
    "                      sales_Mar_2020, \n",
    "                      sales_Apr_2020, \n",
    "                      sales_May_2020, \n",
    "                      sales_Jun_2020, \n",
    "                      sales_Jul_2020, \n",
    "                      sales_Aug_2020, \n",
    "                      sales_Sep_2020, \n",
    "                      sales_Oct_2020, \n",
    "                      sales_Nov_2020, \n",
    "                      sales_Dec_2020]\n",
    "x_axis = np.arange(len(monthly_sales_2020))"
   ]
  },
  {
   "cell_type": "code",
   "execution_count": 88,
   "id": "468b62e2",
   "metadata": {},
   "outputs": [
    {
     "data": {
      "text/plain": [
       "Text(0.5, 1.0, 'Texas Liquor Sales - 2020 (By Month)')"
      ]
     },
     "execution_count": 88,
     "metadata": {},
     "output_type": "execute_result"
    },
    {
     "data": {
      "image/png": "[encoded data removed]",
      "text/plain": [
       "<Figure size 432x288 with 1 Axes>"
      ]
     },
     "metadata": {
      "needs_background": "light"
     },
     "output_type": "display_data"
    }
   ],
   "source": [
    "plt.plot(months_2020, monthly_sales_2020, \"r\")\n",
    "hfont = {'fontname':'Tahoma'}\n",
    "plt.xlabel(\"Months (2020)\", **hfont)\n",
    "plt.ylabel(\"Total Sales (by millions)\", **hfont)\n",
    "plt.title(\"Texas Liquor Sales - 2020 (By Month)\", **hfont)"
   ]
  },
  {
   "cell_type": "code",
   "execution_count": 81,
   "id": "0bbb3169",
   "metadata": {
    "scrolled": false
   },
   "outputs": [
    {
     "data": {
      "text/plain": [
       "<matplotlib.legend.Legend at 0x11b616f10>"
      ]
     },
     "execution_count": 81,
     "metadata": {},
     "output_type": "execute_result"
    },
    {
     "data": {
      "image/png": "[encoded data removed]",
      "text/plain": [
       "<Figure size 432x288 with 1 Axes>"
      ]
     },
     "metadata": {
      "needs_background": "light"
     },
     "output_type": "display_data"
    }
   ],
   "source": [
    "plt.plot(months_2019, monthly_sales_2019, \"g\")\n",
    "plt.plot(months_2020, monthly_sales_2020, \"r\")\n",
    "hfont = {'fontname':'Tahoma'}\n",
    "plt.xlabel(\"Months\", **hfont)\n",
    "plt.ylabel(\"Total Sales (by millions)\", **hfont)\n",
    "plt.title(\"Texas Liquor Sales - 2019 vs. 2020 (By Month)\", **hfont)\n",
    "plt.legend([\"2019 Sales\", \"2020 Sales\"])"
   ]
  },
  {
   "cell_type": "code",
   "execution_count": 86,
   "id": "92765b6e",
   "metadata": {},
   "outputs": [],
   "source": [
    "Houston_sales = df_all.loc[(df_all['taxpayer_city'] == \"HOUSTON\") & (df_all['year'] == 2019), 'total_receipts'].sum()\n",
    "Dallas_sales = df_all.loc[(df_all['taxpayer_city'] == \"DALLAS\") & (df_all['year'] == 2019), 'total_receipts'].sum()\n",
    "SanAntonio_sales = df_all.loc[(df_all['taxpayer_city'] == \"SAN ANTONIO\") & (df_all['year'] == 2019), 'total_receipts'].sum\n",
    "Austin_sales = df_all.loc[(df_all['taxpayer_city'] == \"AUSTIN\") & (df_all['year'] == 2019), 'total_receipts'].sum()\n",
    "FortWorth_sales = df_all.loc[(df_all['taxpayer_city'] == \"FORT WORTH\")& (df_all['year'] == 2019), 'total_receipts'].sum()"
   ]
  },
  {
   "cell_type": "code",
   "execution_count": 90,
   "id": "eaac5108",
   "metadata": {},
   "outputs": [],
   "source": [
    "cities = [\"Houston\", \"Dallas\", \"San Antonio\", \"Austin\", \"Fort Worth\"]\n",
    "city_sales = [Houston_sales, Dallas_sales, SanAntonio_sales, Austin_sales, FortWorth_sales]"
   ]
  },
  {
   "cell_type": "code",
   "execution_count": 100,
   "id": "ea0014ff",
   "metadata": {},
   "outputs": [
    {
     "ename": "TypeError",
     "evalue": "Neither the `x` nor `y` variable appears to be numeric.",
     "output_type": "error",
     "traceback": [
      "\u001b[0;31m---------------------------------------------------------------------------\u001b[0m",
      "\u001b[0;31mTypeError\u001b[0m                                 Traceback (most recent call last)",
      "\u001b[0;32m<ipython-input-100-e60a9be512a2>\u001b[0m in \u001b[0;36m<module>\u001b[0;34m\u001b[0m\n\u001b[1;32m      1\u001b[0m \u001b[0mtips\u001b[0m \u001b[0;34m=\u001b[0m \u001b[0msns\u001b[0m\u001b[0;34m.\u001b[0m\u001b[0mload_dataset\u001b[0m\u001b[0;34m(\u001b[0m\u001b[0;34m\"tips\"\u001b[0m\u001b[0;34m)\u001b[0m\u001b[0;34m\u001b[0m\u001b[0;34m\u001b[0m\u001b[0m\n\u001b[0;32m----> 2\u001b[0;31m \u001b[0max\u001b[0m \u001b[0;34m=\u001b[0m \u001b[0msns\u001b[0m\u001b[0;34m.\u001b[0m\u001b[0mviolinplot\u001b[0m\u001b[0;34m(\u001b[0m\u001b[0mx\u001b[0m\u001b[0;34m=\u001b[0m \u001b[0mcities\u001b[0m\u001b[0;34m,\u001b[0m \u001b[0my\u001b[0m\u001b[0;34m=\u001b[0m \u001b[0mcity_sales\u001b[0m\u001b[0;34m,\u001b[0m \u001b[0mdata\u001b[0m\u001b[0;34m=\u001b[0m\u001b[0mtips\u001b[0m\u001b[0;34m)\u001b[0m\u001b[0;34m\u001b[0m\u001b[0;34m\u001b[0m\u001b[0m\n\u001b[0m",
      "\u001b[0;32m/opt/anaconda3/lib/python3.8/site-packages/seaborn/_decorators.py\u001b[0m in \u001b[0;36minner_f\u001b[0;34m(*args, **kwargs)\u001b[0m\n\u001b[1;32m     44\u001b[0m             )\n\u001b[1;32m     45\u001b[0m         \u001b[0mkwargs\u001b[0m\u001b[0;34m.\u001b[0m\u001b[0mupdate\u001b[0m\u001b[0;34m(\u001b[0m\u001b[0;34m{\u001b[0m\u001b[0mk\u001b[0m\u001b[0;34m:\u001b[0m \u001b[0marg\u001b[0m \u001b[0;32mfor\u001b[0m \u001b[0mk\u001b[0m\u001b[0;34m,\u001b[0m \u001b[0marg\u001b[0m \u001b[0;32min\u001b[0m \u001b[0mzip\u001b[0m\u001b[0;34m(\u001b[0m\u001b[0msig\u001b[0m\u001b[0;34m.\u001b[0m\u001b[0mparameters\u001b[0m\u001b[0;34m,\u001b[0m \u001b[0margs\u001b[0m\u001b[0;34m)\u001b[0m\u001b[0;34m}\u001b[0m\u001b[0;34m)\u001b[0m\u001b[0;34m\u001b[0m\u001b[0;34m\u001b[0m\u001b[0m\n\u001b[0;32m---> 46\u001b[0;31m         \u001b[0;32mreturn\u001b[0m \u001b[0mf\u001b[0m\u001b[0;34m(\u001b[0m\u001b[0;34m**\u001b[0m\u001b[0mkwargs\u001b[0m\u001b[0;34m)\u001b[0m\u001b[0;34m\u001b[0m\u001b[0;34m\u001b[0m\u001b[0m\n\u001b[0m\u001b[1;32m     47\u001b[0m     \u001b[0;32mreturn\u001b[0m \u001b[0minner_f\u001b[0m\u001b[0;34m\u001b[0m\u001b[0;34m\u001b[0m\u001b[0m\n\u001b[1;32m     48\u001b[0m \u001b[0;34m\u001b[0m\u001b[0m\n",
      "\u001b[0;32m/opt/anaconda3/lib/python3.8/site-packages/seaborn/categorical.py\u001b[0m in \u001b[0;36mviolinplot\u001b[0;34m(x, y, hue, data, order, hue_order, bw, cut, scale, scale_hue, gridsize, width, inner, split, dodge, orient, linewidth, color, palette, saturation, ax, **kwargs)\u001b[0m\n\u001b[1;32m   2395\u001b[0m ):\n\u001b[1;32m   2396\u001b[0m \u001b[0;34m\u001b[0m\u001b[0m\n\u001b[0;32m-> 2397\u001b[0;31m     plotter = _ViolinPlotter(x, y, hue, data, order, hue_order,\n\u001b[0m\u001b[1;32m   2398\u001b[0m                              \u001b[0mbw\u001b[0m\u001b[0;34m,\u001b[0m \u001b[0mcut\u001b[0m\u001b[0;34m,\u001b[0m \u001b[0mscale\u001b[0m\u001b[0;34m,\u001b[0m \u001b[0mscale_hue\u001b[0m\u001b[0;34m,\u001b[0m \u001b[0mgridsize\u001b[0m\u001b[0;34m,\u001b[0m\u001b[0;34m\u001b[0m\u001b[0;34m\u001b[0m\u001b[0m\n\u001b[1;32m   2399\u001b[0m                              \u001b[0mwidth\u001b[0m\u001b[0;34m,\u001b[0m \u001b[0minner\u001b[0m\u001b[0;34m,\u001b[0m \u001b[0msplit\u001b[0m\u001b[0;34m,\u001b[0m \u001b[0mdodge\u001b[0m\u001b[0;34m,\u001b[0m \u001b[0morient\u001b[0m\u001b[0;34m,\u001b[0m \u001b[0mlinewidth\u001b[0m\u001b[0;34m,\u001b[0m\u001b[0;34m\u001b[0m\u001b[0;34m\u001b[0m\u001b[0m\n",
      "\u001b[0;32m/opt/anaconda3/lib/python3.8/site-packages/seaborn/categorical.py\u001b[0m in \u001b[0;36m__init__\u001b[0;34m(self, x, y, hue, data, order, hue_order, bw, cut, scale, scale_hue, gridsize, width, inner, split, dodge, orient, linewidth, color, palette, saturation)\u001b[0m\n\u001b[1;32m    520\u001b[0m                  color, palette, saturation):\n\u001b[1;32m    521\u001b[0m \u001b[0;34m\u001b[0m\u001b[0m\n\u001b[0;32m--> 522\u001b[0;31m         \u001b[0mself\u001b[0m\u001b[0;34m.\u001b[0m\u001b[0mestablish_variables\u001b[0m\u001b[0;34m(\u001b[0m\u001b[0mx\u001b[0m\u001b[0;34m,\u001b[0m \u001b[0my\u001b[0m\u001b[0;34m,\u001b[0m \u001b[0mhue\u001b[0m\u001b[0;34m,\u001b[0m \u001b[0mdata\u001b[0m\u001b[0;34m,\u001b[0m \u001b[0morient\u001b[0m\u001b[0;34m,\u001b[0m \u001b[0morder\u001b[0m\u001b[0;34m,\u001b[0m \u001b[0mhue_order\u001b[0m\u001b[0;34m)\u001b[0m\u001b[0;34m\u001b[0m\u001b[0;34m\u001b[0m\u001b[0m\n\u001b[0m\u001b[1;32m    523\u001b[0m         \u001b[0mself\u001b[0m\u001b[0;34m.\u001b[0m\u001b[0mestablish_colors\u001b[0m\u001b[0;34m(\u001b[0m\u001b[0mcolor\u001b[0m\u001b[0;34m,\u001b[0m \u001b[0mpalette\u001b[0m\u001b[0;34m,\u001b[0m \u001b[0msaturation\u001b[0m\u001b[0;34m)\u001b[0m\u001b[0;34m\u001b[0m\u001b[0;34m\u001b[0m\u001b[0m\n\u001b[1;32m    524\u001b[0m         \u001b[0mself\u001b[0m\u001b[0;34m.\u001b[0m\u001b[0mestimate_densities\u001b[0m\u001b[0;34m(\u001b[0m\u001b[0mbw\u001b[0m\u001b[0;34m,\u001b[0m \u001b[0mcut\u001b[0m\u001b[0;34m,\u001b[0m \u001b[0mscale\u001b[0m\u001b[0;34m,\u001b[0m \u001b[0mscale_hue\u001b[0m\u001b[0;34m,\u001b[0m \u001b[0mgridsize\u001b[0m\u001b[0;34m)\u001b[0m\u001b[0;34m\u001b[0m\u001b[0;34m\u001b[0m\u001b[0m\n",
      "\u001b[0;32m/opt/anaconda3/lib/python3.8/site-packages/seaborn/categorical.py\u001b[0m in \u001b[0;36mestablish_variables\u001b[0;34m(self, x, y, hue, data, orient, order, hue_order, units)\u001b[0m\n\u001b[1;32m    154\u001b[0m \u001b[0;34m\u001b[0m\u001b[0m\n\u001b[1;32m    155\u001b[0m             \u001b[0;31m# Figure out the plotting orientation\u001b[0m\u001b[0;34m\u001b[0m\u001b[0;34m\u001b[0m\u001b[0;34m\u001b[0m\u001b[0m\n\u001b[0;32m--> 156\u001b[0;31m             orient = infer_orient(\n\u001b[0m\u001b[1;32m    157\u001b[0m                 \u001b[0mx\u001b[0m\u001b[0;34m,\u001b[0m \u001b[0my\u001b[0m\u001b[0;34m,\u001b[0m \u001b[0morient\u001b[0m\u001b[0;34m,\u001b[0m \u001b[0mrequire_numeric\u001b[0m\u001b[0;34m=\u001b[0m\u001b[0mself\u001b[0m\u001b[0;34m.\u001b[0m\u001b[0mrequire_numeric\u001b[0m\u001b[0;34m\u001b[0m\u001b[0;34m\u001b[0m\u001b[0m\n\u001b[1;32m    158\u001b[0m             )\n",
      "\u001b[0;32m/opt/anaconda3/lib/python3.8/site-packages/seaborn/_core.py\u001b[0m in \u001b[0;36minfer_orient\u001b[0;34m(x, y, orient, require_numeric)\u001b[0m\n\u001b[1;32m   1343\u001b[0m     \u001b[0;32melif\u001b[0m \u001b[0mrequire_numeric\u001b[0m \u001b[0;32mand\u001b[0m \u001b[0;34m\"numeric\"\u001b[0m \u001b[0;32mnot\u001b[0m \u001b[0;32min\u001b[0m \u001b[0;34m(\u001b[0m\u001b[0mx_type\u001b[0m\u001b[0;34m,\u001b[0m \u001b[0my_type\u001b[0m\u001b[0;34m)\u001b[0m\u001b[0;34m:\u001b[0m\u001b[0;34m\u001b[0m\u001b[0;34m\u001b[0m\u001b[0m\n\u001b[1;32m   1344\u001b[0m         \u001b[0merr\u001b[0m \u001b[0;34m=\u001b[0m \u001b[0;34m\"Neither the `x` nor `y` variable appears to be numeric.\"\u001b[0m\u001b[0;34m\u001b[0m\u001b[0;34m\u001b[0m\u001b[0m\n\u001b[0;32m-> 1345\u001b[0;31m         \u001b[0;32mraise\u001b[0m \u001b[0mTypeError\u001b[0m\u001b[0;34m(\u001b[0m\u001b[0merr\u001b[0m\u001b[0;34m)\u001b[0m\u001b[0;34m\u001b[0m\u001b[0;34m\u001b[0m\u001b[0m\n\u001b[0m\u001b[1;32m   1346\u001b[0m \u001b[0;34m\u001b[0m\u001b[0m\n\u001b[1;32m   1347\u001b[0m     \u001b[0;32melse\u001b[0m\u001b[0;34m:\u001b[0m\u001b[0;34m\u001b[0m\u001b[0;34m\u001b[0m\u001b[0m\n",
      "\u001b[0;31mTypeError\u001b[0m: Neither the `x` nor `y` variable appears to be numeric."
     ]
    }
   ],
   "source": [
    "tips = sns.load_dataset(\"tips\")\n",
    "ax = sns.violinplot(x= cities, y= city_sales, data=tips)"
   ]
  },
  {
   "cell_type": "code",
   "execution_count": null,
   "id": "5b9f16f7",
   "metadata": {},
   "outputs": [],
   "source": []
  }
 ],
 "metadata": {
  "kernelspec": {
   "display_name": "Python 3",
   "language": "python",
   "name": "python3"
  },
  "language_info": {
   "codemirror_mode": {
    "name": "ipython",
    "version": 3
   },
   "file_extension": ".py",
   "mimetype": "text/x-python",
   "name": "python",
   "nbconvert_exporter": "python",
   "pygments_lexer": "ipython3",
   "version": "3.8.8"
  }
 },
 "nbformat": 4,
 "nbformat_minor": 5
}
