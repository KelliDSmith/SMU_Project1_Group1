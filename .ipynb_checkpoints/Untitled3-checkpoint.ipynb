{
 "cells": [
  {
   "cell_type": "code",
   "execution_count": 1,
   "id": "7afa4741",
   "metadata": {},
   "outputs": [],
   "source": [
    "from config import *\n",
    "import pandas as pd\n",
    "from sodapy import Socrata"
   ]
  },
  {
   "cell_type": "code",
   "execution_count": 13,
   "id": "74a1b078",
   "metadata": {},
   "outputs": [],
   "source": [
    "# Example authenticated client (needed for non-public datasets):\n",
    "client = Socrata(\"data.texas.gov\",\n",
    "                 \"FludNuKKhLjjwcnnoHzjGLKKb\")\n",
    "#                  username=EMAIL,\n",
    "#                  password=PASSWORD)"
   ]
  },
  {
   "cell_type": "code",
   "execution_count": 14,
   "id": "33878c65",
   "metadata": {},
   "outputs": [],
   "source": [
    "# First 2000 results, returned as JSON from API / converted to Python list of\n",
    "# dictionaries by sodapy.\n",
    "results = client.get(\"naix-2893\", limit=2000)\n",
    "\n",
    "# Convert to pandas DataFrame\n",
    "results_df = pd.DataFrame.from_records(results)\n"
   ]
  },
  {
   "cell_type": "code",
   "execution_count": 19,
   "id": "a443925d",
   "metadata": {},
   "outputs": [],
   "source": [
    "import datetime\n",
    "def last_day_of_month(any_day):\n",
    "    # this will never fail\n",
    "    # get close to the end of the month for any day, and add 4 days 'over'\n",
    "    next_month = any_day.replace(day=28) + datetime.timedelta(days=4)\n",
    "    # subtract the number of remaining 'overage' days to get last day of current month, or said programattically said, the previous day of the first of next month\n",
    "    return next_month - datetime.timedelta(days=next_month.day)"
   ]
  },
  {
   "cell_type": "code",
   "execution_count": 41,
   "id": "4e1759c0",
   "metadata": {},
   "outputs": [],
   "source": [
    "months = []\n",
    "for i in range(1,13):\n",
    "    inputdate = datetime.date(2019,i,1)\n",
    "    month = last_day_of_month(inputdate)\n",
    "    months.append(month)"
   ]
  },
  {
   "cell_type": "code",
   "execution_count": 42,
   "id": "682dcbdc",
   "metadata": {},
   "outputs": [
    {
     "data": {
      "text/plain": [
       "[datetime.date(2019, 1, 31),\n",
       " datetime.date(2019, 2, 28),\n",
       " datetime.date(2019, 3, 31),\n",
       " datetime.date(2019, 4, 30),\n",
       " datetime.date(2019, 5, 31),\n",
       " datetime.date(2019, 6, 30),\n",
       " datetime.date(2019, 7, 31),\n",
       " datetime.date(2019, 8, 31),\n",
       " datetime.date(2019, 9, 30),\n",
       " datetime.date(2019, 10, 31),\n",
       " datetime.date(2019, 11, 30),\n",
       " datetime.date(2019, 12, 31)]"
      ]
     },
     "execution_count": 42,
     "metadata": {},
     "output_type": "execute_result"
    }
   ],
   "source": [
    "months"
   ]
  },
  {
   "cell_type": "code",
   "execution_count": 43,
   "id": "58bafe6d",
   "metadata": {},
   "outputs": [],
   "source": [
    "report_months = []\n",
    "for month in months:\n",
    "    report = month.strftime(\"%Y-%m-%d\")+\"T00:00:00.000\"\n",
    "    report_months.append(report)"
   ]
  },
  {
   "cell_type": "code",
   "execution_count": 44,
   "id": "32621141",
   "metadata": {},
   "outputs": [
    {
     "data": {
      "text/plain": [
       "['2019-01-31T00:00:00.000',\n",
       " '2019-02-28T00:00:00.000',\n",
       " '2019-03-31T00:00:00.000',\n",
       " '2019-04-30T00:00:00.000',\n",
       " '2019-05-31T00:00:00.000',\n",
       " '2019-06-30T00:00:00.000',\n",
       " '2019-07-31T00:00:00.000',\n",
       " '2019-08-31T00:00:00.000',\n",
       " '2019-09-30T00:00:00.000',\n",
       " '2019-10-31T00:00:00.000',\n",
       " '2019-11-30T00:00:00.000',\n",
       " '2019-12-31T00:00:00.000']"
      ]
     },
     "execution_count": 44,
     "metadata": {},
     "output_type": "execute_result"
    }
   ],
   "source": [
    "report_months"
   ]
  },
  {
   "cell_type": "code",
   "execution_count": null,
   "id": "705ab58b",
   "metadata": {},
   "outputs": [],
   "source": []
  },
  {
   "cell_type": "code",
   "execution_count": 45,
   "id": "1022303d",
   "metadata": {},
   "outputs": [
    {
     "name": "stdout",
     "output_type": "stream",
     "text": [
      "2019-01-31T00:00:00.000\n",
      "2019-02-28T00:00:00.000\n",
      "2019-03-31T00:00:00.000\n",
      "2019-04-30T00:00:00.000\n",
      "2019-05-31T00:00:00.000\n",
      "2019-06-30T00:00:00.000\n",
      "2019-07-31T00:00:00.000\n",
      "2019-08-31T00:00:00.000\n",
      "2019-09-30T00:00:00.000\n",
      "2019-10-31T00:00:00.000\n",
      "2019-11-30T00:00:00.000\n",
      "2019-12-31T00:00:00.000\n"
     ]
    }
   ],
   "source": [
    "big_df = pd.DataFrame()\n",
    "for report_month in report_months:\n",
    "    results = client.get(\"naix-2893\", obligation_end_date_yyyymmdd=report_month,limit=5000)\n",
    "    results_df = pd.DataFrame.from_records(results)\n",
    "    big_df= big_df.append(results_df)\n",
    "    print(report_month)\n"
   ]
  },
  {
   "cell_type": "code",
   "execution_count": 37,
   "id": "ab14ae80",
   "metadata": {},
   "outputs": [
    {
     "data": {
      "text/html": [
       "<div>\n",
       "<style scoped>\n",
       "    .dataframe tbody tr th:only-of-type {\n",
       "        vertical-align: middle;\n",
       "    }\n",
       "\n",
       "    .dataframe tbody tr th {\n",
       "        vertical-align: top;\n",
       "    }\n",
       "\n",
       "    .dataframe thead th {\n",
       "        text-align: right;\n",
       "    }\n",
       "</style>\n",
       "<table border=\"1\" class=\"dataframe\">\n",
       "  <thead>\n",
       "    <tr style=\"text-align: right;\">\n",
       "      <th></th>\n",
       "      <th>taxpayer_number</th>\n",
       "      <th>taxpayer_name</th>\n",
       "      <th>taxpayer_address</th>\n",
       "      <th>taxpayer_city</th>\n",
       "      <th>taxpayer_state</th>\n",
       "      <th>taxpayer_zip</th>\n",
       "      <th>taxpayer_county</th>\n",
       "      <th>location_number</th>\n",
       "      <th>location_name</th>\n",
       "      <th>location_address</th>\n",
       "      <th>...</th>\n",
       "      <th>inside_outside_city_limits_code_y_n</th>\n",
       "      <th>tabc_permit_number</th>\n",
       "      <th>responsibility_begin_date_yyyymmdd</th>\n",
       "      <th>obligation_end_date_yyyymmdd</th>\n",
       "      <th>liquor_receipts</th>\n",
       "      <th>wine_receipts</th>\n",
       "      <th>beer_receipts</th>\n",
       "      <th>cover_charge_receipts</th>\n",
       "      <th>total_receipts</th>\n",
       "      <th>responsibility_end_date_yyyymmdd</th>\n",
       "    </tr>\n",
       "  </thead>\n",
       "  <tbody>\n",
       "    <tr>\n",
       "      <th>0</th>\n",
       "      <td>32059020407</td>\n",
       "      <td>CARNIVAL LICENSE HOLDINGS LIMITED</td>\n",
       "      <td>3655 NW 87TH AVE C/O MSTX-805</td>\n",
       "      <td>DORAL</td>\n",
       "      <td>FL</td>\n",
       "      <td>33178</td>\n",
       "      <td>0</td>\n",
       "      <td>5</td>\n",
       "      <td>CARNIVAL VISTA</td>\n",
       "      <td>2502 HARBORSIDE DR</td>\n",
       "      <td>...</td>\n",
       "      <td>Y</td>\n",
       "      <td>MB938045</td>\n",
       "      <td>2018-09-23T00:00:00.000</td>\n",
       "      <td>2020-01-31T00:00:00.000</td>\n",
       "      <td>88956</td>\n",
       "      <td>5693</td>\n",
       "      <td>29932</td>\n",
       "      <td>0</td>\n",
       "      <td>124581</td>\n",
       "      <td>NaN</td>\n",
       "    </tr>\n",
       "    <tr>\n",
       "      <th>1</th>\n",
       "      <td>32011300103</td>\n",
       "      <td>ABC RESOURCES, LLC</td>\n",
       "      <td>PO BOX 50550</td>\n",
       "      <td>AUSTIN</td>\n",
       "      <td>TX</td>\n",
       "      <td>78763</td>\n",
       "      <td>227</td>\n",
       "      <td>1</td>\n",
       "      <td>ABEL'S ON THE LAKE</td>\n",
       "      <td>3825 LAKE AUSTIN BLVD STE 201</td>\n",
       "      <td>...</td>\n",
       "      <td>Y</td>\n",
       "      <td>MB722393</td>\n",
       "      <td>2009-05-21T00:00:00.000</td>\n",
       "      <td>2020-01-31T00:00:00.000</td>\n",
       "      <td>24739</td>\n",
       "      <td>5859</td>\n",
       "      <td>11919</td>\n",
       "      <td>0</td>\n",
       "      <td>42517</td>\n",
       "      <td>NaN</td>\n",
       "    </tr>\n",
       "    <tr>\n",
       "      <th>2</th>\n",
       "      <td>32063084811</td>\n",
       "      <td>WLC GROUP LLC</td>\n",
       "      <td>3206 PATRICIA LN</td>\n",
       "      <td>PEARLAND</td>\n",
       "      <td>TX</td>\n",
       "      <td>77581</td>\n",
       "      <td>20</td>\n",
       "      <td>1</td>\n",
       "      <td>HIGH &amp; DRY</td>\n",
       "      <td>306 MAIN ST STE 200</td>\n",
       "      <td>...</td>\n",
       "      <td>Y</td>\n",
       "      <td>MB989611</td>\n",
       "      <td>2017-07-27T00:00:00.000</td>\n",
       "      <td>2020-01-31T00:00:00.000</td>\n",
       "      <td>58065</td>\n",
       "      <td>1737</td>\n",
       "      <td>6890</td>\n",
       "      <td>0</td>\n",
       "      <td>66692</td>\n",
       "      <td>NaN</td>\n",
       "    </tr>\n",
       "    <tr>\n",
       "      <th>3</th>\n",
       "      <td>32057413588</td>\n",
       "      <td>WILLIE'S GRILL &amp; ICEHOUSE LLC</td>\n",
       "      <td>10627 TOWER OAKS BLVD</td>\n",
       "      <td>HOUSTON</td>\n",
       "      <td>TX</td>\n",
       "      <td>77070</td>\n",
       "      <td>101</td>\n",
       "      <td>19</td>\n",
       "      <td>WILLIE'S GRILL &amp; ICEHOUSE</td>\n",
       "      <td>7911 INTERSTATE 35 S</td>\n",
       "      <td>...</td>\n",
       "      <td>Y</td>\n",
       "      <td>MB980782</td>\n",
       "      <td>2017-05-03T00:00:00.000</td>\n",
       "      <td>2020-01-31T00:00:00.000</td>\n",
       "      <td>12734</td>\n",
       "      <td>120</td>\n",
       "      <td>15489</td>\n",
       "      <td>0</td>\n",
       "      <td>28343</td>\n",
       "      <td>NaN</td>\n",
       "    </tr>\n",
       "    <tr>\n",
       "      <th>4</th>\n",
       "      <td>17523234122</td>\n",
       "      <td>NEMA BEVERAGE CORPORATION</td>\n",
       "      <td>1201 ELM ST STE 2700 ATTN:TAX DEPT</td>\n",
       "      <td>DALLAS</td>\n",
       "      <td>TX</td>\n",
       "      <td>75270</td>\n",
       "      <td>57</td>\n",
       "      <td>13</td>\n",
       "      <td>NM CAFE</td>\n",
       "      <td>5200 MONAHANS AVE</td>\n",
       "      <td>...</td>\n",
       "      <td>Y</td>\n",
       "      <td>MB697551</td>\n",
       "      <td>2017-03-01T00:00:00.000</td>\n",
       "      <td>2020-01-31T00:00:00.000</td>\n",
       "      <td>1405</td>\n",
       "      <td>4411</td>\n",
       "      <td>76</td>\n",
       "      <td>0</td>\n",
       "      <td>5892</td>\n",
       "      <td>NaN</td>\n",
       "    </tr>\n",
       "  </tbody>\n",
       "</table>\n",
       "<p>5 rows × 24 columns</p>\n",
       "</div>"
      ],
      "text/plain": [
       "  taxpayer_number                      taxpayer_name  \\\n",
       "0     32059020407  CARNIVAL LICENSE HOLDINGS LIMITED   \n",
       "1     32011300103                 ABC RESOURCES, LLC   \n",
       "2     32063084811                      WLC GROUP LLC   \n",
       "3     32057413588      WILLIE'S GRILL & ICEHOUSE LLC   \n",
       "4     17523234122          NEMA BEVERAGE CORPORATION   \n",
       "\n",
       "                     taxpayer_address taxpayer_city taxpayer_state  \\\n",
       "0       3655 NW 87TH AVE C/O MSTX-805         DORAL             FL   \n",
       "1                        PO BOX 50550        AUSTIN             TX   \n",
       "2                    3206 PATRICIA LN      PEARLAND             TX   \n",
       "3               10627 TOWER OAKS BLVD       HOUSTON             TX   \n",
       "4  1201 ELM ST STE 2700 ATTN:TAX DEPT        DALLAS             TX   \n",
       "\n",
       "  taxpayer_zip taxpayer_county location_number              location_name  \\\n",
       "0        33178               0               5             CARNIVAL VISTA   \n",
       "1        78763             227               1         ABEL'S ON THE LAKE   \n",
       "2        77581              20               1                 HIGH & DRY   \n",
       "3        77070             101              19  WILLIE'S GRILL & ICEHOUSE   \n",
       "4        75270              57              13                    NM CAFE   \n",
       "\n",
       "                location_address  ... inside_outside_city_limits_code_y_n  \\\n",
       "0             2502 HARBORSIDE DR  ...                                   Y   \n",
       "1  3825 LAKE AUSTIN BLVD STE 201  ...                                   Y   \n",
       "2            306 MAIN ST STE 200  ...                                   Y   \n",
       "3           7911 INTERSTATE 35 S  ...                                   Y   \n",
       "4              5200 MONAHANS AVE  ...                                   Y   \n",
       "\n",
       "  tabc_permit_number responsibility_begin_date_yyyymmdd  \\\n",
       "0           MB938045            2018-09-23T00:00:00.000   \n",
       "1           MB722393            2009-05-21T00:00:00.000   \n",
       "2           MB989611            2017-07-27T00:00:00.000   \n",
       "3           MB980782            2017-05-03T00:00:00.000   \n",
       "4           MB697551            2017-03-01T00:00:00.000   \n",
       "\n",
       "  obligation_end_date_yyyymmdd liquor_receipts wine_receipts beer_receipts  \\\n",
       "0      2020-01-31T00:00:00.000           88956          5693         29932   \n",
       "1      2020-01-31T00:00:00.000           24739          5859         11919   \n",
       "2      2020-01-31T00:00:00.000           58065          1737          6890   \n",
       "3      2020-01-31T00:00:00.000           12734           120         15489   \n",
       "4      2020-01-31T00:00:00.000            1405          4411            76   \n",
       "\n",
       "  cover_charge_receipts total_receipts responsibility_end_date_yyyymmdd  \n",
       "0                     0         124581                              NaN  \n",
       "1                     0          42517                              NaN  \n",
       "2                     0          66692                              NaN  \n",
       "3                     0          28343                              NaN  \n",
       "4                     0           5892                              NaN  \n",
       "\n",
       "[5 rows x 24 columns]"
      ]
     },
     "execution_count": 37,
     "metadata": {},
     "output_type": "execute_result"
    }
   ],
   "source": [
    "big_df.head()"
   ]
  },
  {
   "cell_type": "code",
   "execution_count": null,
   "id": "d305609e",
   "metadata": {},
   "outputs": [],
   "source": []
  },
  {
   "cell_type": "code",
   "execution_count": 46,
   "id": "eaa9c416",
   "metadata": {},
   "outputs": [
    {
     "name": "stdout",
     "output_type": "stream",
     "text": [
      "<class 'pandas.core.frame.DataFrame'>\n",
      "Int64Index: 60000 entries, 0 to 4999\n",
      "Data columns (total 24 columns):\n",
      " #   Column                               Non-Null Count  Dtype \n",
      "---  ------                               --------------  ----- \n",
      " 0   taxpayer_number                      60000 non-null  object\n",
      " 1   taxpayer_name                        60000 non-null  object\n",
      " 2   taxpayer_address                     60000 non-null  object\n",
      " 3   taxpayer_city                        60000 non-null  object\n",
      " 4   taxpayer_state                       59958 non-null  object\n",
      " 5   taxpayer_zip                         59958 non-null  object\n",
      " 6   taxpayer_county                      60000 non-null  object\n",
      " 7   location_number                      60000 non-null  object\n",
      " 8   location_name                        60000 non-null  object\n",
      " 9   location_address                     60000 non-null  object\n",
      " 10  location_city                        60000 non-null  object\n",
      " 11  location_state                       60000 non-null  object\n",
      " 12  location_zip                         60000 non-null  object\n",
      " 13  location_county                      60000 non-null  object\n",
      " 14  inside_outside_city_limits_code_y_n  60000 non-null  object\n",
      " 15  tabc_permit_number                   60000 non-null  object\n",
      " 16  responsibility_begin_date_yyyymmdd   60000 non-null  object\n",
      " 17  obligation_end_date_yyyymmdd         60000 non-null  object\n",
      " 18  liquor_receipts                      60000 non-null  object\n",
      " 19  wine_receipts                        60000 non-null  object\n",
      " 20  beer_receipts                        60000 non-null  object\n",
      " 21  cover_charge_receipts                60000 non-null  object\n",
      " 22  total_receipts                       60000 non-null  object\n",
      " 23  responsibility_end_date_yyyymmdd     3931 non-null   object\n",
      "dtypes: object(24)\n",
      "memory usage: 11.4+ MB\n"
     ]
    }
   ],
   "source": [
    "big_df.info()"
   ]
  },
  {
   "cell_type": "code",
   "execution_count": 47,
   "id": "5f07871c",
   "metadata": {},
   "outputs": [],
   "source": [
    "big_df.to_csv(\"Output/2019_mixed_beverage\",\n",
    "                  encoding=\"utf-8\", index=False, header=True)"
   ]
  },
  {
   "cell_type": "code",
   "execution_count": null,
   "id": "26abe5d5",
   "metadata": {},
   "outputs": [],
   "source": []
  },
  {
   "cell_type": "code",
   "execution_count": null,
   "id": "1bf2481c",
   "metadata": {},
   "outputs": [],
   "source": []
  },
  {
   "cell_type": "code",
   "execution_count": null,
   "id": "e7b6ee2d",
   "metadata": {},
   "outputs": [],
   "source": []
  },
  {
   "cell_type": "code",
   "execution_count": null,
   "id": "d68df0c3",
   "metadata": {},
   "outputs": [],
   "source": []
  },
  {
   "cell_type": "code",
   "execution_count": null,
   "id": "b80db3b5",
   "metadata": {},
   "outputs": [],
   "source": []
  }
 ],
 "metadata": {
  "kernelspec": {
   "display_name": "Python 3",
   "language": "python",
   "name": "python3"
  },
  "language_info": {
   "codemirror_mode": {
    "name": "ipython",
    "version": 3
   },
   "file_extension": ".py",
   "mimetype": "text/x-python",
   "name": "python",
   "nbconvert_exporter": "python",
   "pygments_lexer": "ipython3",
   "version": "3.8.8"
  }
 },
 "nbformat": 4,
 "nbformat_minor": 5
}
