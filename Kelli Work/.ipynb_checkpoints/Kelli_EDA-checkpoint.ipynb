{
 "cells": [
  {
   "cell_type": "code",
   "execution_count": 1,
   "id": "bd3a1d9b",
   "metadata": {},
   "outputs": [],
   "source": [
    "import pandas as pd\n",
    "from matplotlib import pyplot as plt\n",
    "import seaborn as sn\n",
    "import numpy as np\n",
    "\n",
    "import statsmodels.api as sm\n",
    "from scipy.stats import linregress\n",
    "from sklearn.linear_model import LinearRegression, Ridge, Lasso\n",
    "from sklearn.ensemble import RandomForestRegressor\n",
    "\n",
    "# metrics\n",
    "from sklearn.metrics import mean_squared_error\n",
    "from sklearn.metrics import r2_score"
   ]
  },
  {
   "cell_type": "code",
   "execution_count": 2,
   "id": "48b362e0",
   "metadata": {},
   "outputs": [
    {
     "ename": "FileNotFoundError",
     "evalue": "[Errno 2] No such file or directory: 'Output/2019_2020_mixed_beverage'",
     "output_type": "error",
     "traceback": [
      "\u001b[1;31m---------------------------------------------------------------------------\u001b[0m",
      "\u001b[1;31mFileNotFoundError\u001b[0m                         Traceback (most recent call last)",
      "\u001b[1;32m<ipython-input-2-c612a0d11496>\u001b[0m in \u001b[0;36m<module>\u001b[1;34m\u001b[0m\n\u001b[0;32m      3\u001b[0m \u001b[1;33m\u001b[0m\u001b[0m\n\u001b[0;32m      4\u001b[0m \u001b[1;33m\u001b[0m\u001b[0m\n\u001b[1;32m----> 5\u001b[1;33m \u001b[0mdf_all\u001b[0m \u001b[1;33m=\u001b[0m \u001b[0mpd\u001b[0m\u001b[1;33m.\u001b[0m\u001b[0mread_csv\u001b[0m\u001b[1;33m(\u001b[0m\u001b[0mdata_all\u001b[0m\u001b[1;33m,\u001b[0m \u001b[0mencoding\u001b[0m\u001b[1;33m=\u001b[0m\u001b[1;34m\"utf-8\"\u001b[0m\u001b[1;33m)\u001b[0m\u001b[1;33m\u001b[0m\u001b[1;33m\u001b[0m\u001b[0m\n\u001b[0m\u001b[0;32m      6\u001b[0m \u001b[0mdf2\u001b[0m \u001b[1;33m=\u001b[0m \u001b[0mpd\u001b[0m\u001b[1;33m.\u001b[0m\u001b[0mread_csv\u001b[0m\u001b[1;33m(\u001b[0m\u001b[0mfile_path2\u001b[0m\u001b[1;33m,\u001b[0m \u001b[0mencoding\u001b[0m\u001b[1;33m=\u001b[0m\u001b[1;34m\"utf-8\"\u001b[0m\u001b[1;33m)\u001b[0m\u001b[1;33m\u001b[0m\u001b[1;33m\u001b[0m\u001b[0m\n",
      "\u001b[1;32m~\\anaconda3\\lib\\site-packages\\pandas\\io\\parsers.py\u001b[0m in \u001b[0;36mread_csv\u001b[1;34m(filepath_or_buffer, sep, delimiter, header, names, index_col, usecols, squeeze, prefix, mangle_dupe_cols, dtype, engine, converters, true_values, false_values, skipinitialspace, skiprows, skipfooter, nrows, na_values, keep_default_na, na_filter, verbose, skip_blank_lines, parse_dates, infer_datetime_format, keep_date_col, date_parser, dayfirst, cache_dates, iterator, chunksize, compression, thousands, decimal, lineterminator, quotechar, quoting, doublequote, escapechar, comment, encoding, dialect, error_bad_lines, warn_bad_lines, delim_whitespace, low_memory, memory_map, float_precision, storage_options)\u001b[0m\n\u001b[0;32m    608\u001b[0m     \u001b[0mkwds\u001b[0m\u001b[1;33m.\u001b[0m\u001b[0mupdate\u001b[0m\u001b[1;33m(\u001b[0m\u001b[0mkwds_defaults\u001b[0m\u001b[1;33m)\u001b[0m\u001b[1;33m\u001b[0m\u001b[1;33m\u001b[0m\u001b[0m\n\u001b[0;32m    609\u001b[0m \u001b[1;33m\u001b[0m\u001b[0m\n\u001b[1;32m--> 610\u001b[1;33m     \u001b[1;32mreturn\u001b[0m \u001b[0m_read\u001b[0m\u001b[1;33m(\u001b[0m\u001b[0mfilepath_or_buffer\u001b[0m\u001b[1;33m,\u001b[0m \u001b[0mkwds\u001b[0m\u001b[1;33m)\u001b[0m\u001b[1;33m\u001b[0m\u001b[1;33m\u001b[0m\u001b[0m\n\u001b[0m\u001b[0;32m    611\u001b[0m \u001b[1;33m\u001b[0m\u001b[0m\n\u001b[0;32m    612\u001b[0m \u001b[1;33m\u001b[0m\u001b[0m\n",
      "\u001b[1;32m~\\anaconda3\\lib\\site-packages\\pandas\\io\\parsers.py\u001b[0m in \u001b[0;36m_read\u001b[1;34m(filepath_or_buffer, kwds)\u001b[0m\n\u001b[0;32m    460\u001b[0m \u001b[1;33m\u001b[0m\u001b[0m\n\u001b[0;32m    461\u001b[0m     \u001b[1;31m# Create the parser.\u001b[0m\u001b[1;33m\u001b[0m\u001b[1;33m\u001b[0m\u001b[1;33m\u001b[0m\u001b[0m\n\u001b[1;32m--> 462\u001b[1;33m     \u001b[0mparser\u001b[0m \u001b[1;33m=\u001b[0m \u001b[0mTextFileReader\u001b[0m\u001b[1;33m(\u001b[0m\u001b[0mfilepath_or_buffer\u001b[0m\u001b[1;33m,\u001b[0m \u001b[1;33m**\u001b[0m\u001b[0mkwds\u001b[0m\u001b[1;33m)\u001b[0m\u001b[1;33m\u001b[0m\u001b[1;33m\u001b[0m\u001b[0m\n\u001b[0m\u001b[0;32m    463\u001b[0m \u001b[1;33m\u001b[0m\u001b[0m\n\u001b[0;32m    464\u001b[0m     \u001b[1;32mif\u001b[0m \u001b[0mchunksize\u001b[0m \u001b[1;32mor\u001b[0m \u001b[0miterator\u001b[0m\u001b[1;33m:\u001b[0m\u001b[1;33m\u001b[0m\u001b[1;33m\u001b[0m\u001b[0m\n",
      "\u001b[1;32m~\\anaconda3\\lib\\site-packages\\pandas\\io\\parsers.py\u001b[0m in \u001b[0;36m__init__\u001b[1;34m(self, f, engine, **kwds)\u001b[0m\n\u001b[0;32m    817\u001b[0m             \u001b[0mself\u001b[0m\u001b[1;33m.\u001b[0m\u001b[0moptions\u001b[0m\u001b[1;33m[\u001b[0m\u001b[1;34m\"has_index_names\"\u001b[0m\u001b[1;33m]\u001b[0m \u001b[1;33m=\u001b[0m \u001b[0mkwds\u001b[0m\u001b[1;33m[\u001b[0m\u001b[1;34m\"has_index_names\"\u001b[0m\u001b[1;33m]\u001b[0m\u001b[1;33m\u001b[0m\u001b[1;33m\u001b[0m\u001b[0m\n\u001b[0;32m    818\u001b[0m \u001b[1;33m\u001b[0m\u001b[0m\n\u001b[1;32m--> 819\u001b[1;33m         \u001b[0mself\u001b[0m\u001b[1;33m.\u001b[0m\u001b[0m_engine\u001b[0m \u001b[1;33m=\u001b[0m \u001b[0mself\u001b[0m\u001b[1;33m.\u001b[0m\u001b[0m_make_engine\u001b[0m\u001b[1;33m(\u001b[0m\u001b[0mself\u001b[0m\u001b[1;33m.\u001b[0m\u001b[0mengine\u001b[0m\u001b[1;33m)\u001b[0m\u001b[1;33m\u001b[0m\u001b[1;33m\u001b[0m\u001b[0m\n\u001b[0m\u001b[0;32m    820\u001b[0m \u001b[1;33m\u001b[0m\u001b[0m\n\u001b[0;32m    821\u001b[0m     \u001b[1;32mdef\u001b[0m \u001b[0mclose\u001b[0m\u001b[1;33m(\u001b[0m\u001b[0mself\u001b[0m\u001b[1;33m)\u001b[0m\u001b[1;33m:\u001b[0m\u001b[1;33m\u001b[0m\u001b[1;33m\u001b[0m\u001b[0m\n",
      "\u001b[1;32m~\\anaconda3\\lib\\site-packages\\pandas\\io\\parsers.py\u001b[0m in \u001b[0;36m_make_engine\u001b[1;34m(self, engine)\u001b[0m\n\u001b[0;32m   1048\u001b[0m             )\n\u001b[0;32m   1049\u001b[0m         \u001b[1;31m# error: Too many arguments for \"ParserBase\"\u001b[0m\u001b[1;33m\u001b[0m\u001b[1;33m\u001b[0m\u001b[1;33m\u001b[0m\u001b[0m\n\u001b[1;32m-> 1050\u001b[1;33m         \u001b[1;32mreturn\u001b[0m \u001b[0mmapping\u001b[0m\u001b[1;33m[\u001b[0m\u001b[0mengine\u001b[0m\u001b[1;33m]\u001b[0m\u001b[1;33m(\u001b[0m\u001b[0mself\u001b[0m\u001b[1;33m.\u001b[0m\u001b[0mf\u001b[0m\u001b[1;33m,\u001b[0m \u001b[1;33m**\u001b[0m\u001b[0mself\u001b[0m\u001b[1;33m.\u001b[0m\u001b[0moptions\u001b[0m\u001b[1;33m)\u001b[0m  \u001b[1;31m# type: ignore[call-arg]\u001b[0m\u001b[1;33m\u001b[0m\u001b[1;33m\u001b[0m\u001b[0m\n\u001b[0m\u001b[0;32m   1051\u001b[0m \u001b[1;33m\u001b[0m\u001b[0m\n\u001b[0;32m   1052\u001b[0m     \u001b[1;32mdef\u001b[0m \u001b[0m_failover_to_python\u001b[0m\u001b[1;33m(\u001b[0m\u001b[0mself\u001b[0m\u001b[1;33m)\u001b[0m\u001b[1;33m:\u001b[0m\u001b[1;33m\u001b[0m\u001b[1;33m\u001b[0m\u001b[0m\n",
      "\u001b[1;32m~\\anaconda3\\lib\\site-packages\\pandas\\io\\parsers.py\u001b[0m in \u001b[0;36m__init__\u001b[1;34m(self, src, **kwds)\u001b[0m\n\u001b[0;32m   1865\u001b[0m \u001b[1;33m\u001b[0m\u001b[0m\n\u001b[0;32m   1866\u001b[0m         \u001b[1;31m# open handles\u001b[0m\u001b[1;33m\u001b[0m\u001b[1;33m\u001b[0m\u001b[1;33m\u001b[0m\u001b[0m\n\u001b[1;32m-> 1867\u001b[1;33m         \u001b[0mself\u001b[0m\u001b[1;33m.\u001b[0m\u001b[0m_open_handles\u001b[0m\u001b[1;33m(\u001b[0m\u001b[0msrc\u001b[0m\u001b[1;33m,\u001b[0m \u001b[0mkwds\u001b[0m\u001b[1;33m)\u001b[0m\u001b[1;33m\u001b[0m\u001b[1;33m\u001b[0m\u001b[0m\n\u001b[0m\u001b[0;32m   1868\u001b[0m         \u001b[1;32massert\u001b[0m \u001b[0mself\u001b[0m\u001b[1;33m.\u001b[0m\u001b[0mhandles\u001b[0m \u001b[1;32mis\u001b[0m \u001b[1;32mnot\u001b[0m \u001b[1;32mNone\u001b[0m\u001b[1;33m\u001b[0m\u001b[1;33m\u001b[0m\u001b[0m\n\u001b[0;32m   1869\u001b[0m         \u001b[1;32mfor\u001b[0m \u001b[0mkey\u001b[0m \u001b[1;32min\u001b[0m \u001b[1;33m(\u001b[0m\u001b[1;34m\"storage_options\"\u001b[0m\u001b[1;33m,\u001b[0m \u001b[1;34m\"encoding\"\u001b[0m\u001b[1;33m,\u001b[0m \u001b[1;34m\"memory_map\"\u001b[0m\u001b[1;33m,\u001b[0m \u001b[1;34m\"compression\"\u001b[0m\u001b[1;33m)\u001b[0m\u001b[1;33m:\u001b[0m\u001b[1;33m\u001b[0m\u001b[1;33m\u001b[0m\u001b[0m\n",
      "\u001b[1;32m~\\anaconda3\\lib\\site-packages\\pandas\\io\\parsers.py\u001b[0m in \u001b[0;36m_open_handles\u001b[1;34m(self, src, kwds)\u001b[0m\n\u001b[0;32m   1360\u001b[0m         \u001b[0mLet\u001b[0m \u001b[0mthe\u001b[0m \u001b[0mreaders\u001b[0m \u001b[0mopen\u001b[0m \u001b[0mIOHanldes\u001b[0m \u001b[0mafter\u001b[0m \u001b[0mthey\u001b[0m \u001b[0mare\u001b[0m \u001b[0mdone\u001b[0m \u001b[1;32mwith\u001b[0m \u001b[0mtheir\u001b[0m \u001b[0mpotential\u001b[0m \u001b[0mraises\u001b[0m\u001b[1;33m.\u001b[0m\u001b[1;33m\u001b[0m\u001b[1;33m\u001b[0m\u001b[0m\n\u001b[0;32m   1361\u001b[0m         \"\"\"\n\u001b[1;32m-> 1362\u001b[1;33m         self.handles = get_handle(\n\u001b[0m\u001b[0;32m   1363\u001b[0m             \u001b[0msrc\u001b[0m\u001b[1;33m,\u001b[0m\u001b[1;33m\u001b[0m\u001b[1;33m\u001b[0m\u001b[0m\n\u001b[0;32m   1364\u001b[0m             \u001b[1;34m\"r\"\u001b[0m\u001b[1;33m,\u001b[0m\u001b[1;33m\u001b[0m\u001b[1;33m\u001b[0m\u001b[0m\n",
      "\u001b[1;32m~\\anaconda3\\lib\\site-packages\\pandas\\io\\common.py\u001b[0m in \u001b[0;36mget_handle\u001b[1;34m(path_or_buf, mode, encoding, compression, memory_map, is_text, errors, storage_options)\u001b[0m\n\u001b[0;32m    640\u001b[0m                 \u001b[0merrors\u001b[0m \u001b[1;33m=\u001b[0m \u001b[1;34m\"replace\"\u001b[0m\u001b[1;33m\u001b[0m\u001b[1;33m\u001b[0m\u001b[0m\n\u001b[0;32m    641\u001b[0m             \u001b[1;31m# Encoding\u001b[0m\u001b[1;33m\u001b[0m\u001b[1;33m\u001b[0m\u001b[1;33m\u001b[0m\u001b[0m\n\u001b[1;32m--> 642\u001b[1;33m             handle = open(\n\u001b[0m\u001b[0;32m    643\u001b[0m                 \u001b[0mhandle\u001b[0m\u001b[1;33m,\u001b[0m\u001b[1;33m\u001b[0m\u001b[1;33m\u001b[0m\u001b[0m\n\u001b[0;32m    644\u001b[0m                 \u001b[0mioargs\u001b[0m\u001b[1;33m.\u001b[0m\u001b[0mmode\u001b[0m\u001b[1;33m,\u001b[0m\u001b[1;33m\u001b[0m\u001b[1;33m\u001b[0m\u001b[0m\n",
      "\u001b[1;31mFileNotFoundError\u001b[0m: [Errno 2] No such file or directory: 'Output/2019_2020_mixed_beverage'"
     ]
    }
   ],
   "source": [
    "data_all = \"Output/2019_2020_mixed_beverage\"\n",
    "file_path2 = \"Output/Dallas_metro_unemployment.csv\"\n",
    "\n",
    "\n",
    "df_all = pd.read_csv(data_all, encoding=\"utf-8\")\n",
    "df2 = pd.read_csv(file_path2, encoding=\"utf-8\")\n"
   ]
  },
  {
   "cell_type": "code",
   "execution_count": null,
   "id": "b7dd6bef",
   "metadata": {},
   "outputs": [],
   "source": [
    "#efficient way to extract year from string format date\n",
    "df_all['year'] = pd.DatetimeIndex(df_all['obligation_end_date_yyyymmdd']).year\n",
    "df_all['month'] = pd.DatetimeIndex(df_all['obligation_end_date_yyyymmdd']).month\n",
    "city_mask = (df_all.location_city == \"HOUSTON\")|(df_all.location_city == \"DALLAS\")|(df_all.location_city == \"FORT WORTH\")|(df_all.location_city == \"SAN ANTONIO\")|(df_all.location_city == \"AUSTIN\")\n",
    "dfcities = df_all[city_mask]\n",
    "dfcities"
   ]
  },
  {
   "cell_type": "code",
   "execution_count": null,
   "id": "b05a7b3f",
   "metadata": {},
   "outputs": [],
   "source": [
    "mask = dfcities.location_city == \"DALLAS\"\n",
    "dfdallas = dfcities.loc[mask]\n",
    "dallas_sales = dfdallas.groupby(['year','month'])['total_receipts'].sum().reset_index()\n",
    "dallas_sales2=pd.merge(dallas_sales,df2,on=['year','month'],how='left')\n",
    "dallas_sales2.corr()"
   ]
  },
  {
   "cell_type": "code",
   "execution_count": null,
   "id": "dbeaaf4b",
   "metadata": {},
   "outputs": [],
   "source": [
    "#Create combo chart\n",
    "fig, ax1 = plt.subplots(figsize=(8,6))\n",
    "#bar plot creation\n",
    "ax1.set_title('Total Sales vs Unemployment Rate - DALLAS', fontsize=16)\n",
    "ax1.set_xlabel('Date', fontsize=16)\n",
    "ax1.set_ylabel('Total Sales', fontsize=16)\n",
    "ax1 = sn.lineplot(x= 'Date', y='total_receipts', data = dallas_sales2, sort=False, color='blue',linewidth=3)\n",
    "ax1.tick_params(axis='y')\n",
    "# specify we want to share the same x-axis\n",
    "ax2 = ax1.twinx()\n",
    "\n",
    "#line plot creation\n",
    "ax2.set_ylabel('Unemployment Rate', fontsize=16)\n",
    "ax2 = sn.lineplot(x='Date', y='Unemployment Rate', data=dallas_sales2, sort=False, color='red',linewidth=3)\n",
    "ax2.tick_params(axis='y', color='black')\n",
    "#rotate tick labels\n",
    "ax1.set_xticklabels(rotation=45,labels=dallas_sales2.Date)\n",
    "plt.savefig(\"../SMU_Project1_Group1/Dallas_Unemployment.png\")\n",
    "plt.show()\n"
   ]
  },
  {
   "cell_type": "code",
   "execution_count": null,
   "id": "6b3edacd",
   "metadata": {},
   "outputs": [],
   "source": [
    "#2020 Location Count vs Pop STATSMODELS\n",
    "feature = dallas_sales2[['Unemployment Rate']]\n",
    "target = dallas_sales2[['total_receipts']]\n",
    "\n",
    "X = sm.add_constant(feature)\n",
    "Y = target\n",
    "\n",
    "model = sm.OLS(Y,X)\n",
    "results = model.fit()\n",
    "results.summary()"
   ]
  },
  {
   "cell_type": "code",
   "execution_count": null,
   "id": "d56ae0af",
   "metadata": {},
   "outputs": [],
   "source": [
    "# predicted vs actual, Dallas Total Sales based on Unemployment\n",
    "\n",
    "plt.figure(figsize=(10,6))\n",
    "\n",
    "plt.scatter(results.fittedvalues, dallas_sales2['total_receipts'])\n",
    "\n",
    "plt.xlabel(\"Predicted\")\n",
    "plt.ylabel(\"Actual\")\n",
    "\n",
    "plt.plot(dallas_sales2['total_receipts'], dallas_sales2['total_receipts'])\n",
    "\n",
    "plt.show()"
   ]
  },
  {
   "cell_type": "code",
   "execution_count": null,
   "id": "aa7f2613",
   "metadata": {},
   "outputs": [],
   "source": [
    "# make plot\n",
    "plt.figure(figsize=(10,6))\n",
    "plt.scatter(feature, target)\n",
    "\n",
    "plt.plot(feature, results.fittedvalues, \"r-\")\n",
    "\n",
    "# plt.annotate(\"y = -2.292e+06x - 3.053e+07\",(200000, 20000000), fontsize=15,color=\"red\")\n",
    "\n",
    "# plt.xlabel('Runs Scored')\n",
    "# plt.ylabel('Wins')\n",
    "print(f\"The r-squared is: {results.rsquared}\")\n",
    "plt.show()"
   ]
  },
  {
   "cell_type": "code",
   "execution_count": null,
   "id": "53283c49",
   "metadata": {},
   "outputs": [],
   "source": [
    "#2019-2020 sales per capita \n",
    "city_sales = dfcities.groupby('location_city')['total_receipts'].sum().reset_index()\n",
    "city_sales\n",
    "city_pop = [978908,1343573, 874401,2320268,1547253]\n",
    "city_sales['population']=city_pop\n",
    "city_sales['sales_per_capita'] = city_sales.total_receipts/city_sales.population\n",
    "city_sales['Sales Ranking'] = city_sales.total_receipts.rank(ascending=False)\n",
    "city_sales['Sales per Capita Ranking'] = city_sales.sales_per_capita.rank(ascending=False)\n",
    "city_sales"
   ]
  },
  {
   "cell_type": "code",
   "execution_count": null,
   "id": "101a5717",
   "metadata": {},
   "outputs": [],
   "source": []
  },
  {
   "cell_type": "code",
   "execution_count": null,
   "id": "d5cf520f",
   "metadata": {},
   "outputs": [],
   "source": [
    "#2019 sales per capita \n",
    "mask_2019 = dfcities.year == 2019\n",
    "dfcities2019 = dfcities.loc[mask_2019]\n",
    "citysales2019 = dfcities2019.groupby('location_city')['total_receipts'].sum().reset_index()\n",
    "city_pop = [978908,1343573, 874401,2320268,1547253]\n",
    "citysales2019['population']=city_pop\n",
    "citysales2019['sales_per_capita'] = citysales2019.total_receipts/citysales2019.population\n",
    "citysales2019['Sales Ranking'] = citysales2019.total_receipts.rank(ascending=False)\n",
    "citysales2019['Sales per Capita Ranking'] = citysales2019.sales_per_capita.rank(ascending=False)\n",
    "citysales2019_sort = citysales2019.sort_values(\"total_receipts\",ascending=True)\n",
    "citysales2019_sort\n"
   ]
  },
  {
   "cell_type": "code",
   "execution_count": null,
   "id": "0535bf39",
   "metadata": {},
   "outputs": [],
   "source": [
    "plt.figure(figsize=(8,6))\n",
    "cities = []\n",
    "for city in citysales2019_sort['location_city']:\n",
    "    cities.append(citysales2019_sort['location_city'])\n",
    "total_sales = citysales2019_sort['total_receipts']\n",
    "x_axis = np.arange(len(cities))\n",
    "plt.bar(x_axis, total_sales, color=\"orange\", edgecolor=\"black\", align=\"center\")\n",
    "hfont = {'fontname':'Tahoma'}\n",
    "tick_locations = [value for value in x_axis]\n",
    "plt.xticks(tick_locations, ['FT WORTH','SAN ANTONIO','AUSTIN','DALLAS','HOUSTON'], **hfont,fontsize=12)\n",
    "plt.ylabel(\"Total Sales (by millions)\", **hfont,fontsize=14)\n",
    "axis2 = plt.twinx()\n",
    "axis2.plot(x_axis, citysales2019_sort['sales_per_capita'], color='black',linewidth=5)\n",
    "# axes2.set_ylim(-1, 1)\n",
    "axis2.set_ylabel('Sales per Capita ', **hfont,fontsize=14)\n",
    "plt.title(\"Total Sales by City (2019)\", **hfont,fontsize=20)\n",
    "plt.savefig(\"../SMU_Project1_Group1/total_sales_by_city_2019.png\")\n",
    "plt.show()"
   ]
  },
  {
   "cell_type": "code",
   "execution_count": null,
   "id": "9cc843a3",
   "metadata": {},
   "outputs": [],
   "source": [
    "#2020 sales per capita \n",
    "mask_2020 = dfcities.year == 2020\n",
    "dfcities2020 = dfcities.loc[mask_2020]\n",
    "citysales2020 = dfcities2020.groupby('location_city')['total_receipts'].sum().reset_index()\n",
    "city_pop = [978908,1343573, 874401,2320268,1547253]\n",
    "citysales2020['population']=city_pop\n",
    "citysales2020['sales_per_capita'] = citysales2020.total_receipts/citysales2020.population\n",
    "citysales2020['Sales Ranking'] = citysales2020.total_receipts.rank(ascending=False)\n",
    "citysales2020['Sales per Capita Ranking'] = citysales2020.sales_per_capita.rank(ascending=False)\n",
    "citysales2020['per_cap_yoy_diff'] = citysales2020.sales_per_capita - citysales2019.sales_per_capita\n",
    "citysales2020['diff%'] = citysales2020.sales_per_capita/citysales2019.sales_per_capita-1\n",
    "citysales2020_sort = citysales2020.sort_values(\"total_receipts\",ascending=True)\n",
    "citysales2020_sort"
   ]
  },
  {
   "cell_type": "code",
   "execution_count": null,
   "id": "eef3c95d",
   "metadata": {},
   "outputs": [],
   "source": [
    "plt.figure(figsize=(8,6))\n",
    "cities = []\n",
    "for city in citysales2020_sort['location_city']:\n",
    "    cities.append(citysales2020_sort['location_city'])\n",
    "total_sales = citysales2020_sort['total_receipts']\n",
    "x_axis = np.arange(len(cities))\n",
    "plt.ylim(0,400000000)\n",
    "plt.bar(x_axis, total_sales, color=\"blue\", edgecolor=\"black\", align=\"center\")\n",
    "hfont = {'fontname':'Tahoma'}\n",
    "tick_locations = [value for value in x_axis]\n",
    "plt.xticks(tick_locations, ['FT WORTH','SAN ANTONIO','AUSTIN','DALLAS','HOUSTON'], **hfont,fontsize=12)\n",
    "plt.ylabel(\"Total Sales (by millions)\", **hfont,fontsize=14)\n",
    "axis2 = plt.twinx()\n",
    "axis2.plot(x_axis, citysales2020_sort['sales_per_capita'], color='black',linewidth=5)\n",
    "axis2.set_ylim(0, 300)\n",
    "axis2.set_ylabel('Sales per Capita ', **hfont,fontsize=14)\n",
    "plt.title(\"Total Sales by City (2020)\", **hfont,fontsize=20)\n",
    "plt.savefig(\"../SMU_Project1_Group1/total_sales_by_city_2020_v2.png\")\n",
    "plt.show()"
   ]
  },
  {
   "cell_type": "code",
   "execution_count": null,
   "id": "7d8e9847",
   "metadata": {
    "scrolled": true
   },
   "outputs": [],
   "source": [
    "plt.figure(figsize=(8,6))\n",
    "cities = []\n",
    "for city in citysales2020_sort['location_city']:\n",
    "    cities.append(citysales2020_sort['location_city'])\n",
    "total_sales = citysales2020_sort['total_receipts']\n",
    "x_axis = np.arange(len(cities))\n",
    "plt.bar(x_axis, total_sales, color=\"blue\", edgecolor=\"black\", align=\"center\")\n",
    "hfont = {'fontname':'Tahoma'}\n",
    "tick_locations = [value for value in x_axis]\n",
    "plt.xticks(tick_locations, ['FT WORTH','SAN ANTONIO','AUSTIN','DALLAS','HOUSTON'], **hfont,fontsize=12)\n",
    "plt.ylabel(\"Total Sales (by millions)\", **hfont,fontsize=14)\n",
    "axis2 = plt.twinx()\n",
    "axis2.plot(x_axis, citysales2020_sort['sales_per_capita'], color='black',linewidth=5)\n",
    "axis2.set_ylabel('Sales per Capita ', **hfont,fontsize=14)\n",
    "plt.title(\"Total Sales by City (2020)\", **hfont,fontsize=20)\n",
    "plt.savefig(\"../SMU_Project1_Group1/total_sales_by_city_2020_v2.png\")\n",
    "plt.show()"
   ]
  },
  {
   "cell_type": "code",
   "execution_count": null,
   "id": "8eb21462",
   "metadata": {},
   "outputs": [],
   "source": []
  },
  {
   "cell_type": "code",
   "execution_count": null,
   "id": "ce26d8a5",
   "metadata": {},
   "outputs": [],
   "source": []
  },
  {
   "cell_type": "code",
   "execution_count": null,
   "id": "31911c09",
   "metadata": {},
   "outputs": [],
   "source": [
    "storesales2019 = dfcities2019.groupby(['location_name','location_address'])['total_receipts'].sum().reset_index()\n",
    "storesales2019"
   ]
  },
  {
   "cell_type": "code",
   "execution_count": null,
   "id": "5bf1b560",
   "metadata": {},
   "outputs": [],
   "source": [
    "storesales2020 = dfcities2020.groupby(['location_name','location_address'])['total_receipts'].sum().reset_index()\n",
    "storesales2020"
   ]
  },
  {
   "cell_type": "code",
   "execution_count": null,
   "id": "c7baeaff",
   "metadata": {},
   "outputs": [],
   "source": [
    "mask_not0 = storesales2019.total_receipts > 0\n",
    "mask_0 = storesales2019.total_receipts == 0\n",
    "storesales2019_clean = storesales2019.loc[mask_not0]\n",
    "storesales2019_0 = storesales2019.loc[mask_0]\n",
    "total_stores_19 = storesales2019.index.nunique()\n",
    "stores_w_sales_19 = storesales2019_clean.index.nunique()\n",
    "stores_wo_sales_19 = storesales2019_0.index.nunique()\n",
    "per_no_sales_19 = stores_wo_sales_19/total_stores_19\n",
    "per_no_sales_19"
   ]
  },
  {
   "cell_type": "code",
   "execution_count": null,
   "id": "c6838d23",
   "metadata": {},
   "outputs": [],
   "source": [
    "mask2_not0 = storesales2020.total_receipts > 0\n",
    "mask2_0 = storesales2020.total_receipts == 0\n",
    "storesales2020_clean = storesales2020.loc[mask2_not0]\n",
    "storesales2020_0 = storesales2020.loc[mask2_0]\n",
    "total_stores_20 = storesales2020.index.nunique()\n",
    "stores_w_sales_20 = storesales2020_clean.index.nunique()\n",
    "stores_wo_sales_20 = storesales2020_0.index.nunique()\n",
    "per_no_sales_20 = stores_wo_sales_20/total_stores_19\n",
    "per_no_sales_20"
   ]
  },
  {
   "cell_type": "code",
   "execution_count": null,
   "id": "1032b64b",
   "metadata": {},
   "outputs": [],
   "source": [
    "storesales2020_clean.sort_values('total_receipts',ascending=True).head(20).reset_index()"
   ]
  },
  {
   "cell_type": "code",
   "execution_count": null,
   "id": "c2e591f3",
   "metadata": {},
   "outputs": [],
   "source": [
    "#includes stores with zero sales\n",
    "stores_ = pd.merge(storesales2019,storesales2020,on=['location_name','location_address'],how='inner')\n",
    "stores_all = stores_.rename(columns={'total_receipts_x': '2019 Sales','total_receipts_y': '2020 Sales'})\n",
    "stores_all['2019 Rank'] = stores_all['2019 Sales'].rank(ascending=False)\n",
    "stores_all['2020 Rank'] = stores_all['2020 Sales'].rank(ascending=False)\n",
    "stores_all['\\u0394 Sales'] = stores_all['2020 Sales']-stores_all['2019 Sales']\n",
    "stores_all['\\u0394 Sales%'] = stores_all['2020 Sales']/stores_all['2019 Sales']-1\n",
    "stores_all['\\u0394 Rank'] = stores_all['2020 Rank']-stores_all['2019 Rank']\n",
    "stores_all.sort_values('2019 Rank',ascending=True).head(20).reset_index()\n",
    "stores_all_new = pd.merge(stores_all,dfcities[['location_name','location_address','location_city']].drop_duplicates(),on=['location_name','location_address'],how='inner')\n",
    "stores_all_new\n"
   ]
  },
  {
   "cell_type": "code",
   "execution_count": null,
   "id": "842790a8",
   "metadata": {},
   "outputs": [],
   "source": [
    "#excludes stores that had zero sales\n",
    "stores_2 = pd.merge(storesales2019_clean,storesales2020_clean,on=['location_name','location_address'],how='inner')\n",
    "stores_all2 = stores_2.rename(columns={'total_receipts_x': '2019 Sales','total_receipts_y': '2020 Sales'})\n",
    "stores_all2['2019 Rank'] = stores_all2['2019 Sales'].rank(ascending=False)\n",
    "stores_all2['2020 Rank'] = stores_all2['2020 Sales'].rank(ascending=False)\n",
    "stores_all2['\\u0394 Sales'] = stores_all2['2020 Sales']-stores_all2['2019 Sales']\n",
    "stores_all2['\\u0394 Sales%'] = stores_all2['2020 Sales']/stores_all2['2019 Sales']-1\n",
    "stores_all2['\\u0394 Rank'] = stores_all2['2020 Rank']-stores_all2['2019 Rank']\n",
    "stores_all2.sort_values('2019 Rank',ascending=True).head(20).reset_index()\n",
    "stores_all_new2 = pd.merge(stores_all2,dfcities[['location_name','location_address','location_city']].drop_duplicates(),on=['location_name','location_address'],how='inner')\n",
    "stores_all_new2.sort_values('2019 Rank',ascending=True).head(20).reset_index()"
   ]
  },
  {
   "cell_type": "code",
   "execution_count": null,
   "id": "459977f9",
   "metadata": {},
   "outputs": [],
   "source": []
  },
  {
   "cell_type": "code",
   "execution_count": null,
   "id": "4b5c94da",
   "metadata": {},
   "outputs": [],
   "source": [
    "#how many stores had sales in 2019 but 0 in 2020\n",
    "mask3 = (stores_all['2019 Sales']>100000) & (stores_all['2020 Sales']==0)\n",
    "stores_all.loc[mask3]"
   ]
  },
  {
   "cell_type": "code",
   "execution_count": null,
   "id": "1ddc5f01",
   "metadata": {},
   "outputs": [],
   "source": []
  },
  {
   "cell_type": "code",
   "execution_count": null,
   "id": "3d4f6dd0",
   "metadata": {},
   "outputs": [],
   "source": []
  },
  {
   "cell_type": "code",
   "execution_count": null,
   "id": "8791dd8f",
   "metadata": {},
   "outputs": [],
   "source": [
    "dfcities_citytrend=dfcities.groupby([dfcities.location_city,dfcities.obligation_end_date_yyyymmdd])['total_receipts'].sum().reset_index()\n",
    "dfcities_austin=dfcities_citytrend.loc[dfcities_citytrend.location_city=='AUSTIN']\n",
    "dfcities_dallas=dfcities_citytrend.loc[dfcities_citytrend.location_city=='DALLAS']\n",
    "dfcities_houston=dfcities_citytrend.loc[dfcities_citytrend.location_city=='HOUSTON']\n",
    "dfcities_sanantonio=dfcities_citytrend.loc[dfcities_citytrend.location_city=='SAN ANTONIO']\n",
    "dfcities_ftworth=dfcities_citytrend.loc[dfcities_citytrend.location_city=='FORT WORTH']\n",
    "monthsdf = dfcities.loc[:,[\"obligation_end_date_yyyymmdd\",\"month\",\"year\"]].drop_duplicates().reset_index(drop=True)\n",
    "monthsdf['year_month'] = monthsdf['year'].astype(str) + \"_\" + monthsdf['month'].astype(str)\n",
    "months = [\"Jan'19\",\"Feb'19\",\"Mar'19\",\"Apr'19\",\"May'19\",\"Jun'19\",\"Jul'19\",\"Aug'19\",\"Sep'19\",\"Oct'19\",\"Nov'19\",\"Dec'19\",\n",
    "         \"Jan'20\",\"Feb'20\",\"Mar'20\",\"Apr'20\",\"May'20\",\"Jun'20\",\"Jul'20\",\"Aug'20\",\"Sep'20\",\"Oct'20\",\"Nov'20\",\"Dec'20\"]\n"
   ]
  },
  {
   "cell_type": "code",
   "execution_count": null,
   "id": "f278ee46",
   "metadata": {},
   "outputs": [],
   "source": [
    "plt.figure(figsize=(14,10))\n",
    "x_axis_data = np.arange(1,25,1)\n",
    "x_axis_data\n",
    "\n",
    "austin = dfcities_austin['total_receipts']\n",
    "dallas = dfcities_dallas['total_receipts']\n",
    "houston = dfcities_houston['total_receipts']\n",
    "sanantonio = dfcities_sanantonio['total_receipts']\n",
    "ftworth = dfcities_ftworth['total_receipts']\n",
    "plt.plot(x_axis_data, austin,color='tab:orange',label=\"Austin\",linewidth=3)\n",
    "plt.plot(x_axis_data, dallas,color='blue',label=\"Dallas\",linewidth=3)\n",
    "plt.plot(x_axis_data, houston,color='red',label=\"Houston\",linewidth=3)\n",
    "plt.plot(x_axis_data, sanantonio,color='purple',label=\"San Antonio\",linewidth=3)\n",
    "plt.plot(x_axis_data, ftworth,color='green',label=\"Fort Worth\",linewidth=3)\n",
    "plt.legend(loc=\"upper right\",fontsize=14)\n",
    "tick_locations = [value+.01for value in x_axis_data]\n",
    "# plt.xticks(tick_locations,months, **hfont,fontsize=12,rotation=45)\n",
    "plt.xticks(tick_locations, months, rotation=45,fontsize=12)\n",
    "plt.ylabel(\"Total Sales (by millions)\", **hfont,fontsize=16)\n",
    "plt.title(\"Total Sales by City by Month\", **hfont,fontsize=20)\n",
    "plt.grid()\n",
    "plt.savefig(\"../SMU_Project1_Group1/citysales_by_month.png\")\n",
    "plt.show()\n",
    "\n"
   ]
  },
  {
   "cell_type": "code",
   "execution_count": null,
   "id": "013b2b80",
   "metadata": {},
   "outputs": [],
   "source": [
    "citysales2020_sort"
   ]
  },
  {
   "cell_type": "code",
   "execution_count": null,
   "id": "2776bf92",
   "metadata": {},
   "outputs": [],
   "source": []
  }
 ],
 "metadata": {
  "kernelspec": {
   "display_name": "Python 3",
   "language": "python",
   "name": "python3"
  },
  "language_info": {
   "codemirror_mode": {
    "name": "ipython",
    "version": 3
   },
   "file_extension": ".py",
   "mimetype": "text/x-python",
   "name": "python",
   "nbconvert_exporter": "python",
   "pygments_lexer": "ipython3",
   "version": "3.8.8"
  }
 },
 "nbformat": 4,
 "nbformat_minor": 5
}
