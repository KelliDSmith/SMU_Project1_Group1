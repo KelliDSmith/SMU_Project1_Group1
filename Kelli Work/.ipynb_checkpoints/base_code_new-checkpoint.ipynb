{
 "cells": [
  {
   "cell_type": "code",
   "execution_count": 2,
   "id": "bd3a1d9b",
   "metadata": {},
   "outputs": [],
   "source": [
    "import pandas as pd\n",
    "import matplotlib.pyplot as plt"
   ]
  },
  {
   "cell_type": "code",
   "execution_count": 4,
   "id": "48b362e0",
   "metadata": {},
   "outputs": [],
   "source": [
    "data_all = \"../Output/2019_2020_mixed_beverage\"\n",
    "\n",
    "\n",
    "df_all = pd.read_csv(data_all, encoding=\"utf-8\")\n"
   ]
  },
  {
   "cell_type": "code",
   "execution_count": 5,
   "id": "b7dd6bef",
   "metadata": {},
   "outputs": [
    {
     "name": "stdout",
     "output_type": "stream",
     "text": [
      "<class 'pandas.core.frame.DataFrame'>\n",
      "Int64Index: 44006 entries, 3 to 119998\n",
      "Data columns (total 26 columns):\n",
      " #   Column                               Non-Null Count  Dtype  \n",
      "---  ------                               --------------  -----  \n",
      " 0   taxpayer_number                      44006 non-null  int64  \n",
      " 1   taxpayer_name                        44006 non-null  object \n",
      " 2   taxpayer_address                     44006 non-null  object \n",
      " 3   taxpayer_city                        44006 non-null  object \n",
      " 4   taxpayer_state                       43992 non-null  object \n",
      " 5   taxpayer_zip                         43992 non-null  float64\n",
      " 6   taxpayer_county                      44006 non-null  int64  \n",
      " 7   location_number                      44006 non-null  int64  \n",
      " 8   location_name                        44006 non-null  object \n",
      " 9   location_address                     44006 non-null  object \n",
      " 10  location_city                        44006 non-null  object \n",
      " 11  location_state                       44006 non-null  object \n",
      " 12  location_zip                         44006 non-null  int64  \n",
      " 13  location_county                      44006 non-null  int64  \n",
      " 14  inside_outside_city_limits_code_y_n  44006 non-null  object \n",
      " 15  tabc_permit_number                   44006 non-null  object \n",
      " 16  responsibility_begin_date_yyyymmdd   44006 non-null  object \n",
      " 17  obligation_end_date_yyyymmdd         44006 non-null  object \n",
      " 18  liquor_receipts                      44006 non-null  int64  \n",
      " 19  wine_receipts                        44006 non-null  int64  \n",
      " 20  beer_receipts                        44006 non-null  int64  \n",
      " 21  cover_charge_receipts                44006 non-null  int64  \n",
      " 22  total_receipts                       44006 non-null  int64  \n",
      " 23  responsibility_end_date_yyyymmdd     1732 non-null   object \n",
      " 24  year                                 44006 non-null  int64  \n",
      " 25  month                                44006 non-null  int64  \n",
      "dtypes: float64(1), int64(12), object(13)\n",
      "memory usage: 9.1+ MB\n"
     ]
    }
   ],
   "source": [
    "#efficient way to extract year from string format date\n",
    "df_all['year'] = pd.DatetimeIndex(df_all['obligation_end_date_yyyymmdd']).year\n",
    "df_all['month'] = pd.DatetimeIndex(df_all['obligation_end_date_yyyymmdd']).month\n",
    "city_mask = (df_all.location_city == \"HOUSTON\")|(df_all.location_city == \"DALLAS\")|(df_all.location_city == \"FORT WORTH\")|(df_all.location_city == \"SAN ANTONIO\")|(df_all.location_city == \"AUSTIN\")\n",
    "dfcities = df_all[city_mask]\n",
    "dfcities.info()"
   ]
  },
  {
   "cell_type": "code",
   "execution_count": 30,
   "id": "f4cf9be5",
   "metadata": {},
   "outputs": [],
   "source": [
    "dfcities_2019 = dfcities.loc[dfcities.year == 2019]\n",
    "dfcities_stores_2019 = dfcities_2019.groupby(['location_city','location_address'])['total_receipts'].sum().reset_index()\n",
    "dallas_2019=dfcities_stores_2019.loc[dfcities_stores_2019.location_city == 'DALLAS']\n",
    "houston_2019=dfcities_stores_2019.loc[dfcities_stores_2019.location_city == 'HOUSTON']\n",
    "austin_2019=dfcities_stores_2019.loc[dfcities_stores_2019.location_city == 'AUSTIN']\n",
    "ftworth_2019=dfcities_stores_2019.loc[dfcities_stores_2019.location_city == 'FORT WORTH']\n",
    "sanantonio_2019=dfcities_stores_2019.loc[dfcities_stores_2019.location_city == 'SAN ANTONIO']"
   ]
  },
  {
   "cell_type": "code",
   "execution_count": 29,
   "id": "b05a7b3f",
   "metadata": {},
   "outputs": [
    {
     "data": {
      "image/png": "[encoded data removed]",
      "text/plain": [
       "<Figure size 432x288 with 1 Axes>"
      ]
     },
     "metadata": {
      "needs_background": "light"
     },
     "output_type": "display_data"
    }
   ],
   "source": [
    "# Example outlier plot of reaction times\n",
    "dallas_stores_2019= dallas_2019[\"total_receipts\"]\n",
    "fig1, ax1 = plt.subplots()\n",
    "# ax1.set_title('Reaction Times at Baseball Batting Cage')\n",
    "# ax1.set_ylabel('Reaction Time (ms)')\n",
    "ax1.boxplot(dallas_stores_2019)\n",
    "plt.show()"
   ]
  },
  {
   "cell_type": "code",
   "execution_count": null,
   "id": "f189731d",
   "metadata": {},
   "outputs": [],
   "source": []
  }
 ],
 "metadata": {
  "kernelspec": {
   "display_name": "Python 3",
   "language": "python",
   "name": "python3"
  },
  "language_info": {
   "codemirror_mode": {
    "name": "ipython",
    "version": 3
   },
   "file_extension": ".py",
   "mimetype": "text/x-python",
   "name": "python",
   "nbconvert_exporter": "python",
   "pygments_lexer": "ipython3",
   "version": "3.8.8"
  }
 },
 "nbformat": 4,
 "nbformat_minor": 5
}
