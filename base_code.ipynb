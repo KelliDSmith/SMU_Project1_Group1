{
 "cells": [
  {
   "cell_type": "code",
   "execution_count": 80,
   "id": "bd3a1d9b",
   "metadata": {},
   "outputs": [],
   "source": [
    "import pandas as pd\n",
    "import matplotlib.pyplot as plt\n",
    "import numpy as np"
   ]
  },
  {
   "cell_type": "code",
   "execution_count": 81,
   "id": "48b362e0",
   "metadata": {},
   "outputs": [],
   "source": [
    "data_all = \"Output/2019_2020_mixed_beverage\"\n",
    "\n",
    "\n",
    "df_all = pd.read_csv(data_all, encoding=\"utf-8\")"
   ]
  },
  {
   "cell_type": "code",
   "execution_count": 82,
   "id": "b7dd6bef",
   "metadata": {},
   "outputs": [
    {
     "data": {
      "text/html": [
       "<div>\n",
       "<style scoped>\n",
       "    .dataframe tbody tr th:only-of-type {\n",
       "        vertical-align: middle;\n",
       "    }\n",
       "\n",
       "    .dataframe tbody tr th {\n",
       "        vertical-align: top;\n",
       "    }\n",
       "\n",
       "    .dataframe thead th {\n",
       "        text-align: right;\n",
       "    }\n",
       "</style>\n",
       "<table border=\"1\" class=\"dataframe\">\n",
       "  <thead>\n",
       "    <tr style=\"text-align: right;\">\n",
       "      <th></th>\n",
       "      <th>taxpayer_number</th>\n",
       "      <th>taxpayer_name</th>\n",
       "      <th>taxpayer_address</th>\n",
       "      <th>taxpayer_city</th>\n",
       "      <th>taxpayer_state</th>\n",
       "      <th>taxpayer_zip</th>\n",
       "      <th>taxpayer_county</th>\n",
       "      <th>location_number</th>\n",
       "      <th>location_name</th>\n",
       "      <th>location_address</th>\n",
       "      <th>...</th>\n",
       "      <th>responsibility_begin_date_yyyymmdd</th>\n",
       "      <th>obligation_end_date_yyyymmdd</th>\n",
       "      <th>liquor_receipts</th>\n",
       "      <th>wine_receipts</th>\n",
       "      <th>beer_receipts</th>\n",
       "      <th>cover_charge_receipts</th>\n",
       "      <th>total_receipts</th>\n",
       "      <th>responsibility_end_date_yyyymmdd</th>\n",
       "      <th>year</th>\n",
       "      <th>month</th>\n",
       "    </tr>\n",
       "  </thead>\n",
       "  <tbody>\n",
       "    <tr>\n",
       "      <th>119995</th>\n",
       "      <td>32047286557</td>\n",
       "      <td>DIME BOX DISTILLERY LLC</td>\n",
       "      <td>1422 PRIVATE ROAD 1173</td>\n",
       "      <td>DIME BOX</td>\n",
       "      <td>TX</td>\n",
       "      <td>77853.0</td>\n",
       "      <td>144</td>\n",
       "      <td>1</td>\n",
       "      <td>DIME BOX DISTILLERY LLC</td>\n",
       "      <td>235 W RAILROAD ROW</td>\n",
       "      <td>...</td>\n",
       "      <td>2019-01-02T00:00:00.000</td>\n",
       "      <td>2020-12-31T00:00:00.000</td>\n",
       "      <td>1685</td>\n",
       "      <td>0</td>\n",
       "      <td>0</td>\n",
       "      <td>0</td>\n",
       "      <td>1685</td>\n",
       "      <td>NaN</td>\n",
       "      <td>2020</td>\n",
       "      <td>12</td>\n",
       "    </tr>\n",
       "    <tr>\n",
       "      <th>119996</th>\n",
       "      <td>17430007959</td>\n",
       "      <td>SJ2 RESTAURANT GROUP, LLC</td>\n",
       "      <td>PO BOX 100510</td>\n",
       "      <td>SAN ANTONIO</td>\n",
       "      <td>TX</td>\n",
       "      <td>78201.0</td>\n",
       "      <td>15</td>\n",
       "      <td>7</td>\n",
       "      <td>JARDIN</td>\n",
       "      <td>555 FUNSTON PL</td>\n",
       "      <td>...</td>\n",
       "      <td>2020-09-15T00:00:00.000</td>\n",
       "      <td>2020-12-31T00:00:00.000</td>\n",
       "      <td>20277</td>\n",
       "      <td>29423</td>\n",
       "      <td>1680</td>\n",
       "      <td>0</td>\n",
       "      <td>51380</td>\n",
       "      <td>NaN</td>\n",
       "      <td>2020</td>\n",
       "      <td>12</td>\n",
       "    </tr>\n",
       "    <tr>\n",
       "      <th>119997</th>\n",
       "      <td>17519330587</td>\n",
       "      <td>CHILI'S BEVERAGE COMPANY, INC.</td>\n",
       "      <td>3000 OLYMPUS BLVD C/O TAX DEPARTMENT</td>\n",
       "      <td>COPPELL</td>\n",
       "      <td>TX</td>\n",
       "      <td>75019.0</td>\n",
       "      <td>57</td>\n",
       "      <td>131</td>\n",
       "      <td>CHILI'S GRILL &amp; BAR</td>\n",
       "      <td>8008 DENTON HWY</td>\n",
       "      <td>...</td>\n",
       "      <td>2000-08-30T00:00:00.000</td>\n",
       "      <td>2020-12-31T00:00:00.000</td>\n",
       "      <td>16427</td>\n",
       "      <td>1056</td>\n",
       "      <td>8713</td>\n",
       "      <td>0</td>\n",
       "      <td>26196</td>\n",
       "      <td>NaN</td>\n",
       "      <td>2020</td>\n",
       "      <td>12</td>\n",
       "    </tr>\n",
       "    <tr>\n",
       "      <th>119998</th>\n",
       "      <td>32046211747</td>\n",
       "      <td>ES TRADING INTERNATIONAL CO.</td>\n",
       "      <td>3000 WOODRIDGE DR</td>\n",
       "      <td>HOUSTON</td>\n",
       "      <td>TX</td>\n",
       "      <td>77087.0</td>\n",
       "      <td>101</td>\n",
       "      <td>1</td>\n",
       "      <td>TACO PALENQUE</td>\n",
       "      <td>3000 WOODRIDGE DR</td>\n",
       "      <td>...</td>\n",
       "      <td>2018-11-09T00:00:00.000</td>\n",
       "      <td>2020-12-31T00:00:00.000</td>\n",
       "      <td>0</td>\n",
       "      <td>0</td>\n",
       "      <td>0</td>\n",
       "      <td>0</td>\n",
       "      <td>0</td>\n",
       "      <td>NaN</td>\n",
       "      <td>2020</td>\n",
       "      <td>12</td>\n",
       "    </tr>\n",
       "    <tr>\n",
       "      <th>119999</th>\n",
       "      <td>19108474867</td>\n",
       "      <td>RED ROBIN INTERNATIONAL, INC.</td>\n",
       "      <td>6312 S FIDDLERS GREEN CIR STE 200N</td>\n",
       "      <td>GREENWOOD VLG</td>\n",
       "      <td>CO</td>\n",
       "      <td>80111.0</td>\n",
       "      <td>0</td>\n",
       "      <td>6</td>\n",
       "      <td>RED ROBIN #445</td>\n",
       "      <td>3549 CATCLAW DR</td>\n",
       "      <td>...</td>\n",
       "      <td>2016-06-30T00:00:00.000</td>\n",
       "      <td>2020-12-31T00:00:00.000</td>\n",
       "      <td>1028</td>\n",
       "      <td>105</td>\n",
       "      <td>1762</td>\n",
       "      <td>0</td>\n",
       "      <td>2895</td>\n",
       "      <td>NaN</td>\n",
       "      <td>2020</td>\n",
       "      <td>12</td>\n",
       "    </tr>\n",
       "  </tbody>\n",
       "</table>\n",
       "<p>5 rows × 26 columns</p>\n",
       "</div>"
      ],
      "text/plain": [
       "        taxpayer_number                   taxpayer_name  \\\n",
       "119995      32047286557         DIME BOX DISTILLERY LLC   \n",
       "119996      17430007959       SJ2 RESTAURANT GROUP, LLC   \n",
       "119997      17519330587  CHILI'S BEVERAGE COMPANY, INC.   \n",
       "119998      32046211747    ES TRADING INTERNATIONAL CO.   \n",
       "119999      19108474867   RED ROBIN INTERNATIONAL, INC.   \n",
       "\n",
       "                            taxpayer_address  taxpayer_city taxpayer_state  \\\n",
       "119995                1422 PRIVATE ROAD 1173       DIME BOX             TX   \n",
       "119996                         PO BOX 100510    SAN ANTONIO             TX   \n",
       "119997  3000 OLYMPUS BLVD C/O TAX DEPARTMENT        COPPELL             TX   \n",
       "119998                     3000 WOODRIDGE DR        HOUSTON             TX   \n",
       "119999    6312 S FIDDLERS GREEN CIR STE 200N  GREENWOOD VLG             CO   \n",
       "\n",
       "        taxpayer_zip  taxpayer_county  location_number  \\\n",
       "119995       77853.0              144                1   \n",
       "119996       78201.0               15                7   \n",
       "119997       75019.0               57              131   \n",
       "119998       77087.0              101                1   \n",
       "119999       80111.0                0                6   \n",
       "\n",
       "                  location_name    location_address  ...  \\\n",
       "119995  DIME BOX DISTILLERY LLC  235 W RAILROAD ROW  ...   \n",
       "119996                   JARDIN      555 FUNSTON PL  ...   \n",
       "119997      CHILI'S GRILL & BAR     8008 DENTON HWY  ...   \n",
       "119998            TACO PALENQUE   3000 WOODRIDGE DR  ...   \n",
       "119999           RED ROBIN #445     3549 CATCLAW DR  ...   \n",
       "\n",
       "       responsibility_begin_date_yyyymmdd obligation_end_date_yyyymmdd  \\\n",
       "119995            2019-01-02T00:00:00.000      2020-12-31T00:00:00.000   \n",
       "119996            2020-09-15T00:00:00.000      2020-12-31T00:00:00.000   \n",
       "119997            2000-08-30T00:00:00.000      2020-12-31T00:00:00.000   \n",
       "119998            2018-11-09T00:00:00.000      2020-12-31T00:00:00.000   \n",
       "119999            2016-06-30T00:00:00.000      2020-12-31T00:00:00.000   \n",
       "\n",
       "        liquor_receipts  wine_receipts beer_receipts cover_charge_receipts  \\\n",
       "119995             1685              0             0                     0   \n",
       "119996            20277          29423          1680                     0   \n",
       "119997            16427           1056          8713                     0   \n",
       "119998                0              0             0                     0   \n",
       "119999             1028            105          1762                     0   \n",
       "\n",
       "       total_receipts responsibility_end_date_yyyymmdd  year  month  \n",
       "119995           1685                              NaN  2020     12  \n",
       "119996          51380                              NaN  2020     12  \n",
       "119997          26196                              NaN  2020     12  \n",
       "119998              0                              NaN  2020     12  \n",
       "119999           2895                              NaN  2020     12  \n",
       "\n",
       "[5 rows x 26 columns]"
      ]
     },
     "execution_count": 82,
     "metadata": {},
     "output_type": "execute_result"
    }
   ],
   "source": [
    "#efficient way to extract year from string format date\n",
    "df_all['year'] = pd.DatetimeIndex(df_all['obligation_end_date_yyyymmdd']).year\n",
    "df_all['month'] = pd.DatetimeIndex(df_all['obligation_end_date_yyyymmdd']).month\n",
    "df_all.tail()"
   ]
  },
  {
   "cell_type": "code",
   "execution_count": 83,
   "id": "aff6f6ef",
   "metadata": {},
   "outputs": [],
   "source": [
    "#df_all['sales'] = pd.Index(df_all['total_receipts'])\n",
    "\n",
    "#total = df_all['total_receipts'].sum('year'==2020)\n",
    "#print(total)\n",
    "\n",
    "sales_2019 = df_all.loc[df_all['year'] == 2019, 'total_receipts'].sum()\n",
    "sales_2020 = df_all.loc[df_all['year'] == 2020, 'total_receipts'].sum()\n"
   ]
  },
  {
   "cell_type": "code",
   "execution_count": 84,
   "id": "1aab139b",
   "metadata": {},
   "outputs": [],
   "source": [
    "years = [\"2019\",\"2020\"]\n",
    "total_sales = [sales_2019, sales_2020]\n",
    "x_axis = np.arange(len(total_sales))\n",
    "#y_axis = np.arange(len(years))"
   ]
  },
  {
   "cell_type": "code",
   "execution_count": 85,
   "id": "b7fb9a78",
   "metadata": {},
   "outputs": [
    {
     "data": {
      "text/plain": [
       "Text(0.5, 1.0, 'Total Liquor Sales in Texas - 2019 vs. 2020')"
      ]
     },
     "execution_count": 85,
     "metadata": {},
     "output_type": "execute_result"
    },
    {
     "data": {
      "image/png": "[encoded data removed]",
      "text/plain": [
       "<Figure size 432x288 with 1 Axes>"
      ]
     },
     "metadata": {
      "needs_background": "light"
     },
     "output_type": "display_data"
    }
   ],
   "source": [
    "plt.bar(years, total_sales, color=\"b\", align=\"center\")\n",
    "hfont = {'fontname':'Tahoma'}\n",
    "plt.xlabel(\"Years\", **hfont)\n",
    "plt.ylabel(\"Total Sales (by millions)\", **hfont)\n",
    "plt.title(\"Total Liquor Sales in Texas - 2019 vs. 2020\", **hfont)"
   ]
  },
  {
   "cell_type": "code",
   "execution_count": 86,
   "id": "54b42eaa",
   "metadata": {},
   "outputs": [
    {
     "name": "stdout",
     "output_type": "stream",
     "text": [
      "The difference in liquor sales from 2019 to 2020 was $1032182329.\n"
     ]
    }
   ],
   "source": [
    "difference_2019_2020 = sales_2019 - sales_2020\n",
    "print(f\"The difference in liquor sales from 2019 to 2020 was ${difference_2019_2020}.\")"
   ]
  },
  {
   "cell_type": "code",
   "execution_count": 87,
   "id": "1c63ee30",
   "metadata": {},
   "outputs": [],
   "source": [
    "sales_Jan_2019 = df_all.loc[(df_all['month'] == 1) & (df_all['year'] == 2019), 'total_receipts'].sum()\n",
    "sales_Feb_2019 = df_all.loc[(df_all['month'] == 2) & (df_all['year'] == 2019), 'total_receipts'].sum()\n",
    "sales_Mar_2019 = df_all.loc[(df_all['month'] == 3) & (df_all['year'] == 2019), 'total_receipts'].sum()\n",
    "sales_Apr_2019 = df_all.loc[(df_all['month'] == 4) & (df_all['year'] == 2019), 'total_receipts'].sum()\n",
    "sales_May_2019 = df_all.loc[(df_all['month'] == 5) & (df_all['year'] == 2019), 'total_receipts'].sum()\n",
    "sales_Jun_2019 = df_all.loc[(df_all['month'] == 6) & (df_all['year'] == 2019), 'total_receipts'].sum()\n",
    "sales_Jul_2019 = df_all.loc[(df_all['month'] == 7) & (df_all['year'] == 2019), 'total_receipts'].sum()\n",
    "sales_Aug_2019 = df_all.loc[(df_all['month'] == 8) & (df_all['year'] == 2019), 'total_receipts'].sum()\n",
    "sales_Sep_2019 = df_all.loc[(df_all['month'] == 9) & (df_all['year'] == 2019), 'total_receipts'].sum()\n",
    "sales_Oct_2019 = df_all.loc[(df_all['month'] == 10) & (df_all['year'] == 2019), 'total_receipts'].sum()\n",
    "sales_Nov_2019 = df_all.loc[(df_all['month'] == 11) & (df_all['year'] == 2019), 'total_receipts'].sum()\n",
    "sales_Dec_2019 = df_all.loc[(df_all['month'] == 12) & (df_all['year'] == 2019), 'total_receipts'].sum()"
   ]
  },
  {
   "cell_type": "code",
   "execution_count": 88,
   "id": "1a9f832f",
   "metadata": {},
   "outputs": [],
   "source": [
    "months_2019 = [\"1\",\"2\",\"3\",\"4\",\"5\",\"6\",\"7\",\"8\",\"9\",\"10\",\"11\",\"12\"]\n",
    "monthly_sales_2019 = [sales_Jan_2019, sales_Feb_2019, sales_Mar_2019, sales_Apr_2019, sales_May_2019, sales_Jun_2019, sales_Jul_2019, sales_Aug_2019, sales_Sep_2019, sales_Oct_2019, sales_Nov_2019, sales_Dec_2019]\n",
    "x_axis = np.arange(len(monthly_sales_2019))"
   ]
  },
  {
   "cell_type": "code",
   "execution_count": 96,
   "id": "f08df726",
   "metadata": {},
   "outputs": [
    {
     "data": {
      "text/plain": [
       "Text(0.5, 1.0, 'Texas Liquor Sales - 2019 (By Month)')"
      ]
     },
     "execution_count": 96,
     "metadata": {},
     "output_type": "execute_result"
    },
    {
     "data": {
      "image/png": "[encoded data removed]",
      "text/plain": [
       "<Figure size 432x288 with 1 Axes>"
      ]
     },
     "metadata": {
      "needs_background": "light"
     },
     "output_type": "display_data"
    }
   ],
   "source": [
    "plt.plot(months_2019, monthly_sales_2019)\n",
    "hfont = {'fontname':'Tahoma'}\n",
    "plt.xlabel(\"Months (2019)\", **hfont)\n",
    "plt.ylabel(\"Total Sales (by millions)\", **hfont)\n",
    "plt.title(\"Texas Liquor Sales - 2019 (By Month)\", **hfont)"
   ]
  },
  {
   "cell_type": "code",
   "execution_count": 90,
   "id": "231bf8b7",
   "metadata": {},
   "outputs": [],
   "source": [
    "sales_Jan_2020 = df_all.loc[(df_all['month'] == 1) & (df_all['year'] == 2020), 'total_receipts'].sum()\n",
    "sales_Feb_2020 = df_all.loc[(df_all['month'] == 2) & (df_all['year'] == 2020), 'total_receipts'].sum()\n",
    "sales_Mar_2020 = df_all.loc[(df_all['month'] == 3) & (df_all['year'] == 2020), 'total_receipts'].sum()\n",
    "sales_Apr_2020 = df_all.loc[(df_all['month'] == 4) & (df_all['year'] == 2020), 'total_receipts'].sum()\n",
    "sales_May_2020 = df_all.loc[(df_all['month'] == 5) & (df_all['year'] == 2020), 'total_receipts'].sum()\n",
    "sales_Jun_2020 = df_all.loc[(df_all['month'] == 6) & (df_all['year'] == 2020), 'total_receipts'].sum()\n",
    "sales_Jul_2020 = df_all.loc[(df_all['month'] == 7) & (df_all['year'] == 2020), 'total_receipts'].sum()\n",
    "sales_Aug_2020 = df_all.loc[(df_all['month'] == 8) & (df_all['year'] == 2020), 'total_receipts'].sum()\n",
    "sales_Sep_2020 = df_all.loc[(df_all['month'] == 9) & (df_all['year'] == 2020), 'total_receipts'].sum()\n",
    "sales_Oct_2020 = df_all.loc[(df_all['month'] == 10) & (df_all['year'] == 2020), 'total_receipts'].sum()\n",
    "sales_Nov_2020 = df_all.loc[(df_all['month'] == 11) & (df_all['year'] == 2020), 'total_receipts'].sum()\n",
    "sales_Dec_2020 = df_all.loc[(df_all['month'] == 12) & (df_all['year'] == 2020), 'total_receipts'].sum()"
   ]
  },
  {
   "cell_type": "code",
   "execution_count": 91,
   "id": "61cd9282",
   "metadata": {},
   "outputs": [],
   "source": [
    "months_2020 = [\"1\",\"2\",\"3\",\"4\",\"5\",\"6\",\"7\",\"8\",\"9\",\"10\",\"11\",\"12\"]\n",
    "monthly_sales_2020 = [sales_Jan_2020, sales_Feb_2020, sales_Mar_2020, sales_Apr_2020, sales_May_2020, sales_Jun_2020, sales_Jul_2020, sales_Aug_2020, sales_Sep_2020, sales_Oct_2020, sales_Nov_2020, sales_Dec_2020]\n",
    "x_axis = np.arange(len(monthly_sales_2020))"
   ]
  },
  {
   "cell_type": "code",
   "execution_count": 94,
   "id": "468b62e2",
   "metadata": {},
   "outputs": [
    {
     "data": {
      "text/plain": [
       "Text(0.5, 1.0, 'Texas Liquor Sales - 2020 (By Month)')"
      ]
     },
     "execution_count": 94,
     "metadata": {},
     "output_type": "execute_result"
    },
    {
     "data": {
      "image/png": "[encoded data removed]",
      "text/plain": [
       "<Figure size 432x288 with 1 Axes>"
      ]
     },
     "metadata": {
      "needs_background": "light"
     },
     "output_type": "display_data"
    }
   ],
   "source": [
    "plt.plot(months_2020, monthly_sales_2020)\n",
    "hfont = {'fontname':'Tahoma'}\n",
    "plt.xlabel(\"Months (2020)\", **hfont)\n",
    "plt.ylabel(\"Total Sales (by millions)\", **hfont)\n",
    "plt.title(\"Texas Liquor Sales - 2020 (By Month)\", **hfont)"
   ]
  },
  {
   "cell_type": "code",
   "execution_count": 95,
   "id": "0bbb3169",
   "metadata": {},
   "outputs": [
    {
     "data": {
      "image/png": "[encoded data removed]",
      "text/plain": [
       "<Figure size 432x288 with 1 Axes>"
      ]
     },
     "metadata": {
      "needs_background": "light"
     },
     "output_type": "display_data"
    }
   ],
   "source": [
    "plt.plot()\n",
    "plt.show()"
   ]
  },
  {
   "cell_type": "code",
   "execution_count": null,
   "id": "4a56942a",
   "metadata": {},
   "outputs": [],
   "source": []
  }
 ],
 "metadata": {
  "kernelspec": {
   "display_name": "Python 3",
   "language": "python",
   "name": "python3"
  },
  "language_info": {
   "codemirror_mode": {
    "name": "ipython",
    "version": 3
   },
   "file_extension": ".py",
   "mimetype": "text/x-python",
   "name": "python",
   "nbconvert_exporter": "python",
   "pygments_lexer": "ipython3",
   "version": "3.8.8"
  }
 },
 "nbformat": 4,
 "nbformat_minor": 5
}
