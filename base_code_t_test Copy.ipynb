{
 "cells": [
  {
   "cell_type": "code",
   "execution_count": 57,
   "id": "bd3a1d9b",
   "metadata": {},
   "outputs": [],
   "source": [
    "import pandas as pd\n",
    "import scipy.stats as stats\n",
    "import matplotlib.pyplot as plt\n",
    "import numpy as np\n",
    "from matplotlib import colors\n",
    "from matplotlib.ticker import PercentFormatter"
   ]
  },
  {
   "cell_type": "code",
   "execution_count": 58,
   "id": "48b362e0",
   "metadata": {},
   "outputs": [],
   "source": [
    "data_all = \"Output/2019_2020_mixed_beverage\"\n",
    "\n",
    "\n",
    "df_all = pd.read_csv(data_all, encoding=\"utf-8\")\n"
   ]
  },
  {
   "cell_type": "code",
   "execution_count": 59,
   "id": "b7dd6bef",
   "metadata": {},
   "outputs": [
    {
     "data": {
      "text/html": [
       "<div>\n",
       "<style scoped>\n",
       "    .dataframe tbody tr th:only-of-type {\n",
       "        vertical-align: middle;\n",
       "    }\n",
       "\n",
       "    .dataframe tbody tr th {\n",
       "        vertical-align: top;\n",
       "    }\n",
       "\n",
       "    .dataframe thead th {\n",
       "        text-align: right;\n",
       "    }\n",
       "</style>\n",
       "<table border=\"1\" class=\"dataframe\">\n",
       "  <thead>\n",
       "    <tr style=\"text-align: right;\">\n",
       "      <th></th>\n",
       "      <th>taxpayer_number</th>\n",
       "      <th>taxpayer_name</th>\n",
       "      <th>taxpayer_address</th>\n",
       "      <th>taxpayer_city</th>\n",
       "      <th>taxpayer_state</th>\n",
       "      <th>taxpayer_zip</th>\n",
       "      <th>taxpayer_county</th>\n",
       "      <th>location_number</th>\n",
       "      <th>location_name</th>\n",
       "      <th>location_address</th>\n",
       "      <th>...</th>\n",
       "      <th>responsibility_begin_date_yyyymmdd</th>\n",
       "      <th>obligation_end_date_yyyymmdd</th>\n",
       "      <th>liquor_receipts</th>\n",
       "      <th>wine_receipts</th>\n",
       "      <th>beer_receipts</th>\n",
       "      <th>cover_charge_receipts</th>\n",
       "      <th>total_receipts</th>\n",
       "      <th>responsibility_end_date_yyyymmdd</th>\n",
       "      <th>year</th>\n",
       "      <th>month</th>\n",
       "    </tr>\n",
       "  </thead>\n",
       "  <tbody>\n",
       "    <tr>\n",
       "      <th>0</th>\n",
       "      <td>32068897456</td>\n",
       "      <td>HC&amp;K, LLC</td>\n",
       "      <td>7035 W GRAND PKWY S STE 10</td>\n",
       "      <td>RICHMOND</td>\n",
       "      <td>TX</td>\n",
       "      <td>77407.0</td>\n",
       "      <td>79</td>\n",
       "      <td>1</td>\n",
       "      <td>TOP SUSHI</td>\n",
       "      <td>7035 W GRAND PKWY S STE 10</td>\n",
       "      <td>...</td>\n",
       "      <td>2019-01-16T00:00:00.000</td>\n",
       "      <td>2019-01-31T00:00:00.000</td>\n",
       "      <td>0</td>\n",
       "      <td>0</td>\n",
       "      <td>0</td>\n",
       "      <td>0</td>\n",
       "      <td>0</td>\n",
       "      <td>NaN</td>\n",
       "      <td>2019</td>\n",
       "      <td>1</td>\n",
       "    </tr>\n",
       "    <tr>\n",
       "      <th>1</th>\n",
       "      <td>32051593963</td>\n",
       "      <td>J &amp; J ACKERMAN CORP.</td>\n",
       "      <td>PO BOX 939</td>\n",
       "      <td>GRANGER</td>\n",
       "      <td>TX</td>\n",
       "      <td>76530.0</td>\n",
       "      <td>246</td>\n",
       "      <td>3</td>\n",
       "      <td>COTTON COUNTRY CLUB</td>\n",
       "      <td>212 E DAVILLA ST</td>\n",
       "      <td>...</td>\n",
       "      <td>2019-01-28T00:00:00.000</td>\n",
       "      <td>2019-01-31T00:00:00.000</td>\n",
       "      <td>0</td>\n",
       "      <td>0</td>\n",
       "      <td>0</td>\n",
       "      <td>0</td>\n",
       "      <td>0</td>\n",
       "      <td>NaN</td>\n",
       "      <td>2019</td>\n",
       "      <td>1</td>\n",
       "    </tr>\n",
       "    <tr>\n",
       "      <th>2</th>\n",
       "      <td>32046106475</td>\n",
       "      <td>FJ RESTAURANT INC</td>\n",
       "      <td>9300 S INTERSTATE 35 STE 8500 # 431</td>\n",
       "      <td>AUSTIN</td>\n",
       "      <td>TX</td>\n",
       "      <td>78748.0</td>\n",
       "      <td>227</td>\n",
       "      <td>2</td>\n",
       "      <td>TAQUERIA MEXICANO GRILLE</td>\n",
       "      <td>10207 CHINA SPRING RD STE 140</td>\n",
       "      <td>...</td>\n",
       "      <td>2019-06-19T00:00:00.000</td>\n",
       "      <td>2019-01-31T00:00:00.000</td>\n",
       "      <td>10013</td>\n",
       "      <td>0</td>\n",
       "      <td>8648</td>\n",
       "      <td>0</td>\n",
       "      <td>18661</td>\n",
       "      <td>NaN</td>\n",
       "      <td>2019</td>\n",
       "      <td>1</td>\n",
       "    </tr>\n",
       "    <tr>\n",
       "      <th>3</th>\n",
       "      <td>32054228120</td>\n",
       "      <td>S &amp; KW CORPORATION</td>\n",
       "      <td>6617 CHIMNEY ROCK RD</td>\n",
       "      <td>HOUSTON</td>\n",
       "      <td>TX</td>\n",
       "      <td>77081.0</td>\n",
       "      <td>101</td>\n",
       "      <td>1</td>\n",
       "      <td>NAZARETH CAFE</td>\n",
       "      <td>6617 CHIMNEY ROCK RD</td>\n",
       "      <td>...</td>\n",
       "      <td>2014-08-01T00:00:00.000</td>\n",
       "      <td>2019-01-31T00:00:00.000</td>\n",
       "      <td>3212</td>\n",
       "      <td>0</td>\n",
       "      <td>2509</td>\n",
       "      <td>0</td>\n",
       "      <td>5721</td>\n",
       "      <td>NaN</td>\n",
       "      <td>2019</td>\n",
       "      <td>1</td>\n",
       "    </tr>\n",
       "    <tr>\n",
       "      <th>4</th>\n",
       "      <td>32000861685</td>\n",
       "      <td>FOUNTAIN FOODS, INC.</td>\n",
       "      <td>25600 WESTHEIMER PKWY STE 110</td>\n",
       "      <td>KATY</td>\n",
       "      <td>TX</td>\n",
       "      <td>77494.0</td>\n",
       "      <td>79</td>\n",
       "      <td>2</td>\n",
       "      <td>HARVEST ORGANIC GRILLE</td>\n",
       "      <td>1810 FOUNTAIN VIEW DR</td>\n",
       "      <td>...</td>\n",
       "      <td>2012-08-21T00:00:00.000</td>\n",
       "      <td>2019-01-31T00:00:00.000</td>\n",
       "      <td>0</td>\n",
       "      <td>0</td>\n",
       "      <td>0</td>\n",
       "      <td>0</td>\n",
       "      <td>0</td>\n",
       "      <td>2019-06-01T00:00:00.000</td>\n",
       "      <td>2019</td>\n",
       "      <td>1</td>\n",
       "    </tr>\n",
       "  </tbody>\n",
       "</table>\n",
       "<p>5 rows × 26 columns</p>\n",
       "</div>"
      ],
      "text/plain": [
       "   taxpayer_number         taxpayer_name                     taxpayer_address  \\\n",
       "0      32068897456             HC&K, LLC           7035 W GRAND PKWY S STE 10   \n",
       "1      32051593963  J & J ACKERMAN CORP.                           PO BOX 939   \n",
       "2      32046106475     FJ RESTAURANT INC  9300 S INTERSTATE 35 STE 8500 # 431   \n",
       "3      32054228120    S & KW CORPORATION                 6617 CHIMNEY ROCK RD   \n",
       "4      32000861685  FOUNTAIN FOODS, INC.        25600 WESTHEIMER PKWY STE 110   \n",
       "\n",
       "  taxpayer_city taxpayer_state  taxpayer_zip  taxpayer_county  \\\n",
       "0      RICHMOND             TX       77407.0               79   \n",
       "1       GRANGER             TX       76530.0              246   \n",
       "2        AUSTIN             TX       78748.0              227   \n",
       "3       HOUSTON             TX       77081.0              101   \n",
       "4          KATY             TX       77494.0               79   \n",
       "\n",
       "   location_number             location_name               location_address  \\\n",
       "0                1                 TOP SUSHI     7035 W GRAND PKWY S STE 10   \n",
       "1                3       COTTON COUNTRY CLUB               212 E DAVILLA ST   \n",
       "2                2  TAQUERIA MEXICANO GRILLE  10207 CHINA SPRING RD STE 140   \n",
       "3                1             NAZARETH CAFE           6617 CHIMNEY ROCK RD   \n",
       "4                2    HARVEST ORGANIC GRILLE          1810 FOUNTAIN VIEW DR   \n",
       "\n",
       "   ... responsibility_begin_date_yyyymmdd obligation_end_date_yyyymmdd  \\\n",
       "0  ...            2019-01-16T00:00:00.000      2019-01-31T00:00:00.000   \n",
       "1  ...            2019-01-28T00:00:00.000      2019-01-31T00:00:00.000   \n",
       "2  ...            2019-06-19T00:00:00.000      2019-01-31T00:00:00.000   \n",
       "3  ...            2014-08-01T00:00:00.000      2019-01-31T00:00:00.000   \n",
       "4  ...            2012-08-21T00:00:00.000      2019-01-31T00:00:00.000   \n",
       "\n",
       "   liquor_receipts  wine_receipts beer_receipts cover_charge_receipts  \\\n",
       "0                0              0             0                     0   \n",
       "1                0              0             0                     0   \n",
       "2            10013              0          8648                     0   \n",
       "3             3212              0          2509                     0   \n",
       "4                0              0             0                     0   \n",
       "\n",
       "  total_receipts responsibility_end_date_yyyymmdd  year  month  \n",
       "0              0                              NaN  2019      1  \n",
       "1              0                              NaN  2019      1  \n",
       "2          18661                              NaN  2019      1  \n",
       "3           5721                              NaN  2019      1  \n",
       "4              0          2019-06-01T00:00:00.000  2019      1  \n",
       "\n",
       "[5 rows x 26 columns]"
      ]
     },
     "execution_count": 59,
     "metadata": {},
     "output_type": "execute_result"
    }
   ],
   "source": [
    "#efficient way to extract year from string format date\n",
    "df_all['year'] = pd.DatetimeIndex(df_all['obligation_end_date_yyyymmdd']).year\n",
    "df_all['month'] = pd.DatetimeIndex(df_all['obligation_end_date_yyyymmdd']).month\n",
    "df_all.head()"
   ]
  },
  {
   "cell_type": "code",
   "execution_count": 60,
   "id": "aff6f6ef",
   "metadata": {},
   "outputs": [
    {
     "name": "stdout",
     "output_type": "stream",
     "text": [
      "<class 'pandas.core.frame.DataFrame'>\n",
      "RangeIndex: 120000 entries, 0 to 119999\n",
      "Data columns (total 26 columns):\n",
      " #   Column                               Non-Null Count   Dtype  \n",
      "---  ------                               --------------   -----  \n",
      " 0   taxpayer_number                      120000 non-null  int64  \n",
      " 1   taxpayer_name                        120000 non-null  object \n",
      " 2   taxpayer_address                     120000 non-null  object \n",
      " 3   taxpayer_city                        120000 non-null  object \n",
      " 4   taxpayer_state                       119912 non-null  object \n",
      " 5   taxpayer_zip                         119912 non-null  float64\n",
      " 6   taxpayer_county                      120000 non-null  int64  \n",
      " 7   location_number                      120000 non-null  int64  \n",
      " 8   location_name                        120000 non-null  object \n",
      " 9   location_address                     120000 non-null  object \n",
      " 10  location_city                        120000 non-null  object \n",
      " 11  location_state                       120000 non-null  object \n",
      " 12  location_zip                         120000 non-null  int64  \n",
      " 13  location_county                      120000 non-null  int64  \n",
      " 14  inside_outside_city_limits_code_y_n  120000 non-null  object \n",
      " 15  tabc_permit_number                   120000 non-null  object \n",
      " 16  responsibility_begin_date_yyyymmdd   120000 non-null  object \n",
      " 17  obligation_end_date_yyyymmdd         120000 non-null  object \n",
      " 18  liquor_receipts                      120000 non-null  int64  \n",
      " 19  wine_receipts                        120000 non-null  int64  \n",
      " 20  beer_receipts                        120000 non-null  int64  \n",
      " 21  cover_charge_receipts                120000 non-null  int64  \n",
      " 22  total_receipts                       120000 non-null  int64  \n",
      " 23  responsibility_end_date_yyyymmdd     5016 non-null    object \n",
      " 24  year                                 120000 non-null  int64  \n",
      " 25  month                                120000 non-null  int64  \n",
      "dtypes: float64(1), int64(12), object(13)\n",
      "memory usage: 23.8+ MB\n"
     ]
    }
   ],
   "source": [
    "df_all.info()"
   ]
  },
  {
   "cell_type": "code",
   "execution_count": 61,
   "id": "23446599",
   "metadata": {},
   "outputs": [
    {
     "data": {
      "text/plain": [
       "3             HOUSTON\n",
       "4             HOUSTON\n",
       "5              DALLAS\n",
       "10             AUSTIN\n",
       "12            HOUSTON\n",
       "             ...     \n",
       "119989        HOUSTON\n",
       "119990    SAN ANTONIO\n",
       "119994        HOUSTON\n",
       "119996    SAN ANTONIO\n",
       "119998        HOUSTON\n",
       "Name: location_city, Length: 44006, dtype: object"
      ]
     },
     "execution_count": 61,
     "metadata": {},
     "output_type": "execute_result"
    }
   ],
   "source": [
    "city_mask = (df_all.location_city == \"HOUSTON\")|(df_all.location_city == \"DALLAS\")|(df_all.location_city == \"FORT WORTH\")|(df_all.location_city == \"SAN ANTONIO\")|(df_all.location_city == \"AUSTIN\")\n",
    "dfcities = df_all[city_mask]\n",
    "dfcities.location_city"
   ]
  },
  {
   "cell_type": "code",
   "execution_count": 62,
   "id": "890a8a06",
   "metadata": {},
   "outputs": [
    {
     "data": {
      "text/html": [
       "<div>\n",
       "<style scoped>\n",
       "    .dataframe tbody tr th:only-of-type {\n",
       "        vertical-align: middle;\n",
       "    }\n",
       "\n",
       "    .dataframe tbody tr th {\n",
       "        vertical-align: top;\n",
       "    }\n",
       "\n",
       "    .dataframe thead th {\n",
       "        text-align: right;\n",
       "    }\n",
       "</style>\n",
       "<table border=\"1\" class=\"dataframe\">\n",
       "  <thead>\n",
       "    <tr style=\"text-align: right;\">\n",
       "      <th></th>\n",
       "      <th>location_city</th>\n",
       "      <th>total_receipts</th>\n",
       "    </tr>\n",
       "  </thead>\n",
       "  <tbody>\n",
       "    <tr>\n",
       "      <th>3</th>\n",
       "      <td>HOUSTON</td>\n",
       "      <td>5721</td>\n",
       "    </tr>\n",
       "    <tr>\n",
       "      <th>4</th>\n",
       "      <td>HOUSTON</td>\n",
       "      <td>0</td>\n",
       "    </tr>\n",
       "    <tr>\n",
       "      <th>5</th>\n",
       "      <td>DALLAS</td>\n",
       "      <td>0</td>\n",
       "    </tr>\n",
       "    <tr>\n",
       "      <th>10</th>\n",
       "      <td>AUSTIN</td>\n",
       "      <td>24068</td>\n",
       "    </tr>\n",
       "    <tr>\n",
       "      <th>12</th>\n",
       "      <td>HOUSTON</td>\n",
       "      <td>40336</td>\n",
       "    </tr>\n",
       "  </tbody>\n",
       "</table>\n",
       "</div>"
      ],
      "text/plain": [
       "   location_city  total_receipts\n",
       "3        HOUSTON            5721\n",
       "4        HOUSTON               0\n",
       "5         DALLAS               0\n",
       "10        AUSTIN           24068\n",
       "12       HOUSTON           40336"
      ]
     },
     "execution_count": 62,
     "metadata": {},
     "output_type": "execute_result"
    }
   ],
   "source": [
    "new_df = dfcities[['location_city' , 'total_receipts']]\n",
    "new_df.head()"
   ]
  },
  {
   "cell_type": "code",
   "execution_count": 63,
   "id": "8d7a3b46",
   "metadata": {
    "scrolled": true
   },
   "outputs": [
    {
     "data": {
      "text/plain": [
       "location_city\n",
       "AUSTIN          7891\n",
       "DALLAS          9582\n",
       "FORT WORTH      4120\n",
       "HOUSTON        14723\n",
       "SAN ANTONIO     7690\n",
       "dtype: int64"
      ]
     },
     "execution_count": 63,
     "metadata": {},
     "output_type": "execute_result"
    }
   ],
   "source": [
    "new_df.groupby(\"location_city\").size()"
   ]
  },
  {
   "cell_type": "code",
   "execution_count": 64,
   "id": "c7dca033",
   "metadata": {},
   "outputs": [
    {
     "data": {
      "text/html": [
       "<div>\n",
       "<style scoped>\n",
       "    .dataframe tbody tr th:only-of-type {\n",
       "        vertical-align: middle;\n",
       "    }\n",
       "\n",
       "    .dataframe tbody tr th {\n",
       "        vertical-align: top;\n",
       "    }\n",
       "\n",
       "    .dataframe thead th {\n",
       "        text-align: right;\n",
       "    }\n",
       "</style>\n",
       "<table border=\"1\" class=\"dataframe\">\n",
       "  <thead>\n",
       "    <tr style=\"text-align: right;\">\n",
       "      <th></th>\n",
       "      <th>total_receipts</th>\n",
       "    </tr>\n",
       "    <tr>\n",
       "      <th>location_city</th>\n",
       "      <th></th>\n",
       "    </tr>\n",
       "  </thead>\n",
       "  <tbody>\n",
       "    <tr>\n",
       "      <th>AUSTIN</th>\n",
       "      <td>51995.098720</td>\n",
       "    </tr>\n",
       "    <tr>\n",
       "      <th>DALLAS</th>\n",
       "      <td>46575.526299</td>\n",
       "    </tr>\n",
       "    <tr>\n",
       "      <th>FORT WORTH</th>\n",
       "      <td>36564.576214</td>\n",
       "    </tr>\n",
       "    <tr>\n",
       "      <th>HOUSTON</th>\n",
       "      <td>39860.013720</td>\n",
       "    </tr>\n",
       "    <tr>\n",
       "      <th>SAN ANTONIO</th>\n",
       "      <td>40220.662419</td>\n",
       "    </tr>\n",
       "  </tbody>\n",
       "</table>\n",
       "</div>"
      ],
      "text/plain": [
       "               total_receipts\n",
       "location_city                \n",
       "AUSTIN           51995.098720\n",
       "DALLAS           46575.526299\n",
       "FORT WORTH       36564.576214\n",
       "HOUSTON          39860.013720\n",
       "SAN ANTONIO      40220.662419"
      ]
     },
     "execution_count": 64,
     "metadata": {},
     "output_type": "execute_result"
    }
   ],
   "source": [
    "# not important to anyone else but we are meaning the reciepts\n",
    "new_df.groupby(\"location_city\").mean()"
   ]
  },
  {
   "cell_type": "code",
   "execution_count": 65,
   "id": "5c1414bd",
   "metadata": {},
   "outputs": [
    {
     "data": {
      "image/png": "[encoded data removed]",
      "text/plain": [
       "<Figure size 720x432 with 1 Axes>"
      ]
     },
     "metadata": {
      "needs_background": "light"
     },
     "output_type": "display_data"
    },
    {
     "data": {
      "image/png": "[encoded data removed]",
      "text/plain": [
       "<Figure size 720x432 with 1 Axes>"
      ]
     },
     "metadata": {
      "needs_background": "light"
     },
     "output_type": "display_data"
    },
    {
     "data": {
      "image/png": "[encoded data removed]",
      "text/plain": [
       "<Figure size 720x432 with 1 Axes>"
      ]
     },
     "metadata": {
      "needs_background": "light"
     },
     "output_type": "display_data"
    },
    {
     "data": {
      "image/png": "[encoded data removed]",
      "text/plain": [
       "<Figure size 720x432 with 1 Axes>"
      ]
     },
     "metadata": {
      "needs_background": "light"
     },
     "output_type": "display_data"
    },
    {
     "data": {
      "image/png": "[encoded data removed]",
      "text/plain": [
       "<Figure size 720x432 with 1 Axes>"
      ]
     },
     "metadata": {
      "needs_background": "light"
     },
     "output_type": "display_data"
    }
   ],
   "source": [
    "City_location = new_df.location_city.unique()\n",
    "\n",
    "for location_city in locations:\n",
    "    plt.figure(figsize=(10,6))\n",
    "    data = new_df.loc[new_df.location_city == location_city]\n",
    "    \n",
    "    plt.hist(data.total_receipts)\n",
    "    plt.title(f\"Location ID: {location_city}\")\n",
    "    plt.show()"
   ]
  },
  {
   "cell_type": "code",
   "execution_count": 46,
   "id": "83c738c9",
   "metadata": {},
   "outputs": [
    {
     "data": {
      "text/plain": [
       "39860.013720029885"
      ]
     },
     "execution_count": 46,
     "metadata": {},
     "output_type": "execute_result"
    }
   ],
   "source": [
    "population1 = new_df[new_df[\"location_city\"] == \"HOUSTON\"]\n",
    "population1.total_receipts.mean()"
   ]
  },
  {
   "cell_type": "code",
   "execution_count": 47,
   "id": "1f87dee7",
   "metadata": {},
   "outputs": [
    {
     "data": {
      "text/plain": [
       "46575.52629931121"
      ]
     },
     "execution_count": 47,
     "metadata": {},
     "output_type": "execute_result"
    }
   ],
   "source": [
    "population2 = new_df[new_df[\"location_city\"] == \"DALLAS\"]\n",
    "population2.total_receipts.mean()"
   ]
  },
  {
   "cell_type": "code",
   "execution_count": 11,
   "id": "1fc0a9ce",
   "metadata": {},
   "outputs": [
    {
     "data": {
      "text/plain": [
       "Ttest_indResult(statistic=-6.323955524500319, pvalue=2.6087290237243133e-10)"
      ]
     },
     "execution_count": 11,
     "metadata": {},
     "output_type": "execute_result"
    }
   ],
   "source": [
    "stats.ttest_ind(population1.total_receipts, population2.total_receipts, equal_var=False)"
   ]
  },
  {
   "cell_type": "code",
   "execution_count": null,
   "id": "8bf8e108",
   "metadata": {},
   "outputs": [],
   "source": []
  },
  {
   "cell_type": "code",
   "execution_count": null,
   "id": "93ed9b4e",
   "metadata": {},
   "outputs": [],
   "source": []
  },
  {
   "cell_type": "code",
   "execution_count": null,
   "id": "46ea0a44",
   "metadata": {},
   "outputs": [],
   "source": []
  },
  {
   "cell_type": "code",
   "execution_count": null,
   "id": "59761779",
   "metadata": {},
   "outputs": [],
   "source": []
  },
  {
   "cell_type": "code",
   "execution_count": null,
   "id": "b95cbefb",
   "metadata": {},
   "outputs": [],
   "source": []
  },
  {
   "cell_type": "code",
   "execution_count": null,
   "id": "388da33b",
   "metadata": {},
   "outputs": [],
   "source": []
  },
  {
   "cell_type": "code",
   "execution_count": null,
   "id": "76cfdb88",
   "metadata": {},
   "outputs": [],
   "source": []
  },
  {
   "cell_type": "code",
   "execution_count": null,
   "id": "e08a332f",
   "metadata": {},
   "outputs": [],
   "source": []
  },
  {
   "cell_type": "code",
   "execution_count": null,
   "id": "1e1721f2",
   "metadata": {},
   "outputs": [],
   "source": []
  },
  {
   "cell_type": "code",
   "execution_count": null,
   "id": "8d7dff0c",
   "metadata": {},
   "outputs": [],
   "source": []
  },
  {
   "cell_type": "code",
   "execution_count": null,
   "id": "fe41799d",
   "metadata": {},
   "outputs": [],
   "source": []
  }
 ],
 "metadata": {
  "kernelspec": {
   "display_name": "Python 3",
   "language": "python",
   "name": "python3"
  },
  "language_info": {
   "codemirror_mode": {
    "name": "ipython",
    "version": 3
   },
   "file_extension": ".py",
   "mimetype": "text/x-python",
   "name": "python",
   "nbconvert_exporter": "python",
   "pygments_lexer": "ipython3",
   "version": "3.8.8"
  }
 },
 "nbformat": 4,
 "nbformat_minor": 5
}
