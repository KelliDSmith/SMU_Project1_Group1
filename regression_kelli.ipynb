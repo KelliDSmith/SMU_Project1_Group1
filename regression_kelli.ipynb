{
 "cells": [
  {
   "cell_type": "code",
   "execution_count": 1,
   "id": "bd3a1d9b",
   "metadata": {},
   "outputs": [],
   "source": [
    "# Dependencies\n",
    "from matplotlib import pyplot as plt\n",
    "from scipy import stats\n",
    "import numpy as np\n",
    "import pandas as pd\n",
    "import seaborn as sn\n",
    "\n",
    "# linear modelling\n",
    "import statsmodels.api as sm\n",
    "from scipy.stats import linregress\n",
    "from sklearn.linear_model import LinearRegression"
   ]
  },
  {
   "cell_type": "code",
   "execution_count": 2,
   "id": "48b362e0",
   "metadata": {},
   "outputs": [],
   "source": [
    "data_all = \"Output/2019_2020_mixed_beverage\"\n",
    "df_all = pd.read_csv(data_all, encoding=\"utf-8\")\n",
    "file_path = \"Output/census_data.csv\"\n",
    "censusdf = pd.read_csv(file_path, encoding=\"utf-8\")"
   ]
  },
  {
   "cell_type": "code",
   "execution_count": 3,
   "id": "0e3d68d7",
   "metadata": {},
   "outputs": [
    {
     "data": {
      "text/html": [
       "<div>\n",
       "<style scoped>\n",
       "    .dataframe tbody tr th:only-of-type {\n",
       "        vertical-align: middle;\n",
       "    }\n",
       "\n",
       "    .dataframe tbody tr th {\n",
       "        vertical-align: top;\n",
       "    }\n",
       "\n",
       "    .dataframe thead th {\n",
       "        text-align: right;\n",
       "    }\n",
       "</style>\n",
       "<table border=\"1\" class=\"dataframe\">\n",
       "  <thead>\n",
       "    <tr style=\"text-align: right;\">\n",
       "      <th></th>\n",
       "      <th>location_zip</th>\n",
       "      <th>Population</th>\n",
       "      <th>Median Age</th>\n",
       "      <th>Household Income</th>\n",
       "      <th>Per Capita Income</th>\n",
       "      <th>Poverty Count</th>\n",
       "      <th>Poverty Rate</th>\n",
       "    </tr>\n",
       "  </thead>\n",
       "  <tbody>\n",
       "    <tr>\n",
       "      <th>0</th>\n",
       "      <td>1832</td>\n",
       "      <td>22121.0</td>\n",
       "      <td>38.5</td>\n",
       "      <td>57833.0</td>\n",
       "      <td>29014.0</td>\n",
       "      <td>2412.0</td>\n",
       "      <td>10.903666</td>\n",
       "    </tr>\n",
       "    <tr>\n",
       "      <th>1</th>\n",
       "      <td>1833</td>\n",
       "      <td>8295.0</td>\n",
       "      <td>42.4</td>\n",
       "      <td>107775.0</td>\n",
       "      <td>43297.0</td>\n",
       "      <td>191.0</td>\n",
       "      <td>2.302592</td>\n",
       "    </tr>\n",
       "    <tr>\n",
       "      <th>2</th>\n",
       "      <td>1834</td>\n",
       "      <td>6675.0</td>\n",
       "      <td>46.1</td>\n",
       "      <td>97463.0</td>\n",
       "      <td>40222.0</td>\n",
       "      <td>146.0</td>\n",
       "      <td>2.187266</td>\n",
       "    </tr>\n",
       "    <tr>\n",
       "      <th>3</th>\n",
       "      <td>1835</td>\n",
       "      <td>13527.0</td>\n",
       "      <td>37.1</td>\n",
       "      <td>72228.0</td>\n",
       "      <td>31429.0</td>\n",
       "      <td>1153.0</td>\n",
       "      <td>8.523693</td>\n",
       "    </tr>\n",
       "    <tr>\n",
       "      <th>4</th>\n",
       "      <td>1840</td>\n",
       "      <td>4547.0</td>\n",
       "      <td>36.8</td>\n",
       "      <td>18261.0</td>\n",
       "      <td>14758.0</td>\n",
       "      <td>1798.0</td>\n",
       "      <td>39.542556</td>\n",
       "    </tr>\n",
       "    <tr>\n",
       "      <th>...</th>\n",
       "      <td>...</td>\n",
       "      <td>...</td>\n",
       "      <td>...</td>\n",
       "      <td>...</td>\n",
       "      <td>...</td>\n",
       "      <td>...</td>\n",
       "      <td>...</td>\n",
       "    </tr>\n",
       "    <tr>\n",
       "      <th>33115</th>\n",
       "      <td>99923</td>\n",
       "      <td>81.0</td>\n",
       "      <td>64.3</td>\n",
       "      <td>21944.0</td>\n",
       "      <td>17225.0</td>\n",
       "      <td>4.0</td>\n",
       "      <td>4.938272</td>\n",
       "    </tr>\n",
       "    <tr>\n",
       "      <th>33116</th>\n",
       "      <td>99925</td>\n",
       "      <td>668.0</td>\n",
       "      <td>46.4</td>\n",
       "      <td>38125.0</td>\n",
       "      <td>25094.0</td>\n",
       "      <td>124.0</td>\n",
       "      <td>18.562874</td>\n",
       "    </tr>\n",
       "    <tr>\n",
       "      <th>33117</th>\n",
       "      <td>99926</td>\n",
       "      <td>1630.0</td>\n",
       "      <td>31.4</td>\n",
       "      <td>50052.0</td>\n",
       "      <td>22850.0</td>\n",
       "      <td>202.0</td>\n",
       "      <td>12.392638</td>\n",
       "    </tr>\n",
       "    <tr>\n",
       "      <th>33118</th>\n",
       "      <td>99927</td>\n",
       "      <td>111.0</td>\n",
       "      <td>59.4</td>\n",
       "      <td>19000.0</td>\n",
       "      <td>21157.0</td>\n",
       "      <td>39.0</td>\n",
       "      <td>35.135135</td>\n",
       "    </tr>\n",
       "    <tr>\n",
       "      <th>33119</th>\n",
       "      <td>99929</td>\n",
       "      <td>2341.0</td>\n",
       "      <td>53.1</td>\n",
       "      <td>45649.0</td>\n",
       "      <td>28399.0</td>\n",
       "      <td>215.0</td>\n",
       "      <td>9.184109</td>\n",
       "    </tr>\n",
       "  </tbody>\n",
       "</table>\n",
       "<p>33120 rows × 7 columns</p>\n",
       "</div>"
      ],
      "text/plain": [
       "       location_zip  Population  Median Age  Household Income  \\\n",
       "0              1832     22121.0        38.5           57833.0   \n",
       "1              1833      8295.0        42.4          107775.0   \n",
       "2              1834      6675.0        46.1           97463.0   \n",
       "3              1835     13527.0        37.1           72228.0   \n",
       "4              1840      4547.0        36.8           18261.0   \n",
       "...             ...         ...         ...               ...   \n",
       "33115         99923        81.0        64.3           21944.0   \n",
       "33116         99925       668.0        46.4           38125.0   \n",
       "33117         99926      1630.0        31.4           50052.0   \n",
       "33118         99927       111.0        59.4           19000.0   \n",
       "33119         99929      2341.0        53.1           45649.0   \n",
       "\n",
       "       Per Capita Income  Poverty Count  Poverty Rate  \n",
       "0                29014.0         2412.0     10.903666  \n",
       "1                43297.0          191.0      2.302592  \n",
       "2                40222.0          146.0      2.187266  \n",
       "3                31429.0         1153.0      8.523693  \n",
       "4                14758.0         1798.0     39.542556  \n",
       "...                  ...            ...           ...  \n",
       "33115            17225.0            4.0      4.938272  \n",
       "33116            25094.0          124.0     18.562874  \n",
       "33117            22850.0          202.0     12.392638  \n",
       "33118            21157.0           39.0     35.135135  \n",
       "33119            28399.0          215.0      9.184109  \n",
       "\n",
       "[33120 rows x 7 columns]"
      ]
     },
     "execution_count": 3,
     "metadata": {},
     "output_type": "execute_result"
    }
   ],
   "source": [
    "censusdf.rename(columns={'Zipcode' : 'location_zip'},inplace=True)\n",
    "censusdf"
   ]
  },
  {
   "cell_type": "code",
   "execution_count": 4,
   "id": "b7dd6bef",
   "metadata": {},
   "outputs": [
    {
     "name": "stdout",
     "output_type": "stream",
     "text": [
      "<class 'pandas.core.frame.DataFrame'>\n",
      "Int64Index: 44006 entries, 3 to 119998\n",
      "Data columns (total 26 columns):\n",
      " #   Column                               Non-Null Count  Dtype  \n",
      "---  ------                               --------------  -----  \n",
      " 0   taxpayer_number                      44006 non-null  int64  \n",
      " 1   taxpayer_name                        44006 non-null  object \n",
      " 2   taxpayer_address                     44006 non-null  object \n",
      " 3   taxpayer_city                        44006 non-null  object \n",
      " 4   taxpayer_state                       43992 non-null  object \n",
      " 5   taxpayer_zip                         43992 non-null  float64\n",
      " 6   taxpayer_county                      44006 non-null  int64  \n",
      " 7   location_number                      44006 non-null  int64  \n",
      " 8   location_name                        44006 non-null  object \n",
      " 9   location_address                     44006 non-null  object \n",
      " 10  location_city                        44006 non-null  object \n",
      " 11  location_state                       44006 non-null  object \n",
      " 12  location_zip                         44006 non-null  int64  \n",
      " 13  location_county                      44006 non-null  int64  \n",
      " 14  inside_outside_city_limits_code_y_n  44006 non-null  object \n",
      " 15  tabc_permit_number                   44006 non-null  object \n",
      " 16  responsibility_begin_date_yyyymmdd   44006 non-null  object \n",
      " 17  obligation_end_date_yyyymmdd         44006 non-null  object \n",
      " 18  liquor_receipts                      44006 non-null  int64  \n",
      " 19  wine_receipts                        44006 non-null  int64  \n",
      " 20  beer_receipts                        44006 non-null  int64  \n",
      " 21  cover_charge_receipts                44006 non-null  int64  \n",
      " 22  total_receipts                       44006 non-null  int64  \n",
      " 23  responsibility_end_date_yyyymmdd     1732 non-null   object \n",
      " 24  year                                 44006 non-null  int64  \n",
      " 25  month                                44006 non-null  int64  \n",
      "dtypes: float64(1), int64(12), object(13)\n",
      "memory usage: 9.1+ MB\n"
     ]
    }
   ],
   "source": [
    "#efficient way to extract year from string format date\n",
    "df_all['year'] = pd.DatetimeIndex(df_all['obligation_end_date_yyyymmdd']).year\n",
    "df_all['month'] = pd.DatetimeIndex(df_all['obligation_end_date_yyyymmdd']).month\n",
    "city_mask = (df_all.location_city == \"HOUSTON\")|(df_all.location_city == \"DALLAS\")|(df_all.location_city == \"FORT WORTH\")|(df_all.location_city == \"SAN ANTONIO\")|(df_all.location_city == \"AUSTIN\")\n",
    "dfcities = df_all[city_mask]\n",
    "dfcities.info()"
   ]
  },
  {
   "cell_type": "code",
   "execution_count": 5,
   "id": "f4cf9be5",
   "metadata": {},
   "outputs": [
    {
     "name": "stdout",
     "output_type": "stream",
     "text": [
      "<class 'pandas.core.frame.DataFrame'>\n",
      "Int64Index: 271 entries, 0 to 273\n",
      "Data columns (total 8 columns):\n",
      " #   Column             Non-Null Count  Dtype  \n",
      "---  ------             --------------  -----  \n",
      " 0   location_zip       271 non-null    int64  \n",
      " 1   total_receipts     271 non-null    int64  \n",
      " 2   Population         271 non-null    float64\n",
      " 3   Median Age         271 non-null    float64\n",
      " 4   Household Income   271 non-null    float64\n",
      " 5   Per Capita Income  271 non-null    float64\n",
      " 6   Poverty Count      271 non-null    float64\n",
      " 7   Poverty Rate       271 non-null    float64\n",
      "dtypes: float64(6), int64(2)\n",
      "memory usage: 19.1 KB\n"
     ]
    }
   ],
   "source": [
    "#2019 zips vs census data\n",
    "mask_2019 = dfcities.year == 2019\n",
    "df_2019 = dfcities[mask_2019]\n",
    "zip_sales_2019 = pd.DataFrame(df_2019.groupby('location_zip')['total_receipts'].sum()).reset_index()\n",
    "regres_2019 = pd.merge(zip_sales_2019,censusdf,on=\"location_zip\",how=\"left\")\n",
    "clean_regress_2019 = regres_2019.dropna(how='any')\n",
    "clean_regress_2019.corr()['total_receipts'].reset_index()\n",
    "clean_regress_2019.info()"
   ]
  },
  {
   "cell_type": "code",
   "execution_count": 6,
   "id": "c5f6ea6a",
   "metadata": {},
   "outputs": [
    {
     "name": "stdout",
     "output_type": "stream",
     "text": [
      "<class 'pandas.core.frame.DataFrame'>\n",
      "Int64Index: 276 entries, 0 to 278\n",
      "Data columns (total 8 columns):\n",
      " #   Column             Non-Null Count  Dtype  \n",
      "---  ------             --------------  -----  \n",
      " 0   location_zip       276 non-null    int64  \n",
      " 1   total_receipts     276 non-null    int64  \n",
      " 2   Population         276 non-null    float64\n",
      " 3   Median Age         276 non-null    float64\n",
      " 4   Household Income   276 non-null    float64\n",
      " 5   Per Capita Income  276 non-null    float64\n",
      " 6   Poverty Count      276 non-null    float64\n",
      " 7   Poverty Rate       276 non-null    float64\n",
      "dtypes: float64(6), int64(2)\n",
      "memory usage: 19.4 KB\n"
     ]
    }
   ],
   "source": [
    "#2020 zips vs census data\n",
    "mask_2020 = dfcities.year == 2020\n",
    "df_2020 = dfcities[mask_2020]\n",
    "zip_sales_2020 = pd.DataFrame(df_2020.groupby('location_zip')['total_receipts'].sum()).reset_index()\n",
    "regres_2020 = pd.merge(zip_sales_2020,censusdf,on=\"location_zip\",how=\"left\")\n",
    "clean_regress_2020 = regres_2020.dropna(how='any')\n",
    "clean_regress_2020.corr()['total_receipts'].reset_index()\n",
    "clean_regress_2020.info()"
   ]
  },
  {
   "cell_type": "code",
   "execution_count": 7,
   "id": "90e779d0",
   "metadata": {},
   "outputs": [
    {
     "name": "stdout",
     "output_type": "stream",
     "text": [
      "The r-squared is: 0.1519010982688524\n"
     ]
    },
    {
     "data": {
      "image/png": "[encoded data removed]",
      "text/plain": [
       "<Figure size 432x288 with 1 Axes>"
      ]
     },
     "metadata": {
      "needs_background": "light"
     },
     "output_type": "display_data"
    }
   ],
   "source": [
    "# 2019 zip total sales vs Per Capita Income\n",
    "x_values = clean_regress_2019['total_receipts']\n",
    "y_values = clean_regress_2019['Per Capita Income']\n",
    "(slope, intercept, rvalue, pvalue, stderr) = linregress(x_values, y_values)\n",
    "regress_values = x_values * slope + intercept\n",
    "line_eq = \"y = \" + str(round(slope,2)) + \"x + \" + str(round(intercept,2))\n",
    "plt.scatter(x_values,y_values)\n",
    "plt.plot(x_values,regress_values,\"r-\")\n",
    "plt.annotate(line_eq,(0,150000),fontsize=15,color=\"red\")\n",
    "plt.xlabel('Total Sales')\n",
    "plt.ylabel('Population')\n",
    "print(f\"The r-squared is: {rvalue**2}\")\n",
    "plt.show()"
   ]
  },
  {
   "cell_type": "code",
   "execution_count": 8,
   "id": "426d325f",
   "metadata": {},
   "outputs": [
    {
     "name": "stdout",
     "output_type": "stream",
     "text": [
      "The r-squared is: 0.1767793718680784\n"
     ]
    },
    {
     "data": {
      "image/png": "[encoded data removed]",
      "text/plain": [
       "<Figure size 432x288 with 1 Axes>"
      ]
     },
     "metadata": {
      "needs_background": "light"
     },
     "output_type": "display_data"
    }
   ],
   "source": [
    "# 2020 zip total sales vs Per Capita Income\n",
    "x_values = clean_regress_2020['total_receipts']\n",
    "y_values = clean_regress_2020['Per Capita Income']\n",
    "(slope, intercept, rvalue, pvalue, stderr) = linregress(x_values, y_values)\n",
    "regress_values = x_values * slope + intercept\n",
    "line_eq = \"y = \" + str(round(slope,2)) + \"x + \" + str(round(intercept,2))\n",
    "plt.scatter(x_values,y_values)\n",
    "plt.plot(x_values,regress_values,\"r-\")\n",
    "plt.annotate(line_eq,(0,150000),fontsize=15,color=\"red\")\n",
    "plt.xlabel('Total Sales')\n",
    "plt.ylabel('Population')\n",
    "print(f\"The r-squared is: {rvalue**2}\")\n",
    "plt.show()"
   ]
  },
  {
   "cell_type": "code",
   "execution_count": 9,
   "id": "dd6709dc",
   "metadata": {},
   "outputs": [
    {
     "name": "stdout",
     "output_type": "stream",
     "text": [
      "The r-squared is: 0.02777616759410089\n"
     ]
    },
    {
     "data": {
      "image/png": "[encoded data removed]",
      "text/plain": [
       "<Figure size 432x288 with 1 Axes>"
      ]
     },
     "metadata": {
      "needs_background": "light"
     },
     "output_type": "display_data"
    }
   ],
   "source": [
    "# 2019 zip total sales vs Poverty Count\n",
    "x_values = clean_regress_2019['total_receipts']\n",
    "y_values = clean_regress_2019['Poverty Count']\n",
    "(slope, intercept, rvalue, pvalue, stderr) = linregress(x_values, y_values)\n",
    "regress_values = x_values * slope + intercept\n",
    "line_eq = \"y = \" + str(round(slope,2)) + \"x + \" + str(round(intercept,2))\n",
    "plt.scatter(x_values,y_values)\n",
    "plt.plot(x_values,regress_values,\"r-\")\n",
    "plt.annotate(line_eq,(.6,25000),fontsize=15,color=\"red\")\n",
    "plt.xlabel('Total Sales')\n",
    "plt.ylabel('Poverty Count')\n",
    "print(f\"The r-squared is: {rvalue**2}\")\n",
    "plt.show()"
   ]
  },
  {
   "cell_type": "code",
   "execution_count": 10,
   "id": "ff1dc80d",
   "metadata": {},
   "outputs": [
    {
     "name": "stdout",
     "output_type": "stream",
     "text": [
      "The r-squared is: 0.02841151366392936\n"
     ]
    },
    {
     "data": {
      "image/png": "[encoded data removed]",
      "text/plain": [
       "<Figure size 432x288 with 1 Axes>"
      ]
     },
     "metadata": {
      "needs_background": "light"
     },
     "output_type": "display_data"
    }
   ],
   "source": [
    "# 2020 zip total sales vs Poverty Count\n",
    "x_values = clean_regress_2020['total_receipts']\n",
    "y_values = clean_regress_2020['Poverty Count']\n",
    "(slope, intercept, rvalue, pvalue, stderr) = linregress(x_values, y_values)\n",
    "regress_values = x_values * slope + intercept\n",
    "line_eq = \"y = \" + str(round(slope,2)) + \"x + \" + str(round(intercept,2))\n",
    "plt.scatter(x_values,y_values)\n",
    "plt.plot(x_values,regress_values,\"r-\")\n",
    "plt.annotate(line_eq,(.6,25000),fontsize=15,color=\"red\")\n",
    "plt.xlabel('Total Sales')\n",
    "plt.ylabel('Poverty Count')\n",
    "print(f\"The r-squared is: {rvalue**2}\")\n",
    "plt.show()"
   ]
  },
  {
   "cell_type": "code",
   "execution_count": 11,
   "id": "d181b04e",
   "metadata": {},
   "outputs": [
    {
     "name": "stdout",
     "output_type": "stream",
     "text": [
      "The r-squared is: 0.01990232613096347\n"
     ]
    },
    {
     "data": {
      "image/png": "[encoded data removed]",
      "text/plain": [
       "<Figure size 432x288 with 1 Axes>"
      ]
     },
     "metadata": {
      "needs_background": "light"
     },
     "output_type": "display_data"
    }
   ],
   "source": [
    "# 2019 zip total sales vs Population\n",
    "x_values = clean_regress_2019['total_receipts']\n",
    "y_values = clean_regress_2019['Population']\n",
    "(slope, intercept, rvalue, pvalue, stderr) = linregress(x_values, y_values)\n",
    "regress_values = x_values * slope + intercept\n",
    "line_eq = \"y = \" + str(round(slope,2)) + \"x + \" + str(round(intercept,2))\n",
    "plt.scatter(x_values,y_values)\n",
    "plt.plot(x_values,regress_values,\"r-\")\n",
    "# plt.annotate(line_eq,(.6,25000),fontsize=15,color=\"red\")\n",
    "plt.xlabel('Total Sales')\n",
    "plt.ylabel('Poverty Count')\n",
    "print(f\"The r-squared is: {rvalue**2}\")\n",
    "plt.show()"
   ]
  },
  {
   "cell_type": "code",
   "execution_count": 12,
   "id": "a74255a6",
   "metadata": {},
   "outputs": [
    {
     "name": "stdout",
     "output_type": "stream",
     "text": [
      "The r-squared is: 0.007074461888913055\n"
     ]
    },
    {
     "data": {
      "image/png": "[encoded data removed]",
      "text/plain": [
       "<Figure size 432x288 with 1 Axes>"
      ]
     },
     "metadata": {
      "needs_background": "light"
     },
     "output_type": "display_data"
    }
   ],
   "source": [
    "# 2020 zip total sales vs Population\n",
    "x_values = clean_regress_2020['total_receipts']\n",
    "y_values = clean_regress_2020['Population']\n",
    "(slope, intercept, rvalue, pvalue, stderr) = linregress(x_values, y_values)\n",
    "regress_values = x_values * slope + intercept\n",
    "line_eq = \"y = \" + str(round(slope,2)) + \"x + \" + str(round(intercept,2))\n",
    "plt.scatter(x_values,y_values)\n",
    "plt.plot(x_values,regress_values,\"r-\")\n",
    "# plt.annotate(line_eq,(.6,25000),fontsize=15,color=\"red\")\n",
    "plt.xlabel('Total Sales')\n",
    "plt.ylabel('Poverty Count')\n",
    "print(f\"The r-squared is: {rvalue**2}\")\n",
    "plt.show()"
   ]
  },
  {
   "cell_type": "code",
   "execution_count": 13,
   "id": "45ae6ab8",
   "metadata": {},
   "outputs": [
    {
     "data": {
      "text/html": [
       "<div>\n",
       "<style scoped>\n",
       "    .dataframe tbody tr th:only-of-type {\n",
       "        vertical-align: middle;\n",
       "    }\n",
       "\n",
       "    .dataframe tbody tr th {\n",
       "        vertical-align: top;\n",
       "    }\n",
       "\n",
       "    .dataframe thead th {\n",
       "        text-align: right;\n",
       "    }\n",
       "</style>\n",
       "<table border=\"1\" class=\"dataframe\">\n",
       "  <thead>\n",
       "    <tr style=\"text-align: right;\">\n",
       "      <th></th>\n",
       "      <th>location_zip</th>\n",
       "      <th>store_count</th>\n",
       "    </tr>\n",
       "  </thead>\n",
       "  <tbody>\n",
       "    <tr>\n",
       "      <th>0</th>\n",
       "      <td>78701</td>\n",
       "      <td>206</td>\n",
       "    </tr>\n",
       "    <tr>\n",
       "      <th>1</th>\n",
       "      <td>77002</td>\n",
       "      <td>121</td>\n",
       "    </tr>\n",
       "    <tr>\n",
       "      <th>2</th>\n",
       "      <td>78205</td>\n",
       "      <td>117</td>\n",
       "    </tr>\n",
       "    <tr>\n",
       "      <th>3</th>\n",
       "      <td>75201</td>\n",
       "      <td>95</td>\n",
       "    </tr>\n",
       "    <tr>\n",
       "      <th>4</th>\n",
       "      <td>78704</td>\n",
       "      <td>89</td>\n",
       "    </tr>\n",
       "    <tr>\n",
       "      <th>...</th>\n",
       "      <td>...</td>\n",
       "      <td>...</td>\n",
       "    </tr>\n",
       "    <tr>\n",
       "      <th>269</th>\n",
       "      <td>77204</td>\n",
       "      <td>1</td>\n",
       "    </tr>\n",
       "    <tr>\n",
       "      <th>270</th>\n",
       "      <td>75390</td>\n",
       "      <td>1</td>\n",
       "    </tr>\n",
       "    <tr>\n",
       "      <th>271</th>\n",
       "      <td>78747</td>\n",
       "      <td>1</td>\n",
       "    </tr>\n",
       "    <tr>\n",
       "      <th>272</th>\n",
       "      <td>78739</td>\n",
       "      <td>1</td>\n",
       "    </tr>\n",
       "    <tr>\n",
       "      <th>273</th>\n",
       "      <td>76105</td>\n",
       "      <td>1</td>\n",
       "    </tr>\n",
       "  </tbody>\n",
       "</table>\n",
       "<p>274 rows × 2 columns</p>\n",
       "</div>"
      ],
      "text/plain": [
       "     location_zip  store_count\n",
       "0           78701          206\n",
       "1           77002          121\n",
       "2           78205          117\n",
       "3           75201           95\n",
       "4           78704           89\n",
       "..            ...          ...\n",
       "269         77204            1\n",
       "270         75390            1\n",
       "271         78747            1\n",
       "272         78739            1\n",
       "273         76105            1\n",
       "\n",
       "[274 rows x 2 columns]"
      ]
     },
     "execution_count": 13,
     "metadata": {},
     "output_type": "execute_result"
    }
   ],
   "source": [
    "cityzip_2019_stores = df_2019.loc[:,[\"location_zip\",\"location_address\"]].drop_duplicates().reset_index(drop=True)\n",
    "zip_unique_stores = cityzip_2019_stores.location_zip.value_counts().reset_index().rename(columns={'index':'location_zip','location_zip':'store_count'})\n",
    "zip_unique_stores"
   ]
  },
  {
   "cell_type": "code",
   "execution_count": 18,
   "id": "4a276cde",
   "metadata": {},
   "outputs": [
    {
     "data": {
      "text/html": [
       "<div>\n",
       "<style scoped>\n",
       "    .dataframe tbody tr th:only-of-type {\n",
       "        vertical-align: middle;\n",
       "    }\n",
       "\n",
       "    .dataframe tbody tr th {\n",
       "        vertical-align: top;\n",
       "    }\n",
       "\n",
       "    .dataframe thead th {\n",
       "        text-align: right;\n",
       "    }\n",
       "</style>\n",
       "<table border=\"1\" class=\"dataframe\">\n",
       "  <thead>\n",
       "    <tr style=\"text-align: right;\">\n",
       "      <th></th>\n",
       "      <th>location_zip</th>\n",
       "      <th>total_receipts</th>\n",
       "      <th>Population</th>\n",
       "      <th>Median Age</th>\n",
       "      <th>Household Income</th>\n",
       "      <th>Per Capita Income</th>\n",
       "      <th>Poverty Count</th>\n",
       "      <th>Poverty Rate</th>\n",
       "      <th>store_count</th>\n",
       "    </tr>\n",
       "  </thead>\n",
       "  <tbody>\n",
       "    <tr>\n",
       "      <th>location_zip</th>\n",
       "      <td>1.000000</td>\n",
       "      <td>-0.005664</td>\n",
       "      <td>-0.044182</td>\n",
       "      <td>0.045074</td>\n",
       "      <td>-0.020802</td>\n",
       "      <td>0.029443</td>\n",
       "      <td>-0.131402</td>\n",
       "      <td>-0.167162</td>\n",
       "      <td>-0.038737</td>\n",
       "    </tr>\n",
       "    <tr>\n",
       "      <th>total_receipts</th>\n",
       "      <td>-0.005664</td>\n",
       "      <td>1.000000</td>\n",
       "      <td>-0.141076</td>\n",
       "      <td>0.114254</td>\n",
       "      <td>0.029733</td>\n",
       "      <td>0.389745</td>\n",
       "      <td>-0.166662</td>\n",
       "      <td>-0.094807</td>\n",
       "      <td>0.911565</td>\n",
       "    </tr>\n",
       "    <tr>\n",
       "      <th>Population</th>\n",
       "      <td>-0.044182</td>\n",
       "      <td>-0.141076</td>\n",
       "      <td>1.000000</td>\n",
       "      <td>-0.263938</td>\n",
       "      <td>0.138217</td>\n",
       "      <td>-0.247888</td>\n",
       "      <td>0.712013</td>\n",
       "      <td>0.040648</td>\n",
       "      <td>-0.016138</td>\n",
       "    </tr>\n",
       "    <tr>\n",
       "      <th>Median Age</th>\n",
       "      <td>0.045074</td>\n",
       "      <td>0.114254</td>\n",
       "      <td>-0.263938</td>\n",
       "      <td>1.000000</td>\n",
       "      <td>0.245795</td>\n",
       "      <td>0.507914</td>\n",
       "      <td>-0.466211</td>\n",
       "      <td>-0.327851</td>\n",
       "      <td>0.118352</td>\n",
       "    </tr>\n",
       "    <tr>\n",
       "      <th>Household Income</th>\n",
       "      <td>-0.020802</td>\n",
       "      <td>0.029733</td>\n",
       "      <td>0.138217</td>\n",
       "      <td>0.245795</td>\n",
       "      <td>1.000000</td>\n",
       "      <td>0.111494</td>\n",
       "      <td>0.102342</td>\n",
       "      <td>0.144472</td>\n",
       "      <td>0.059675</td>\n",
       "    </tr>\n",
       "    <tr>\n",
       "      <th>Per Capita Income</th>\n",
       "      <td>0.029443</td>\n",
       "      <td>0.389745</td>\n",
       "      <td>-0.247888</td>\n",
       "      <td>0.507914</td>\n",
       "      <td>0.111494</td>\n",
       "      <td>1.000000</td>\n",
       "      <td>-0.505567</td>\n",
       "      <td>-0.604243</td>\n",
       "      <td>0.346603</td>\n",
       "    </tr>\n",
       "    <tr>\n",
       "      <th>Poverty Count</th>\n",
       "      <td>-0.131402</td>\n",
       "      <td>-0.166662</td>\n",
       "      <td>0.712013</td>\n",
       "      <td>-0.466211</td>\n",
       "      <td>0.102342</td>\n",
       "      <td>-0.505567</td>\n",
       "      <td>1.000000</td>\n",
       "      <td>0.596156</td>\n",
       "      <td>-0.093388</td>\n",
       "    </tr>\n",
       "    <tr>\n",
       "      <th>Poverty Rate</th>\n",
       "      <td>-0.167162</td>\n",
       "      <td>-0.094807</td>\n",
       "      <td>0.040648</td>\n",
       "      <td>-0.327851</td>\n",
       "      <td>0.144472</td>\n",
       "      <td>-0.604243</td>\n",
       "      <td>0.596156</td>\n",
       "      <td>1.000000</td>\n",
       "      <td>-0.087222</td>\n",
       "    </tr>\n",
       "    <tr>\n",
       "      <th>store_count</th>\n",
       "      <td>-0.038737</td>\n",
       "      <td>0.911565</td>\n",
       "      <td>-0.016138</td>\n",
       "      <td>0.118352</td>\n",
       "      <td>0.059675</td>\n",
       "      <td>0.346603</td>\n",
       "      <td>-0.093388</td>\n",
       "      <td>-0.087222</td>\n",
       "      <td>1.000000</td>\n",
       "    </tr>\n",
       "  </tbody>\n",
       "</table>\n",
       "</div>"
      ],
      "text/plain": [
       "                   location_zip  total_receipts  Population  Median Age  \\\n",
       "location_zip           1.000000       -0.005664   -0.044182    0.045074   \n",
       "total_receipts        -0.005664        1.000000   -0.141076    0.114254   \n",
       "Population            -0.044182       -0.141076    1.000000   -0.263938   \n",
       "Median Age             0.045074        0.114254   -0.263938    1.000000   \n",
       "Household Income      -0.020802        0.029733    0.138217    0.245795   \n",
       "Per Capita Income      0.029443        0.389745   -0.247888    0.507914   \n",
       "Poverty Count         -0.131402       -0.166662    0.712013   -0.466211   \n",
       "Poverty Rate          -0.167162       -0.094807    0.040648   -0.327851   \n",
       "store_count           -0.038737        0.911565   -0.016138    0.118352   \n",
       "\n",
       "                   Household Income  Per Capita Income  Poverty Count  \\\n",
       "location_zip              -0.020802           0.029443      -0.131402   \n",
       "total_receipts             0.029733           0.389745      -0.166662   \n",
       "Population                 0.138217          -0.247888       0.712013   \n",
       "Median Age                 0.245795           0.507914      -0.466211   \n",
       "Household Income           1.000000           0.111494       0.102342   \n",
       "Per Capita Income          0.111494           1.000000      -0.505567   \n",
       "Poverty Count              0.102342          -0.505567       1.000000   \n",
       "Poverty Rate               0.144472          -0.604243       0.596156   \n",
       "store_count                0.059675           0.346603      -0.093388   \n",
       "\n",
       "                   Poverty Rate  store_count  \n",
       "location_zip          -0.167162    -0.038737  \n",
       "total_receipts        -0.094807     0.911565  \n",
       "Population             0.040648    -0.016138  \n",
       "Median Age            -0.327851     0.118352  \n",
       "Household Income       0.144472     0.059675  \n",
       "Per Capita Income     -0.604243     0.346603  \n",
       "Poverty Count          0.596156    -0.093388  \n",
       "Poverty Rate           1.000000    -0.087222  \n",
       "store_count           -0.087222     1.000000  "
      ]
     },
     "execution_count": 18,
     "metadata": {},
     "output_type": "execute_result"
    }
   ],
   "source": [
    "#2019 zip code and census, includes city\n",
    "cityzip_2019 = pd.DataFrame(df_2019.groupby(['location_city','location_zip'])['total_receipts'].sum()).reset_index()\n",
    "cityzip_2019  = pd.merge(cityzip_2019,censusdf,on=\"location_zip\",how=\"left\")\n",
    "cityzip_2019  = cityzip_2019.dropna(how='any')\n",
    "cityzip_2019=pd.merge(cityzip_2019,zip_unique_stores,on=\"location_zip\",how='left')\n",
    "cityzip_2019.corr()"
   ]
  },
  {
   "cell_type": "code",
   "execution_count": 20,
   "id": "0ddef332",
   "metadata": {},
   "outputs": [
    {
     "name": "stdout",
     "output_type": "stream",
     "text": [
      "The r-squared is: 0.8309502584663078\n"
     ]
    },
    {
     "data": {
      "image/png": "[encoded data removed]",
      "text/plain": [
       "<Figure size 432x288 with 1 Axes>"
      ]
     },
     "metadata": {
      "needs_background": "light"
     },
     "output_type": "display_data"
    }
   ],
   "source": [
    "# 2019 zip total sales vs store count\n",
    "x_values = cityzip_2019['total_receipts']\n",
    "y_values = cityzip_2019['store_count']\n",
    "(slope, intercept, rvalue, pvalue, stderr) = linregress(x_values, y_values)\n",
    "regress_values = x_values * slope + intercept\n",
    "line_eq = \"y = \" + str(round(slope,2)) + \"x + \" + str(round(intercept,2))\n",
    "plt.scatter(x_values,y_values)\n",
    "plt.plot(x_values,regress_values,\"r-\")\n",
    "plt.annotate(line_eq,(0,250),fontsize=15,color=\"red\")\n",
    "plt.xlabel('Total Sales')\n",
    "plt.ylabel('Store Count')\n",
    "print(f\"The r-squared is: {rvalue**2}\")\n",
    "plt.show()"
   ]
  },
  {
   "cell_type": "code",
   "execution_count": null,
   "id": "56b31fc3",
   "metadata": {},
   "outputs": [],
   "source": []
  }
 ],
 "metadata": {
  "kernelspec": {
   "display_name": "Python 3",
   "language": "python",
   "name": "python3"
  },
  "language_info": {
   "codemirror_mode": {
    "name": "ipython",
    "version": 3
   },
   "file_extension": ".py",
   "mimetype": "text/x-python",
   "name": "python",
   "nbconvert_exporter": "python",
   "pygments_lexer": "ipython3",
   "version": "3.8.8"
  }
 },
 "nbformat": 4,
 "nbformat_minor": 5
}
