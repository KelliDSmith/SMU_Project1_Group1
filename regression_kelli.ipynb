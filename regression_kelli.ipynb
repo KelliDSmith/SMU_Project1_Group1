{
 "cells": [
  {
   "cell_type": "code",
   "execution_count": 15,
   "id": "bd3a1d9b",
   "metadata": {},
   "outputs": [],
   "source": [
    "# Dependencies\n",
    "from matplotlib import pyplot as plt\n",
    "from scipy import stats\n",
    "import numpy as np\n",
    "import pandas as pd\n",
    "import seaborn as sn\n",
    "\n",
    "# linear modelling\n",
    "import statsmodels.api as sm\n",
    "from scipy.stats import linregress\n",
    "from sklearn.linear_model import LinearRegression"
   ]
  },
  {
   "cell_type": "code",
   "execution_count": 16,
   "id": "48b362e0",
   "metadata": {},
   "outputs": [],
   "source": [
    "data_all = \"Output/2019_2020_mixed_beverage\"\n",
    "df_all = pd.read_csv(data_all, encoding=\"utf-8\")\n",
    "file_path = \"Output/census_data.csv\"\n",
    "censusdf = pd.read_csv(file_path, encoding=\"utf-8\")"
   ]
  },
  {
   "cell_type": "code",
   "execution_count": 17,
   "id": "f7eb7fed",
   "metadata": {},
   "outputs": [
    {
     "data": {
      "text/html": [
       "<div>\n",
       "<style scoped>\n",
       "    .dataframe tbody tr th:only-of-type {\n",
       "        vertical-align: middle;\n",
       "    }\n",
       "\n",
       "    .dataframe tbody tr th {\n",
       "        vertical-align: top;\n",
       "    }\n",
       "\n",
       "    .dataframe thead th {\n",
       "        text-align: right;\n",
       "    }\n",
       "</style>\n",
       "<table border=\"1\" class=\"dataframe\">\n",
       "  <thead>\n",
       "    <tr style=\"text-align: right;\">\n",
       "      <th></th>\n",
       "      <th>location_zip</th>\n",
       "      <th>Population</th>\n",
       "      <th>Median Age</th>\n",
       "      <th>Household Income</th>\n",
       "      <th>Per Capita Income</th>\n",
       "      <th>Poverty Count</th>\n",
       "      <th>Poverty Rate</th>\n",
       "    </tr>\n",
       "  </thead>\n",
       "  <tbody>\n",
       "    <tr>\n",
       "      <th>0</th>\n",
       "      <td>1832</td>\n",
       "      <td>22121.0</td>\n",
       "      <td>38.5</td>\n",
       "      <td>57833.0</td>\n",
       "      <td>29014.0</td>\n",
       "      <td>2412.0</td>\n",
       "      <td>10.903666</td>\n",
       "    </tr>\n",
       "    <tr>\n",
       "      <th>1</th>\n",
       "      <td>1833</td>\n",
       "      <td>8295.0</td>\n",
       "      <td>42.4</td>\n",
       "      <td>107775.0</td>\n",
       "      <td>43297.0</td>\n",
       "      <td>191.0</td>\n",
       "      <td>2.302592</td>\n",
       "    </tr>\n",
       "    <tr>\n",
       "      <th>2</th>\n",
       "      <td>1834</td>\n",
       "      <td>6675.0</td>\n",
       "      <td>46.1</td>\n",
       "      <td>97463.0</td>\n",
       "      <td>40222.0</td>\n",
       "      <td>146.0</td>\n",
       "      <td>2.187266</td>\n",
       "    </tr>\n",
       "    <tr>\n",
       "      <th>3</th>\n",
       "      <td>1835</td>\n",
       "      <td>13527.0</td>\n",
       "      <td>37.1</td>\n",
       "      <td>72228.0</td>\n",
       "      <td>31429.0</td>\n",
       "      <td>1153.0</td>\n",
       "      <td>8.523693</td>\n",
       "    </tr>\n",
       "    <tr>\n",
       "      <th>4</th>\n",
       "      <td>1840</td>\n",
       "      <td>4547.0</td>\n",
       "      <td>36.8</td>\n",
       "      <td>18261.0</td>\n",
       "      <td>14758.0</td>\n",
       "      <td>1798.0</td>\n",
       "      <td>39.542556</td>\n",
       "    </tr>\n",
       "    <tr>\n",
       "      <th>...</th>\n",
       "      <td>...</td>\n",
       "      <td>...</td>\n",
       "      <td>...</td>\n",
       "      <td>...</td>\n",
       "      <td>...</td>\n",
       "      <td>...</td>\n",
       "      <td>...</td>\n",
       "    </tr>\n",
       "    <tr>\n",
       "      <th>33115</th>\n",
       "      <td>99923</td>\n",
       "      <td>81.0</td>\n",
       "      <td>64.3</td>\n",
       "      <td>21944.0</td>\n",
       "      <td>17225.0</td>\n",
       "      <td>4.0</td>\n",
       "      <td>4.938272</td>\n",
       "    </tr>\n",
       "    <tr>\n",
       "      <th>33116</th>\n",
       "      <td>99925</td>\n",
       "      <td>668.0</td>\n",
       "      <td>46.4</td>\n",
       "      <td>38125.0</td>\n",
       "      <td>25094.0</td>\n",
       "      <td>124.0</td>\n",
       "      <td>18.562874</td>\n",
       "    </tr>\n",
       "    <tr>\n",
       "      <th>33117</th>\n",
       "      <td>99926</td>\n",
       "      <td>1630.0</td>\n",
       "      <td>31.4</td>\n",
       "      <td>50052.0</td>\n",
       "      <td>22850.0</td>\n",
       "      <td>202.0</td>\n",
       "      <td>12.392638</td>\n",
       "    </tr>\n",
       "    <tr>\n",
       "      <th>33118</th>\n",
       "      <td>99927</td>\n",
       "      <td>111.0</td>\n",
       "      <td>59.4</td>\n",
       "      <td>19000.0</td>\n",
       "      <td>21157.0</td>\n",
       "      <td>39.0</td>\n",
       "      <td>35.135135</td>\n",
       "    </tr>\n",
       "    <tr>\n",
       "      <th>33119</th>\n",
       "      <td>99929</td>\n",
       "      <td>2341.0</td>\n",
       "      <td>53.1</td>\n",
       "      <td>45649.0</td>\n",
       "      <td>28399.0</td>\n",
       "      <td>215.0</td>\n",
       "      <td>9.184109</td>\n",
       "    </tr>\n",
       "  </tbody>\n",
       "</table>\n",
       "<p>33120 rows × 7 columns</p>\n",
       "</div>"
      ],
      "text/plain": [
       "       location_zip  Population  Median Age  Household Income  \\\n",
       "0              1832     22121.0        38.5           57833.0   \n",
       "1              1833      8295.0        42.4          107775.0   \n",
       "2              1834      6675.0        46.1           97463.0   \n",
       "3              1835     13527.0        37.1           72228.0   \n",
       "4              1840      4547.0        36.8           18261.0   \n",
       "...             ...         ...         ...               ...   \n",
       "33115         99923        81.0        64.3           21944.0   \n",
       "33116         99925       668.0        46.4           38125.0   \n",
       "33117         99926      1630.0        31.4           50052.0   \n",
       "33118         99927       111.0        59.4           19000.0   \n",
       "33119         99929      2341.0        53.1           45649.0   \n",
       "\n",
       "       Per Capita Income  Poverty Count  Poverty Rate  \n",
       "0                29014.0         2412.0     10.903666  \n",
       "1                43297.0          191.0      2.302592  \n",
       "2                40222.0          146.0      2.187266  \n",
       "3                31429.0         1153.0      8.523693  \n",
       "4                14758.0         1798.0     39.542556  \n",
       "...                  ...            ...           ...  \n",
       "33115            17225.0            4.0      4.938272  \n",
       "33116            25094.0          124.0     18.562874  \n",
       "33117            22850.0          202.0     12.392638  \n",
       "33118            21157.0           39.0     35.135135  \n",
       "33119            28399.0          215.0      9.184109  \n",
       "\n",
       "[33120 rows x 7 columns]"
      ]
     },
     "execution_count": 17,
     "metadata": {},
     "output_type": "execute_result"
    }
   ],
   "source": [
    "censusdf.rename(columns={'Zipcode' : 'location_zip'},inplace=True)\n",
    "censusdf"
   ]
  },
  {
   "cell_type": "code",
   "execution_count": 18,
   "id": "b7dd6bef",
   "metadata": {},
   "outputs": [
    {
     "name": "stdout",
     "output_type": "stream",
     "text": [
      "<class 'pandas.core.frame.DataFrame'>\n",
      "Int64Index: 44006 entries, 3 to 119998\n",
      "Data columns (total 26 columns):\n",
      " #   Column                               Non-Null Count  Dtype  \n",
      "---  ------                               --------------  -----  \n",
      " 0   taxpayer_number                      44006 non-null  int64  \n",
      " 1   taxpayer_name                        44006 non-null  object \n",
      " 2   taxpayer_address                     44006 non-null  object \n",
      " 3   taxpayer_city                        44006 non-null  object \n",
      " 4   taxpayer_state                       43992 non-null  object \n",
      " 5   taxpayer_zip                         43992 non-null  float64\n",
      " 6   taxpayer_county                      44006 non-null  int64  \n",
      " 7   location_number                      44006 non-null  int64  \n",
      " 8   location_name                        44006 non-null  object \n",
      " 9   location_address                     44006 non-null  object \n",
      " 10  location_city                        44006 non-null  object \n",
      " 11  location_state                       44006 non-null  object \n",
      " 12  location_zip                         44006 non-null  int64  \n",
      " 13  location_county                      44006 non-null  int64  \n",
      " 14  inside_outside_city_limits_code_y_n  44006 non-null  object \n",
      " 15  tabc_permit_number                   44006 non-null  object \n",
      " 16  responsibility_begin_date_yyyymmdd   44006 non-null  object \n",
      " 17  obligation_end_date_yyyymmdd         44006 non-null  object \n",
      " 18  liquor_receipts                      44006 non-null  int64  \n",
      " 19  wine_receipts                        44006 non-null  int64  \n",
      " 20  beer_receipts                        44006 non-null  int64  \n",
      " 21  cover_charge_receipts                44006 non-null  int64  \n",
      " 22  total_receipts                       44006 non-null  int64  \n",
      " 23  responsibility_end_date_yyyymmdd     1732 non-null   object \n",
      " 24  year                                 44006 non-null  int64  \n",
      " 25  month                                44006 non-null  int64  \n",
      "dtypes: float64(1), int64(12), object(13)\n",
      "memory usage: 9.1+ MB\n"
     ]
    }
   ],
   "source": [
    "#efficient way to extract year from string format date\n",
    "df_all['year'] = pd.DatetimeIndex(df_all['obligation_end_date_yyyymmdd']).year\n",
    "df_all['month'] = pd.DatetimeIndex(df_all['obligation_end_date_yyyymmdd']).month\n",
    "city_mask = (df_all.location_city == \"HOUSTON\")|(df_all.location_city == \"DALLAS\")|(df_all.location_city == \"FORT WORTH\")|(df_all.location_city == \"SAN ANTONIO\")|(df_all.location_city == \"AUSTIN\")\n",
    "dfcities = df_all[city_mask]\n",
    "dfcities.info()"
   ]
  },
  {
   "cell_type": "code",
   "execution_count": 19,
   "id": "f4cf9be5",
   "metadata": {},
   "outputs": [
    {
     "data": {
      "text/html": [
       "<div>\n",
       "<style scoped>\n",
       "    .dataframe tbody tr th:only-of-type {\n",
       "        vertical-align: middle;\n",
       "    }\n",
       "\n",
       "    .dataframe tbody tr th {\n",
       "        vertical-align: top;\n",
       "    }\n",
       "\n",
       "    .dataframe thead th {\n",
       "        text-align: right;\n",
       "    }\n",
       "</style>\n",
       "<table border=\"1\" class=\"dataframe\">\n",
       "  <thead>\n",
       "    <tr style=\"text-align: right;\">\n",
       "      <th></th>\n",
       "      <th>location_zip</th>\n",
       "      <th>total_receipts</th>\n",
       "    </tr>\n",
       "  </thead>\n",
       "  <tbody>\n",
       "    <tr>\n",
       "      <th>0</th>\n",
       "      <td>75201</td>\n",
       "      <td>50241090</td>\n",
       "    </tr>\n",
       "    <tr>\n",
       "      <th>1</th>\n",
       "      <td>75202</td>\n",
       "      <td>13982160</td>\n",
       "    </tr>\n",
       "    <tr>\n",
       "      <th>2</th>\n",
       "      <td>75203</td>\n",
       "      <td>713058</td>\n",
       "    </tr>\n",
       "    <tr>\n",
       "      <th>3</th>\n",
       "      <td>75204</td>\n",
       "      <td>15065199</td>\n",
       "    </tr>\n",
       "    <tr>\n",
       "      <th>4</th>\n",
       "      <td>75205</td>\n",
       "      <td>7626916</td>\n",
       "    </tr>\n",
       "  </tbody>\n",
       "</table>\n",
       "</div>"
      ],
      "text/plain": [
       "   location_zip  total_receipts\n",
       "0         75201        50241090\n",
       "1         75202        13982160\n",
       "2         75203          713058\n",
       "3         75204        15065199\n",
       "4         75205         7626916"
      ]
     },
     "execution_count": 19,
     "metadata": {},
     "output_type": "execute_result"
    }
   ],
   "source": [
    "mask_2019 = dfcities.year == 2019\n",
    "df_2019 = dfcities[mask_2019]\n",
    "zip_sales_2019 = pd.DataFrame(df_2019.groupby('location_zip')['total_receipts'].sum()).reset_index()\n",
    "zip_sales_2019.head()"
   ]
  },
  {
   "cell_type": "code",
   "execution_count": 36,
   "id": "845b01ef",
   "metadata": {},
   "outputs": [
    {
     "name": "stdout",
     "output_type": "stream",
     "text": [
      "<class 'pandas.core.frame.DataFrame'>\n",
      "Int64Index: 274 entries, 0 to 273\n",
      "Data columns (total 8 columns):\n",
      " #   Column             Non-Null Count  Dtype  \n",
      "---  ------             --------------  -----  \n",
      " 0   location_zip       274 non-null    int64  \n",
      " 1   total_receipts     274 non-null    int64  \n",
      " 2   Population         272 non-null    float64\n",
      " 3   Median Age         272 non-null    float64\n",
      " 4   Household Income   272 non-null    float64\n",
      " 5   Per Capita Income  272 non-null    float64\n",
      " 6   Poverty Count      272 non-null    float64\n",
      " 7   Poverty Rate       271 non-null    float64\n",
      "dtypes: float64(6), int64(2)\n",
      "memory usage: 19.3 KB\n"
     ]
    }
   ],
   "source": [
    "regres_2019 = pd.merge(zip_sales_2019,censusdf,on=\"location_zip\",how=\"left\")\n",
    "regres_2019.info()"
   ]
  },
  {
   "cell_type": "code",
   "execution_count": 37,
   "id": "71ed5e8d",
   "metadata": {},
   "outputs": [
    {
     "name": "stdout",
     "output_type": "stream",
     "text": [
      "<class 'pandas.core.frame.DataFrame'>\n",
      "Int64Index: 271 entries, 0 to 273\n",
      "Data columns (total 8 columns):\n",
      " #   Column             Non-Null Count  Dtype  \n",
      "---  ------             --------------  -----  \n",
      " 0   location_zip       271 non-null    int64  \n",
      " 1   total_receipts     271 non-null    int64  \n",
      " 2   Population         271 non-null    float64\n",
      " 3   Median Age         271 non-null    float64\n",
      " 4   Household Income   271 non-null    float64\n",
      " 5   Per Capita Income  271 non-null    float64\n",
      " 6   Poverty Count      271 non-null    float64\n",
      " 7   Poverty Rate       271 non-null    float64\n",
      "dtypes: float64(6), int64(2)\n",
      "memory usage: 19.1 KB\n"
     ]
    }
   ],
   "source": [
    "clean_regress_2019 = regres_2019.dropna(how='any')\n",
    "clean_regress_2019.info()"
   ]
  },
  {
   "cell_type": "code",
   "execution_count": 58,
   "id": "f91848a4",
   "metadata": {},
   "outputs": [
    {
     "data": {
      "text/html": [
       "<div>\n",
       "<style scoped>\n",
       "    .dataframe tbody tr th:only-of-type {\n",
       "        vertical-align: middle;\n",
       "    }\n",
       "\n",
       "    .dataframe tbody tr th {\n",
       "        vertical-align: top;\n",
       "    }\n",
       "\n",
       "    .dataframe thead th {\n",
       "        text-align: right;\n",
       "    }\n",
       "</style>\n",
       "<table border=\"1\" class=\"dataframe\">\n",
       "  <thead>\n",
       "    <tr style=\"text-align: right;\">\n",
       "      <th></th>\n",
       "      <th>index</th>\n",
       "      <th>total_receipts</th>\n",
       "    </tr>\n",
       "  </thead>\n",
       "  <tbody>\n",
       "    <tr>\n",
       "      <th>0</th>\n",
       "      <td>location_zip</td>\n",
       "      <td>-0.005664</td>\n",
       "    </tr>\n",
       "    <tr>\n",
       "      <th>1</th>\n",
       "      <td>total_receipts</td>\n",
       "      <td>1.000000</td>\n",
       "    </tr>\n",
       "    <tr>\n",
       "      <th>2</th>\n",
       "      <td>Population</td>\n",
       "      <td>-0.141076</td>\n",
       "    </tr>\n",
       "    <tr>\n",
       "      <th>3</th>\n",
       "      <td>Median Age</td>\n",
       "      <td>0.114254</td>\n",
       "    </tr>\n",
       "    <tr>\n",
       "      <th>4</th>\n",
       "      <td>Household Income</td>\n",
       "      <td>0.029733</td>\n",
       "    </tr>\n",
       "    <tr>\n",
       "      <th>5</th>\n",
       "      <td>Per Capita Income</td>\n",
       "      <td>0.389745</td>\n",
       "    </tr>\n",
       "    <tr>\n",
       "      <th>6</th>\n",
       "      <td>Poverty Count</td>\n",
       "      <td>-0.166662</td>\n",
       "    </tr>\n",
       "    <tr>\n",
       "      <th>7</th>\n",
       "      <td>Poverty Rate</td>\n",
       "      <td>-0.094807</td>\n",
       "    </tr>\n",
       "  </tbody>\n",
       "</table>\n",
       "</div>"
      ],
      "text/plain": [
       "               index  total_receipts\n",
       "0       location_zip       -0.005664\n",
       "1     total_receipts        1.000000\n",
       "2         Population       -0.141076\n",
       "3         Median Age        0.114254\n",
       "4   Household Income        0.029733\n",
       "5  Per Capita Income        0.389745\n",
       "6      Poverty Count       -0.166662\n",
       "7       Poverty Rate       -0.094807"
      ]
     },
     "execution_count": 58,
     "metadata": {},
     "output_type": "execute_result"
    }
   ],
   "source": [
    "clean_regress_2019.corr()['total_receipts'].reset_index()"
   ]
  },
  {
   "cell_type": "code",
   "execution_count": 50,
   "id": "79c5a4c7",
   "metadata": {},
   "outputs": [
    {
     "name": "stdout",
     "output_type": "stream",
     "text": [
      "The r-squared is: 0.1519010982688524\n"
     ]
    },
    {
     "data": {
      "image/png": "[encoded data removed]",
      "text/plain": [
       "<Figure size 432x288 with 1 Axes>"
      ]
     },
     "metadata": {
      "needs_background": "light"
     },
     "output_type": "display_data"
    }
   ],
   "source": [
    "# Print out the r-squared value along with the plot.\n",
    "x_values = clean_regress_2019['total_receipts']\n",
    "y_values = clean_regress_2019['Per Capita Income']\n",
    "(slope, intercept, rvalue, pvalue, stderr) = linregress(x_values, y_values)\n",
    "regress_values = x_values * slope + intercept\n",
    "line_eq = \"y = \" + str(round(slope,2)) + \"x + \" + str(round(intercept,2))\n",
    "plt.scatter(x_values,y_values)\n",
    "plt.plot(x_values,regress_values,\"r-\")\n",
    "plt.annotate(line_eq,(0,150000),fontsize=15,color=\"red\")\n",
    "plt.xlabel('Total Sales')\n",
    "plt.ylabel('Population')\n",
    "print(f\"The r-squared is: {rvalue**2}\")\n",
    "plt.show()"
   ]
  },
  {
   "cell_type": "code",
   "execution_count": 57,
   "id": "7c8154cb",
   "metadata": {},
   "outputs": [
    {
     "name": "stdout",
     "output_type": "stream",
     "text": [
      "The r-squared is: 0.02777616759410089\n"
     ]
    },
    {
     "data": {
      "image/png": "[encoded data removed]",
      "text/plain": [
       "<Figure size 432x288 with 1 Axes>"
      ]
     },
     "metadata": {
      "needs_background": "light"
     },
     "output_type": "display_data"
    }
   ],
   "source": [
    "# Print out the r-squared value along with the plot.\n",
    "x_values = clean_regress_2019['total_receipts']\n",
    "y_values = clean_regress_2019['Poverty Count']\n",
    "(slope, intercept, rvalue, pvalue, stderr) = linregress(x_values, y_values)\n",
    "regress_values = x_values * slope + intercept\n",
    "line_eq = \"y = \" + str(round(slope,2)) + \"x + \" + str(round(intercept,2))\n",
    "plt.scatter(x_values,y_values)\n",
    "plt.plot(x_values,regress_values,\"r-\")\n",
    "plt.annotate(line_eq,(.6,25000),fontsize=15,color=\"red\")\n",
    "plt.xlabel('Total Sales')\n",
    "plt.ylabel('Poverty Count')\n",
    "print(f\"The r-squared is: {rvalue**2}\")\n",
    "plt.show()"
   ]
  },
  {
   "cell_type": "code",
   "execution_count": 59,
   "id": "3ef8cc91",
   "metadata": {},
   "outputs": [
    {
     "name": "stdout",
     "output_type": "stream",
     "text": [
      "The r-squared is: 0.01990232613096347\n"
     ]
    },
    {
     "data": {
      "image/png": "[encoded data removed]",
      "text/plain": [
       "<Figure size 432x288 with 1 Axes>"
      ]
     },
     "metadata": {
      "needs_background": "light"
     },
     "output_type": "display_data"
    }
   ],
   "source": [
    "# Print out the r-squared value along with the plot.\n",
    "x_values = clean_regress_2019['total_receipts']\n",
    "y_values = clean_regress_2019['Population']\n",
    "(slope, intercept, rvalue, pvalue, stderr) = linregress(x_values, y_values)\n",
    "regress_values = x_values * slope + intercept\n",
    "line_eq = \"y = \" + str(round(slope,2)) + \"x + \" + str(round(intercept,2))\n",
    "plt.scatter(x_values,y_values)\n",
    "plt.plot(x_values,regress_values,\"r-\")\n",
    "# plt.annotate(line_eq,(.6,25000),fontsize=15,color=\"red\")\n",
    "plt.xlabel('Total Sales')\n",
    "plt.ylabel('Poverty Count')\n",
    "print(f\"The r-squared is: {rvalue**2}\")\n",
    "plt.show()"
   ]
  },
  {
   "cell_type": "code",
   "execution_count": null,
   "id": "08af8c9d",
   "metadata": {},
   "outputs": [],
   "source": [
    "# times = zip_sales_2019.total_receipts\n",
    "fig1, ax1 = plt.subplots()\n",
    "ax1.set_title('2019 Total Sales by Zipcode')\n",
    "ax1.set_ylabel('Total Sales')\n",
    "ax1.boxplot(zip_sales_2019.total_receipts)\n",
    "plt.show()"
   ]
  }
 ],
 "metadata": {
  "kernelspec": {
   "display_name": "Python 3",
   "language": "python",
   "name": "python3"
  },
  "language_info": {
   "codemirror_mode": {
    "name": "ipython",
    "version": 3
   },
   "file_extension": ".py",
   "mimetype": "text/x-python",
   "name": "python",
   "nbconvert_exporter": "python",
   "pygments_lexer": "ipython3",
   "version": "3.8.8"
  }
 },
 "nbformat": 4,
 "nbformat_minor": 5
}
