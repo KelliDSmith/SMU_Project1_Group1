{
 "cells": [
  {
   "cell_type": "code",
   "execution_count": 1,
   "id": "195dd957",
   "metadata": {},
   "outputs": [],
   "source": [
    "import pandas as pd\n",
    "import numpy as np\n",
    "import matplotlib.pyplot as plt"
   ]
  },
  {
   "cell_type": "code",
   "execution_count": 2,
   "id": "f439b9ed",
   "metadata": {},
   "outputs": [],
   "source": [
    "data_all = \"Output/2019_2020_mixed_beverage\"\n",
    "df_all = pd.read_csv(data_all, encoding=\"utf-8\")"
   ]
  },
  {
   "cell_type": "code",
   "execution_count": 3,
   "id": "574aae60",
   "metadata": {},
   "outputs": [
    {
     "data": {
      "text/html": [
       "<div>\n",
       "<style scoped>\n",
       "    .dataframe tbody tr th:only-of-type {\n",
       "        vertical-align: middle;\n",
       "    }\n",
       "\n",
       "    .dataframe tbody tr th {\n",
       "        vertical-align: top;\n",
       "    }\n",
       "\n",
       "    .dataframe thead th {\n",
       "        text-align: right;\n",
       "    }\n",
       "</style>\n",
       "<table border=\"1\" class=\"dataframe\">\n",
       "  <thead>\n",
       "    <tr style=\"text-align: right;\">\n",
       "      <th></th>\n",
       "      <th>taxpayer_number</th>\n",
       "      <th>taxpayer_name</th>\n",
       "      <th>taxpayer_address</th>\n",
       "      <th>taxpayer_city</th>\n",
       "      <th>taxpayer_state</th>\n",
       "      <th>taxpayer_zip</th>\n",
       "      <th>taxpayer_county</th>\n",
       "      <th>location_number</th>\n",
       "      <th>location_name</th>\n",
       "      <th>location_address</th>\n",
       "      <th>...</th>\n",
       "      <th>responsibility_begin_date_yyyymmdd</th>\n",
       "      <th>obligation_end_date_yyyymmdd</th>\n",
       "      <th>liquor_receipts</th>\n",
       "      <th>wine_receipts</th>\n",
       "      <th>beer_receipts</th>\n",
       "      <th>cover_charge_receipts</th>\n",
       "      <th>total_receipts</th>\n",
       "      <th>responsibility_end_date_yyyymmdd</th>\n",
       "      <th>year</th>\n",
       "      <th>month</th>\n",
       "    </tr>\n",
       "  </thead>\n",
       "  <tbody>\n",
       "    <tr>\n",
       "      <th>3</th>\n",
       "      <td>32054228120</td>\n",
       "      <td>S &amp; KW CORPORATION</td>\n",
       "      <td>6617 CHIMNEY ROCK RD</td>\n",
       "      <td>HOUSTON</td>\n",
       "      <td>TX</td>\n",
       "      <td>77081.0</td>\n",
       "      <td>101</td>\n",
       "      <td>1</td>\n",
       "      <td>NAZARETH CAFE</td>\n",
       "      <td>6617 CHIMNEY ROCK RD</td>\n",
       "      <td>...</td>\n",
       "      <td>2014-08-01T00:00:00.000</td>\n",
       "      <td>2019-01-31T00:00:00.000</td>\n",
       "      <td>3212</td>\n",
       "      <td>0</td>\n",
       "      <td>2509</td>\n",
       "      <td>0</td>\n",
       "      <td>5721</td>\n",
       "      <td>NaN</td>\n",
       "      <td>2019</td>\n",
       "      <td>1</td>\n",
       "    </tr>\n",
       "    <tr>\n",
       "      <th>4</th>\n",
       "      <td>32000861685</td>\n",
       "      <td>FOUNTAIN FOODS, INC.</td>\n",
       "      <td>25600 WESTHEIMER PKWY STE 110</td>\n",
       "      <td>KATY</td>\n",
       "      <td>TX</td>\n",
       "      <td>77494.0</td>\n",
       "      <td>79</td>\n",
       "      <td>2</td>\n",
       "      <td>HARVEST ORGANIC GRILLE</td>\n",
       "      <td>1810 FOUNTAIN VIEW DR</td>\n",
       "      <td>...</td>\n",
       "      <td>2012-08-21T00:00:00.000</td>\n",
       "      <td>2019-01-31T00:00:00.000</td>\n",
       "      <td>0</td>\n",
       "      <td>0</td>\n",
       "      <td>0</td>\n",
       "      <td>0</td>\n",
       "      <td>0</td>\n",
       "      <td>2019-06-01T00:00:00.000</td>\n",
       "      <td>2019</td>\n",
       "      <td>1</td>\n",
       "    </tr>\n",
       "    <tr>\n",
       "      <th>5</th>\n",
       "      <td>17526234541</td>\n",
       "      <td>THE KING LOUNGE, INC.</td>\n",
       "      <td>3684 ASBURY ST</td>\n",
       "      <td>DALLAS</td>\n",
       "      <td>TX</td>\n",
       "      <td>75205.0</td>\n",
       "      <td>57</td>\n",
       "      <td>1</td>\n",
       "      <td>THE KING LOUNGE INC</td>\n",
       "      <td>1602 MARKET CENTER BLVD</td>\n",
       "      <td>...</td>\n",
       "      <td>1996-02-15T00:00:00.000</td>\n",
       "      <td>2019-01-31T00:00:00.000</td>\n",
       "      <td>0</td>\n",
       "      <td>0</td>\n",
       "      <td>0</td>\n",
       "      <td>0</td>\n",
       "      <td>0</td>\n",
       "      <td>2019-01-16T00:00:00.000</td>\n",
       "      <td>2019</td>\n",
       "      <td>1</td>\n",
       "    </tr>\n",
       "    <tr>\n",
       "      <th>10</th>\n",
       "      <td>32061761998</td>\n",
       "      <td>WICKED WINGS LLC</td>\n",
       "      <td>615 W SLAUGHTER LN STE 108</td>\n",
       "      <td>AUSTIN</td>\n",
       "      <td>TX</td>\n",
       "      <td>78748.0</td>\n",
       "      <td>227</td>\n",
       "      <td>2</td>\n",
       "      <td>BUCKET'S BACKYARD BAR AND GRILL</td>\n",
       "      <td>9900 S INTERSTATE 35 BLDG M STE 200</td>\n",
       "      <td>...</td>\n",
       "      <td>2017-03-17T00:00:00.000</td>\n",
       "      <td>2019-01-31T00:00:00.000</td>\n",
       "      <td>8777</td>\n",
       "      <td>215</td>\n",
       "      <td>15076</td>\n",
       "      <td>0</td>\n",
       "      <td>24068</td>\n",
       "      <td>2019-09-09T00:00:00.000</td>\n",
       "      <td>2019</td>\n",
       "      <td>1</td>\n",
       "    </tr>\n",
       "    <tr>\n",
       "      <th>12</th>\n",
       "      <td>32059688088</td>\n",
       "      <td>RICHMOND MIA BELLA, LLC</td>\n",
       "      <td>19 MAYMONT WAY</td>\n",
       "      <td>SPRING</td>\n",
       "      <td>TX</td>\n",
       "      <td>77382.0</td>\n",
       "      <td>170</td>\n",
       "      <td>1</td>\n",
       "      <td>MIA BELLA TRATTORIA</td>\n",
       "      <td>3773 RICHMOND AVE STE 1A</td>\n",
       "      <td>...</td>\n",
       "      <td>2017-05-09T00:00:00.000</td>\n",
       "      <td>2019-01-31T00:00:00.000</td>\n",
       "      <td>12965</td>\n",
       "      <td>25073</td>\n",
       "      <td>2298</td>\n",
       "      <td>0</td>\n",
       "      <td>40336</td>\n",
       "      <td>2019-06-13T00:00:00.000</td>\n",
       "      <td>2019</td>\n",
       "      <td>1</td>\n",
       "    </tr>\n",
       "    <tr>\n",
       "      <th>...</th>\n",
       "      <td>...</td>\n",
       "      <td>...</td>\n",
       "      <td>...</td>\n",
       "      <td>...</td>\n",
       "      <td>...</td>\n",
       "      <td>...</td>\n",
       "      <td>...</td>\n",
       "      <td>...</td>\n",
       "      <td>...</td>\n",
       "      <td>...</td>\n",
       "      <td>...</td>\n",
       "      <td>...</td>\n",
       "      <td>...</td>\n",
       "      <td>...</td>\n",
       "      <td>...</td>\n",
       "      <td>...</td>\n",
       "      <td>...</td>\n",
       "      <td>...</td>\n",
       "      <td>...</td>\n",
       "      <td>...</td>\n",
       "      <td>...</td>\n",
       "    </tr>\n",
       "    <tr>\n",
       "      <th>119989</th>\n",
       "      <td>32055936457</td>\n",
       "      <td>CAFI TOULOUSE RIVER OAKS DISTRICT, LP</td>\n",
       "      <td>3100 MONTICELLO AVE STE 325</td>\n",
       "      <td>DALLAS</td>\n",
       "      <td>TX</td>\n",
       "      <td>75205.0</td>\n",
       "      <td>57</td>\n",
       "      <td>1</td>\n",
       "      <td>CAFE TOULOUSE</td>\n",
       "      <td>4444 WESTHEIMER RD STE E100</td>\n",
       "      <td>...</td>\n",
       "      <td>2015-05-29T00:00:00.000</td>\n",
       "      <td>2020-12-31T00:00:00.000</td>\n",
       "      <td>178933</td>\n",
       "      <td>206491</td>\n",
       "      <td>8562</td>\n",
       "      <td>0</td>\n",
       "      <td>393986</td>\n",
       "      <td>NaN</td>\n",
       "      <td>2020</td>\n",
       "      <td>12</td>\n",
       "    </tr>\n",
       "    <tr>\n",
       "      <th>119990</th>\n",
       "      <td>17215567953</td>\n",
       "      <td>FUN AND SPIRITS, INC.</td>\n",
       "      <td>223 W RHAPSODY DR</td>\n",
       "      <td>SAN ANTONIO</td>\n",
       "      <td>TX</td>\n",
       "      <td>78216.0</td>\n",
       "      <td>15</td>\n",
       "      <td>1</td>\n",
       "      <td>CROSS-EYED SEAGULL</td>\n",
       "      <td>19141 STONE OAK PKWY # 206</td>\n",
       "      <td>...</td>\n",
       "      <td>2004-12-27T00:00:00.000</td>\n",
       "      <td>2020-12-31T00:00:00.000</td>\n",
       "      <td>35832</td>\n",
       "      <td>20</td>\n",
       "      <td>13969</td>\n",
       "      <td>0</td>\n",
       "      <td>49821</td>\n",
       "      <td>NaN</td>\n",
       "      <td>2020</td>\n",
       "      <td>12</td>\n",
       "    </tr>\n",
       "    <tr>\n",
       "      <th>119994</th>\n",
       "      <td>32070563070</td>\n",
       "      <td>KAPRI ULTRA LOUNGE LLC</td>\n",
       "      <td>6239 WARWICK GARDEN LN</td>\n",
       "      <td>SPRING</td>\n",
       "      <td>TX</td>\n",
       "      <td>77379.0</td>\n",
       "      <td>101</td>\n",
       "      <td>1</td>\n",
       "      <td>KAPRI ULTRA LOUNGE</td>\n",
       "      <td>5718 FAIRDALE LN</td>\n",
       "      <td>...</td>\n",
       "      <td>2019-08-21T00:00:00.000</td>\n",
       "      <td>2020-12-31T00:00:00.000</td>\n",
       "      <td>37373</td>\n",
       "      <td>232</td>\n",
       "      <td>369</td>\n",
       "      <td>0</td>\n",
       "      <td>37974</td>\n",
       "      <td>NaN</td>\n",
       "      <td>2020</td>\n",
       "      <td>12</td>\n",
       "    </tr>\n",
       "    <tr>\n",
       "      <th>119996</th>\n",
       "      <td>17430007959</td>\n",
       "      <td>SJ2 RESTAURANT GROUP, LLC</td>\n",
       "      <td>PO BOX 100510</td>\n",
       "      <td>SAN ANTONIO</td>\n",
       "      <td>TX</td>\n",
       "      <td>78201.0</td>\n",
       "      <td>15</td>\n",
       "      <td>7</td>\n",
       "      <td>JARDIN</td>\n",
       "      <td>555 FUNSTON PL</td>\n",
       "      <td>...</td>\n",
       "      <td>2020-09-15T00:00:00.000</td>\n",
       "      <td>2020-12-31T00:00:00.000</td>\n",
       "      <td>20277</td>\n",
       "      <td>29423</td>\n",
       "      <td>1680</td>\n",
       "      <td>0</td>\n",
       "      <td>51380</td>\n",
       "      <td>NaN</td>\n",
       "      <td>2020</td>\n",
       "      <td>12</td>\n",
       "    </tr>\n",
       "    <tr>\n",
       "      <th>119998</th>\n",
       "      <td>32046211747</td>\n",
       "      <td>ES TRADING INTERNATIONAL CO.</td>\n",
       "      <td>3000 WOODRIDGE DR</td>\n",
       "      <td>HOUSTON</td>\n",
       "      <td>TX</td>\n",
       "      <td>77087.0</td>\n",
       "      <td>101</td>\n",
       "      <td>1</td>\n",
       "      <td>TACO PALENQUE</td>\n",
       "      <td>3000 WOODRIDGE DR</td>\n",
       "      <td>...</td>\n",
       "      <td>2018-11-09T00:00:00.000</td>\n",
       "      <td>2020-12-31T00:00:00.000</td>\n",
       "      <td>0</td>\n",
       "      <td>0</td>\n",
       "      <td>0</td>\n",
       "      <td>0</td>\n",
       "      <td>0</td>\n",
       "      <td>NaN</td>\n",
       "      <td>2020</td>\n",
       "      <td>12</td>\n",
       "    </tr>\n",
       "  </tbody>\n",
       "</table>\n",
       "<p>44006 rows × 26 columns</p>\n",
       "</div>"
      ],
      "text/plain": [
       "        taxpayer_number                          taxpayer_name  \\\n",
       "3           32054228120                     S & KW CORPORATION   \n",
       "4           32000861685                   FOUNTAIN FOODS, INC.   \n",
       "5           17526234541                  THE KING LOUNGE, INC.   \n",
       "10          32061761998                       WICKED WINGS LLC   \n",
       "12          32059688088                RICHMOND MIA BELLA, LLC   \n",
       "...                 ...                                    ...   \n",
       "119989      32055936457  CAFI TOULOUSE RIVER OAKS DISTRICT, LP   \n",
       "119990      17215567953                  FUN AND SPIRITS, INC.   \n",
       "119994      32070563070                 KAPRI ULTRA LOUNGE LLC   \n",
       "119996      17430007959              SJ2 RESTAURANT GROUP, LLC   \n",
       "119998      32046211747           ES TRADING INTERNATIONAL CO.   \n",
       "\n",
       "                     taxpayer_address taxpayer_city taxpayer_state  \\\n",
       "3                6617 CHIMNEY ROCK RD       HOUSTON             TX   \n",
       "4       25600 WESTHEIMER PKWY STE 110          KATY             TX   \n",
       "5                      3684 ASBURY ST        DALLAS             TX   \n",
       "10         615 W SLAUGHTER LN STE 108        AUSTIN             TX   \n",
       "12                     19 MAYMONT WAY        SPRING             TX   \n",
       "...                               ...           ...            ...   \n",
       "119989    3100 MONTICELLO AVE STE 325        DALLAS             TX   \n",
       "119990              223 W RHAPSODY DR   SAN ANTONIO             TX   \n",
       "119994         6239 WARWICK GARDEN LN        SPRING             TX   \n",
       "119996                  PO BOX 100510   SAN ANTONIO             TX   \n",
       "119998              3000 WOODRIDGE DR       HOUSTON             TX   \n",
       "\n",
       "        taxpayer_zip  taxpayer_county  location_number  \\\n",
       "3            77081.0              101                1   \n",
       "4            77494.0               79                2   \n",
       "5            75205.0               57                1   \n",
       "10           78748.0              227                2   \n",
       "12           77382.0              170                1   \n",
       "...              ...              ...              ...   \n",
       "119989       75205.0               57                1   \n",
       "119990       78216.0               15                1   \n",
       "119994       77379.0              101                1   \n",
       "119996       78201.0               15                7   \n",
       "119998       77087.0              101                1   \n",
       "\n",
       "                          location_name                     location_address  \\\n",
       "3                         NAZARETH CAFE                 6617 CHIMNEY ROCK RD   \n",
       "4                HARVEST ORGANIC GRILLE                1810 FOUNTAIN VIEW DR   \n",
       "5                   THE KING LOUNGE INC              1602 MARKET CENTER BLVD   \n",
       "10      BUCKET'S BACKYARD BAR AND GRILL  9900 S INTERSTATE 35 BLDG M STE 200   \n",
       "12                  MIA BELLA TRATTORIA             3773 RICHMOND AVE STE 1A   \n",
       "...                                 ...                                  ...   \n",
       "119989                    CAFE TOULOUSE          4444 WESTHEIMER RD STE E100   \n",
       "119990               CROSS-EYED SEAGULL           19141 STONE OAK PKWY # 206   \n",
       "119994               KAPRI ULTRA LOUNGE                     5718 FAIRDALE LN   \n",
       "119996                           JARDIN                       555 FUNSTON PL   \n",
       "119998                    TACO PALENQUE                    3000 WOODRIDGE DR   \n",
       "\n",
       "        ... responsibility_begin_date_yyyymmdd obligation_end_date_yyyymmdd  \\\n",
       "3       ...            2014-08-01T00:00:00.000      2019-01-31T00:00:00.000   \n",
       "4       ...            2012-08-21T00:00:00.000      2019-01-31T00:00:00.000   \n",
       "5       ...            1996-02-15T00:00:00.000      2019-01-31T00:00:00.000   \n",
       "10      ...            2017-03-17T00:00:00.000      2019-01-31T00:00:00.000   \n",
       "12      ...            2017-05-09T00:00:00.000      2019-01-31T00:00:00.000   \n",
       "...     ...                                ...                          ...   \n",
       "119989  ...            2015-05-29T00:00:00.000      2020-12-31T00:00:00.000   \n",
       "119990  ...            2004-12-27T00:00:00.000      2020-12-31T00:00:00.000   \n",
       "119994  ...            2019-08-21T00:00:00.000      2020-12-31T00:00:00.000   \n",
       "119996  ...            2020-09-15T00:00:00.000      2020-12-31T00:00:00.000   \n",
       "119998  ...            2018-11-09T00:00:00.000      2020-12-31T00:00:00.000   \n",
       "\n",
       "        liquor_receipts  wine_receipts beer_receipts cover_charge_receipts  \\\n",
       "3                  3212              0          2509                     0   \n",
       "4                     0              0             0                     0   \n",
       "5                     0              0             0                     0   \n",
       "10                 8777            215         15076                     0   \n",
       "12                12965          25073          2298                     0   \n",
       "...                 ...            ...           ...                   ...   \n",
       "119989           178933         206491          8562                     0   \n",
       "119990            35832             20         13969                     0   \n",
       "119994            37373            232           369                     0   \n",
       "119996            20277          29423          1680                     0   \n",
       "119998                0              0             0                     0   \n",
       "\n",
       "       total_receipts responsibility_end_date_yyyymmdd  year  month  \n",
       "3                5721                              NaN  2019      1  \n",
       "4                   0          2019-06-01T00:00:00.000  2019      1  \n",
       "5                   0          2019-01-16T00:00:00.000  2019      1  \n",
       "10              24068          2019-09-09T00:00:00.000  2019      1  \n",
       "12              40336          2019-06-13T00:00:00.000  2019      1  \n",
       "...               ...                              ...   ...    ...  \n",
       "119989         393986                              NaN  2020     12  \n",
       "119990          49821                              NaN  2020     12  \n",
       "119994          37974                              NaN  2020     12  \n",
       "119996          51380                              NaN  2020     12  \n",
       "119998              0                              NaN  2020     12  \n",
       "\n",
       "[44006 rows x 26 columns]"
      ]
     },
     "execution_count": 3,
     "metadata": {},
     "output_type": "execute_result"
    }
   ],
   "source": [
    "#efficient way to extract year from string format date\n",
    "df_all['year'] = pd.DatetimeIndex(df_all['obligation_end_date_yyyymmdd']).year\n",
    "df_all['month'] = pd.DatetimeIndex(df_all['obligation_end_date_yyyymmdd']).month\n",
    "city_mask = (df_all.location_city == \"HOUSTON\")|(df_all.location_city == \"DALLAS\")|(df_all.location_city == \"FORT WORTH\")|(df_all.location_city == \"SAN ANTONIO\")|(df_all.location_city == \"AUSTIN\")\n",
    "dfcities = df_all[city_mask]\n",
    "dfcities"
   ]
  },
  {
   "cell_type": "code",
   "execution_count": 4,
   "id": "cb283f31",
   "metadata": {},
   "outputs": [],
   "source": [
    "dfcities_2019 = dfcities.loc[dfcities.year == 2019]\n",
    "dfcities_stores_2019 = dfcities_2019.groupby(['location_city','location_address'])['total_receipts'].sum().reset_index()\n",
    "dallas_2019=dfcities_stores_2019.loc[dfcities_stores_2019.location_city == 'DALLAS']\n",
    "houston_2019=dfcities_stores_2019.loc[dfcities_stores_2019.location_city == 'HOUSTON']\n",
    "austin_2019=dfcities_stores_2019.loc[dfcities_stores_2019.location_city == 'AUSTIN']\n",
    "ftworth_2019=dfcities_stores_2019.loc[dfcities_stores_2019.location_city == 'FORT WORTH']\n",
    "sanantonio_2019=dfcities_stores_2019.loc[dfcities_stores_2019.location_city == 'SAN ANTONIO']"
   ]
  },
  {
   "cell_type": "code",
   "execution_count": 35,
   "id": "5255fe8c",
   "metadata": {},
   "outputs": [
    {
     "data": {
      "text/plain": [
       "{'bodies': [<matplotlib.collections.PolyCollection at 0x7f9d3860ec40>,\n",
       "  <matplotlib.collections.PolyCollection at 0x7f9d3860e490>,\n",
       "  <matplotlib.collections.PolyCollection at 0x7f9d3860efd0>,\n",
       "  <matplotlib.collections.PolyCollection at 0x7f9d3860e580>,\n",
       "  <matplotlib.collections.PolyCollection at 0x7f9d3860e4c0>],\n",
       " 'cmaxes': <matplotlib.collections.LineCollection at 0x7f9d3860e520>,\n",
       " 'cmins': <matplotlib.collections.LineCollection at 0x7f9d38572b20>,\n",
       " 'cbars': <matplotlib.collections.LineCollection at 0x7f9d38572310>}"
      ]
     },
     "execution_count": 35,
     "metadata": {},
     "output_type": "execute_result"
    },
    {
     "data": {
      "image/png": "[encoded data removed]",
      "text/plain": [
       "<Figure size 648x288 with 1 Axes>"
      ]
     },
     "metadata": {
      "needs_background": "light"
     },
     "output_type": "display_data"
    },
    {
     "data": {
      "text/plain": [
       "<Figure size 432x288 with 0 Axes>"
      ]
     },
     "metadata": {},
     "output_type": "display_data"
    }
   ],
   "source": [
    "import matplotlib.pyplot as plt\n",
    "\n",
    "# Example outlier plot of reaction times\n",
    "cities_stores_2019= [dallas_2019[\"total_receipts\"],houston_2019[\"total_receipts\"],austin_2019[\"total_receipts\"],ftworth_2019[\"total_receipts\"],sanantonio_2019[\"total_receipts\"]]\n",
    "fig1, axs = plt.subplots(nrows=1, figsize=(9, 4))\n",
    "                          \n",
    "# Create a figure instance\n",
    "fig = plt.figure()\n",
    "\n",
    "# plot violin plot\n",
    "axs.violinplot(cities_stores_2019,\n",
    "                  showmeans=False,\n",
    "                  showmedians=True)\n",
    "\n",
    "# Create the boxplot\n",
    "axs.set_title('Violinplot 2019 Sales by City')\n",
    "axs.set_ylabel('Total Sales')\n",
    "axs.set_xlabel('Cities')\n",
    "axs.violinplot(cities_stores_2019)"
   ]
  },
  {
   "cell_type": "code",
   "execution_count": 6,
   "id": "a13deb9a",
   "metadata": {},
   "outputs": [
    {
     "data": {
      "image/png": "[encoded data removed]",
      "text/plain": [
       "<Figure size 432x288 with 1 Axes>"
      ]
     },
     "metadata": {
      "needs_background": "light"
     },
     "output_type": "display_data"
    }
   ],
   "source": [
    "# Example outlier plot of reaction times\n",
    "cities_stores_2019= [dallas_2019[\"total_receipts\"],houston_2019[\"total_receipts\"],austin_2019[\"total_receipts\"],ftworth_2019[\"total_receipts\"],sanantonio_2019[\"total_receipts\"]]\n",
    "fig1, ax1 = plt.subplots()\n",
    "\n",
    "ax1.set_title('Boxplot 2019 Sales by City')\n",
    "ax1.set_ylabel('Total Sales')\n",
    "ax1.set_xlabel('Cities')\n",
    "ax1.boxplot(cities_stores_2019)\n",
    "plt.show()"
   ]
  },
  {
   "cell_type": "code",
   "execution_count": 14,
   "id": "52faa450",
   "metadata": {},
   "outputs": [
    {
     "data": {
      "image/png": "[encoded data removed]",
      "text/plain": [
       "<Figure size 432x288 with 1 Axes>"
      ]
     },
     "metadata": {
      "needs_background": "light"
     },
     "output_type": "display_data"
    }
   ],
   "source": [
    "# Example outlier plot of reaction times\n",
    "times = [dallas_2019[\"total_receipts\"],houston_2019[\"total_receipts\"],austin_2019[\"total_receipts\"],ftworth_2019[\"total_receipts\"],sanantonio_2019[\"total_receipts\"]]\n",
    "fig1, ax = plt.subplots()\n",
    "\n",
    "ax.set_title('Boxplot 2019 Sales by City')\n",
    "ax.set_ylabel('Total Sales')\n",
    "ax.set_xlabel('Cities')\n",
    "ax.boxplot(cities_stores_2019)\n",
    "plt.show()"
   ]
  },
  {
   "cell_type": "code",
   "execution_count": null,
   "id": "b6f436c8",
   "metadata": {},
   "outputs": [],
   "source": []
  },
  {
   "cell_type": "code",
   "execution_count": 49,
   "id": "4b546236",
   "metadata": {},
   "outputs": [
    {
     "ename": "NameError",
     "evalue": "name 'd' is not defined",
     "output_type": "error",
     "traceback": [
      "\u001b[0;31m---------------------------------------------------------------------------\u001b[0m",
      "\u001b[0;31mNameError\u001b[0m                                 Traceback (most recent call last)",
      "\u001b[0;32m<ipython-input-49-056c8a4e45d6>\u001b[0m in \u001b[0;36m<module>\u001b[0;34m\u001b[0m\n\u001b[1;32m      4\u001b[0m \u001b[0;34m\u001b[0m\u001b[0m\n\u001b[1;32m      5\u001b[0m \u001b[0;31m#plot\u001b[0m\u001b[0;34m\u001b[0m\u001b[0;34m\u001b[0m\u001b[0;34m\u001b[0m\u001b[0m\n\u001b[0;32m----> 6\u001b[0;31m \u001b[0mbox\u001b[0m \u001b[0;34m=\u001b[0m \u001b[0mplt\u001b[0m\u001b[0;34m.\u001b[0m\u001b[0mboxplot\u001b[0m\u001b[0;34m(\u001b[0m\u001b[0md\u001b[0m\u001b[0;34m,\u001b[0m \u001b[0mshowfliers\u001b[0m\u001b[0;34m=\u001b[0m\u001b[0;32mFalse\u001b[0m\u001b[0;34m)\u001b[0m\u001b[0;34m\u001b[0m\u001b[0;34m\u001b[0m\u001b[0m\n\u001b[0m\u001b[1;32m      7\u001b[0m \u001b[0;31m# change the color of its elements\u001b[0m\u001b[0;34m\u001b[0m\u001b[0;34m\u001b[0m\u001b[0;34m\u001b[0m\u001b[0m\n\u001b[1;32m      8\u001b[0m \u001b[0;32mfor\u001b[0m \u001b[0m_\u001b[0m\u001b[0;34m,\u001b[0m \u001b[0mline_list\u001b[0m \u001b[0;32min\u001b[0m \u001b[0mbox\u001b[0m\u001b[0;34m.\u001b[0m\u001b[0mitems\u001b[0m\u001b[0;34m(\u001b[0m\u001b[0;34m)\u001b[0m\u001b[0;34m:\u001b[0m\u001b[0;34m\u001b[0m\u001b[0;34m\u001b[0m\u001b[0m\n",
      "\u001b[0;31mNameError\u001b[0m: name 'd' is not defined"
     ]
    },
    {
     "data": {
      "image/png": "[encoded data removed]",
      "text/plain": [
       "<Figure size 432x288 with 1 Axes>"
      ]
     },
     "metadata": {
      "needs_background": "light"
     },
     "output_type": "display_data"
    }
   ],
   "source": [
    "# Example outlier plot of reaction times\n",
    "times = [dallas_2019[\"total_receipts\"],houston_2019[\"total_receipts\"],austin_2019[\"total_receipts\"],ftworth_2019[\"total_receipts\"],sanantonio_2019[\"total_receipts\"]]\n",
    "fig1, ax = plt.subplots()\n",
    "\n",
    "#plot\n",
    "box = plt.boxplot(d, showfliers=False)\n",
    "# change the color of its elements\n",
    "for _, line_list in box.items():\n",
    "    for line in line_list:\n",
    "        line.set_color('r')\n",
    "        \n",
    "ax.set_title('Boxplot 2019 Sales by City')\n",
    "ax.set_ylabel('Total Sales')\n",
    "ax.set_xlabel('Cities')\n",
    "ax.boxplot(cities_stores_2019)\n",
    "plt.show()"
   ]
  },
  {
   "cell_type": "code",
   "execution_count": null,
   "id": "d3181866",
   "metadata": {},
   "outputs": [],
   "source": []
  },
  {
   "cell_type": "code",
   "execution_count": 30,
   "id": "bbe82054",
   "metadata": {},
   "outputs": [],
   "source": [
    "dfcities_2020 = dfcities.loc[dfcities.year == 2020]\n",
    "dfcities_stores_2020 = dfcities_2020.groupby(['location_city','location_address'])['total_receipts'].sum().reset_index()\n",
    "dallas_2020=dfcities_stores_2020.loc[dfcities_stores_2020.location_city == 'DALLAS']\n",
    "houston_2020=dfcities_stores_2020.loc[dfcities_stores_2020.location_city == 'HOUSTON']\n",
    "austin_2020=dfcities_stores_2020.loc[dfcities_stores_2020.location_city == 'AUSTIN']\n",
    "ftworth_2020=dfcities_stores_2020.loc[dfcities_stores_2020.location_city == 'FORT WORTH']\n",
    "sanantonio_2020=dfcities_stores_2020.loc[dfcities_stores_2020.location_city == 'SAN ANTONIO']"
   ]
  },
  {
   "cell_type": "code",
   "execution_count": 34,
   "id": "13fdabd9",
   "metadata": {},
   "outputs": [
    {
     "data": {
      "text/plain": [
       "{'bodies': [<matplotlib.collections.PolyCollection at 0x7f9d393735b0>,\n",
       "  <matplotlib.collections.PolyCollection at 0x7f9d376a6550>,\n",
       "  <matplotlib.collections.PolyCollection at 0x7f9d376a6340>,\n",
       "  <matplotlib.collections.PolyCollection at 0x7f9d376af0a0>,\n",
       "  <matplotlib.collections.PolyCollection at 0x7f9d376afaf0>],\n",
       " 'cmaxes': <matplotlib.collections.LineCollection at 0x7f9d39373e50>,\n",
       " 'cmins': <matplotlib.collections.LineCollection at 0x7f9d39a21eb0>,\n",
       " 'cbars': <matplotlib.collections.LineCollection at 0x7f9d3709bb20>}"
      ]
     },
     "execution_count": 34,
     "metadata": {},
     "output_type": "execute_result"
    },
    {
     "data": {
      "image/png": "[encoded data removed]",
      "text/plain": [
       "<Figure size 648x288 with 1 Axes>"
      ]
     },
     "metadata": {
      "needs_background": "light"
     },
     "output_type": "display_data"
    },
    {
     "data": {
      "text/plain": [
       "<Figure size 432x288 with 0 Axes>"
      ]
     },
     "metadata": {},
     "output_type": "display_data"
    }
   ],
   "source": [
    "import matplotlib.pyplot as plt\n",
    "\n",
    "# Example outlier plot of reaction times\n",
    "cities_stores_2020= [dallas_2020[\"total_receipts\"],houston_2020[\"total_receipts\"],austin_2020[\"total_receipts\"],ftworth_2020[\"total_receipts\"],sanantonio_2020[\"total_receipts\"]]\n",
    "fig1, axs = plt.subplots(nrows=1, figsize=(9, 4))\n",
    "                          \n",
    "# Create a figure instance\n",
    "fig = plt.figure()\n",
    "\n",
    "# plot violin plot\n",
    "axs.violinplot(cities_stores_2020,\n",
    "                  showmeans=False,\n",
    "                  showmedians=True)\n",
    "\n",
    "# Create the boxplot\n",
    "axs.set_title('Violinplot 2020 Sales by City')\n",
    "axs.set_ylabel('Total Sales')\n",
    "axs.set_xlabel('Cities')\n",
    "axs.violinplot(cities_stores_2020)"
   ]
  },
  {
   "cell_type": "code",
   "execution_count": 32,
   "id": "f4d797b0",
   "metadata": {},
   "outputs": [
    {
     "data": {
      "image/png": "[encoded data removed]",
      "text/plain": [
       "<Figure size 648x288 with 1 Axes>"
      ]
     },
     "metadata": {
      "needs_background": "light"
     },
     "output_type": "display_data"
    },
    {
     "data": {
      "text/plain": [
       "<Figure size 432x288 with 0 Axes>"
      ]
     },
     "metadata": {},
     "output_type": "display_data"
    }
   ],
   "source": [
    "import matplotlib.pyplot as plt\n",
    "\n",
    "# Example outlier plot of reaction times\n",
    "cities_stores_2020= [dallas_2020[\"total_receipts\"],houston_2020[\"total_receipts\"],austin_2020[\"total_receipts\"],ftworth_2020[\"total_receipts\"],sanantonio_2020[\"total_receipts\"]]\n",
    "fig1, axs = plt.subplots(nrows=1, figsize=(9, 4))\n",
    "                          \n",
    "# Create a figure instance\n",
    "fig = plt.figure()\n",
    "\n",
    "# plot violin plot\n",
    "axs.violinplot(cities_stores_2020,\n",
    "                  showmeans=True,\n",
    "                  showmedians=True)\n",
    "\n",
    "# Create the boxplot\n",
    "axs.set_title('Boxplot 2020 Sales by City')\n",
    "axs.set_ylabel('Total Sales')\n",
    "axs.set_xlabel('Cities')\n",
    "axs.violinplot(cities_stores_2020)\n",
    "plt.show()"
   ]
  },
  {
   "cell_type": "code",
   "execution_count": 33,
   "id": "f8f6aa76",
   "metadata": {},
   "outputs": [
    {
     "data": {
      "image/png": "[encoded data removed]",
      "text/plain": [
       "<Figure size 432x288 with 1 Axes>"
      ]
     },
     "metadata": {
      "needs_background": "light"
     },
     "output_type": "display_data"
    }
   ],
   "source": [
    "# Example outlier plot of reaction times\n",
    "cities_stores_2020= [dallas_2020[\"total_receipts\"],houston_2020[\"total_receipts\"],austin_2020[\"total_receipts\"],ftworth_2020[\"total_receipts\"],sanantonio_2020[\"total_receipts\"]]\n",
    "fig1, ax1 = plt.subplots()\n",
    "\n",
    "# generate some random test data\n",
    "all_data = [np.random.normal(0, std, 100) for std in range(6, 10)]\n",
    "\n",
    "# plot box plot\n",
    "axs.boxplot(all_data)\n",
    "\n",
    "ax1.set_title('Boxplot 2020 Sales by City')\n",
    "ax1.set_ylabel('Total Sales')\n",
    "ax1.set_xlabel('Cities')\n",
    "ax1.boxplot(cities_stores_2020)\n",
    "plt.show()"
   ]
  },
  {
   "cell_type": "code",
   "execution_count": null,
   "id": "ba28a1cc",
   "metadata": {},
   "outputs": [],
   "source": []
  },
  {
   "cell_type": "code",
   "execution_count": null,
   "id": "44c249ea",
   "metadata": {},
   "outputs": [],
   "source": []
  },
  {
   "cell_type": "code",
   "execution_count": null,
   "id": "f5a43981",
   "metadata": {},
   "outputs": [],
   "source": []
  }
 ],
 "metadata": {
  "kernelspec": {
   "display_name": "Python 3",
   "language": "python",
   "name": "python3"
  },
  "language_info": {
   "codemirror_mode": {
    "name": "ipython",
    "version": 3
   },
   "file_extension": ".py",
   "mimetype": "text/x-python",
   "name": "python",
   "nbconvert_exporter": "python",
   "pygments_lexer": "ipython3",
   "version": "3.8.8"
  }
 },
 "nbformat": 4,
 "nbformat_minor": 5
}
